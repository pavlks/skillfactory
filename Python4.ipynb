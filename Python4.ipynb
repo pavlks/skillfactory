{
 "cells": [
  {
   "cell_type": "code",
   "execution_count": 1,
   "metadata": {},
   "outputs": [],
   "source": [
    "def power(a, b):\n",
    "    return a**b"
   ]
  },
  {
   "cell_type": "code",
   "execution_count": 2,
   "metadata": {},
   "outputs": [
    {
     "data": {
      "text/plain": [
       "19"
      ]
     },
     "execution_count": 2,
     "metadata": {},
     "output_type": "execute_result"
    }
   ],
   "source": [
    "def get_median(l):\n",
    "    if len(l) % 2 == 0:\n",
    "        l.sort()\n",
    "        high = int(len(l)/2)\n",
    "        low = high - 1\n",
    "        med = (l[high] + l[low])/2\n",
    "        if med == int(med):\n",
    "            med = int(med)\n",
    "    else:\n",
    "        l.sort()\n",
    "        med = l[len(l)//2]\n",
    "    return med\n",
    "\n",
    "get_median([22,10,16,24])"
   ]
  },
  {
   "cell_type": "code",
   "execution_count": 3,
   "metadata": {},
   "outputs": [
    {
     "data": {
      "text/plain": [
       "29.0"
      ]
     },
     "execution_count": 3,
     "metadata": {},
     "output_type": "execute_result"
    }
   ],
   "source": [
    "def avg_orders(user_db):\n",
    "    total = int()\n",
    "    n = int()\n",
    "    for o in user_db:\n",
    "        total += o['orders']\n",
    "        n += 1\n",
    "    return total/n\n",
    "user_db = [{'orders': 12}, {'orders': 30}, {'orders': 45}]\n",
    "avg_orders(user_db)"
   ]
  },
  {
   "cell_type": "code",
   "execution_count": 4,
   "metadata": {},
   "outputs": [
    {
     "data": {
      "text/plain": [
       "68.52971859943081"
      ]
     },
     "execution_count": 4,
     "metadata": {},
     "output_type": "execute_result"
    }
   ],
   "source": [
    "from random import random\n",
    "def get_euro_rate():\n",
    "    return 65 + 20 * random()\n",
    "get_euro_rate()"
   ]
  },
  {
   "cell_type": "code",
   "execution_count": 5,
   "metadata": {},
   "outputs": [
    {
     "data": {
      "text/plain": [
       "[-14, -10, -3, -2, 5, 24]"
      ]
     },
     "execution_count": 5,
     "metadata": {},
     "output_type": "execute_result"
    }
   ],
   "source": [
    "values = [4, 8, 15, 16, 23, 42]\n",
    "mean = 18\n",
    "\n",
    "result = list(map(lambda v: v - mean, values))\n",
    "result"
   ]
  },
  {
   "cell_type": "code",
   "execution_count": 6,
   "metadata": {},
   "outputs": [
    {
     "data": {
      "text/plain": [
       "[23, 42]"
      ]
     },
     "execution_count": 6,
     "metadata": {},
     "output_type": "execute_result"
    }
   ],
   "source": [
    "values = [4, 8, 15, 16, 23, 42]\n",
    "mean = 18\n",
    "\n",
    "result = list(filter(lambda x: x > mean, values))\n",
    "result"
   ]
  },
  {
   "cell_type": "code",
   "execution_count": 7,
   "metadata": {},
   "outputs": [
    {
     "data": {
      "text/plain": [
       "[-5.0, 5.0]"
      ]
     },
     "execution_count": 7,
     "metadata": {},
     "output_type": "execute_result"
    }
   ],
   "source": [
    "def normalize(numbers, mean=0, std=1):\n",
    "    return [(x - mean)/std for x in numbers]\n",
    "normalize([10,20], mean=15)"
   ]
  },
  {
   "cell_type": "code",
   "execution_count": 8,
   "metadata": {},
   "outputs": [
    {
     "data": {
      "text/plain": [
       "17"
      ]
     },
     "execution_count": 8,
     "metadata": {},
     "output_type": "execute_result"
    }
   ],
   "source": [
    "def sum_args(*ss):\n",
    "    res = int()\n",
    "    for s in ss:\n",
    "        res += s\n",
    "    return res\n",
    "sum_args(1, 4, 12)"
   ]
  },
  {
   "cell_type": "code",
   "execution_count": 9,
   "metadata": {},
   "outputs": [
    {
     "data": {
      "text/plain": [
       "3.6666666666666665"
      ]
     },
     "execution_count": 9,
     "metadata": {},
     "output_type": "execute_result"
    }
   ],
   "source": [
    "def count_letters(sentence, average=False):\n",
    "    words = sentence.split()\n",
    "    n = len(words)\n",
    "    res = sum(map(len, words))\n",
    "    if average:\n",
    "        res = res / n\n",
    "    return res\n",
    "count_letters('buba was here', True)\n",
    "    "
   ]
  },
  {
   "cell_type": "code",
   "execution_count": 11,
   "metadata": {},
   "outputs": [
    {
     "data": {
      "text/plain": [
       "5"
      ]
     },
     "execution_count": 11,
     "metadata": {},
     "output_type": "execute_result"
    }
   ],
   "source": [
    "def always(n):\n",
    "    def inner():\n",
    "        return n\n",
    "    return inner\n",
    "\n",
    "five = always(5)\n",
    "five()"
   ]
  },
  {
   "cell_type": "markdown",
   "metadata": {},
   "source": [
    "## Guess my number =GAME="
   ]
  },
  {
   "cell_type": "code",
   "execution_count": null,
   "metadata": {
    "scrolled": true
   },
   "outputs": [],
   "source": [
    "import numpy as np\n",
    "number = np.random.randint(1,101)      # загадали число\n",
    "print (\"Загадано число от 1 до 100\")\n",
    "for count in range(1,101):         # более компактный вариант счетчика\n",
    "    if number == count: break      # выход из цикла, если угадали      \n",
    "print (f\"Вы угадали число {number} за {count} попыток.\")    "
   ]
  },
  {
   "cell_type": "code",
   "execution_count": 138,
   "metadata": {},
   "outputs": [
    {
     "name": "stdout",
     "output_type": "stream",
     "text": [
      "Average amount of tries: 100\n"
     ]
    }
   ],
   "source": [
    "def guess_v11(secret):\n",
    "    \"\"\"Using numpy for guessing\"\"\"\n",
    "    count = 0\n",
    "    while True:\n",
    "        count += 1\n",
    "        predict = np.random.randint(1,101) # предполагаемое число\n",
    "        if secret == predict:\n",
    "            return count\n",
    "            # print (f\"Вы угадали число {secret} за {count} попыток.\")\n",
    "\n",
    "def guess_v12(secret):\n",
    "    \"\"\"Using built-in random for guessing\"\"\"\n",
    "    count = 0\n",
    "    while True:\n",
    "        count += 1\n",
    "        predict = int(100 * random() + 1) # предполагаемое число\n",
    "        if secret == predict:\n",
    "            return count\n",
    "            # print (f\"Вы угадали число {secret} за {count} попыток.\")\n",
    "            \n",
    "def mean_score(guess_func):\n",
    "    count_ls = []\n",
    "    for _ in range(10000):\n",
    "        secret = np.random.randint(1, 101)\n",
    "        count = guess_func(secret)\n",
    "        count_ls.append(count)\n",
    "        # print('secret=', secret, 'attemps:', count)\n",
    "    print('Average amount of tries:', int(sum(count_ls)/len(count_ls)))\n",
    "\n",
    "mean_score(guess_v1)\n",
    "#guess_v12(np.random.randint(1,101))"
   ]
  },
  {
   "cell_type": "code",
   "execution_count": 163,
   "metadata": {},
   "outputs": [
    {
     "name": "stdout",
     "output_type": "stream",
     "text": [
      "Average amount of tries: 34\n"
     ]
    }
   ],
   "source": [
    "def guess_v2(secret):\n",
    "    count = 1\n",
    "    predict = np.random.randint(1, 101)\n",
    "    while predict != secret:\n",
    "        count += 1\n",
    "        if predict < secret:\n",
    "            predict += 1\n",
    "        else:\n",
    "            predict -= 1\n",
    "    return count\n",
    "    # print (f\"Вы угадали число {secret} за {count} попыток.\")\n",
    "\n",
    "mean_score(guess_v2)\n",
    "#guess_v2(np.random.randint(1,101))"
   ]
  },
  {
   "cell_type": "code",
   "execution_count": 187,
   "metadata": {},
   "outputs": [
    {
     "name": "stdout",
     "output_type": "stream",
     "text": [
      "Average amount of tries: 7\n"
     ]
    }
   ],
   "source": [
    "def guess_v3(secret):\n",
    "    \"\"\"Splitting the interval randomly\"\"\"\n",
    "    count = 1\n",
    "    low = 1\n",
    "    high = 101\n",
    "    predict = np.random.randint(1, 101)\n",
    "    while predict != secret:\n",
    "        count += 1\n",
    "        if predict < secret:\n",
    "            low = predict + 1\n",
    "        else:\n",
    "            high = predict\n",
    "        predict = np.random.randint(low, high)\n",
    "    return count\n",
    "    # print (f\"Вы угадали число {secret} за {count} попыток.\")\n",
    "\n",
    "mean_score(guess_v3)\n",
    "# guess_v3(np.random.randint(1,101))"
   ]
  },
  {
   "cell_type": "code",
   "execution_count": 226,
   "metadata": {},
   "outputs": [
    {
     "name": "stdout",
     "output_type": "stream",
     "text": [
      "Average amount of tries: 5\n"
     ]
    }
   ],
   "source": [
    "def guess_v4(secret):\n",
    "    \"\"\"Splitting the interval in half\"\"\"\n",
    "    count = 1\n",
    "    low = 1\n",
    "    high = 100\n",
    "    predict = (low + high) // 2\n",
    "    while predict != secret:\n",
    "        count += 1\n",
    "        if predict < secret:\n",
    "            low = predict\n",
    "            predict = (high + predict) // 2 + (high + predict) % 2\n",
    "        else:\n",
    "            high = predict\n",
    "            predict = (low + predict) // 2\n",
    "    return count\n",
    "    # print (f\"Вы угадали число {secret} за {count} попыток.\")\n",
    "\n",
    "mean_score(guess_v4)\n",
    "# guess_v4(np.random.randint(1,101))"
   ]
  }
 ],
 "metadata": {
  "kernelspec": {
   "display_name": "Python 3",
   "language": "python",
   "name": "python3"
  },
  "language_info": {
   "codemirror_mode": {
    "name": "ipython",
    "version": 3
   },
   "file_extension": ".py",
   "mimetype": "text/x-python",
   "name": "python",
   "nbconvert_exporter": "python",
   "pygments_lexer": "ipython3",
   "version": "3.8.5"
  }
 },
 "nbformat": 4,
 "nbformat_minor": 4
}
