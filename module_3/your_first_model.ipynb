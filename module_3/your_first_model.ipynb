{
 "cells": [
  {
   "cell_type": "markdown",
   "metadata": {},
   "source": [
    "# Загрузка Pandas и очистка данных"
   ]
  },
  {
   "cell_type": "code",
   "execution_count": 1,
   "metadata": {},
   "outputs": [],
   "source": [
    "import pandas as pd\n",
    "import numpy as np\n",
    "import re\n",
    "\n",
    "from datetime import datetime"
   ]
  },
  {
   "cell_type": "code",
   "execution_count": 2,
   "metadata": {},
   "outputs": [
    {
     "data": {
      "text/html": [
       "<div>\n",
       "<style scoped>\n",
       "    .dataframe tbody tr th:only-of-type {\n",
       "        vertical-align: middle;\n",
       "    }\n",
       "\n",
       "    .dataframe tbody tr th {\n",
       "        vertical-align: top;\n",
       "    }\n",
       "\n",
       "    .dataframe thead th {\n",
       "        text-align: right;\n",
       "    }\n",
       "</style>\n",
       "<table border=\"1\" class=\"dataframe\">\n",
       "  <thead>\n",
       "    <tr style=\"text-align: right;\">\n",
       "      <th></th>\n",
       "      <th>Restaurant_id</th>\n",
       "      <th>City</th>\n",
       "      <th>Cuisine Style</th>\n",
       "      <th>Ranking</th>\n",
       "      <th>Rating</th>\n",
       "      <th>Price Range</th>\n",
       "      <th>Number of Reviews</th>\n",
       "      <th>Reviews</th>\n",
       "      <th>URL_TA</th>\n",
       "      <th>ID_TA</th>\n",
       "    </tr>\n",
       "  </thead>\n",
       "  <tbody>\n",
       "    <tr>\n",
       "      <th>0</th>\n",
       "      <td>id_5569</td>\n",
       "      <td>Paris</td>\n",
       "      <td>['European', 'French', 'International']</td>\n",
       "      <td>5570.0</td>\n",
       "      <td>3.5</td>\n",
       "      <td>$$ - $$$</td>\n",
       "      <td>194.0</td>\n",
       "      <td>[['Good food at your doorstep', 'A good hotel ...</td>\n",
       "      <td>/Restaurant_Review-g187147-d1912643-Reviews-R_...</td>\n",
       "      <td>d1912643</td>\n",
       "    </tr>\n",
       "    <tr>\n",
       "      <th>1</th>\n",
       "      <td>id_1535</td>\n",
       "      <td>Stockholm</td>\n",
       "      <td>NaN</td>\n",
       "      <td>1537.0</td>\n",
       "      <td>4.0</td>\n",
       "      <td>NaN</td>\n",
       "      <td>10.0</td>\n",
       "      <td>[['Unique cuisine', 'Delicious Nepalese food']...</td>\n",
       "      <td>/Restaurant_Review-g189852-d7992032-Reviews-Bu...</td>\n",
       "      <td>d7992032</td>\n",
       "    </tr>\n",
       "  </tbody>\n",
       "</table>\n",
       "</div>"
      ],
      "text/plain": [
       "  Restaurant_id       City                            Cuisine Style  Ranking  \\\n",
       "0       id_5569      Paris  ['European', 'French', 'International']   5570.0   \n",
       "1       id_1535  Stockholm                                      NaN   1537.0   \n",
       "\n",
       "   Rating Price Range  Number of Reviews  \\\n",
       "0     3.5    $$ - $$$              194.0   \n",
       "1     4.0         NaN               10.0   \n",
       "\n",
       "                                             Reviews  \\\n",
       "0  [['Good food at your doorstep', 'A good hotel ...   \n",
       "1  [['Unique cuisine', 'Delicious Nepalese food']...   \n",
       "\n",
       "                                              URL_TA     ID_TA  \n",
       "0  /Restaurant_Review-g187147-d1912643-Reviews-R_...  d1912643  \n",
       "1  /Restaurant_Review-g189852-d7992032-Reviews-Bu...  d7992032  "
      ]
     },
     "execution_count": 2,
     "metadata": {},
     "output_type": "execute_result"
    }
   ],
   "source": [
    "data = pd.read_csv('main_task.csv')\n",
    "\n",
    "# Restaurant_id — идентификационный номер ресторана / сети ресторанов;\n",
    "# City — город, в котором находится ресторан;\n",
    "# Cuisine Style — кухня или кухни, к которым можно отнести блюда, предлагаемые в ресторане;\n",
    "# Ranking — место, которое занимает данный ресторан среди всех ресторанов своего города;\n",
    "# Rating — рейтинг ресторана по данным TripAdvisor (именно это значение должна будет предсказывать модель);\n",
    "# Price Range — диапазон цен в ресторане;\n",
    "# Number of Reviews — количество отзывов о ресторане;\n",
    "# Reviews — данные о двух отзывах, которые отображаются на сайте ресторана;\n",
    "# URL_TA — URL страницы ресторана на TripAdvisor;\n",
    "# ID_TA — идентификатор ресторана в базе данных TripAdvisor.\n",
    "\n",
    "data.head(2)"
   ]
  },
  {
   "cell_type": "markdown",
   "metadata": {},
   "source": [
    "## Смотрим информацию о датасете"
   ]
  },
  {
   "cell_type": "code",
   "execution_count": 3,
   "metadata": {},
   "outputs": [
    {
     "name": "stdout",
     "output_type": "stream",
     "text": [
      "<class 'pandas.core.frame.DataFrame'>\n",
      "RangeIndex: 40000 entries, 0 to 39999\n",
      "Data columns (total 10 columns):\n",
      " #   Column             Non-Null Count  Dtype  \n",
      "---  ------             --------------  -----  \n",
      " 0   Restaurant_id      40000 non-null  object \n",
      " 1   City               40000 non-null  object \n",
      " 2   Cuisine Style      30717 non-null  object \n",
      " 3   Ranking            40000 non-null  float64\n",
      " 4   Rating             40000 non-null  float64\n",
      " 5   Price Range        26114 non-null  object \n",
      " 6   Number of Reviews  37457 non-null  float64\n",
      " 7   Reviews            40000 non-null  object \n",
      " 8   URL_TA             40000 non-null  object \n",
      " 9   ID_TA              40000 non-null  object \n",
      "dtypes: float64(3), object(7)\n",
      "memory usage: 3.1+ MB\n"
     ]
    }
   ],
   "source": [
    "data.info()"
   ]
  },
  {
   "cell_type": "code",
   "execution_count": 4,
   "metadata": {},
   "outputs": [
    {
     "data": {
      "text/html": [
       "<div>\n",
       "<style scoped>\n",
       "    .dataframe tbody tr th:only-of-type {\n",
       "        vertical-align: middle;\n",
       "    }\n",
       "\n",
       "    .dataframe tbody tr th {\n",
       "        vertical-align: top;\n",
       "    }\n",
       "\n",
       "    .dataframe thead th {\n",
       "        text-align: right;\n",
       "    }\n",
       "</style>\n",
       "<table border=\"1\" class=\"dataframe\">\n",
       "  <thead>\n",
       "    <tr style=\"text-align: right;\">\n",
       "      <th></th>\n",
       "      <th>Ranking</th>\n",
       "      <th>Rating</th>\n",
       "      <th>Number of Reviews</th>\n",
       "    </tr>\n",
       "  </thead>\n",
       "  <tbody>\n",
       "    <tr>\n",
       "      <th>count</th>\n",
       "      <td>40000.000000</td>\n",
       "      <td>40000.000000</td>\n",
       "      <td>37457.000000</td>\n",
       "    </tr>\n",
       "    <tr>\n",
       "      <th>mean</th>\n",
       "      <td>3676.028525</td>\n",
       "      <td>3.993037</td>\n",
       "      <td>124.825480</td>\n",
       "    </tr>\n",
       "    <tr>\n",
       "      <th>std</th>\n",
       "      <td>3708.749567</td>\n",
       "      <td>0.668417</td>\n",
       "      <td>295.666352</td>\n",
       "    </tr>\n",
       "    <tr>\n",
       "      <th>min</th>\n",
       "      <td>1.000000</td>\n",
       "      <td>1.000000</td>\n",
       "      <td>2.000000</td>\n",
       "    </tr>\n",
       "    <tr>\n",
       "      <th>25%</th>\n",
       "      <td>973.000000</td>\n",
       "      <td>3.500000</td>\n",
       "      <td>9.000000</td>\n",
       "    </tr>\n",
       "    <tr>\n",
       "      <th>50%</th>\n",
       "      <td>2285.000000</td>\n",
       "      <td>4.000000</td>\n",
       "      <td>33.000000</td>\n",
       "    </tr>\n",
       "    <tr>\n",
       "      <th>75%</th>\n",
       "      <td>5260.000000</td>\n",
       "      <td>4.500000</td>\n",
       "      <td>115.000000</td>\n",
       "    </tr>\n",
       "    <tr>\n",
       "      <th>max</th>\n",
       "      <td>16444.000000</td>\n",
       "      <td>5.000000</td>\n",
       "      <td>9660.000000</td>\n",
       "    </tr>\n",
       "  </tbody>\n",
       "</table>\n",
       "</div>"
      ],
      "text/plain": [
       "            Ranking        Rating  Number of Reviews\n",
       "count  40000.000000  40000.000000       37457.000000\n",
       "mean    3676.028525      3.993037         124.825480\n",
       "std     3708.749567      0.668417         295.666352\n",
       "min        1.000000      1.000000           2.000000\n",
       "25%      973.000000      3.500000           9.000000\n",
       "50%     2285.000000      4.000000          33.000000\n",
       "75%     5260.000000      4.500000         115.000000\n",
       "max    16444.000000      5.000000        9660.000000"
      ]
     },
     "execution_count": 4,
     "metadata": {},
     "output_type": "execute_result"
    }
   ],
   "source": [
    "data.describe()"
   ]
  },
  {
   "cell_type": "markdown",
   "metadata": {},
   "source": [
    "## Работаем с разнообразием кухонь"
   ]
  },
  {
   "cell_type": "markdown",
   "metadata": {},
   "source": [
    "Здесь достаём их из списка, который находится в столбце \"Cuisine Style\""
   ]
  },
  {
   "cell_type": "code",
   "execution_count": 5,
   "metadata": {},
   "outputs": [],
   "source": [
    "def split_cuisines(cuisines:str) -> str:\n",
    "    cui_list = list()\n",
    "    for cui in re.findall(\"(?<=')[\\w\\s]+\", cuisines):\n",
    "        cui_list.append(cui)\n",
    "    return '|'.join(cui_list)"
   ]
  },
  {
   "cell_type": "markdown",
   "metadata": {},
   "source": [
    "Создаем отдельный столбец для преобразованных данных"
   ]
  },
  {
   "cell_type": "code",
   "execution_count": 6,
   "metadata": {},
   "outputs": [],
   "source": [
    "data['Cuisines list'] = data['Cuisine Style'].dropna().apply(split_cuisines)"
   ]
  },
  {
   "cell_type": "markdown",
   "metadata": {},
   "source": [
    "В следующий столбец запишем кол-во кухонь представленных в ресторане"
   ]
  },
  {
   "cell_type": "code",
   "execution_count": 7,
   "metadata": {},
   "outputs": [],
   "source": [
    "data['Cuisines amount'] = data['Cuisines list'].dropna().apply(lambda x: len(str(x).split('|')))\n",
    "data['Cuisines amount'] = data['Cuisines amount'].fillna(1)"
   ]
  },
  {
   "cell_type": "markdown",
   "metadata": {},
   "source": [
    "Применим get_dummies для создания дополнительных 125 столбцов по кол-ву возможных кухонь."
   ]
  },
  {
   "cell_type": "code",
   "execution_count": 8,
   "metadata": {},
   "outputs": [],
   "source": [
    "data = data.join(data['Cuisines list'].str.get_dummies(sep='|'))"
   ]
  },
  {
   "cell_type": "code",
   "execution_count": 9,
   "metadata": {
    "scrolled": true
   },
   "outputs": [],
   "source": [
    "cuisines_cols = data.columns[9:]"
   ]
  },
  {
   "cell_type": "code",
   "execution_count": 10,
   "metadata": {},
   "outputs": [
    {
     "data": {
      "text/plain": [
       "Cuisines amount        16547\n",
       "Vegetarian Friendly    11189\n",
       "European               10060\n",
       "Mediterranean           6277\n",
       "Italian                 5964\n",
       "dtype: int64"
      ]
     },
     "execution_count": 10,
     "metadata": {},
     "output_type": "execute_result"
    }
   ],
   "source": [
    "count_cuisines = dict()\n",
    "for col in cuisines_cols:\n",
    "    count_cuisines[col] = data.loc[data[col] == 1, [col]].count()[0]\n",
    "\n",
    "pd.Series(count_cuisines).sort_values(ascending=False).head()"
   ]
  },
  {
   "cell_type": "markdown",
   "metadata": {},
   "source": [
    "## Преобразуем признаки по ценам"
   ]
  },
  {
   "cell_type": "code",
   "execution_count": 11,
   "metadata": {
    "scrolled": true
   },
   "outputs": [
    {
     "data": {
      "text/plain": [
       "$$ - $$$    18412\n",
       "$            6279\n",
       "$$$$         1423\n",
       "Name: Price Range, dtype: int64"
      ]
     },
     "execution_count": 11,
     "metadata": {},
     "output_type": "execute_result"
    }
   ],
   "source": [
    "data['Price Range'].value_counts()"
   ]
  },
  {
   "cell_type": "code",
   "execution_count": 12,
   "metadata": {},
   "outputs": [],
   "source": [
    "def fix_price_range(dollars):\n",
    "    if dollars == '$':\n",
    "        return 1\n",
    "    elif dollars == '$$$$':\n",
    "        return 3\n",
    "    else:\n",
    "        return 2"
   ]
  },
  {
   "cell_type": "code",
   "execution_count": 13,
   "metadata": {},
   "outputs": [],
   "source": [
    "data['Price Range'] = data['Price Range'].dropna().apply(fix_price_range)"
   ]
  },
  {
   "cell_type": "markdown",
   "metadata": {},
   "source": [
    "Заполним пропуски самым часто встречающимся значением"
   ]
  },
  {
   "cell_type": "code",
   "execution_count": 14,
   "metadata": {},
   "outputs": [],
   "source": [
    "data['Price Range'] = data['Price Range'].fillna(2)"
   ]
  },
  {
   "cell_type": "markdown",
   "metadata": {},
   "source": [
    "## Обрабатываем города"
   ]
  },
  {
   "cell_type": "markdown",
   "metadata": {},
   "source": [
    "Добавим города, используя get_dummies"
   ]
  },
  {
   "cell_type": "code",
   "execution_count": 15,
   "metadata": {},
   "outputs": [],
   "source": [
    "data = data.join(pd.get_dummies(data['City']))"
   ]
  },
  {
   "cell_type": "markdown",
   "metadata": {},
   "source": [
    "Добавим также через метод get_dummies и страны, соответствующие каждому городу"
   ]
  },
  {
   "cell_type": "code",
   "execution_count": 16,
   "metadata": {},
   "outputs": [],
   "source": [
    "countries_info = {\n",
    "    'London': ['England', 8982000],\n",
    "    'Paris': ['France', 2161000],\n",
    "    'Madrid': ['Spain', 3223000],\n",
    "    'Barcelona': ['Spain', 1620000],\n",
    "    'Berlin': ['Germany', 3645000],\n",
    "    'Milan': ['Italy', 1352000],\n",
    "    'Rome': ['Italy', 2873000],\n",
    "    'Prague': ['Czech', 1309000],\n",
    "    'Lisbon': ['Portugal', 504718],\n",
    "    'Vienna': ['Austria', 1897000],\n",
    "    'Amsterdam': ['Netherlands', 821752],\n",
    "    'Brussels': ['Belgium', 2081000],\n",
    "    'Hamburg': ['Germany', 1841000],\n",
    "    'Munich': ['Germany', 1472000],\n",
    "    'Lyon': ['France', 1719000],\n",
    "    'Stockholm': ['Sweden', 975551],\n",
    "    'Budapest': ['Hungary', 1768000],\n",
    "    'Warsaw': ['Poland', 1800000],\n",
    "    'Dublin': ['Ireland', 1420000],\n",
    "    'Copenhagen': ['Denmark', 1346000],\n",
    "    'Athens': ['Greece', 3153000],\n",
    "    'Edinburgh': ['Scotland', 537000],\n",
    "    'Zurich': ['Switzerland', 1395000],\n",
    "    'Oporto': ['Portugal', 1313000],\n",
    "    'Geneva': ['Switzerland', 613000],\n",
    "    'Krakow': ['Poland', 769000],\n",
    "    'Oslo': ['Norway', 697549],\n",
    "    'Helsinki': ['Finland', 1305000],\n",
    "    'Bratislava': ['Slovakia', 440948],\n",
    "    'Luxembourg': ['Luxembourg', 626000],\n",
    "    'Ljubljana': ['Slovenia', 2084301],\n",
    "}"
   ]
  },
  {
   "cell_type": "code",
   "execution_count": 17,
   "metadata": {},
   "outputs": [],
   "source": [
    "data['Country'] = data['City'].apply(lambda x: '_' + countries_info[x][0])\n",
    "data['Population'] = data['City'].apply(lambda x: countries_info[x][1])"
   ]
  },
  {
   "cell_type": "code",
   "execution_count": 18,
   "metadata": {},
   "outputs": [],
   "source": [
    "data = data.join(pd.get_dummies(data['Country']))"
   ]
  },
  {
   "cell_type": "markdown",
   "metadata": {},
   "source": [
    "## Нормализуем ранк ресторана"
   ]
  },
  {
   "cell_type": "markdown",
   "metadata": {},
   "source": [
    "Найдем по городу все рестораны и нормализуем их значения, чтобы между городами и странами не было такого различия."
   ]
  },
  {
   "cell_type": "code",
   "execution_count": 19,
   "metadata": {},
   "outputs": [],
   "source": [
    "def pop_rank(row):\n",
    "    rank = row['Ranking']\n",
    "    pop = countries_info[row['City']][1]\n",
    "    return pop / rank"
   ]
  },
  {
   "cell_type": "code",
   "execution_count": 20,
   "metadata": {},
   "outputs": [],
   "source": [
    "data['Population rank'] = data.apply(pop_rank, axis=1)"
   ]
  },
  {
   "cell_type": "code",
   "execution_count": 21,
   "metadata": {},
   "outputs": [],
   "source": [
    "def normalize_ranking(row):\n",
    "    max_id = data.loc[data['City'] == row['City'], 'Ranking'].max()\n",
    "    return row.Ranking / max_id"
   ]
  },
  {
   "cell_type": "code",
   "execution_count": 22,
   "metadata": {},
   "outputs": [],
   "source": [
    "data['Normd city ranking'] = data.apply(normalize_ranking, axis=1)"
   ]
  },
  {
   "cell_type": "markdown",
   "metadata": {},
   "source": [
    "## Работаем с датами отзывов"
   ]
  },
  {
   "cell_type": "markdown",
   "metadata": {},
   "source": [
    "Сначала получим раннюю из двух дат"
   ]
  },
  {
   "cell_type": "code",
   "execution_count": 23,
   "metadata": {},
   "outputs": [],
   "source": [
    "def convert_dt(line):\n",
    "    dd = re.compile('\\d{2}/\\d{2}/\\d{4}')\n",
    "    dates = dd.findall(line)\n",
    "    if not dates:\n",
    "        return None\n",
    "    dlist = list()\n",
    "    for date in dates:\n",
    "        dlist.append(datetime.strptime(date, '%m/%d/%Y'))\n",
    "    if len(dlist) > 1:\n",
    "        return min(dlist)\n",
    "    else:\n",
    "        return None"
   ]
  },
  {
   "cell_type": "code",
   "execution_count": 24,
   "metadata": {},
   "outputs": [],
   "source": [
    "data['Prev review date'] = data['Reviews'].dropna().apply(convert_dt)"
   ]
  },
  {
   "cell_type": "markdown",
   "metadata": {},
   "source": [
    "А теперь дату последнего обзора"
   ]
  },
  {
   "cell_type": "code",
   "execution_count": 25,
   "metadata": {},
   "outputs": [],
   "source": [
    "def convert_dt(line):\n",
    "    dd = re.compile('\\d{2}/\\d{2}/\\d{4}')\n",
    "    dates = dd.findall(line)\n",
    "    if not dates:\n",
    "        return None\n",
    "    dlist = list()\n",
    "    for date in dates:\n",
    "        dlist.append(datetime.strptime(date, '%m/%d/%Y'))\n",
    "    return max(dlist)"
   ]
  },
  {
   "cell_type": "code",
   "execution_count": 26,
   "metadata": {},
   "outputs": [],
   "source": [
    "data['Recent review date'] = data['Reviews'].dropna().apply(convert_dt)"
   ]
  },
  {
   "cell_type": "markdown",
   "metadata": {},
   "source": [
    "Посчитаем разницу в днях между двумя датами"
   ]
  },
  {
   "cell_type": "code",
   "execution_count": 27,
   "metadata": {},
   "outputs": [],
   "source": [
    "def count_days(line):\n",
    "    dd = re.compile('\\d{2}/\\d{2}/\\d{4}')\n",
    "    dates = dd.findall(line)\n",
    "    if not dates:\n",
    "        return None\n",
    "    dlist = list()\n",
    "    for date in dates:\n",
    "        dlist.append(datetime.strptime(date, '%m/%d/%Y'))\n",
    "    if len(dlist) == 2:\n",
    "        diff = max(dlist) - min(dlist)\n",
    "        return diff.days\n",
    "    else:\n",
    "        return None"
   ]
  },
  {
   "cell_type": "code",
   "execution_count": 28,
   "metadata": {},
   "outputs": [],
   "source": [
    "data['Review days gap'] = data['Reviews'].dropna().apply(count_days)"
   ]
  },
  {
   "cell_type": "code",
   "execution_count": 29,
   "metadata": {},
   "outputs": [
    {
     "data": {
      "text/html": [
       "<div>\n",
       "<style scoped>\n",
       "    .dataframe tbody tr th:only-of-type {\n",
       "        vertical-align: middle;\n",
       "    }\n",
       "\n",
       "    .dataframe tbody tr th {\n",
       "        vertical-align: top;\n",
       "    }\n",
       "\n",
       "    .dataframe thead th {\n",
       "        text-align: right;\n",
       "    }\n",
       "</style>\n",
       "<table border=\"1\" class=\"dataframe\">\n",
       "  <thead>\n",
       "    <tr style=\"text-align: right;\">\n",
       "      <th></th>\n",
       "      <th>Review days gap</th>\n",
       "    </tr>\n",
       "  </thead>\n",
       "  <tbody>\n",
       "    <tr>\n",
       "      <th>count</th>\n",
       "      <td>28973.000000</td>\n",
       "    </tr>\n",
       "    <tr>\n",
       "      <th>mean</th>\n",
       "      <td>141.712180</td>\n",
       "    </tr>\n",
       "    <tr>\n",
       "      <th>std</th>\n",
       "      <td>221.165893</td>\n",
       "    </tr>\n",
       "    <tr>\n",
       "      <th>min</th>\n",
       "      <td>0.000000</td>\n",
       "    </tr>\n",
       "    <tr>\n",
       "      <th>25%</th>\n",
       "      <td>20.000000</td>\n",
       "    </tr>\n",
       "    <tr>\n",
       "      <th>50%</th>\n",
       "      <td>67.000000</td>\n",
       "    </tr>\n",
       "    <tr>\n",
       "      <th>75%</th>\n",
       "      <td>173.000000</td>\n",
       "    </tr>\n",
       "    <tr>\n",
       "      <th>max</th>\n",
       "      <td>3207.000000</td>\n",
       "    </tr>\n",
       "  </tbody>\n",
       "</table>\n",
       "</div>"
      ],
      "text/plain": [
       "       Review days gap\n",
       "count     28973.000000\n",
       "mean        141.712180\n",
       "std         221.165893\n",
       "min           0.000000\n",
       "25%          20.000000\n",
       "50%          67.000000\n",
       "75%         173.000000\n",
       "max        3207.000000"
      ]
     },
     "execution_count": 29,
     "metadata": {},
     "output_type": "execute_result"
    }
   ],
   "source": [
    "data[['Review days gap']].describe()"
   ]
  },
  {
   "cell_type": "markdown",
   "metadata": {},
   "source": [
    "Посмотрим топ самых больших значений разницы между обзорами."
   ]
  },
  {
   "cell_type": "code",
   "execution_count": 30,
   "metadata": {
    "scrolled": true
   },
   "outputs": [
    {
     "data": {
      "text/html": [
       "<div>\n",
       "<style scoped>\n",
       "    .dataframe tbody tr th:only-of-type {\n",
       "        vertical-align: middle;\n",
       "    }\n",
       "\n",
       "    .dataframe tbody tr th {\n",
       "        vertical-align: top;\n",
       "    }\n",
       "\n",
       "    .dataframe thead th {\n",
       "        text-align: right;\n",
       "    }\n",
       "</style>\n",
       "<table border=\"1\" class=\"dataframe\">\n",
       "  <thead>\n",
       "    <tr style=\"text-align: right;\">\n",
       "      <th></th>\n",
       "      <th>Prev review date</th>\n",
       "      <th>Recent review date</th>\n",
       "      <th>Review days gap</th>\n",
       "    </tr>\n",
       "  </thead>\n",
       "  <tbody>\n",
       "    <tr>\n",
       "      <th>19438</th>\n",
       "      <td>2008-10-25</td>\n",
       "      <td>2017-04-15</td>\n",
       "      <td>3094.0</td>\n",
       "    </tr>\n",
       "    <tr>\n",
       "      <th>8356</th>\n",
       "      <td>2008-01-06</td>\n",
       "      <td>2016-06-28</td>\n",
       "      <td>3096.0</td>\n",
       "    </tr>\n",
       "    <tr>\n",
       "      <th>39997</th>\n",
       "      <td>2008-04-12</td>\n",
       "      <td>2016-11-03</td>\n",
       "      <td>3127.0</td>\n",
       "    </tr>\n",
       "    <tr>\n",
       "      <th>10997</th>\n",
       "      <td>2008-03-25</td>\n",
       "      <td>2016-10-26</td>\n",
       "      <td>3137.0</td>\n",
       "    </tr>\n",
       "    <tr>\n",
       "      <th>7990</th>\n",
       "      <td>2007-12-22</td>\n",
       "      <td>2016-10-02</td>\n",
       "      <td>3207.0</td>\n",
       "    </tr>\n",
       "  </tbody>\n",
       "</table>\n",
       "</div>"
      ],
      "text/plain": [
       "      Prev review date Recent review date  Review days gap\n",
       "19438       2008-10-25         2017-04-15           3094.0\n",
       "8356        2008-01-06         2016-06-28           3096.0\n",
       "39997       2008-04-12         2016-11-03           3127.0\n",
       "10997       2008-03-25         2016-10-26           3137.0\n",
       "7990        2007-12-22         2016-10-02           3207.0"
      ]
     },
     "execution_count": 30,
     "metadata": {},
     "output_type": "execute_result"
    }
   ],
   "source": [
    "data.loc[data['Review days gap'] > 0, ['Prev review date', 'Recent review date', 'Review days gap']].sort_values(by='Review days gap').tail()"
   ]
  },
  {
   "cell_type": "markdown",
   "metadata": {},
   "source": [
    "Заполним 'Review days gap' средним значением по городу."
   ]
  },
  {
   "cell_type": "code",
   "execution_count": 31,
   "metadata": {},
   "outputs": [],
   "source": [
    "data['Review days gap'].fillna(-1, inplace=True)"
   ]
  },
  {
   "cell_type": "code",
   "execution_count": 32,
   "metadata": {},
   "outputs": [],
   "source": [
    "def mean_gap(row):\n",
    "    if row['Review days gap'] < 0:\n",
    "        mean_value = data.loc[data['City'] == row['City'], 'Review days gap'].mean()\n",
    "        return mean_value\n",
    "    else:\n",
    "        return row['Review days gap']"
   ]
  },
  {
   "cell_type": "code",
   "execution_count": 33,
   "metadata": {},
   "outputs": [],
   "source": [
    "data['Review days gap'] = data.apply(mean_gap, axis=1)"
   ]
  },
  {
   "cell_type": "code",
   "execution_count": 34,
   "metadata": {},
   "outputs": [
    {
     "data": {
      "text/plain": [
       "0          41.000000\n",
       "1         382.000000\n",
       "2           2.000000\n",
       "3         122.463109\n",
       "4         272.000000\n",
       "            ...     \n",
       "39995      34.000000\n",
       "39996       9.000000\n",
       "39997    3127.000000\n",
       "39998      23.000000\n",
       "39999    1306.000000\n",
       "Name: Review days gap, Length: 40000, dtype: float64"
      ]
     },
     "execution_count": 34,
     "metadata": {},
     "output_type": "execute_result"
    }
   ],
   "source": [
    "data['Review days gap']"
   ]
  },
  {
   "cell_type": "markdown",
   "metadata": {},
   "source": [
    "## Попробуем создать новые признаки с помощью PolynomialFeatures"
   ]
  },
  {
   "cell_type": "code",
   "execution_count": 35,
   "metadata": {},
   "outputs": [],
   "source": [
    "data['Number of Reviews'] = data['Number of Reviews'].fillna(0)"
   ]
  },
  {
   "cell_type": "code",
   "execution_count": 36,
   "metadata": {},
   "outputs": [
    {
     "name": "stdout",
     "output_type": "stream",
     "text": [
      "<class 'pandas.core.frame.DataFrame'>\n",
      "RangeIndex: 40000 entries, 0 to 39999\n",
      "Data columns (total 18 columns):\n",
      " #   Column              Non-Null Count  Dtype         \n",
      "---  ------              --------------  -----         \n",
      " 0   Restaurant_id       40000 non-null  object        \n",
      " 1   City                40000 non-null  object        \n",
      " 2   Cuisine Style       30717 non-null  object        \n",
      " 3   Ranking             40000 non-null  float64       \n",
      " 4   Rating              40000 non-null  float64       \n",
      " 5   Price Range         40000 non-null  float64       \n",
      " 6   Number of Reviews   40000 non-null  float64       \n",
      " 7   Reviews             40000 non-null  object        \n",
      " 8   URL_TA              40000 non-null  object        \n",
      " 9   Wine Bar            40000 non-null  int64         \n",
      " 10  Xinjiang            40000 non-null  int64         \n",
      " 11  Yunnan              40000 non-null  int64         \n",
      " 12  _Switzerland        40000 non-null  uint8         \n",
      " 13  Population rank     40000 non-null  float64       \n",
      " 14  Normd city ranking  40000 non-null  float64       \n",
      " 15  Prev review date    28973 non-null  datetime64[ns]\n",
      " 16  Recent review date  33529 non-null  datetime64[ns]\n",
      " 17  Review days gap     40000 non-null  float64       \n",
      "dtypes: datetime64[ns](2), float64(7), int64(3), object(5), uint8(1)\n",
      "memory usage: 5.2+ MB\n"
     ]
    }
   ],
   "source": [
    "data[list(data.columns[:9]) + list(data.columns[134:137]) + list(data.columns[192:])].info()"
   ]
  },
  {
   "cell_type": "code",
   "execution_count": 37,
   "metadata": {},
   "outputs": [],
   "source": [
    "# data.drop([x for x in range(20)], axis=1, inplace=True)"
   ]
  },
  {
   "cell_type": "code",
   "execution_count": 38,
   "metadata": {},
   "outputs": [],
   "source": [
    "from sklearn.preprocessing import PolynomialFeatures\n",
    "\n",
    "pf = PolynomialFeatures(2)\n",
    "poly_features = pf.fit_transform(data[['Review days gap', 'Number of Reviews', 'Population']])\n",
    "poly_features.shape\n",
    "\n",
    "poly_features_df = pd.DataFrame(poly_features)\n",
    "data = data.join(poly_features_df)"
   ]
  },
  {
   "cell_type": "markdown",
   "metadata": {},
   "source": [
    "# Оценим показатели корреляций"
   ]
  },
  {
   "cell_type": "code",
   "execution_count": 39,
   "metadata": {},
   "outputs": [
    {
     "data": {
      "text/plain": [
       "['Restaurant_id',\n",
       " 'City',\n",
       " 'Cuisine Style',\n",
       " 'Ranking',\n",
       " 'Rating',\n",
       " 'Price Range',\n",
       " 'Number of Reviews',\n",
       " 'Reviews',\n",
       " 'URL_TA',\n",
       " 'Wine Bar',\n",
       " 'Xinjiang',\n",
       " 'Yunnan',\n",
       " 'Country',\n",
       " 'Population',\n",
       " '_Netherlands',\n",
       " '_Norway',\n",
       " '_Poland',\n",
       " '_Portugal',\n",
       " '_Scotland',\n",
       " '_Slovakia',\n",
       " '_Slovenia',\n",
       " '_Spain',\n",
       " '_Sweden',\n",
       " '_Switzerland',\n",
       " 'Population rank',\n",
       " 'Normd city ranking',\n",
       " 'Prev review date',\n",
       " 'Recent review date',\n",
       " 'Review days gap',\n",
       " 0,\n",
       " 1,\n",
       " 2,\n",
       " 3,\n",
       " 4,\n",
       " 5,\n",
       " 6,\n",
       " 7,\n",
       " 8,\n",
       " 9]"
      ]
     },
     "execution_count": 39,
     "metadata": {},
     "output_type": "execute_result"
    }
   ],
   "source": [
    "new_cols = list(data.columns[:9]) + list(data.columns[134:137]) + list(data.columns[168:170]) + list(data.columns[-25:])\n",
    "new_cols"
   ]
  },
  {
   "cell_type": "code",
   "execution_count": 40,
   "metadata": {
    "scrolled": false
   },
   "outputs": [
    {
     "data": {
      "text/html": [
       "<div>\n",
       "<style scoped>\n",
       "    .dataframe tbody tr th:only-of-type {\n",
       "        vertical-align: middle;\n",
       "    }\n",
       "\n",
       "    .dataframe tbody tr th {\n",
       "        vertical-align: top;\n",
       "    }\n",
       "\n",
       "    .dataframe thead th {\n",
       "        text-align: right;\n",
       "    }\n",
       "</style>\n",
       "<table border=\"1\" class=\"dataframe\">\n",
       "  <thead>\n",
       "    <tr style=\"text-align: right;\">\n",
       "      <th></th>\n",
       "      <th>Ranking</th>\n",
       "      <th>Rating</th>\n",
       "      <th>Price Range</th>\n",
       "      <th>Number of Reviews</th>\n",
       "      <th>Wine Bar</th>\n",
       "      <th>Xinjiang</th>\n",
       "      <th>Yunnan</th>\n",
       "      <th>Population</th>\n",
       "      <th>_Netherlands</th>\n",
       "      <th>_Norway</th>\n",
       "      <th>...</th>\n",
       "      <th>0</th>\n",
       "      <th>1</th>\n",
       "      <th>2</th>\n",
       "      <th>3</th>\n",
       "      <th>4</th>\n",
       "      <th>5</th>\n",
       "      <th>6</th>\n",
       "      <th>7</th>\n",
       "      <th>8</th>\n",
       "      <th>9</th>\n",
       "    </tr>\n",
       "  </thead>\n",
       "  <tbody>\n",
       "    <tr>\n",
       "      <th>Ranking</th>\n",
       "      <td>1.000000</td>\n",
       "      <td>-0.368371</td>\n",
       "      <td>-0.026525</td>\n",
       "      <td>-0.222072</td>\n",
       "      <td>-0.038717</td>\n",
       "      <td>0.003640</td>\n",
       "      <td>-0.002888</td>\n",
       "      <td>0.543863</td>\n",
       "      <td>-0.094372</td>\n",
       "      <td>-0.082608</td>\n",
       "      <td>...</td>\n",
       "      <td>NaN</td>\n",
       "      <td>0.105513</td>\n",
       "      <td>-0.222072</td>\n",
       "      <td>0.543863</td>\n",
       "      <td>0.049222</td>\n",
       "      <td>-0.094844</td>\n",
       "      <td>0.357430</td>\n",
       "      <td>-0.070757</td>\n",
       "      <td>-0.103297</td>\n",
       "      <td>0.519299</td>\n",
       "    </tr>\n",
       "    <tr>\n",
       "      <th>Rating</th>\n",
       "      <td>-0.368371</td>\n",
       "      <td>1.000000</td>\n",
       "      <td>-0.028588</td>\n",
       "      <td>0.026924</td>\n",
       "      <td>0.062129</td>\n",
       "      <td>0.000052</td>\n",
       "      <td>0.000052</td>\n",
       "      <td>-0.020042</td>\n",
       "      <td>0.034535</td>\n",
       "      <td>-0.014680</td>\n",
       "      <td>...</td>\n",
       "      <td>NaN</td>\n",
       "      <td>-0.072076</td>\n",
       "      <td>0.026924</td>\n",
       "      <td>-0.020042</td>\n",
       "      <td>-0.032685</td>\n",
       "      <td>-0.056417</td>\n",
       "      <td>-0.061763</td>\n",
       "      <td>0.015319</td>\n",
       "      <td>0.014249</td>\n",
       "      <td>-0.021507</td>\n",
       "    </tr>\n",
       "    <tr>\n",
       "      <th>Price Range</th>\n",
       "      <td>-0.026525</td>\n",
       "      <td>-0.028588</td>\n",
       "      <td>1.000000</td>\n",
       "      <td>0.107162</td>\n",
       "      <td>0.021121</td>\n",
       "      <td>0.001440</td>\n",
       "      <td>0.001440</td>\n",
       "      <td>-0.017864</td>\n",
       "      <td>-0.000058</td>\n",
       "      <td>0.019273</td>\n",
       "      <td>...</td>\n",
       "      <td>NaN</td>\n",
       "      <td>-0.025040</td>\n",
       "      <td>0.107162</td>\n",
       "      <td>-0.017864</td>\n",
       "      <td>-0.006402</td>\n",
       "      <td>0.022534</td>\n",
       "      <td>-0.010289</td>\n",
       "      <td>0.043268</td>\n",
       "      <td>0.094192</td>\n",
       "      <td>-0.019308</td>\n",
       "    </tr>\n",
       "    <tr>\n",
       "      <th>Number of Reviews</th>\n",
       "      <td>-0.222072</td>\n",
       "      <td>0.026924</td>\n",
       "      <td>0.107162</td>\n",
       "      <td>1.000000</td>\n",
       "      <td>0.002876</td>\n",
       "      <td>-0.001319</td>\n",
       "      <td>0.001184</td>\n",
       "      <td>0.017183</td>\n",
       "      <td>0.013348</td>\n",
       "      <td>-0.009129</td>\n",
       "      <td>...</td>\n",
       "      <td>NaN</td>\n",
       "      <td>-0.146660</td>\n",
       "      <td>1.000000</td>\n",
       "      <td>0.017183</td>\n",
       "      <td>-0.050530</td>\n",
       "      <td>0.257809</td>\n",
       "      <td>-0.112459</td>\n",
       "      <td>0.750739</td>\n",
       "      <td>0.730987</td>\n",
       "      <td>0.017505</td>\n",
       "    </tr>\n",
       "    <tr>\n",
       "      <th>Wine Bar</th>\n",
       "      <td>-0.038717</td>\n",
       "      <td>0.062129</td>\n",
       "      <td>0.021121</td>\n",
       "      <td>0.002876</td>\n",
       "      <td>1.000000</td>\n",
       "      <td>-0.000666</td>\n",
       "      <td>-0.000666</td>\n",
       "      <td>-0.003674</td>\n",
       "      <td>-0.016369</td>\n",
       "      <td>-0.005301</td>\n",
       "      <td>...</td>\n",
       "      <td>NaN</td>\n",
       "      <td>-0.020058</td>\n",
       "      <td>0.002876</td>\n",
       "      <td>-0.003674</td>\n",
       "      <td>-0.010105</td>\n",
       "      <td>-0.005920</td>\n",
       "      <td>-0.017592</td>\n",
       "      <td>-0.004692</td>\n",
       "      <td>-0.002194</td>\n",
       "      <td>-0.004604</td>\n",
       "    </tr>\n",
       "    <tr>\n",
       "      <th>Xinjiang</th>\n",
       "      <td>0.003640</td>\n",
       "      <td>0.000052</td>\n",
       "      <td>0.001440</td>\n",
       "      <td>-0.001319</td>\n",
       "      <td>-0.000666</td>\n",
       "      <td>1.000000</td>\n",
       "      <td>-0.000025</td>\n",
       "      <td>-0.001465</td>\n",
       "      <td>-0.000835</td>\n",
       "      <td>-0.000493</td>\n",
       "      <td>...</td>\n",
       "      <td>NaN</td>\n",
       "      <td>0.001791</td>\n",
       "      <td>-0.001319</td>\n",
       "      <td>-0.001465</td>\n",
       "      <td>-0.000242</td>\n",
       "      <td>0.000196</td>\n",
       "      <td>0.000526</td>\n",
       "      <td>-0.000441</td>\n",
       "      <td>-0.001038</td>\n",
       "      <td>-0.001985</td>\n",
       "    </tr>\n",
       "    <tr>\n",
       "      <th>Yunnan</th>\n",
       "      <td>-0.002888</td>\n",
       "      <td>0.000052</td>\n",
       "      <td>0.001440</td>\n",
       "      <td>0.001184</td>\n",
       "      <td>-0.000666</td>\n",
       "      <td>-0.000025</td>\n",
       "      <td>1.000000</td>\n",
       "      <td>-0.002501</td>\n",
       "      <td>-0.000835</td>\n",
       "      <td>-0.000493</td>\n",
       "      <td>...</td>\n",
       "      <td>NaN</td>\n",
       "      <td>-0.000773</td>\n",
       "      <td>0.001184</td>\n",
       "      <td>-0.002501</td>\n",
       "      <td>-0.000771</td>\n",
       "      <td>0.002816</td>\n",
       "      <td>-0.001335</td>\n",
       "      <td>-0.000290</td>\n",
       "      <td>-0.000215</td>\n",
       "      <td>-0.002363</td>\n",
       "    </tr>\n",
       "    <tr>\n",
       "      <th>Population</th>\n",
       "      <td>0.543863</td>\n",
       "      <td>-0.020042</td>\n",
       "      <td>-0.017864</td>\n",
       "      <td>0.017183</td>\n",
       "      <td>-0.003674</td>\n",
       "      <td>-0.001465</td>\n",
       "      <td>-0.002501</td>\n",
       "      <td>1.000000</td>\n",
       "      <td>-0.134628</td>\n",
       "      <td>-0.084135</td>\n",
       "      <td>...</td>\n",
       "      <td>NaN</td>\n",
       "      <td>-0.058295</td>\n",
       "      <td>0.017183</td>\n",
       "      <td>1.000000</td>\n",
       "      <td>-0.020688</td>\n",
       "      <td>-0.056817</td>\n",
       "      <td>0.339274</td>\n",
       "      <td>0.010385</td>\n",
       "      <td>0.267214</td>\n",
       "      <td>0.981654</td>\n",
       "    </tr>\n",
       "    <tr>\n",
       "      <th>_Netherlands</th>\n",
       "      <td>-0.094372</td>\n",
       "      <td>0.034535</td>\n",
       "      <td>-0.000058</td>\n",
       "      <td>0.013348</td>\n",
       "      <td>-0.016369</td>\n",
       "      <td>-0.000835</td>\n",
       "      <td>-0.000835</td>\n",
       "      <td>-0.134628</td>\n",
       "      <td>1.000000</td>\n",
       "      <td>-0.016469</td>\n",
       "      <td>...</td>\n",
       "      <td>NaN</td>\n",
       "      <td>-0.040733</td>\n",
       "      <td>0.013348</td>\n",
       "      <td>-0.134628</td>\n",
       "      <td>-0.018254</td>\n",
       "      <td>-0.023325</td>\n",
       "      <td>-0.066982</td>\n",
       "      <td>0.005138</td>\n",
       "      <td>-0.031252</td>\n",
       "      <td>-0.091026</td>\n",
       "    </tr>\n",
       "    <tr>\n",
       "      <th>_Norway</th>\n",
       "      <td>-0.082608</td>\n",
       "      <td>-0.014680</td>\n",
       "      <td>0.019273</td>\n",
       "      <td>-0.009129</td>\n",
       "      <td>-0.005301</td>\n",
       "      <td>-0.000493</td>\n",
       "      <td>-0.000493</td>\n",
       "      <td>-0.084135</td>\n",
       "      <td>-0.016469</td>\n",
       "      <td>1.000000</td>\n",
       "      <td>...</td>\n",
       "      <td>NaN</td>\n",
       "      <td>-0.002612</td>\n",
       "      <td>-0.009129</td>\n",
       "      <td>-0.084135</td>\n",
       "      <td>-0.004768</td>\n",
       "      <td>-0.014545</td>\n",
       "      <td>-0.037019</td>\n",
       "      <td>-0.005144</td>\n",
       "      <td>-0.022437</td>\n",
       "      <td>-0.054405</td>\n",
       "    </tr>\n",
       "    <tr>\n",
       "      <th>_Poland</th>\n",
       "      <td>-0.130247</td>\n",
       "      <td>0.030663</td>\n",
       "      <td>-0.016523</td>\n",
       "      <td>-0.022975</td>\n",
       "      <td>0.000695</td>\n",
       "      <td>-0.000868</td>\n",
       "      <td>-0.000868</td>\n",
       "      <td>-0.100814</td>\n",
       "      <td>-0.028998</td>\n",
       "      <td>-0.017112</td>\n",
       "      <td>...</td>\n",
       "      <td>NaN</td>\n",
       "      <td>-0.004866</td>\n",
       "      <td>-0.022975</td>\n",
       "      <td>-0.100814</td>\n",
       "      <td>-0.001455</td>\n",
       "      <td>-0.032054</td>\n",
       "      <td>-0.041713</td>\n",
       "      <td>-0.008356</td>\n",
       "      <td>-0.034798</td>\n",
       "      <td>-0.084540</td>\n",
       "    </tr>\n",
       "    <tr>\n",
       "      <th>_Portugal</th>\n",
       "      <td>-0.124617</td>\n",
       "      <td>0.029510</td>\n",
       "      <td>-0.036169</td>\n",
       "      <td>0.002825</td>\n",
       "      <td>0.018745</td>\n",
       "      <td>-0.001089</td>\n",
       "      <td>-0.001089</td>\n",
       "      <td>-0.182965</td>\n",
       "      <td>-0.036400</td>\n",
       "      <td>-0.021480</td>\n",
       "      <td>...</td>\n",
       "      <td>NaN</td>\n",
       "      <td>-0.018542</td>\n",
       "      <td>0.002825</td>\n",
       "      <td>-0.182965</td>\n",
       "      <td>-0.010527</td>\n",
       "      <td>-0.011572</td>\n",
       "      <td>-0.084276</td>\n",
       "      <td>-0.000405</td>\n",
       "      <td>-0.045024</td>\n",
       "      <td>-0.118765</td>\n",
       "    </tr>\n",
       "    <tr>\n",
       "      <th>_Scotland</th>\n",
       "      <td>-0.092951</td>\n",
       "      <td>0.017489</td>\n",
       "      <td>-0.034082</td>\n",
       "      <td>0.046421</td>\n",
       "      <td>0.005700</td>\n",
       "      <td>-0.000615</td>\n",
       "      <td>-0.000615</td>\n",
       "      <td>-0.112521</td>\n",
       "      <td>-0.020545</td>\n",
       "      <td>-0.012124</td>\n",
       "      <td>...</td>\n",
       "      <td>NaN</td>\n",
       "      <td>-0.042161</td>\n",
       "      <td>0.046421</td>\n",
       "      <td>-0.112521</td>\n",
       "      <td>-0.014086</td>\n",
       "      <td>-0.023844</td>\n",
       "      <td>-0.055239</td>\n",
       "      <td>0.012730</td>\n",
       "      <td>-0.022418</td>\n",
       "      <td>-0.068775</td>\n",
       "    </tr>\n",
       "    <tr>\n",
       "      <th>_Slovakia</th>\n",
       "      <td>-0.075669</td>\n",
       "      <td>-0.002988</td>\n",
       "      <td>0.009290</td>\n",
       "      <td>-0.021603</td>\n",
       "      <td>0.006091</td>\n",
       "      <td>-0.000435</td>\n",
       "      <td>-0.000435</td>\n",
       "      <td>-0.082869</td>\n",
       "      <td>-0.014546</td>\n",
       "      <td>-0.008584</td>\n",
       "      <td>...</td>\n",
       "      <td>NaN</td>\n",
       "      <td>0.011612</td>\n",
       "      <td>-0.021603</td>\n",
       "      <td>-0.082869</td>\n",
       "      <td>0.001560</td>\n",
       "      <td>-0.020033</td>\n",
       "      <td>-0.035030</td>\n",
       "      <td>-0.005313</td>\n",
       "      <td>-0.022728</td>\n",
       "      <td>-0.048997</td>\n",
       "    </tr>\n",
       "    <tr>\n",
       "      <th>_Slovenia</th>\n",
       "      <td>-0.062811</td>\n",
       "      <td>0.012068</td>\n",
       "      <td>-0.005081</td>\n",
       "      <td>-0.011259</td>\n",
       "      <td>0.007959</td>\n",
       "      <td>-0.000339</td>\n",
       "      <td>-0.000339</td>\n",
       "      <td>-0.021860</td>\n",
       "      <td>-0.011325</td>\n",
       "      <td>-0.006683</td>\n",
       "      <td>...</td>\n",
       "      <td>NaN</td>\n",
       "      <td>0.004977</td>\n",
       "      <td>-0.011259</td>\n",
       "      <td>-0.021860</td>\n",
       "      <td>0.007175</td>\n",
       "      <td>-0.015280</td>\n",
       "      <td>-0.005028</td>\n",
       "      <td>-0.004597</td>\n",
       "      <td>-0.011146</td>\n",
       "      <td>-0.027725</td>\n",
       "    </tr>\n",
       "    <tr>\n",
       "      <th>_Spain</th>\n",
       "      <td>0.054688</td>\n",
       "      <td>-0.072476</td>\n",
       "      <td>0.009606</td>\n",
       "      <td>-0.013199</td>\n",
       "      <td>-0.021530</td>\n",
       "      <td>-0.002068</td>\n",
       "      <td>0.012090</td>\n",
       "      <td>-0.071826</td>\n",
       "      <td>-0.069087</td>\n",
       "      <td>-0.040769</td>\n",
       "      <td>...</td>\n",
       "      <td>NaN</td>\n",
       "      <td>-0.007249</td>\n",
       "      <td>-0.013199</td>\n",
       "      <td>-0.071826</td>\n",
       "      <td>-0.004458</td>\n",
       "      <td>0.005561</td>\n",
       "      <td>-0.023565</td>\n",
       "      <td>-0.004343</td>\n",
       "      <td>-0.032381</td>\n",
       "      <td>-0.132205</td>\n",
       "    </tr>\n",
       "    <tr>\n",
       "      <th>_Sweden</th>\n",
       "      <td>-0.094931</td>\n",
       "      <td>-0.026604</td>\n",
       "      <td>0.031190</td>\n",
       "      <td>-0.022549</td>\n",
       "      <td>-0.012524</td>\n",
       "      <td>-0.000723</td>\n",
       "      <td>-0.000723</td>\n",
       "      <td>-0.108066</td>\n",
       "      <td>-0.024168</td>\n",
       "      <td>-0.014262</td>\n",
       "      <td>...</td>\n",
       "      <td>NaN</td>\n",
       "      <td>0.007170</td>\n",
       "      <td>-0.022549</td>\n",
       "      <td>-0.108066</td>\n",
       "      <td>0.005068</td>\n",
       "      <td>-0.026438</td>\n",
       "      <td>-0.044338</td>\n",
       "      <td>-0.008401</td>\n",
       "      <td>-0.032099</td>\n",
       "      <td>-0.077346</td>\n",
       "    </tr>\n",
       "    <tr>\n",
       "      <th>_Switzerland</th>\n",
       "      <td>-0.127671</td>\n",
       "      <td>0.002515</td>\n",
       "      <td>0.047677</td>\n",
       "      <td>-0.028759</td>\n",
       "      <td>-0.003342</td>\n",
       "      <td>-0.000808</td>\n",
       "      <td>-0.000808</td>\n",
       "      <td>-0.117660</td>\n",
       "      <td>-0.027010</td>\n",
       "      <td>-0.015939</td>\n",
       "      <td>...</td>\n",
       "      <td>NaN</td>\n",
       "      <td>0.013748</td>\n",
       "      <td>-0.028759</td>\n",
       "      <td>-0.117660</td>\n",
       "      <td>0.007028</td>\n",
       "      <td>-0.017485</td>\n",
       "      <td>-0.046411</td>\n",
       "      <td>-0.011460</td>\n",
       "      <td>-0.035867</td>\n",
       "      <td>-0.084926</td>\n",
       "    </tr>\n",
       "    <tr>\n",
       "      <th>Population rank</th>\n",
       "      <td>-0.060358</td>\n",
       "      <td>0.054729</td>\n",
       "      <td>0.029332</td>\n",
       "      <td>0.114302</td>\n",
       "      <td>0.004059</td>\n",
       "      <td>-0.000342</td>\n",
       "      <td>-0.000283</td>\n",
       "      <td>0.013554</td>\n",
       "      <td>-0.004348</td>\n",
       "      <td>0.002553</td>\n",
       "      <td>...</td>\n",
       "      <td>NaN</td>\n",
       "      <td>-0.035994</td>\n",
       "      <td>0.114302</td>\n",
       "      <td>0.013554</td>\n",
       "      <td>-0.011111</td>\n",
       "      <td>-0.003071</td>\n",
       "      <td>-0.025715</td>\n",
       "      <td>0.058107</td>\n",
       "      <td>0.089764</td>\n",
       "      <td>0.012139</td>\n",
       "    </tr>\n",
       "    <tr>\n",
       "      <th>Normd city ranking</th>\n",
       "      <td>0.572154</td>\n",
       "      <td>-0.544573</td>\n",
       "      <td>-0.047477</td>\n",
       "      <td>-0.406030</td>\n",
       "      <td>-0.067308</td>\n",
       "      <td>-0.000747</td>\n",
       "      <td>-0.005249</td>\n",
       "      <td>0.001497</td>\n",
       "      <td>-0.007122</td>\n",
       "      <td>0.000326</td>\n",
       "      <td>...</td>\n",
       "      <td>NaN</td>\n",
       "      <td>0.207396</td>\n",
       "      <td>-0.406030</td>\n",
       "      <td>0.001497</td>\n",
       "      <td>0.091435</td>\n",
       "      <td>-0.170623</td>\n",
       "      <td>0.179051</td>\n",
       "      <td>-0.124722</td>\n",
       "      <td>-0.282147</td>\n",
       "      <td>0.000559</td>\n",
       "    </tr>\n",
       "    <tr>\n",
       "      <th>Review days gap</th>\n",
       "      <td>0.105513</td>\n",
       "      <td>-0.072076</td>\n",
       "      <td>-0.025040</td>\n",
       "      <td>-0.146660</td>\n",
       "      <td>-0.020058</td>\n",
       "      <td>0.001791</td>\n",
       "      <td>-0.000773</td>\n",
       "      <td>-0.058295</td>\n",
       "      <td>-0.040733</td>\n",
       "      <td>-0.002612</td>\n",
       "      <td>...</td>\n",
       "      <td>NaN</td>\n",
       "      <td>1.000000</td>\n",
       "      <td>-0.146660</td>\n",
       "      <td>-0.058295</td>\n",
       "      <td>0.838789</td>\n",
       "      <td>0.313688</td>\n",
       "      <td>0.695077</td>\n",
       "      <td>-0.050644</td>\n",
       "      <td>-0.115720</td>\n",
       "      <td>-0.068326</td>\n",
       "    </tr>\n",
       "    <tr>\n",
       "      <th>0</th>\n",
       "      <td>NaN</td>\n",
       "      <td>NaN</td>\n",
       "      <td>NaN</td>\n",
       "      <td>NaN</td>\n",
       "      <td>NaN</td>\n",
       "      <td>NaN</td>\n",
       "      <td>NaN</td>\n",
       "      <td>NaN</td>\n",
       "      <td>NaN</td>\n",
       "      <td>NaN</td>\n",
       "      <td>...</td>\n",
       "      <td>NaN</td>\n",
       "      <td>NaN</td>\n",
       "      <td>NaN</td>\n",
       "      <td>NaN</td>\n",
       "      <td>NaN</td>\n",
       "      <td>NaN</td>\n",
       "      <td>NaN</td>\n",
       "      <td>NaN</td>\n",
       "      <td>NaN</td>\n",
       "      <td>NaN</td>\n",
       "    </tr>\n",
       "    <tr>\n",
       "      <th>1</th>\n",
       "      <td>0.105513</td>\n",
       "      <td>-0.072076</td>\n",
       "      <td>-0.025040</td>\n",
       "      <td>-0.146660</td>\n",
       "      <td>-0.020058</td>\n",
       "      <td>0.001791</td>\n",
       "      <td>-0.000773</td>\n",
       "      <td>-0.058295</td>\n",
       "      <td>-0.040733</td>\n",
       "      <td>-0.002612</td>\n",
       "      <td>...</td>\n",
       "      <td>NaN</td>\n",
       "      <td>1.000000</td>\n",
       "      <td>-0.146660</td>\n",
       "      <td>-0.058295</td>\n",
       "      <td>0.838789</td>\n",
       "      <td>0.313688</td>\n",
       "      <td>0.695077</td>\n",
       "      <td>-0.050644</td>\n",
       "      <td>-0.115720</td>\n",
       "      <td>-0.068326</td>\n",
       "    </tr>\n",
       "    <tr>\n",
       "      <th>2</th>\n",
       "      <td>-0.222072</td>\n",
       "      <td>0.026924</td>\n",
       "      <td>0.107162</td>\n",
       "      <td>1.000000</td>\n",
       "      <td>0.002876</td>\n",
       "      <td>-0.001319</td>\n",
       "      <td>0.001184</td>\n",
       "      <td>0.017183</td>\n",
       "      <td>0.013348</td>\n",
       "      <td>-0.009129</td>\n",
       "      <td>...</td>\n",
       "      <td>NaN</td>\n",
       "      <td>-0.146660</td>\n",
       "      <td>1.000000</td>\n",
       "      <td>0.017183</td>\n",
       "      <td>-0.050530</td>\n",
       "      <td>0.257809</td>\n",
       "      <td>-0.112459</td>\n",
       "      <td>0.750739</td>\n",
       "      <td>0.730987</td>\n",
       "      <td>0.017505</td>\n",
       "    </tr>\n",
       "    <tr>\n",
       "      <th>3</th>\n",
       "      <td>0.543863</td>\n",
       "      <td>-0.020042</td>\n",
       "      <td>-0.017864</td>\n",
       "      <td>0.017183</td>\n",
       "      <td>-0.003674</td>\n",
       "      <td>-0.001465</td>\n",
       "      <td>-0.002501</td>\n",
       "      <td>1.000000</td>\n",
       "      <td>-0.134628</td>\n",
       "      <td>-0.084135</td>\n",
       "      <td>...</td>\n",
       "      <td>NaN</td>\n",
       "      <td>-0.058295</td>\n",
       "      <td>0.017183</td>\n",
       "      <td>1.000000</td>\n",
       "      <td>-0.020688</td>\n",
       "      <td>-0.056817</td>\n",
       "      <td>0.339274</td>\n",
       "      <td>0.010385</td>\n",
       "      <td>0.267214</td>\n",
       "      <td>0.981654</td>\n",
       "    </tr>\n",
       "    <tr>\n",
       "      <th>4</th>\n",
       "      <td>0.049222</td>\n",
       "      <td>-0.032685</td>\n",
       "      <td>-0.006402</td>\n",
       "      <td>-0.050530</td>\n",
       "      <td>-0.010105</td>\n",
       "      <td>-0.000242</td>\n",
       "      <td>-0.000771</td>\n",
       "      <td>-0.020688</td>\n",
       "      <td>-0.018254</td>\n",
       "      <td>-0.004768</td>\n",
       "      <td>...</td>\n",
       "      <td>NaN</td>\n",
       "      <td>0.838789</td>\n",
       "      <td>-0.050530</td>\n",
       "      <td>-0.020688</td>\n",
       "      <td>1.000000</td>\n",
       "      <td>0.219985</td>\n",
       "      <td>0.579192</td>\n",
       "      <td>-0.015647</td>\n",
       "      <td>-0.038678</td>\n",
       "      <td>-0.024517</td>\n",
       "    </tr>\n",
       "    <tr>\n",
       "      <th>5</th>\n",
       "      <td>-0.094844</td>\n",
       "      <td>-0.056417</td>\n",
       "      <td>0.022534</td>\n",
       "      <td>0.257809</td>\n",
       "      <td>-0.005920</td>\n",
       "      <td>0.000196</td>\n",
       "      <td>0.002816</td>\n",
       "      <td>-0.056817</td>\n",
       "      <td>-0.023325</td>\n",
       "      <td>-0.014545</td>\n",
       "      <td>...</td>\n",
       "      <td>NaN</td>\n",
       "      <td>0.313688</td>\n",
       "      <td>0.257809</td>\n",
       "      <td>-0.056817</td>\n",
       "      <td>0.219985</td>\n",
       "      <td>1.000000</td>\n",
       "      <td>0.171129</td>\n",
       "      <td>0.069821</td>\n",
       "      <td>0.126022</td>\n",
       "      <td>-0.071578</td>\n",
       "    </tr>\n",
       "    <tr>\n",
       "      <th>6</th>\n",
       "      <td>0.357430</td>\n",
       "      <td>-0.061763</td>\n",
       "      <td>-0.010289</td>\n",
       "      <td>-0.112459</td>\n",
       "      <td>-0.017592</td>\n",
       "      <td>0.000526</td>\n",
       "      <td>-0.001335</td>\n",
       "      <td>0.339274</td>\n",
       "      <td>-0.066982</td>\n",
       "      <td>-0.037019</td>\n",
       "      <td>...</td>\n",
       "      <td>NaN</td>\n",
       "      <td>0.695077</td>\n",
       "      <td>-0.112459</td>\n",
       "      <td>0.339274</td>\n",
       "      <td>0.579192</td>\n",
       "      <td>0.171129</td>\n",
       "      <td>1.000000</td>\n",
       "      <td>-0.037117</td>\n",
       "      <td>-0.057388</td>\n",
       "      <td>0.320333</td>\n",
       "    </tr>\n",
       "    <tr>\n",
       "      <th>7</th>\n",
       "      <td>-0.070757</td>\n",
       "      <td>0.015319</td>\n",
       "      <td>0.043268</td>\n",
       "      <td>0.750739</td>\n",
       "      <td>-0.004692</td>\n",
       "      <td>-0.000441</td>\n",
       "      <td>-0.000290</td>\n",
       "      <td>0.010385</td>\n",
       "      <td>0.005138</td>\n",
       "      <td>-0.005144</td>\n",
       "      <td>...</td>\n",
       "      <td>NaN</td>\n",
       "      <td>-0.050644</td>\n",
       "      <td>0.750739</td>\n",
       "      <td>0.010385</td>\n",
       "      <td>-0.015647</td>\n",
       "      <td>0.069821</td>\n",
       "      <td>-0.037117</td>\n",
       "      <td>1.000000</td>\n",
       "      <td>0.603079</td>\n",
       "      <td>0.009959</td>\n",
       "    </tr>\n",
       "    <tr>\n",
       "      <th>8</th>\n",
       "      <td>-0.103297</td>\n",
       "      <td>0.014249</td>\n",
       "      <td>0.094192</td>\n",
       "      <td>0.730987</td>\n",
       "      <td>-0.002194</td>\n",
       "      <td>-0.001038</td>\n",
       "      <td>-0.000215</td>\n",
       "      <td>0.267214</td>\n",
       "      <td>-0.031252</td>\n",
       "      <td>-0.022437</td>\n",
       "      <td>...</td>\n",
       "      <td>NaN</td>\n",
       "      <td>-0.115720</td>\n",
       "      <td>0.730987</td>\n",
       "      <td>0.267214</td>\n",
       "      <td>-0.038678</td>\n",
       "      <td>0.126022</td>\n",
       "      <td>-0.057388</td>\n",
       "      <td>0.603079</td>\n",
       "      <td>1.000000</td>\n",
       "      <td>0.264531</td>\n",
       "    </tr>\n",
       "    <tr>\n",
       "      <th>9</th>\n",
       "      <td>0.519299</td>\n",
       "      <td>-0.021507</td>\n",
       "      <td>-0.019308</td>\n",
       "      <td>0.017505</td>\n",
       "      <td>-0.004604</td>\n",
       "      <td>-0.001985</td>\n",
       "      <td>-0.002363</td>\n",
       "      <td>0.981654</td>\n",
       "      <td>-0.091026</td>\n",
       "      <td>-0.054405</td>\n",
       "      <td>...</td>\n",
       "      <td>NaN</td>\n",
       "      <td>-0.068326</td>\n",
       "      <td>0.017505</td>\n",
       "      <td>0.981654</td>\n",
       "      <td>-0.024517</td>\n",
       "      <td>-0.071578</td>\n",
       "      <td>0.320333</td>\n",
       "      <td>0.009959</td>\n",
       "      <td>0.264531</td>\n",
       "      <td>1.000000</td>\n",
       "    </tr>\n",
       "  </tbody>\n",
       "</table>\n",
       "<p>31 rows × 31 columns</p>\n",
       "</div>"
      ],
      "text/plain": [
       "                     Ranking    Rating  Price Range  Number of Reviews  \\\n",
       "Ranking             1.000000 -0.368371    -0.026525          -0.222072   \n",
       "Rating             -0.368371  1.000000    -0.028588           0.026924   \n",
       "Price Range        -0.026525 -0.028588     1.000000           0.107162   \n",
       "Number of Reviews  -0.222072  0.026924     0.107162           1.000000   \n",
       "Wine Bar           -0.038717  0.062129     0.021121           0.002876   \n",
       "Xinjiang            0.003640  0.000052     0.001440          -0.001319   \n",
       "Yunnan             -0.002888  0.000052     0.001440           0.001184   \n",
       "Population          0.543863 -0.020042    -0.017864           0.017183   \n",
       "_Netherlands       -0.094372  0.034535    -0.000058           0.013348   \n",
       "_Norway            -0.082608 -0.014680     0.019273          -0.009129   \n",
       "_Poland            -0.130247  0.030663    -0.016523          -0.022975   \n",
       "_Portugal          -0.124617  0.029510    -0.036169           0.002825   \n",
       "_Scotland          -0.092951  0.017489    -0.034082           0.046421   \n",
       "_Slovakia          -0.075669 -0.002988     0.009290          -0.021603   \n",
       "_Slovenia          -0.062811  0.012068    -0.005081          -0.011259   \n",
       "_Spain              0.054688 -0.072476     0.009606          -0.013199   \n",
       "_Sweden            -0.094931 -0.026604     0.031190          -0.022549   \n",
       "_Switzerland       -0.127671  0.002515     0.047677          -0.028759   \n",
       "Population rank    -0.060358  0.054729     0.029332           0.114302   \n",
       "Normd city ranking  0.572154 -0.544573    -0.047477          -0.406030   \n",
       "Review days gap     0.105513 -0.072076    -0.025040          -0.146660   \n",
       "0                        NaN       NaN          NaN                NaN   \n",
       "1                   0.105513 -0.072076    -0.025040          -0.146660   \n",
       "2                  -0.222072  0.026924     0.107162           1.000000   \n",
       "3                   0.543863 -0.020042    -0.017864           0.017183   \n",
       "4                   0.049222 -0.032685    -0.006402          -0.050530   \n",
       "5                  -0.094844 -0.056417     0.022534           0.257809   \n",
       "6                   0.357430 -0.061763    -0.010289          -0.112459   \n",
       "7                  -0.070757  0.015319     0.043268           0.750739   \n",
       "8                  -0.103297  0.014249     0.094192           0.730987   \n",
       "9                   0.519299 -0.021507    -0.019308           0.017505   \n",
       "\n",
       "                    Wine Bar  Xinjiang    Yunnan  Population  _Netherlands  \\\n",
       "Ranking            -0.038717  0.003640 -0.002888    0.543863     -0.094372   \n",
       "Rating              0.062129  0.000052  0.000052   -0.020042      0.034535   \n",
       "Price Range         0.021121  0.001440  0.001440   -0.017864     -0.000058   \n",
       "Number of Reviews   0.002876 -0.001319  0.001184    0.017183      0.013348   \n",
       "Wine Bar            1.000000 -0.000666 -0.000666   -0.003674     -0.016369   \n",
       "Xinjiang           -0.000666  1.000000 -0.000025   -0.001465     -0.000835   \n",
       "Yunnan             -0.000666 -0.000025  1.000000   -0.002501     -0.000835   \n",
       "Population         -0.003674 -0.001465 -0.002501    1.000000     -0.134628   \n",
       "_Netherlands       -0.016369 -0.000835 -0.000835   -0.134628      1.000000   \n",
       "_Norway            -0.005301 -0.000493 -0.000493   -0.084135     -0.016469   \n",
       "_Poland             0.000695 -0.000868 -0.000868   -0.100814     -0.028998   \n",
       "_Portugal           0.018745 -0.001089 -0.001089   -0.182965     -0.036400   \n",
       "_Scotland           0.005700 -0.000615 -0.000615   -0.112521     -0.020545   \n",
       "_Slovakia           0.006091 -0.000435 -0.000435   -0.082869     -0.014546   \n",
       "_Slovenia           0.007959 -0.000339 -0.000339   -0.021860     -0.011325   \n",
       "_Spain             -0.021530 -0.002068  0.012090   -0.071826     -0.069087   \n",
       "_Sweden            -0.012524 -0.000723 -0.000723   -0.108066     -0.024168   \n",
       "_Switzerland       -0.003342 -0.000808 -0.000808   -0.117660     -0.027010   \n",
       "Population rank     0.004059 -0.000342 -0.000283    0.013554     -0.004348   \n",
       "Normd city ranking -0.067308 -0.000747 -0.005249    0.001497     -0.007122   \n",
       "Review days gap    -0.020058  0.001791 -0.000773   -0.058295     -0.040733   \n",
       "0                        NaN       NaN       NaN         NaN           NaN   \n",
       "1                  -0.020058  0.001791 -0.000773   -0.058295     -0.040733   \n",
       "2                   0.002876 -0.001319  0.001184    0.017183      0.013348   \n",
       "3                  -0.003674 -0.001465 -0.002501    1.000000     -0.134628   \n",
       "4                  -0.010105 -0.000242 -0.000771   -0.020688     -0.018254   \n",
       "5                  -0.005920  0.000196  0.002816   -0.056817     -0.023325   \n",
       "6                  -0.017592  0.000526 -0.001335    0.339274     -0.066982   \n",
       "7                  -0.004692 -0.000441 -0.000290    0.010385      0.005138   \n",
       "8                  -0.002194 -0.001038 -0.000215    0.267214     -0.031252   \n",
       "9                  -0.004604 -0.001985 -0.002363    0.981654     -0.091026   \n",
       "\n",
       "                     _Norway  ...   0         1         2         3         4  \\\n",
       "Ranking            -0.082608  ... NaN  0.105513 -0.222072  0.543863  0.049222   \n",
       "Rating             -0.014680  ... NaN -0.072076  0.026924 -0.020042 -0.032685   \n",
       "Price Range         0.019273  ... NaN -0.025040  0.107162 -0.017864 -0.006402   \n",
       "Number of Reviews  -0.009129  ... NaN -0.146660  1.000000  0.017183 -0.050530   \n",
       "Wine Bar           -0.005301  ... NaN -0.020058  0.002876 -0.003674 -0.010105   \n",
       "Xinjiang           -0.000493  ... NaN  0.001791 -0.001319 -0.001465 -0.000242   \n",
       "Yunnan             -0.000493  ... NaN -0.000773  0.001184 -0.002501 -0.000771   \n",
       "Population         -0.084135  ... NaN -0.058295  0.017183  1.000000 -0.020688   \n",
       "_Netherlands       -0.016469  ... NaN -0.040733  0.013348 -0.134628 -0.018254   \n",
       "_Norway             1.000000  ... NaN -0.002612 -0.009129 -0.084135 -0.004768   \n",
       "_Poland            -0.017112  ... NaN -0.004866 -0.022975 -0.100814 -0.001455   \n",
       "_Portugal          -0.021480  ... NaN -0.018542  0.002825 -0.182965 -0.010527   \n",
       "_Scotland          -0.012124  ... NaN -0.042161  0.046421 -0.112521 -0.014086   \n",
       "_Slovakia          -0.008584  ... NaN  0.011612 -0.021603 -0.082869  0.001560   \n",
       "_Slovenia          -0.006683  ... NaN  0.004977 -0.011259 -0.021860  0.007175   \n",
       "_Spain             -0.040769  ... NaN -0.007249 -0.013199 -0.071826 -0.004458   \n",
       "_Sweden            -0.014262  ... NaN  0.007170 -0.022549 -0.108066  0.005068   \n",
       "_Switzerland       -0.015939  ... NaN  0.013748 -0.028759 -0.117660  0.007028   \n",
       "Population rank     0.002553  ... NaN -0.035994  0.114302  0.013554 -0.011111   \n",
       "Normd city ranking  0.000326  ... NaN  0.207396 -0.406030  0.001497  0.091435   \n",
       "Review days gap    -0.002612  ... NaN  1.000000 -0.146660 -0.058295  0.838789   \n",
       "0                        NaN  ... NaN       NaN       NaN       NaN       NaN   \n",
       "1                  -0.002612  ... NaN  1.000000 -0.146660 -0.058295  0.838789   \n",
       "2                  -0.009129  ... NaN -0.146660  1.000000  0.017183 -0.050530   \n",
       "3                  -0.084135  ... NaN -0.058295  0.017183  1.000000 -0.020688   \n",
       "4                  -0.004768  ... NaN  0.838789 -0.050530 -0.020688  1.000000   \n",
       "5                  -0.014545  ... NaN  0.313688  0.257809 -0.056817  0.219985   \n",
       "6                  -0.037019  ... NaN  0.695077 -0.112459  0.339274  0.579192   \n",
       "7                  -0.005144  ... NaN -0.050644  0.750739  0.010385 -0.015647   \n",
       "8                  -0.022437  ... NaN -0.115720  0.730987  0.267214 -0.038678   \n",
       "9                  -0.054405  ... NaN -0.068326  0.017505  0.981654 -0.024517   \n",
       "\n",
       "                           5         6         7         8         9  \n",
       "Ranking            -0.094844  0.357430 -0.070757 -0.103297  0.519299  \n",
       "Rating             -0.056417 -0.061763  0.015319  0.014249 -0.021507  \n",
       "Price Range         0.022534 -0.010289  0.043268  0.094192 -0.019308  \n",
       "Number of Reviews   0.257809 -0.112459  0.750739  0.730987  0.017505  \n",
       "Wine Bar           -0.005920 -0.017592 -0.004692 -0.002194 -0.004604  \n",
       "Xinjiang            0.000196  0.000526 -0.000441 -0.001038 -0.001985  \n",
       "Yunnan              0.002816 -0.001335 -0.000290 -0.000215 -0.002363  \n",
       "Population         -0.056817  0.339274  0.010385  0.267214  0.981654  \n",
       "_Netherlands       -0.023325 -0.066982  0.005138 -0.031252 -0.091026  \n",
       "_Norway            -0.014545 -0.037019 -0.005144 -0.022437 -0.054405  \n",
       "_Poland            -0.032054 -0.041713 -0.008356 -0.034798 -0.084540  \n",
       "_Portugal          -0.011572 -0.084276 -0.000405 -0.045024 -0.118765  \n",
       "_Scotland          -0.023844 -0.055239  0.012730 -0.022418 -0.068775  \n",
       "_Slovakia          -0.020033 -0.035030 -0.005313 -0.022728 -0.048997  \n",
       "_Slovenia          -0.015280 -0.005028 -0.004597 -0.011146 -0.027725  \n",
       "_Spain              0.005561 -0.023565 -0.004343 -0.032381 -0.132205  \n",
       "_Sweden            -0.026438 -0.044338 -0.008401 -0.032099 -0.077346  \n",
       "_Switzerland       -0.017485 -0.046411 -0.011460 -0.035867 -0.084926  \n",
       "Population rank    -0.003071 -0.025715  0.058107  0.089764  0.012139  \n",
       "Normd city ranking -0.170623  0.179051 -0.124722 -0.282147  0.000559  \n",
       "Review days gap     0.313688  0.695077 -0.050644 -0.115720 -0.068326  \n",
       "0                        NaN       NaN       NaN       NaN       NaN  \n",
       "1                   0.313688  0.695077 -0.050644 -0.115720 -0.068326  \n",
       "2                   0.257809 -0.112459  0.750739  0.730987  0.017505  \n",
       "3                  -0.056817  0.339274  0.010385  0.267214  0.981654  \n",
       "4                   0.219985  0.579192 -0.015647 -0.038678 -0.024517  \n",
       "5                   1.000000  0.171129  0.069821  0.126022 -0.071578  \n",
       "6                   0.171129  1.000000 -0.037117 -0.057388  0.320333  \n",
       "7                   0.069821 -0.037117  1.000000  0.603079  0.009959  \n",
       "8                   0.126022 -0.057388  0.603079  1.000000  0.264531  \n",
       "9                  -0.071578  0.320333  0.009959  0.264531  1.000000  \n",
       "\n",
       "[31 rows x 31 columns]"
      ]
     },
     "execution_count": 40,
     "metadata": {},
     "output_type": "execute_result"
    }
   ],
   "source": [
    "data[new_cols].corr()"
   ]
  },
  {
   "cell_type": "markdown",
   "metadata": {},
   "source": [
    "Признаков сильно коррелирующих между собой не выявлено."
   ]
  },
  {
   "cell_type": "markdown",
   "metadata": {},
   "source": [
    "## Посмотрим на данные визуально, вдруг найдем зацепку"
   ]
  },
  {
   "cell_type": "markdown",
   "metadata": {},
   "source": [
    "Само распределение целевой переменной"
   ]
  },
  {
   "cell_type": "code",
   "execution_count": 41,
   "metadata": {},
   "outputs": [
    {
     "data": {
      "text/plain": [
       "<AxesSubplot:>"
      ]
     },
     "execution_count": 41,
     "metadata": {},
     "output_type": "execute_result"
    },
    {
     "data": {
      "image/png": "[encoded data removed]",
      "text/plain": [
       "<Figure size 432x288 with 1 Axes>"
      ]
     },
     "metadata": {
      "needs_background": "light"
     },
     "output_type": "display_data"
    }
   ],
   "source": [
    "data['Rating'].hist(bins=10)"
   ]
  },
  {
   "cell_type": "markdown",
   "metadata": {},
   "source": [
    "Распределение ранга городов"
   ]
  },
  {
   "cell_type": "code",
   "execution_count": 42,
   "metadata": {},
   "outputs": [
    {
     "data": {
      "text/plain": [
       "<AxesSubplot:>"
      ]
     },
     "execution_count": 42,
     "metadata": {},
     "output_type": "execute_result"
    },
    {
     "data": {
      "image/png": "[encoded data removed]",
      "text/plain": [
       "<Figure size 432x288 with 1 Axes>"
      ]
     },
     "metadata": {
      "needs_background": "light"
     },
     "output_type": "display_data"
    }
   ],
   "source": [
    "data['Ranking'].hist(bins=50)"
   ]
  },
  {
   "cell_type": "markdown",
   "metadata": {},
   "source": [
    "Нормированное значение ранга городов"
   ]
  },
  {
   "cell_type": "code",
   "execution_count": 43,
   "metadata": {},
   "outputs": [
    {
     "data": {
      "text/plain": [
       "<AxesSubplot:>"
      ]
     },
     "execution_count": 43,
     "metadata": {},
     "output_type": "execute_result"
    },
    {
     "data": {
      "image/png": "[encoded data removed]",
      "text/plain": [
       "<Figure size 432x288 with 1 Axes>"
      ]
     },
     "metadata": {
      "needs_background": "light"
     },
     "output_type": "display_data"
    }
   ],
   "source": [
    "data['Normd city ranking'].hist(bins=50)"
   ]
  },
  {
   "cell_type": "markdown",
   "metadata": {},
   "source": [
    "И распределение ресторанов по странам."
   ]
  },
  {
   "cell_type": "code",
   "execution_count": 44,
   "metadata": {
    "scrolled": false
   },
   "outputs": [
    {
     "data": {
      "text/plain": [
       "<AxesSubplot:>"
      ]
     },
     "execution_count": 44,
     "metadata": {},
     "output_type": "execute_result"
    },
    {
     "data": {
      "image/png": "[encoded data removed]",
      "text/plain": [
       "<Figure size 432x288 with 1 Axes>"
      ]
     },
     "metadata": {
      "needs_background": "light"
     },
     "output_type": "display_data"
    }
   ],
   "source": [
    "data['Country'].value_counts().plot(kind='bar')"
   ]
  },
  {
   "cell_type": "markdown",
   "metadata": {},
   "source": [
    "Вывод по графикам: так сказать сходу, что я увидел, какой-то новый признак, аномалию или закономерность я не могу."
   ]
  },
  {
   "cell_type": "markdown",
   "metadata": {},
   "source": [
    "## Подготовим данные к обучению"
   ]
  },
  {
   "cell_type": "markdown",
   "metadata": {},
   "source": [
    "Сначала уберем нечисловые столбцы и столбцы, ухудшающие финальный результат."
   ]
  },
  {
   "cell_type": "code",
   "execution_count": 66,
   "metadata": {},
   "outputs": [],
   "source": [
    "df = data.drop(['Restaurant_id', 'URL_TA', 'ID_TA', 'City', 'Cuisine Style', 'Price Range', 'Reviews', 'Cuisines list', 'Country', 'Prev review date', 'Recent review date', 'Number of Reviews', ], axis=1)"
   ]
  },
  {
   "cell_type": "markdown",
   "metadata": {},
   "source": [
    "Проверим на пропуски"
   ]
  },
  {
   "cell_type": "code",
   "execution_count": 67,
   "metadata": {},
   "outputs": [
    {
     "data": {
      "text/plain": [
       "(40000, 196)"
      ]
     },
     "execution_count": 67,
     "metadata": {},
     "output_type": "execute_result"
    }
   ],
   "source": [
    "df = df.dropna()\n",
    "df.shape"
   ]
  },
  {
   "cell_type": "markdown",
   "metadata": {},
   "source": [
    "# Разбиваем датафрейм на части, необходимые для обучения и тестирования модели"
   ]
  },
  {
   "cell_type": "code",
   "execution_count": 68,
   "metadata": {},
   "outputs": [],
   "source": [
    "# Х - данные с информацией о ресторанах, у - целевая переменная (рейтинги ресторанов)\n",
    "X = df.drop('Rating', axis = 1)\n",
    "y = df['Rating']"
   ]
  },
  {
   "cell_type": "code",
   "execution_count": 69,
   "metadata": {},
   "outputs": [],
   "source": [
    "# Загружаем специальный инструмент для разбивки:\n",
    "from sklearn.model_selection import train_test_split"
   ]
  },
  {
   "cell_type": "code",
   "execution_count": 70,
   "metadata": {},
   "outputs": [],
   "source": [
    "# Наборы данных с меткой \"train\" будут использоваться для обучения модели, \"test\" - для тестирования.\n",
    "# Для тестирования мы будем использовать 25% от исходного датасета.\n",
    "X_train, X_test, y_train, y_test = train_test_split(X, y, test_size=0.25)"
   ]
  },
  {
   "cell_type": "markdown",
   "metadata": {},
   "source": [
    "# Создаём, обучаем и тестируем модель"
   ]
  },
  {
   "cell_type": "code",
   "execution_count": 71,
   "metadata": {},
   "outputs": [],
   "source": [
    "# Импортируем необходимые библиотеки:\n",
    "from sklearn.ensemble import RandomForestRegressor # инструмент для создания и обучения модели\n",
    "from sklearn import metrics # инструменты для оценки точности модели"
   ]
  },
  {
   "cell_type": "code",
   "execution_count": 75,
   "metadata": {},
   "outputs": [
    {
     "name": "stderr",
     "output_type": "stream",
     "text": [
      "[Parallel(n_jobs=-1)]: Using backend ThreadingBackend with 8 concurrent workers.\n",
      "[Parallel(n_jobs=-1)]: Done  34 tasks      | elapsed:    5.0s\n",
      "[Parallel(n_jobs=-1)]: Done 100 out of 100 | elapsed:   12.8s finished\n",
      "[Parallel(n_jobs=8)]: Using backend ThreadingBackend with 8 concurrent workers.\n",
      "[Parallel(n_jobs=8)]: Done  34 tasks      | elapsed:    0.0s\n",
      "[Parallel(n_jobs=8)]: Done 100 out of 100 | elapsed:    0.0s finished\n"
     ]
    }
   ],
   "source": [
    "# Создаём модель\n",
    "model = RandomForestRegressor(n_estimators=100, verbose=1, n_jobs=-1, random_state=42)\n",
    "\n",
    "# Обучаем модель на тестовом наборе данных\n",
    "model.fit(X_train, y_train)\n",
    "\n",
    "# Используем обученную модель для предсказания рейтинга ресторанов в тестовой выборке.\n",
    "# Предсказанные значения записываем в переменную y_pred\n",
    "y_pred = model.predict(X_test)"
   ]
  },
  {
   "cell_type": "code",
   "execution_count": 76,
   "metadata": {},
   "outputs": [
    {
     "name": "stderr",
     "output_type": "stream",
     "text": [
      "[Parallel(n_jobs=8)]: Using backend ThreadingBackend with 8 concurrent workers.\n",
      "[Parallel(n_jobs=8)]: Done  34 tasks      | elapsed:    0.0s\n",
      "[Parallel(n_jobs=8)]: Done 100 out of 100 | elapsed:    0.0s finished\n",
      "[Parallel(n_jobs=8)]: Using backend ThreadingBackend with 8 concurrent workers.\n",
      "[Parallel(n_jobs=8)]: Done  34 tasks      | elapsed:    0.0s\n",
      "[Parallel(n_jobs=8)]: Done 100 out of 100 | elapsed:    0.0s finished\n"
     ]
    }
   ],
   "source": [
    "def rating_round(x, base=0.5):\n",
    "    return base * round(x/base)\n",
    "\n",
    "def predict(ds):\n",
    "    return np.array([rating_round(x) for x in model.predict(ds)])\n",
    "\n",
    "y_pred = predict(X_test)\n",
    "\n",
    "y_pred1 = model.predict(X_test)"
   ]
  },
  {
   "cell_type": "code",
   "execution_count": 77,
   "metadata": {},
   "outputs": [
    {
     "name": "stdout",
     "output_type": "stream",
     "text": [
      "MAE: 0.1784\n",
      "MAE без округления: 0.20775499999999997\n"
     ]
    }
   ],
   "source": [
    "# Сравниваем предсказанные значения (y_pred) с реальными (y_test), и смотрим насколько они в среднем отличаются\n",
    "# Метрика называется Mean Absolute Error (MAE) и показывает среднее отклонение предсказанных значений от фактических.\n",
    "print('MAE:', metrics.mean_absolute_error(y_test, y_pred))\n",
    "print('MAE без округления:', metrics.mean_absolute_error(y_test, y_pred1))\n"
   ]
  },
  {
   "cell_type": "markdown",
   "metadata": {},
   "source": [
    "# Выводы"
   ]
  },
  {
   "cell_type": "markdown",
   "metadata": {},
   "source": [
    "От начального показания MAE = 0.4 в результате работы с данными удалось достичь результата в MAE = 0.2. Для этого было проделаны следующие шаги:\n",
    " - Заполнены пропуски средними значениями, с целью минимизировать удаление пустых записей.\n",
    " - Были добавлены новые признаки, через обработку значений столбцов методом \"apply\" (кол-во представленных кухонь, население города).\n",
    " - Были добавлены новые признаки через 'get_dummies' (города, тип кухни, цена, страны).\n",
    " - Подобрал 3 признака, на которых применил PolynomialFeatures и сгенерировал дополнительные признаки. Получилось улучшить результат на 0.7\n",
    " - Посмотрел на таблицу корреляций. Но признаков сильно коррелирующих между собой не выявил.\n",
    " - Построил графики, с целью выявления аномалий. Выявлены не были."
   ]
  },
  {
   "cell_type": "code",
   "execution_count": null,
   "metadata": {},
   "outputs": [],
   "source": []
  }
 ],
 "metadata": {
  "kernelspec": {
   "display_name": "Python 3",
   "language": "python",
   "name": "python3"
  },
  "language_info": {
   "codemirror_mode": {
    "name": "ipython",
    "version": 3
   },
   "file_extension": ".py",
   "mimetype": "text/x-python",
   "name": "python",
   "nbconvert_exporter": "python",
   "pygments_lexer": "ipython3",
   "version": "3.8.8"
  }
 },
 "nbformat": 4,
 "nbformat_minor": 2
}
