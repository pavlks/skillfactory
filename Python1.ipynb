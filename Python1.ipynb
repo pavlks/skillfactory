{
 "cells": [
  {
   "cell_type": "code",
   "execution_count": 1,
   "metadata": {},
   "outputs": [
    {
     "data": {
      "text/plain": [
       "'hey!'"
      ]
     },
     "execution_count": 1,
     "metadata": {},
     "output_type": "execute_result"
    }
   ],
   "source": [
    "'hey'+'!'"
   ]
  },
  {
   "cell_type": "code",
   "execution_count": 6,
   "metadata": {},
   "outputs": [
    {
     "data": {
      "text/plain": [
       "float"
      ]
     },
     "execution_count": 6,
     "metadata": {},
     "output_type": "execute_result"
    }
   ],
   "source": [
    "\n",
    "\n",
    "type(2+3.4)\n",
    "\n"
   ]
  },
  {
   "cell_type": "code",
   "execution_count": 7,
   "metadata": {
    "scrolled": true
   },
   "outputs": [
    {
     "data": {
      "text/plain": [
       "int"
      ]
     },
     "execution_count": 7,
     "metadata": {},
     "output_type": "execute_result"
    }
   ],
   "source": [
    "\n",
    "\n",
    "type(2+3)\n"
   ]
  },
  {
   "cell_type": "code",
   "execution_count": 8,
   "metadata": {},
   "outputs": [
    {
     "data": {
      "text/plain": [
       "'2'"
      ]
     },
     "execution_count": 8,
     "metadata": {},
     "output_type": "execute_result"
    }
   ],
   "source": [
    "str(int(float('2.4')))"
   ]
  },
  {
   "cell_type": "code",
   "execution_count": 13,
   "metadata": {},
   "outputs": [
    {
     "data": {
      "text/plain": [
       "2.0"
      ]
     },
     "execution_count": 13,
     "metadata": {},
     "output_type": "execute_result"
    }
   ],
   "source": [
    "4 ** (1/2)"
   ]
  },
  {
   "cell_type": "code",
   "execution_count": 16,
   "metadata": {},
   "outputs": [
    {
     "name": "stdout",
     "output_type": "stream",
     "text": [
      "Tom\n",
      "Сегодня Вас зовут Tom\n"
     ]
    }
   ],
   "source": [
    "name = input()\n",
    "print('Сегодня Вас зовут', name)"
   ]
  },
  {
   "cell_type": "code",
   "execution_count": 28,
   "metadata": {},
   "outputs": [
    {
     "name": "stdout",
     "output_type": "stream",
     "text": [
      "2\n",
      "неудовлетворительно\n"
     ]
    }
   ],
   "source": [
    "mark = float(input())\n",
    "#mark = 7\n",
    "\n",
    "if mark < 4:\n",
    "    print('неудовлетворительно')\n",
    "elif mark <= 5:\n",
    "    print('удовлетворительно')\n",
    "elif mark <= 7:\n",
    "    print('хорошо')\n",
    "else:\n",
    "    print('отлично')"
   ]
  },
  {
   "cell_type": "code",
   "execution_count": 30,
   "metadata": {},
   "outputs": [
    {
     "data": {
      "text/plain": [
       "False"
      ]
     },
     "execution_count": 30,
     "metadata": {},
     "output_type": "execute_result"
    }
   ],
   "source": [
    "\"Python\" > \"Ruby\""
   ]
  },
  {
   "cell_type": "code",
   "execution_count": 34,
   "metadata": {},
   "outputs": [
    {
     "data": {
      "text/plain": [
       "True"
      ]
     },
     "execution_count": 34,
     "metadata": {},
     "output_type": "execute_result"
    }
   ],
   "source": [
    "\"239\" < \"30\""
   ]
  },
  {
   "cell_type": "code",
   "execution_count": 42,
   "metadata": {},
   "outputs": [
    {
     "name": "stdout",
     "output_type": "stream",
     "text": [
      "10\n",
      "00\n",
      "Преподаватель свободен.\n"
     ]
    }
   ],
   "source": [
    "hour = int(input())\n",
    "minute = int(input())\n",
    "\n",
    "if hour == 10 and minute >= 30 or hour == 11:\n",
    "    print(\"Преподаватель занят.\")\n",
    "elif hour == 13 and minute >= 40 or hour == 14:\n",
    "    print(\"Преподаватель занят.\")\n",
    "elif hour == 19 and minute < 40 or hour == 18:\n",
    "    print(\"Преподаватель занят.\")\n",
    "elif hour < 10 or hour >= 20:\n",
    "    print(\"Преподаватель занят.\")\n",
    "else:\n",
    "    print(\"Преподаватель свободен.\")"
   ]
  },
  {
   "cell_type": "code",
   "execution_count": 45,
   "metadata": {},
   "outputs": [
    {
     "name": "stdout",
     "output_type": "stream",
     "text": [
      "пдинк\n"
     ]
    }
   ],
   "source": [
    "word = 'подшипник'\n",
    "\n",
    "print(word[::2])"
   ]
  },
  {
   "cell_type": "code",
   "execution_count": 50,
   "metadata": {},
   "outputs": [
    {
     "name": "stdout",
     "output_type": "stream",
     "text": [
      "1890 год невисокосный\n",
      "1891 год невисокосный\n",
      "1892 год високосный\n",
      "1893 год невисокосный\n",
      "1894 год невисокосный\n",
      "1895 год невисокосный\n",
      "1896 год високосный\n",
      "1897 год невисокосный\n",
      "1898 год невисокосный\n",
      "1899 год невисокосный\n",
      "1900 год невисокосный\n",
      "1901 год невисокосный\n",
      "1902 год невисокосный\n",
      "1903 год невисокосный\n",
      "1904 год високосный\n",
      "1905 год невисокосный\n",
      "1906 год невисокосный\n",
      "1907 год невисокосный\n",
      "1908 год високосный\n",
      "1909 год невисокосный\n",
      "1910 год невисокосный\n",
      "1911 год невисокосный\n",
      "1912 год високосный\n",
      "1913 год невисокосный\n",
      "1914 год невисокосный\n",
      "1915 год невисокосный\n",
      "1916 год високосный\n",
      "1917 год невисокосный\n",
      "1918 год невисокосный\n",
      "1919 год невисокосный\n",
      "1920 год високосный\n"
     ]
    }
   ],
   "source": [
    "year_1 = 1890\n",
    "year_2 = 1920\n",
    "\n",
    "for y in range(year_1, year_2 + 1):\n",
    "    if y % 400 == 0:\n",
    "        print(y, 'год високосный')\n",
    "    elif y % 100 == 0:\n",
    "        print(y, 'год невисокосный')\n",
    "    elif y % 4 == 0:\n",
    "        print(y, 'год високосный')\n",
    "    else:\n",
    "        print(y, 'год невисокосный')"
   ]
  },
  {
   "cell_type": "code",
   "execution_count": 54,
   "metadata": {},
   "outputs": [
    {
     "name": "stdout",
     "output_type": "stream",
     "text": [
      "и\n",
      "у\n",
      "а\n",
      "и\n",
      "а\n"
     ]
    }
   ],
   "source": [
    "word = 'Зимушка-зима'\n",
    "\n",
    "for l in word:\n",
    "    if l in 'уеаоиэяю':\n",
    "        print(l)"
   ]
  },
  {
   "cell_type": "code",
   "execution_count": 56,
   "metadata": {},
   "outputs": [
    {
     "name": "stdout",
     "output_type": "stream",
     "text": [
      "Буква 1 в этом имени - С\n",
      "Буква 2 в этом имени - е\n",
      "Буква 3 в этом имени - р\n",
      "Буква 4 в этом имени - г\n",
      "Буква 5 в этом имени - е\n",
      "Буква 6 в этом имени - й\n"
     ]
    }
   ],
   "source": [
    "name = 'Сергей'\n",
    "\n",
    "for n, l in enumerate(name):\n",
    "    print('Буква', n + 1, 'в этом имени -', l)"
   ]
  },
  {
   "cell_type": "code",
   "execution_count": 58,
   "metadata": {},
   "outputs": [
    {
     "name": "stdout",
     "output_type": "stream",
     "text": [
      "25\n",
      "27\n",
      "33\n",
      "35\n",
      "39\n",
      "45\n"
     ]
    }
   ],
   "source": [
    "num_1 = 25\n",
    "num_2 = 45\n",
    "\n",
    "for num in range(num_1, num_2 + 1):\n",
    "    if num % 2 == 1 and num % 3 == 0 or num % 2 == 1 and num % 5 == 0:\n",
    "        print(num)"
   ]
  },
  {
   "cell_type": "code",
   "execution_count": 66,
   "metadata": {},
   "outputs": [
    {
     "name": "stdout",
     "output_type": "stream",
     "text": [
      "1 1 1\n",
      "2 4 8\n",
      "3 9 27\n",
      "4 16 64\n",
      "5 25 125\n",
      "6 36 216\n",
      "7 49 343\n",
      "8 64 512\n",
      "9 81 729\n",
      "10 100 1000\n"
     ]
    }
   ],
   "source": [
    "for i in range(1, 11):\n",
    "    print(i, i**2, i**3)"
   ]
  },
  {
   "cell_type": "code",
   "execution_count": 68,
   "metadata": {},
   "outputs": [
    {
     "name": "stdout",
     "output_type": "stream",
     "text": [
      "1\n",
      "2\n",
      "3\n",
      "4\n",
      "6\n",
      "7\n",
      "12\n",
      "14\n",
      "21\n",
      "28\n",
      "42\n",
      "84\n"
     ]
    }
   ],
   "source": [
    "#number = int(input())\n",
    "number = 84\n",
    "for i in range(1, number + 1):\n",
    "    if number % i == 0:\n",
    "        print(i)"
   ]
  },
  {
   "cell_type": "code",
   "execution_count": 72,
   "metadata": {},
   "outputs": [
    {
     "name": "stdout",
     "output_type": "stream",
     "text": [
      "2\n"
     ]
    }
   ],
   "source": [
    "#num_1 = int(input())\n",
    "#num_2 = int(input())\n",
    "num_1 = 12\n",
    "num_2 = 38\n",
    "\n",
    "for i in range(2, max(num_1, num_2) + 1):\n",
    "    if num_1 % i == 0 and num_2 % i == 0:\n",
    "        print(i)"
   ]
  },
  {
   "cell_type": "code",
   "execution_count": 83,
   "metadata": {},
   "outputs": [
    {
     "name": "stdout",
     "output_type": "stream",
     "text": [
      "5\n"
     ]
    }
   ],
   "source": [
    "n = 5\n",
    "a = 1\n",
    "b = 1\n",
    "for _ in range(n - 1):\n",
    "    a, b = b, a + b\n",
    "else:\n",
    "    print(a)"
   ]
  },
  {
   "cell_type": "code",
   "execution_count": 86,
   "metadata": {},
   "outputs": [
    {
     "name": "stdout",
     "output_type": "stream",
     "text": [
      "15 X 1 = 15\n",
      "15 X 2 = 30\n",
      "15 X 3 = 45\n",
      "15 X 4 = 60\n",
      "15 X 5 = 75\n",
      "15 X 6 = 90\n",
      "15 X 7 = 105\n",
      "15 X 8 = 120\n",
      "15 X 9 = 135\n",
      "15 X 10 = 150\n"
     ]
    }
   ],
   "source": [
    "number = 15\n",
    "for i in range(1, 11):\n",
    "    print(number, 'X', i, '=', number * i)"
   ]
  },
  {
   "cell_type": "code",
   "execution_count": 105,
   "metadata": {},
   "outputs": [
    {
     "name": "stdout",
     "output_type": "stream",
     "text": [
      "4\n"
     ]
    }
   ],
   "source": [
    "#num_1 = int(input())\n",
    "#num_2 = int(input())\n",
    "num_1 = 1812\n",
    "num_2 = 2500\n",
    "\n",
    "for i in range(min(num_1, num_2), 1, -1):\n",
    "    if num_1 % i == 0 and num_2 % i == 0:\n",
    "        print(i)\n",
    "        break\n",
    "else:\n",
    "    print(\"Общих делителей не найдено\")"
   ]
  },
  {
   "cell_type": "code",
   "execution_count": 110,
   "metadata": {},
   "outputs": [
    {
     "name": "stdout",
     "output_type": "stream",
     "text": [
      "руз ур рг"
     ]
    }
   ],
   "source": [
    "string = 'арбуз бурав врага'\n",
    "for l in string:\n",
    "    if l == 'а' or l == 'б' or l == 'в':\n",
    "        continue\n",
    "    print(l, end='')"
   ]
  },
  {
   "cell_type": "code",
   "execution_count": 119,
   "metadata": {},
   "outputs": [
    {
     "name": "stdout",
     "output_type": "stream",
     "text": [
      "Любите ли вы Python?\n",
      "\n",
      "Увы, это неправильный ответ\n",
      "Любите ли вы Python?\n",
      "\n",
      "Увы, это неправильный ответ\n",
      "Любите ли вы Python?\n",
      "\n",
      "Увы, это неправильный ответ\n",
      "Любите ли вы Python?\n",
      "\n",
      "Увы, это неправильный ответ\n",
      "Любите ли вы Python?\n",
      "\n",
      "Это безнадёжно!\n"
     ]
    }
   ],
   "source": [
    "n = int()\n",
    "for _ in range(5):\n",
    "    string = input(\"Любите ли вы Python?\\n\")\n",
    "    if string == \"Да\":\n",
    "        print(\"Это отлично!\")\n",
    "    else:\n",
    "        n += 1\n",
    "        if n == 5:\n",
    "            print(\"Это безнадёжно!\")\n",
    "            break\n",
    "        print(\"Увы, это неправильный ответ\")\n",
    "    "
   ]
  },
  {
   "cell_type": "code",
   "execution_count": 124,
   "metadata": {},
   "outputs": [
    {
     "name": "stdout",
     "output_type": "stream",
     "text": [
      "Увы, это неправильный ответ\n",
      "Увы, это неправильный ответ\n",
      "Увы, это неправильный ответ\n",
      "Увы, это неправильный ответ\n",
      "Увы, это неправильный ответ\n",
      "Это безнадёжно!\n"
     ]
    }
   ],
   "source": [
    "string = \"Нет\"\n",
    "n = int()\n",
    "for _ in range(5):\n",
    "    # string = input(\"Любите ли вы Python?\\n\")\n",
    "    if string == \"Да\":\n",
    "        print(\"Это отлично!\")\n",
    "    else:\n",
    "        print(\"Увы, это неправильный ответ\")\n",
    "        n += 1\n",
    "        if n == 5:\n",
    "            print(\"Это безнадёжно!\")\n",
    "            break"
   ]
  },
  {
   "cell_type": "code",
   "execution_count": 134,
   "metadata": {},
   "outputs": [
    {
     "name": "stdout",
     "output_type": "stream",
     "text": [
      "Простое\n"
     ]
    }
   ],
   "source": [
    "number = 173\n",
    "for i in range(2, number):\n",
    "    if number % i == 0:\n",
    "        print(\"Не является простым\")\n",
    "        break\n",
    "    else:\n",
    "        continue\n",
    "else:\n",
    "    print(\"Простое\")"
   ]
  },
  {
   "cell_type": "code",
   "execution_count": 141,
   "metadata": {},
   "outputs": [
    {
     "name": "stdout",
     "output_type": "stream",
     "text": [
      "Строка мне не нравится!\n"
     ]
    }
   ],
   "source": [
    "string = 'прелестная строка'\n",
    "\n",
    "for n, l in enumerate(string):\n",
    "    if n % 2 == 0 and l in 'уеыаоэяию':\n",
    "        print(\"Строка мне не нравится!\")\n",
    "        break\n",
    "    else:\n",
    "        continue\n",
    "else:\n",
    "    print(\"Какая хорошая строка!\")"
   ]
  },
  {
   "cell_type": "code",
   "execution_count": 151,
   "metadata": {},
   "outputs": [
    {
     "name": "stdout",
     "output_type": "stream",
     "text": [
      "19\n"
     ]
    }
   ],
   "source": [
    "Y = 170000\n",
    "Z = 1000000\n",
    "yp = 1.1\n",
    "year = int()\n",
    "while Y < Z:\n",
    "    Y *= yp\n",
    "    year += 1\n",
    "else:\n",
    "    print(year)"
   ]
  },
  {
   "cell_type": "code",
   "execution_count": 158,
   "metadata": {},
   "outputs": [
    {
     "name": "stdout",
     "output_type": "stream",
     "text": [
      "Перевес 62 кг\n"
     ]
    }
   ],
   "source": [
    "weight = 77\n",
    "limit = 400\n",
    "total = int()\n",
    "while total < limit:\n",
    "    total += weight\n",
    "else:\n",
    "    print(\"Перевес\", total - limit, \"кг\")"
   ]
  },
  {
   "cell_type": "code",
   "execution_count": 161,
   "metadata": {},
   "outputs": [
    {
     "name": "stdout",
     "output_type": "stream",
     "text": [
      "7\n"
     ]
    }
   ],
   "source": [
    "current_health = 500\n",
    "attack = 80\n",
    "count_kick = int()\n",
    "while current_health > 0:\n",
    "    current_health -= attack\n",
    "    count_kick += 1\n",
    "else:\n",
    "    print(count_kick)"
   ]
  },
  {
   "cell_type": "code",
   "execution_count": 165,
   "metadata": {},
   "outputs": [
    {
     "name": "stdout",
     "output_type": "stream",
     "text": [
      "10000\n",
      "7200\n",
      "4400\n",
      "1600\n",
      "Слишком большие расходы\n"
     ]
    }
   ],
   "source": [
    "balance = 10000\n",
    "spent = 2800\n",
    "while balance > 0:\n",
    "    print(balance)\n",
    "    balance -= spent\n",
    "else:\n",
    "    print(\"Слишком большие расходы\")"
   ]
  },
  {
   "cell_type": "code",
   "execution_count": 167,
   "metadata": {},
   "outputs": [
    {
     "name": "stdout",
     "output_type": "stream",
     "text": [
      "995 5 0\n",
      "985 10 1\n",
      "970 15 2\n",
      "950 20 3\n",
      "925 25 4\n",
      "895 30 5\n",
      "860 35 6\n",
      "820 40 7\n",
      "775 45 8\n",
      "725 50 9\n",
      "670 55 10\n",
      "610 60 11\n",
      "545 65 12\n",
      "475 70 13\n",
      "400 75 14\n",
      "320 80 15\n",
      "235 85 16\n",
      "145 90 17\n",
      "50 95 18\n",
      "-50 100 19\n",
      "20\n"
     ]
    }
   ],
   "source": [
    "volume = 1000\n",
    "l = 5\n",
    "n = int()\n",
    "while volume > 0:\n",
    "    volume -= l\n",
    "    print(volume, l, n)\n",
    "    l += 5\n",
    "    n += 1\n",
    "else:\n",
    "    print(n)"
   ]
  }
 ],
 "metadata": {
  "kernelspec": {
   "display_name": "Python 3",
   "language": "python",
   "name": "python3"
  },
  "language_info": {
   "codemirror_mode": {
    "name": "ipython",
    "version": 3
   },
   "file_extension": ".py",
   "mimetype": "text/x-python",
   "name": "python",
   "nbconvert_exporter": "python",
   "pygments_lexer": "ipython3",
   "version": "3.8.5"
  }
 },
 "nbformat": 4,
 "nbformat_minor": 4
}
