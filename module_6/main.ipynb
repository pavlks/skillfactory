{
 "cells": [
  {
   "cell_type": "code",
   "execution_count": 154,
   "id": "b2efa538",
   "metadata": {},
   "outputs": [],
   "source": [
    "import re\n",
    "import time\n",
    "import json\n",
    "import requests\n",
    "import pandas as pd\n",
    "\n",
    "from pprint import pprint\n",
    "from bs4 import BeautifulSoup"
   ]
  },
  {
   "cell_type": "code",
   "execution_count": 155,
   "id": "1149db90",
   "metadata": {},
   "outputs": [],
   "source": [
    "headers = {\n",
    "'Host' : 'auto.ru',\n",
    "'User-Agent' : 'Mozilla/5.0 (X11; Fedora; Linux x86_64; rv:94.0) Gecko/20100101 Firefox/94.0',\n",
    "'Accept' : 'text/html,application/xhtml+xml,application/xml;q=0.9,image/avif,image/webp,*/*;q=0.8',\n",
    "'Accept-Language' : 'en-US,en;q=0.5',\n",
    "'Accept-Encoding' : 'gzip, deflate, br',\n",
    "'Connection' : 'keep-alive',\n",
    "'Cookie' : 'autoru_gdpr=1; suid=bc8be712d638a08131a6e9e0d202d740.c5b54afb905b8c06122ab3a791bcd52b; yandexuid=2760879651631376416; my=YysBAgA%3D; counter_ga_all7=2; credit_filter_promo_popup_closed=true; bltsr=1; autoru-visits-count=2; _csrf_token=cd33b362bade8bf97053fcccb6e8a730d67cea3890bc13dd; from_lifetime=1636905126761; from=direct; autoru_sid=a%3Ag619130a126cnq19ulaaft362m5p2vb2.ce95d73e09b71591f2b431378fbd3c26%7C1636905121806.604800.JcGnv8AgAv4Xvv1e8UHmiQ.qe2Ojz2DfSD_52bJZeYXuKaARhOYKurZFIDQMePmObs; autoruuid=g619130a126cnq19ulaaft362m5p2vb2.ce95d73e09b71591f2b431378fbd3c26; X-Vertis-DC=sas; yuidlt=1; crookie=uhdn1VGOHoS1oc8l4sXp2M5D/rZ7bF0rzNm+BarwG5j6c314PffzGRMzarsbN0UdUvjdLE2fxvOarzvBJ/iU56YxYuU=; cmtchd=MTYzNjkwNTEyNDY5Mw==; deal_million_popup_page_seen=0; los=1',\n",
    "'Upgrade-Insecure-Requests' : '1',\n",
    "'Sec-Fetch-Dest' : 'document',\n",
    "'Sec-Fetch-Mode' : 'navigate',\n",
    "'Sec-Fetch-Site' : 'none',\n",
    "'Sec-Fetch-User' : '?1'\n",
    "}\n",
    "url = 'https://auto.ru/cars/all/'\n",
    "page_suffix = '?page='"
   ]
  },
  {
   "cell_type": "code",
   "execution_count": 156,
   "id": "d164c7f6",
   "metadata": {},
   "outputs": [],
   "source": [
    "perks = ['Владельцы', 'Владение', 'ПТС', 'Привод', 'Руль', 'Состояние', 'Таможня', 'bodyType', 'brand', 'color', 'complectation_dict', 'description', 'engineDisplacement', \n",
    "      'enginePower', 'equipment_dict', 'fuelType', 'image', 'mileage', 'modelDate', 'model_info', 'model_name', \n",
    "      'name', 'numberOfDoors', 'parsing_unixtime', 'priceCurrency', 'productionDate', 'sell_id', 'super_gen', \n",
    "      'vehicleConfiguration', 'vehicleTransmission', 'vendor', 'car_url']"
   ]
  },
  {
   "cell_type": "code",
   "execution_count": 169,
   "id": "4e53495f",
   "metadata": {},
   "outputs": [],
   "source": [
    "def get_ad_info(url, headers, characteristics):\n",
    "    ad_info = dict()\n",
    "    ad_id = re.search('[a-z0-9]{8,12}-[a-z0-9]{6,10}', link).group(0)\n",
    "    r = requests.get(url, headers=headers)\n",
    "    html = BeautifulSoup(r.content, 'html.parser')\n",
    "    for li in html.find_all('li', 'CardInfoRow'):\n",
    "        var1, var2 = tuple(li.children)\n",
    "        key = var1.string\n",
    "        value = var2.string\n",
    "        if key in perks[:7]:\n",
    "            ad_info[key] = value\n",
    "\n",
    "    j1 = json.loads(html.script.string)\n",
    "    j2 = json.loads(html.find('script', id=\"initial-state\").string)\n",
    "    for k in set(perks).intersection(set(j1)):\n",
    "        ad_info[k] = j1[k]\n",
    "\n",
    "    for l in set(perks).intersection(j1['vehicleEngine']):\n",
    "        ad_info[l] = j1['vehicleEngine'][l]\n",
    "\n",
    "    for m in set(perks).intersection(j2['card']['state']):\n",
    "        ad_info[m] = j2['card']['state'][m]\n",
    "\n",
    "    ad_info['equipment_dict'] = j2['card']['vehicle_info']['equipment']\n",
    "    ad_info['complectation_dict'] = j2['card']['vehicle_info']['complectation']\n",
    "    ad_info['model_info'] = j2['card']['vehicle_info']['model_info']\n",
    "    ad_info['model_name'] = j2['card']['vehicle_info']['model_info']['name']\n",
    "    ad_info['super_gen'] = j2['card']['vehicle_info']['super_gen']\n",
    "    ad_info['vendor'] = j2['card']['vehicle_info']['vendor']\n",
    "    ad_info['sell_id'] = j2['card']['saleId']\n",
    "\n",
    "\n",
    "\n",
    "    ad_info['price'] = j1['offers']['price']\n",
    "    ad_info['priceCurrency'] = j1['offers']['priceCurrency']\n",
    "    ad_info['car_url'] = j1['offers']['url']\n",
    "\n",
    "    ad_info['parsing_unixtime'] = time.time()\n",
    "\n",
    "    return ad_info"
   ]
  },
  {
   "cell_type": "code",
   "execution_count": 170,
   "id": "0af16d59",
   "metadata": {
    "scrolled": false
   },
   "outputs": [
    {
     "name": "stdout",
     "output_type": "stream",
     "text": [
      "page_url='https://auto.ru/cars/all/'\n",
      "38 37 36 35 34 33 32 31 30 29 28 27 26 25 "
     ]
    },
    {
     "ename": "KeyError",
     "evalue": "'price'",
     "output_type": "error",
     "traceback": [
      "\u001b[0;31m---------------------------------------------------------------------------\u001b[0m",
      "\u001b[0;31mKeyError\u001b[0m                                  Traceback (most recent call last)",
      "\u001b[0;32m<ipython-input-170-19cf60096498>\u001b[0m in \u001b[0;36m<module>\u001b[0;34m\u001b[0m\n\u001b[1;32m     14\u001b[0m         \u001b[0mn\u001b[0m \u001b[0;34m-=\u001b[0m \u001b[0;36m1\u001b[0m\u001b[0;34m\u001b[0m\u001b[0;34m\u001b[0m\u001b[0m\n\u001b[1;32m     15\u001b[0m         \u001b[0mlink\u001b[0m \u001b[0;34m=\u001b[0m \u001b[0ml\u001b[0m\u001b[0;34m[\u001b[0m\u001b[0;34m'href'\u001b[0m\u001b[0;34m]\u001b[0m\u001b[0;34m\u001b[0m\u001b[0;34m\u001b[0m\u001b[0m\n\u001b[0;32m---> 16\u001b[0;31m         \u001b[0mcar_info\u001b[0m \u001b[0;34m=\u001b[0m \u001b[0mget_ad_info\u001b[0m\u001b[0;34m(\u001b[0m\u001b[0mlink\u001b[0m\u001b[0;34m,\u001b[0m \u001b[0mheaders\u001b[0m\u001b[0;34m,\u001b[0m \u001b[0mperks\u001b[0m\u001b[0;34m)\u001b[0m\u001b[0;34m\u001b[0m\u001b[0;34m\u001b[0m\u001b[0m\n\u001b[0m\u001b[1;32m     17\u001b[0m         \u001b[0mdf\u001b[0m \u001b[0;34m=\u001b[0m \u001b[0mdf\u001b[0m\u001b[0;34m.\u001b[0m\u001b[0mappend\u001b[0m\u001b[0;34m(\u001b[0m\u001b[0mcar_info\u001b[0m\u001b[0;34m,\u001b[0m \u001b[0mignore_index\u001b[0m\u001b[0;34m=\u001b[0m\u001b[0;32mTrue\u001b[0m\u001b[0;34m,\u001b[0m\u001b[0;34m)\u001b[0m\u001b[0;34m\u001b[0m\u001b[0;34m\u001b[0m\u001b[0m\n\u001b[1;32m     18\u001b[0m         \u001b[0mtime\u001b[0m\u001b[0;34m.\u001b[0m\u001b[0msleep\u001b[0m\u001b[0;34m(\u001b[0m\u001b[0;36m1\u001b[0m\u001b[0;34m)\u001b[0m\u001b[0;34m\u001b[0m\u001b[0;34m\u001b[0m\u001b[0m\n",
      "\u001b[0;32m<ipython-input-169-cce7c0fed508>\u001b[0m in \u001b[0;36mget_ad_info\u001b[0;34m(url, headers, characteristics)\u001b[0m\n\u001b[1;32m     32\u001b[0m \u001b[0;34m\u001b[0m\u001b[0m\n\u001b[1;32m     33\u001b[0m \u001b[0;34m\u001b[0m\u001b[0m\n\u001b[0;32m---> 34\u001b[0;31m     \u001b[0mad_info\u001b[0m\u001b[0;34m[\u001b[0m\u001b[0;34m'price'\u001b[0m\u001b[0;34m]\u001b[0m \u001b[0;34m=\u001b[0m \u001b[0mj1\u001b[0m\u001b[0;34m[\u001b[0m\u001b[0;34m'offers'\u001b[0m\u001b[0;34m]\u001b[0m\u001b[0;34m[\u001b[0m\u001b[0;34m'price'\u001b[0m\u001b[0;34m]\u001b[0m\u001b[0;34m\u001b[0m\u001b[0;34m\u001b[0m\u001b[0m\n\u001b[0m\u001b[1;32m     35\u001b[0m     \u001b[0mad_info\u001b[0m\u001b[0;34m[\u001b[0m\u001b[0;34m'priceCurrency'\u001b[0m\u001b[0;34m]\u001b[0m \u001b[0;34m=\u001b[0m \u001b[0mj1\u001b[0m\u001b[0;34m[\u001b[0m\u001b[0;34m'offers'\u001b[0m\u001b[0;34m]\u001b[0m\u001b[0;34m[\u001b[0m\u001b[0;34m'priceCurrency'\u001b[0m\u001b[0;34m]\u001b[0m\u001b[0;34m\u001b[0m\u001b[0;34m\u001b[0m\u001b[0m\n\u001b[1;32m     36\u001b[0m     \u001b[0mad_info\u001b[0m\u001b[0;34m[\u001b[0m\u001b[0;34m'car_url'\u001b[0m\u001b[0;34m]\u001b[0m \u001b[0;34m=\u001b[0m \u001b[0mj1\u001b[0m\u001b[0;34m[\u001b[0m\u001b[0;34m'offers'\u001b[0m\u001b[0;34m]\u001b[0m\u001b[0;34m[\u001b[0m\u001b[0;34m'url'\u001b[0m\u001b[0;34m]\u001b[0m\u001b[0;34m\u001b[0m\u001b[0;34m\u001b[0m\u001b[0m\n",
      "\u001b[0;31mKeyError\u001b[0m: 'price'"
     ]
    }
   ],
   "source": [
    "df = pd.DataFrame(columns=perks)\n",
    "for page_num in range(1, 2):\n",
    "    if page_num <=1:\n",
    "        page_url = url\n",
    "    else:\n",
    "        page_url = url + page_suffix + str(page_num)\n",
    "    print(f'{page_url=}')\n",
    "    res = requests.get(page_url, headers=headers)\n",
    "    code = BeautifulSoup(res.content, 'html.parser')\n",
    "    ad_links = code.find_all(\"a\", class_=\"ListingItemTitle__link\")\n",
    "    n = len(ad_links)\n",
    "    for l in ad_links:\n",
    "        print(n, end=' ')\n",
    "        n -= 1\n",
    "        link = l['href']\n",
    "        car_info = get_ad_info(link, headers, perks)\n",
    "        df = df.append(car_info, ignore_index=True,)\n",
    "        time.sleep(1)\n",
    "'''            \n",
    "    except Exception as err_msg:\n",
    "        print(err_msg)\n",
    "    else:\n",
    "        print('done smoothly')\n",
    "    finally:\n",
    "        print('moving to page', page_num + 1)\n",
    "'''"
   ]
  },
  {
   "cell_type": "code",
   "execution_count": 159,
   "id": "f512918c",
   "metadata": {},
   "outputs": [
    {
     "data": {
      "text/html": [
       "<div>\n",
       "<style scoped>\n",
       "    .dataframe tbody tr th:only-of-type {\n",
       "        vertical-align: middle;\n",
       "    }\n",
       "\n",
       "    .dataframe tbody tr th {\n",
       "        vertical-align: top;\n",
       "    }\n",
       "\n",
       "    .dataframe thead th {\n",
       "        text-align: right;\n",
       "    }\n",
       "</style>\n",
       "<table border=\"1\" class=\"dataframe\">\n",
       "  <thead>\n",
       "    <tr style=\"text-align: right;\">\n",
       "      <th></th>\n",
       "      <th>Владельцы</th>\n",
       "      <th>Владение</th>\n",
       "      <th>ПТС</th>\n",
       "      <th>Привод</th>\n",
       "      <th>Руль</th>\n",
       "      <th>Состояние</th>\n",
       "      <th>Таможня</th>\n",
       "      <th>bodyType</th>\n",
       "      <th>brand</th>\n",
       "      <th>color</th>\n",
       "      <th>...</th>\n",
       "      <th>parsing_unixtime</th>\n",
       "      <th>priceCurrency</th>\n",
       "      <th>productionDate</th>\n",
       "      <th>sell_id</th>\n",
       "      <th>super_gen</th>\n",
       "      <th>vehicleConfiguration</th>\n",
       "      <th>vehicleTransmission</th>\n",
       "      <th>vendor</th>\n",
       "      <th>car_url</th>\n",
       "      <th>price</th>\n",
       "    </tr>\n",
       "  </thead>\n",
       "  <tbody>\n",
       "    <tr>\n",
       "      <th>0</th>\n",
       "      <td>1 владелец</td>\n",
       "      <td>10 месяцев</td>\n",
       "      <td>Оригинал</td>\n",
       "      <td>полный</td>\n",
       "      <td>Левый</td>\n",
       "      <td>Не требует ремонта</td>\n",
       "      <td>Растаможен</td>\n",
       "      <td>внедорожник 5 дв.</td>\n",
       "      <td>JEEP</td>\n",
       "      <td>серебристый</td>\n",
       "      <td>...</td>\n",
       "      <td>1.637186e+09</td>\n",
       "      <td>RUB</td>\n",
       "      <td>2018</td>\n",
       "      <td>1105476150-384cb422</td>\n",
       "      <td>{'id': '20040921', 'name': 'IV (WK2) Рестайлин...</td>\n",
       "      <td>ALLROAD_5_DOORS AUTOMATIC 3.0</td>\n",
       "      <td>автоматическая</td>\n",
       "      <td>AMERICAN</td>\n",
       "      <td>https://auto.ru/cars/used/sale/jeep/grand_cher...</td>\n",
       "      <td>4000000.0</td>\n",
       "    </tr>\n",
       "  </tbody>\n",
       "</table>\n",
       "<p>1 rows × 33 columns</p>\n",
       "</div>"
      ],
      "text/plain": [
       "    Владельцы    Владение       ПТС  Привод   Руль           Состояние  \\\n",
       "0  1 владелец  10 месяцев  Оригинал  полный  Левый  Не требует ремонта   \n",
       "\n",
       "      Таможня           bodyType brand        color  ... parsing_unixtime  \\\n",
       "0  Растаможен  внедорожник 5 дв.  JEEP  серебристый  ...     1.637186e+09   \n",
       "\n",
       "  priceCurrency productionDate              sell_id  \\\n",
       "0           RUB           2018  1105476150-384cb422   \n",
       "\n",
       "                                           super_gen  \\\n",
       "0  {'id': '20040921', 'name': 'IV (WK2) Рестайлин...   \n",
       "\n",
       "            vehicleConfiguration vehicleTransmission    vendor  \\\n",
       "0  ALLROAD_5_DOORS AUTOMATIC 3.0      автоматическая  AMERICAN   \n",
       "\n",
       "                                             car_url      price  \n",
       "0  https://auto.ru/cars/used/sale/jeep/grand_cher...  4000000.0  \n",
       "\n",
       "[1 rows x 33 columns]"
      ]
     },
     "execution_count": 159,
     "metadata": {},
     "output_type": "execute_result"
    }
   ],
   "source": [
    "df"
   ]
  },
  {
   "cell_type": "code",
   "execution_count": 17,
   "id": "c79719c7",
   "metadata": {},
   "outputs": [
    {
     "data": {
      "text/plain": [
       "Series([], Name: engineDisplacement, dtype: int64)"
      ]
     },
     "execution_count": 17,
     "metadata": {},
     "output_type": "execute_result"
    }
   ],
   "source": [
    "df.engineDisplacement.value_counts()"
   ]
  },
  {
   "cell_type": "code",
   "execution_count": null,
   "id": "8fea712b",
   "metadata": {},
   "outputs": [],
   "source": []
  }
 ],
 "metadata": {
  "kernelspec": {
   "display_name": "Python 3",
   "language": "python",
   "name": "python3"
  },
  "language_info": {
   "codemirror_mode": {
    "name": "ipython",
    "version": 3
   },
   "file_extension": ".py",
   "mimetype": "text/x-python",
   "name": "python",
   "nbconvert_exporter": "python",
   "pygments_lexer": "ipython3",
   "version": "3.8.8"
  }
 },
 "nbformat": 4,
 "nbformat_minor": 5
}
