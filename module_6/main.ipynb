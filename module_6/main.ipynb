{
 "cells": [
  {
   "cell_type": "markdown",
   "id": "d82ce9b0",
   "metadata": {},
   "source": [
    "## Импортируем библиотеки"
   ]
  },
  {
   "cell_type": "code",
   "execution_count": 1,
   "id": "b34c190c",
   "metadata": {},
   "outputs": [],
   "source": [
    "import re\n",
    "import time\n",
    "import json\n",
    "import requests\n",
    "import datetime\n",
    "import numpy as np\n",
    "import pandas as pd\n",
    "import seaborn as sns \n",
    "import matplotlib.pyplot as plt\n",
    "\n",
    "from bs4 import BeautifulSoup\n",
    "from sklearn.svm import LinearSVR\n",
    "from catboost import CatBoostRegressor\n",
    "from sklearn.preprocessing import MinMaxScaler\n",
    "from sklearn.model_selection import KFold\n",
    "from sklearn.model_selection import train_test_split\n",
    "from sklearn.neighbors import KNeighborsRegressor\n",
    "from sklearn.linear_model import RidgeCV\n",
    "from sklearn.linear_model import LinearRegression\n",
    "from sklearn.ensemble import StackingRegressor\n",
    "from sklearn.ensemble import RandomForestRegressor\n",
    "from sklearn.ensemble import GradientBoostingRegressor\n",
    "from sklearn.metrics import mean_absolute_percentage_error as mape\n",
    "\n",
    "\n",
    "%matplotlib inline\n",
    "\n",
    "# зафиксируем random_seed b test_size\n",
    "RANDOM_SEED = 42\n",
    "SPLIT_SIZE = 0.20"
   ]
  },
  {
   "cell_type": "markdown",
   "id": "05af1215",
   "metadata": {},
   "source": [
    "#### Задаём headers для парсинга"
   ]
  },
  {
   "cell_type": "code",
   "execution_count": 2,
   "id": "581205ca",
   "metadata": {},
   "outputs": [],
   "source": [
    "headers = {\n",
    "'Host' : 'auto.ru',\n",
    "'User-Agent' : 'Mozilla/5.0 (X11; Fedora; Linux x86_64; rv:94.0) Gecko/20100101 Firefox/94.0',\n",
    "'Accept' : 'text/html,application/xhtml+xml,application/xml;q=0.9,image/avif,image/webp,*/*;q=0.8',\n",
    "'Accept-Language' : 'en-US,en;q=0.5',\n",
    "'Accept-Encoding' : 'gzip, deflate, br',\n",
    "'Connection' : 'keep-alive',\n",
    "'Cookie' : 'autoru_gdpr=1; suid=bc8be712d638a08131a6e9e0d202d740.c5b54afb905b8c06122ab3a791bcd52b; yandexuid=2760879651631376416; my=YysBAgA%3D; counter_ga_all7=2; credit_filter_promo_popup_closed=true; bltsr=1; autoru-visits-count=5; autoru_sid=a%3Ag619130a126cnq19ulaaft362m5p2vb2.ce95d73e09b71591f2b431378fbd3c26%7C1637509921806.604800.1BSyVNdQ_Jgiakk7ftwSsg.rxF87OjlP3hNehiaJwY7hz1CT9Y7Izf61mSqV5Ly0C8; autoruuid=g619130a126cnq19ulaaft362m5p2vb2.ce95d73e09b71591f2b431378fbd3c26; crookie=jpj0jVvWTMkqF2bLNEjq1Sm8BK5liRI8I2IDRbmuxJB1Z9qhACbqZpnyGeU1riNvks6acZdg/tULhikIF+VQKxi5Ddo=; deal_million_popup_page_seen=-1; credit_modal_autoshow_closed=true; _yasc=BXlfPgARlvaqwGCFNYlOD81UvI/rudyiPXKWSUFuIbFRxQ==; _csrf_token=cd33b362bade8bf97053fcccb6e8a730d67cea3890bc13dd; from_lifetime=1637870096528; from=direct; safe_deal_promo=0; yuidlt=1; cmtchd=MTYzNzg2MjAxMjI2OQ==; X-Vertis-DC=sas; los=1',\n",
    "'Upgrade-Insecure-Requests' : '1',\n",
    "'Sec-Fetch-Dest' : 'document',\n",
    "'Sec-Fetch-Mode' : 'navigate',\n",
    "'Sec-Fetch-Site' : 'none',\n",
    "'Sec-Fetch-User' : '?1'\n",
    "}\n",
    "page_suffix = '?page='"
   ]
  },
  {
   "cell_type": "markdown",
   "id": "6b57c661",
   "metadata": {},
   "source": [
    "интересующие нас колонки из test.csv"
   ]
  },
  {
   "cell_type": "code",
   "execution_count": 3,
   "id": "0d75af13",
   "metadata": {},
   "outputs": [],
   "source": [
    "perks = ['Владельцы', 'Владение', 'ПТС', 'Привод', 'Руль', 'Состояние', 'Таможня', 'bodyType', 'brand', 'color', 'complectation_dict', 'description', 'engineDisplacement', \n",
    "      'enginePower', 'equipment_dict', 'fuelType', 'image', 'mileage', 'modelDate', 'model_info', 'model_name', \n",
    "      'name', 'numberOfDoors', 'parsing_unixtime', 'priceCurrency', 'productionDate', 'sell_id', 'super_gen', \n",
    "      'vehicleConfiguration', 'vehicleTransmission', 'vendor', 'car_url']"
   ]
  },
  {
   "cell_type": "markdown",
   "id": "de943d0e",
   "metadata": {},
   "source": [
    "#### Определяем функцию для парсинга страниц с сайта auto.ru"
   ]
  },
  {
   "cell_type": "code",
   "execution_count": 4,
   "id": "bf0ae443",
   "metadata": {},
   "outputs": [],
   "source": [
    "def get_ad_info(url, headers, characteristics):\n",
    "    ad_info = dict()   \n",
    "    r = requests.get(url, headers=headers)\n",
    "    html = BeautifulSoup(r.content, 'html.parser')\n",
    "    for li in html.find_all('li', 'CardInfoRow'):\n",
    "        var1, var2 = tuple(li.children)\n",
    "        key = var1.string\n",
    "        value = var2.string\n",
    "        if key in perks[:7]:\n",
    "            ad_info[key] = value\n",
    "    \n",
    "    try:\n",
    "        j1 = json.loads(html.script.string)\n",
    "    except:\n",
    "        return\n",
    "    \n",
    "    try:\n",
    "        j2 = json.loads(html.find('script', id=\"initial-state\").string)\n",
    "    except:\n",
    "        return\n",
    "        \n",
    "    for k in set(perks).intersection(set(j1)):\n",
    "        ad_info[k] = j1[k]\n",
    "\n",
    "    for l in set(perks).intersection(j1['vehicleEngine']):\n",
    "        try:\n",
    "            ad_info[l] = j1['vehicleEngine'][l]\n",
    "        except:\n",
    "            pass\n",
    "\n",
    "    for m in set(perks).intersection(j2['card']['state']):\n",
    "        try:\n",
    "            ad_info[m] = j2['card']['state'][m]\n",
    "        except:\n",
    "            pass\n",
    "\n",
    "    try: \n",
    "        ad_info['equipment_dict'] = j2['card']['vehicle_info']['equipment'] \n",
    "    except: \n",
    "        pass\n",
    "    \n",
    "    try: \n",
    "        ad_info['complectation_dict'] = j2['card']['vehicle_info']['complectation'] \n",
    "    except: \n",
    "        pass\n",
    "    \n",
    "    try: \n",
    "        ad_info['model_info'] = j2['card']['vehicle_info']['model_info'] \n",
    "    except: \n",
    "        pass\n",
    "    \n",
    "    try: \n",
    "        ad_info['model_name'] = j2['card']['vehicle_info']['model_info']['name'] \n",
    "    except: \n",
    "        pass\n",
    "    \n",
    "    try: \n",
    "        ad_info['super_gen'] = j2['card']['vehicle_info']['super_gen'] \n",
    "    except: \n",
    "        pass\n",
    "    \n",
    "    try: \n",
    "        ad_info['vendor'] = j2['card']['vehicle_info']['vendor'] \n",
    "    except: \n",
    "        pass\n",
    "    \n",
    "    try: \n",
    "        ad_info['sell_id'] = j2['card']['saleId'] \n",
    "    except: \n",
    "        pass\n",
    "    \n",
    "\n",
    "    try: \n",
    "        ad_info['price'] = j1['offers']['price'] \n",
    "    except: \n",
    "        pass\n",
    "    \n",
    "    try: \n",
    "        ad_info['priceCurrency'] = j1['offers']['priceCurrency'] \n",
    "    except: \n",
    "        pass\n",
    "    \n",
    "    try: \n",
    "        ad_info['car_url'] = j1['offers']['url'] \n",
    "    except: \n",
    "        pass\n",
    "    \n",
    "\n",
    "    ad_info['parsing_unixtime'] = time.time()\n",
    "\n",
    "    return ad_info"
   ]
  },
  {
   "cell_type": "markdown",
   "id": "edc6e1cf",
   "metadata": {},
   "source": [
    "#### Задаём список производителей автомобилей"
   ]
  },
  {
   "cell_type": "markdown",
   "id": "f9d60077",
   "metadata": {},
   "source": [
    "Auto.ru выдает только первые 99 страниц, поэтому приходится задавать производителей вручную. Иначе будут спарсены 99 страниц (~3300 записей), которые не передают всей картины ценообразования."
   ]
  },
  {
   "cell_type": "code",
   "execution_count": null,
   "id": "8d83fb3c",
   "metadata": {},
   "outputs": [],
   "source": [
    "time_start = datetime.datetime.now()\n",
    "makes = ['', 'renault', 'toyota', 'mercedes', 'audi', 'hyundai', 'ford', 'vaz', 'chevrolet', 'mitsubishi', 'volkswagen']\n",
    "for make in makes:\n",
    "    df = pd.DataFrame(columns=perks)\n",
    "    print(f'{make=}')\n",
    "    url = 'https://auto.ru/cars/' + make + '/all/'\n",
    "    rng = range(1, 100)\n",
    "    for page_num in rng:\n",
    "        if page_num <=1:\n",
    "            page_url = url\n",
    "        else:\n",
    "            page_url = url + page_suffix + str(page_num)\n",
    "        res = requests.get(page_url, headers=headers)\n",
    "        code = BeautifulSoup(res.content, 'html.parser')\n",
    "        ad_links = code.find_all(\"a\", class_=\"ListingItemTitle__link\")\n",
    "        for l in ad_links:\n",
    "            link = l['href']\n",
    "            car_info = get_ad_info(link, headers, perks)\n",
    "            if car_info is None:\n",
    "                pass\n",
    "            else:\n",
    "                df = df.append(car_info, ignore_index=True,)\n",
    "            time.sleep(0.5)\n",
    "    time_passed = datetime.datetime.now() - time_start\n",
    "    print(f'{time_passed=}')\n",
    "    df.to_csv('project6' + make + '.csv')"
   ]
  },
  {
   "cell_type": "markdown",
   "id": "aae6476e",
   "metadata": {},
   "source": [
    "# Работа с данными"
   ]
  },
  {
   "cell_type": "markdown",
   "id": "c55d68e6",
   "metadata": {},
   "source": [
    "Из-за нестабильного интернета, первые файлы получились разбиты между собой. Импортируем всю собранную информацию."
   ]
  },
  {
   "cell_type": "code",
   "execution_count": 5,
   "id": "bd576df0",
   "metadata": {},
   "outputs": [
    {
     "name": "stdout",
     "output_type": "stream",
     "text": [
      "<class 'pandas.core.frame.DataFrame'>\n",
      "RangeIndex: 25711 entries, 0 to 25710\n",
      "Data columns (total 35 columns):\n",
      " #   Column                Non-Null Count  Dtype  \n",
      "---  ------                --------------  -----  \n",
      " 0   index                 25711 non-null  int64  \n",
      " 1   Unnamed: 0            25711 non-null  object \n",
      " 2   Владельцы             19388 non-null  object \n",
      " 3   Владение              2893 non-null   object \n",
      " 4   ПТС                   19388 non-null  object \n",
      " 5   Привод                19388 non-null  object \n",
      " 6   Руль                  19388 non-null  object \n",
      " 7   Состояние             19388 non-null  object \n",
      " 8   Таможня               19388 non-null  object \n",
      " 9   bodyType              25711 non-null  object \n",
      " 10  brand                 25711 non-null  object \n",
      " 11  color                 25711 non-null  object \n",
      " 12  complectation_dict    25708 non-null  object \n",
      " 13  description           25711 non-null  object \n",
      " 14  engineDisplacement    25711 non-null  object \n",
      " 15  enginePower           25711 non-null  object \n",
      " 16  equipment_dict        25711 non-null  object \n",
      " 17  fuelType              25711 non-null  object \n",
      " 18  image                 25711 non-null  object \n",
      " 19  mileage               25711 non-null  object \n",
      " 20  modelDate             25711 non-null  object \n",
      " 21  model_info            25711 non-null  object \n",
      " 22  model_name            25711 non-null  object \n",
      " 23  name                  25711 non-null  object \n",
      " 24  numberOfDoors         25711 non-null  object \n",
      " 25  parsing_unixtime      25711 non-null  float64\n",
      " 26  priceCurrency         25711 non-null  object \n",
      " 27  productionDate        25711 non-null  object \n",
      " 28  sell_id               25711 non-null  object \n",
      " 29  super_gen             25711 non-null  object \n",
      " 30  vehicleConfiguration  25711 non-null  object \n",
      " 31  vehicleTransmission   25711 non-null  object \n",
      " 32  vendor                25706 non-null  object \n",
      " 33  car_url               25711 non-null  object \n",
      " 34  price                 25459 non-null  float64\n",
      "dtypes: float64(2), int64(1), object(32)\n",
      "memory usage: 6.9+ MB\n"
     ]
    }
   ],
   "source": [
    "df = pd.read_csv('project6.csv')\n",
    "df = df.append(pd.read_csv('project6audi.csv'))\n",
    "df = df.append(pd.read_csv('project6_ford_1.csv'))\n",
    "df = df.append(pd.read_csv('project6_ford_3.csv'))\n",
    "df = df.append(pd.read_csv('project6_ford_4.csv'))\n",
    "df = df.append(pd.read_csv('project6hyundai.csv'))\n",
    "df = df.append(pd.read_csv('project6mercedes.csv'))\n",
    "df = df.append(pd.read_csv('project6renault.csv'))\n",
    "df = df.append(pd.read_csv('project6toyota.csv'))\n",
    "df = df.append(pd.read_csv('project6vaz.csv'))\n",
    "df.reset_index(inplace=True)\n",
    "df.info()"
   ]
  },
  {
   "cell_type": "code",
   "execution_count": 6,
   "id": "aff9b1ad",
   "metadata": {},
   "outputs": [
    {
     "name": "stdout",
     "output_type": "stream",
     "text": [
      "<class 'pandas.core.frame.DataFrame'>\n",
      "Int64Index: 60397 entries, 0 to 34685\n",
      "Data columns (total 36 columns):\n",
      " #   Column                Non-Null Count  Dtype  \n",
      "---  ------                --------------  -----  \n",
      " 0   index                 25711 non-null  float64\n",
      " 1   Unnamed: 0            25711 non-null  object \n",
      " 2   Владельцы             54074 non-null  object \n",
      " 3   Владение              14888 non-null  object \n",
      " 4   ПТС                   54073 non-null  object \n",
      " 5   Привод                54074 non-null  object \n",
      " 6   Руль                  54074 non-null  object \n",
      " 7   Состояние             54074 non-null  object \n",
      " 8   Таможня               54074 non-null  object \n",
      " 9   bodyType              60397 non-null  object \n",
      " 10  brand                 60397 non-null  object \n",
      " 11  color                 60397 non-null  object \n",
      " 12  complectation_dict    32126 non-null  object \n",
      " 13  description           60397 non-null  object \n",
      " 14  engineDisplacement    60397 non-null  object \n",
      " 15  enginePower           60397 non-null  object \n",
      " 16  equipment_dict        50401 non-null  object \n",
      " 17  fuelType              60397 non-null  object \n",
      " 18  image                 60397 non-null  object \n",
      " 19  mileage               60397 non-null  object \n",
      " 20  modelDate             60397 non-null  object \n",
      " 21  model_info            60397 non-null  object \n",
      " 22  model_name            60397 non-null  object \n",
      " 23  name                  60397 non-null  object \n",
      " 24  numberOfDoors         60397 non-null  object \n",
      " 25  parsing_unixtime      60397 non-null  float64\n",
      " 26  priceCurrency         60397 non-null  object \n",
      " 27  productionDate        60397 non-null  object \n",
      " 28  sell_id               60397 non-null  object \n",
      " 29  super_gen             60397 non-null  object \n",
      " 30  vehicleConfiguration  60397 non-null  object \n",
      " 31  vehicleTransmission   60397 non-null  object \n",
      " 32  vendor                60392 non-null  object \n",
      " 33  car_url               60397 non-null  object \n",
      " 34  price                 25459 non-null  float64\n",
      " 35  train                 60397 non-null  int64  \n",
      "dtypes: float64(3), int64(1), object(32)\n",
      "memory usage: 17.0+ MB\n"
     ]
    }
   ],
   "source": [
    "# Отмечаем 0 тестовые данные, и 1 - данные, на которых мы будем тренироваться.\n",
    "df['train'] = 1\n",
    "\n",
    "df_test = pd.read_csv('test.csv')\n",
    "df_test['train'] = 0\n",
    "df = df.append(df_test)\n",
    "\n",
    "df.info()"
   ]
  },
  {
   "cell_type": "code",
   "execution_count": 7,
   "id": "eaeab991",
   "metadata": {},
   "outputs": [
    {
     "data": {
      "text/plain": [
       "(34686, 36)"
      ]
     },
     "execution_count": 7,
     "metadata": {},
     "output_type": "execute_result"
    }
   ],
   "source": [
    "df.loc[df['train'] == 0].shape"
   ]
  },
  {
   "cell_type": "code",
   "execution_count": 8,
   "id": "44914536",
   "metadata": {},
   "outputs": [
    {
     "data": {
      "text/plain": [
       "Index(['index', 'Unnamed: 0', 'Владельцы', 'Владение', 'ПТС', 'Привод', 'Руль',\n",
       "       'Состояние', 'Таможня', 'bodyType', 'brand', 'color',\n",
       "       'complectation_dict', 'description', 'engineDisplacement',\n",
       "       'enginePower', 'equipment_dict', 'fuelType', 'image', 'mileage',\n",
       "       'modelDate', 'model_info', 'model_name', 'name', 'numberOfDoors',\n",
       "       'parsing_unixtime', 'priceCurrency', 'productionDate', 'sell_id',\n",
       "       'super_gen', 'vehicleConfiguration', 'vehicleTransmission', 'vendor',\n",
       "       'car_url', 'price', 'train'],\n",
       "      dtype='object')"
      ]
     },
     "execution_count": 8,
     "metadata": {},
     "output_type": "execute_result"
    }
   ],
   "source": [
    "df.columns"
   ]
  },
  {
   "cell_type": "code",
   "execution_count": 9,
   "id": "95f262e2",
   "metadata": {
    "scrolled": true
   },
   "outputs": [
    {
     "data": {
      "text/html": [
       "<div>\n",
       "<style scoped>\n",
       "    .dataframe tbody tr th:only-of-type {\n",
       "        vertical-align: middle;\n",
       "    }\n",
       "\n",
       "    .dataframe tbody tr th {\n",
       "        vertical-align: top;\n",
       "    }\n",
       "\n",
       "    .dataframe thead th {\n",
       "        text-align: right;\n",
       "    }\n",
       "</style>\n",
       "<table border=\"1\" class=\"dataframe\">\n",
       "  <thead>\n",
       "    <tr style=\"text-align: right;\">\n",
       "      <th></th>\n",
       "      <th>index</th>\n",
       "      <th>Unnamed: 0</th>\n",
       "      <th>Владельцы</th>\n",
       "      <th>Владение</th>\n",
       "      <th>ПТС</th>\n",
       "      <th>Привод</th>\n",
       "      <th>Руль</th>\n",
       "      <th>Состояние</th>\n",
       "      <th>Таможня</th>\n",
       "      <th>bodyType</th>\n",
       "      <th>...</th>\n",
       "      <th>priceCurrency</th>\n",
       "      <th>productionDate</th>\n",
       "      <th>sell_id</th>\n",
       "      <th>super_gen</th>\n",
       "      <th>vehicleConfiguration</th>\n",
       "      <th>vehicleTransmission</th>\n",
       "      <th>vendor</th>\n",
       "      <th>car_url</th>\n",
       "      <th>price</th>\n",
       "      <th>train</th>\n",
       "    </tr>\n",
       "  </thead>\n",
       "  <tbody>\n",
       "    <tr>\n",
       "      <th>11021</th>\n",
       "      <td>NaN</td>\n",
       "      <td>NaN</td>\n",
       "      <td>3 или более</td>\n",
       "      <td>NaN</td>\n",
       "      <td>Дубликат</td>\n",
       "      <td>задний</td>\n",
       "      <td>Левый</td>\n",
       "      <td>Не требует ремонта</td>\n",
       "      <td>Растаможен</td>\n",
       "      <td>седан</td>\n",
       "      <td>...</td>\n",
       "      <td>RUB</td>\n",
       "      <td>2007</td>\n",
       "      <td>1089688733</td>\n",
       "      <td>{\"id\":\"20389997\",\"name\":\"530\",\"nameplate\":\"530...</td>\n",
       "      <td>SEDAN AUTOMATIC 3.0</td>\n",
       "      <td>автоматическая</td>\n",
       "      <td>EUROPEAN</td>\n",
       "      <td>https://auto.ru/cars/used/sale/bmw/5er/1089688...</td>\n",
       "      <td>NaN</td>\n",
       "      <td>0</td>\n",
       "    </tr>\n",
       "    <tr>\n",
       "      <th>14666</th>\n",
       "      <td>3668.0</td>\n",
       "      <td>3668</td>\n",
       "      <td>1 владелец</td>\n",
       "      <td>NaN</td>\n",
       "      <td>Оригинал</td>\n",
       "      <td>полный</td>\n",
       "      <td>Левый</td>\n",
       "      <td>Не требует ремонта</td>\n",
       "      <td>Растаможен</td>\n",
       "      <td>внедорожник 5 дв.</td>\n",
       "      <td>...</td>\n",
       "      <td>RUB</td>\n",
       "      <td>2020</td>\n",
       "      <td>1106011357-8d7f507b</td>\n",
       "      <td>{'id': '21558856', 'name': 'I (X253) Рестайлин...</td>\n",
       "      <td>ALLROAD_5_DOORS AUTOMATIC 2.0</td>\n",
       "      <td>автоматическая</td>\n",
       "      <td>EUROPEAN</td>\n",
       "      <td>https://auto.ru/cars/used/sale/mercedes/glc_kl...</td>\n",
       "      <td>3880000.0</td>\n",
       "      <td>1</td>\n",
       "    </tr>\n",
       "    <tr>\n",
       "      <th>17354</th>\n",
       "      <td>2668.0</td>\n",
       "      <td>2668</td>\n",
       "      <td>NaN</td>\n",
       "      <td>NaN</td>\n",
       "      <td>NaN</td>\n",
       "      <td>NaN</td>\n",
       "      <td>NaN</td>\n",
       "      <td>NaN</td>\n",
       "      <td>NaN</td>\n",
       "      <td>внедорожник 5 дв.</td>\n",
       "      <td>...</td>\n",
       "      <td>RUB</td>\n",
       "      <td>2021</td>\n",
       "      <td>1105558777-93c38add</td>\n",
       "      <td>{'id': '21570852', 'name': 'I', 'ru_name': '1'...</td>\n",
       "      <td>ALLROAD_5_DOORS VARIATOR 1.6</td>\n",
       "      <td>вариатор</td>\n",
       "      <td>EUROPEAN</td>\n",
       "      <td>https://auto.ru/cars/new/group/renault/arkana/...</td>\n",
       "      <td>2371900.0</td>\n",
       "      <td>1</td>\n",
       "    </tr>\n",
       "  </tbody>\n",
       "</table>\n",
       "<p>3 rows × 36 columns</p>\n",
       "</div>"
      ],
      "text/plain": [
       "        index Unnamed: 0    Владельцы Владение       ПТС  Привод   Руль  \\\n",
       "11021     NaN        NaN  3 или более      NaN  Дубликат  задний  Левый   \n",
       "14666  3668.0       3668   1 владелец      NaN  Оригинал  полный  Левый   \n",
       "17354  2668.0       2668          NaN      NaN       NaN     NaN    NaN   \n",
       "\n",
       "                Состояние     Таможня           bodyType  ... priceCurrency  \\\n",
       "11021  Не требует ремонта  Растаможен              седан  ...           RUB   \n",
       "14666  Не требует ремонта  Растаможен  внедорожник 5 дв.  ...           RUB   \n",
       "17354                 NaN         NaN  внедорожник 5 дв.  ...           RUB   \n",
       "\n",
       "      productionDate              sell_id  \\\n",
       "11021           2007           1089688733   \n",
       "14666           2020  1106011357-8d7f507b   \n",
       "17354           2021  1105558777-93c38add   \n",
       "\n",
       "                                               super_gen  \\\n",
       "11021  {\"id\":\"20389997\",\"name\":\"530\",\"nameplate\":\"530...   \n",
       "14666  {'id': '21558856', 'name': 'I (X253) Рестайлин...   \n",
       "17354  {'id': '21570852', 'name': 'I', 'ru_name': '1'...   \n",
       "\n",
       "                vehicleConfiguration vehicleTransmission    vendor  \\\n",
       "11021            SEDAN AUTOMATIC 3.0      автоматическая  EUROPEAN   \n",
       "14666  ALLROAD_5_DOORS AUTOMATIC 2.0      автоматическая  EUROPEAN   \n",
       "17354   ALLROAD_5_DOORS VARIATOR 1.6            вариатор  EUROPEAN   \n",
       "\n",
       "                                                 car_url      price train  \n",
       "11021  https://auto.ru/cars/used/sale/bmw/5er/1089688...        NaN     0  \n",
       "14666  https://auto.ru/cars/used/sale/mercedes/glc_kl...  3880000.0     1  \n",
       "17354  https://auto.ru/cars/new/group/renault/arkana/...  2371900.0     1  \n",
       "\n",
       "[3 rows x 36 columns]"
      ]
     },
     "execution_count": 9,
     "metadata": {},
     "output_type": "execute_result"
    }
   ],
   "source": [
    "df.sample(3)"
   ]
  },
  {
   "cell_type": "markdown",
   "id": "737907eb",
   "metadata": {},
   "source": [
    "Выделим признаки, с которыми будем работать. \n",
    "Убираем колонку \"Владение\", т.к. очень мало информации, и modelDate, она будет коррелировать с датой выпуска.\n",
    "'vehicleConfiguration' и 'name' также удаляем, т.к. они состоят уже из имеющейся у нас информации. \n",
    "Удалим признак brand так как мы задаём марки автомобилей самостоятельно, то есть в тестовом наборе могут быть модели, которых нет у нас в наборе."
   ]
  },
  {
   "cell_type": "code",
   "execution_count": 10,
   "id": "6ebe5e4b",
   "metadata": {},
   "outputs": [],
   "source": [
    "columns = ['sell_id','Владельцы','ПТС','Таможня','Привод','Руль','Состояние','mileage','bodyType',\n",
    "           'color','engineDisplacement','enginePower', 'fuelType','vehicleTransmission','numberOfDoors',\n",
    "           'productionDate','vendor','price', 'train']"
   ]
  },
  {
   "cell_type": "code",
   "execution_count": 11,
   "id": "c212661f",
   "metadata": {
    "scrolled": true
   },
   "outputs": [
    {
     "data": {
      "text/html": [
       "<div>\n",
       "<style scoped>\n",
       "    .dataframe tbody tr th:only-of-type {\n",
       "        vertical-align: middle;\n",
       "    }\n",
       "\n",
       "    .dataframe tbody tr th {\n",
       "        vertical-align: top;\n",
       "    }\n",
       "\n",
       "    .dataframe thead th {\n",
       "        text-align: right;\n",
       "    }\n",
       "</style>\n",
       "<table border=\"1\" class=\"dataframe\">\n",
       "  <thead>\n",
       "    <tr style=\"text-align: right;\">\n",
       "      <th></th>\n",
       "      <th>sell_id</th>\n",
       "      <th>Владельцы</th>\n",
       "      <th>ПТС</th>\n",
       "      <th>Таможня</th>\n",
       "      <th>Привод</th>\n",
       "      <th>Руль</th>\n",
       "      <th>Состояние</th>\n",
       "      <th>mileage</th>\n",
       "      <th>bodyType</th>\n",
       "      <th>color</th>\n",
       "      <th>engineDisplacement</th>\n",
       "      <th>enginePower</th>\n",
       "      <th>fuelType</th>\n",
       "      <th>vehicleTransmission</th>\n",
       "      <th>numberOfDoors</th>\n",
       "      <th>productionDate</th>\n",
       "      <th>vendor</th>\n",
       "      <th>price</th>\n",
       "      <th>train</th>\n",
       "    </tr>\n",
       "  </thead>\n",
       "  <tbody>\n",
       "    <tr>\n",
       "      <th>0</th>\n",
       "      <td>1105852895-ec19225f</td>\n",
       "      <td>2 владельца</td>\n",
       "      <td>Оригинал</td>\n",
       "      <td>Растаможен</td>\n",
       "      <td>полный</td>\n",
       "      <td>Левый</td>\n",
       "      <td>Не требует ремонта</td>\n",
       "      <td>89820</td>\n",
       "      <td>внедорожник 5 дв.</td>\n",
       "      <td>серый</td>\n",
       "      <td>2.0 LTR</td>\n",
       "      <td>225 N12</td>\n",
       "      <td>бензин</td>\n",
       "      <td>автоматическая</td>\n",
       "      <td>5</td>\n",
       "      <td>2013</td>\n",
       "      <td>EUROPEAN</td>\n",
       "      <td>1475000.0</td>\n",
       "      <td>1</td>\n",
       "    </tr>\n",
       "    <tr>\n",
       "      <th>1</th>\n",
       "      <td>1106089948-6939140b</td>\n",
       "      <td>2 владельца</td>\n",
       "      <td>Оригинал</td>\n",
       "      <td>Растаможен</td>\n",
       "      <td>передний</td>\n",
       "      <td>Левый</td>\n",
       "      <td>Не требует ремонта</td>\n",
       "      <td>94140</td>\n",
       "      <td>универсал 5 дв.</td>\n",
       "      <td>чёрный</td>\n",
       "      <td>2.0 LTR</td>\n",
       "      <td>190 N12</td>\n",
       "      <td>дизель</td>\n",
       "      <td>роботизированная</td>\n",
       "      <td>5</td>\n",
       "      <td>2017</td>\n",
       "      <td>EUROPEAN</td>\n",
       "      <td>2500000.0</td>\n",
       "      <td>1</td>\n",
       "    </tr>\n",
       "    <tr>\n",
       "      <th>2</th>\n",
       "      <td>1105739198-8ae650ca</td>\n",
       "      <td>NaN</td>\n",
       "      <td>NaN</td>\n",
       "      <td>NaN</td>\n",
       "      <td>NaN</td>\n",
       "      <td>NaN</td>\n",
       "      <td>NaN</td>\n",
       "      <td>0</td>\n",
       "      <td>лифтбек</td>\n",
       "      <td>синий</td>\n",
       "      <td>2.0 LTR</td>\n",
       "      <td>245 N12</td>\n",
       "      <td>бензин</td>\n",
       "      <td>роботизированная</td>\n",
       "      <td>5</td>\n",
       "      <td>2021</td>\n",
       "      <td>EUROPEAN</td>\n",
       "      <td>7927100.0</td>\n",
       "      <td>1</td>\n",
       "    </tr>\n",
       "    <tr>\n",
       "      <th>3</th>\n",
       "      <td>1105958789-92478ba6</td>\n",
       "      <td>2 владельца</td>\n",
       "      <td>Оригинал</td>\n",
       "      <td>Растаможен</td>\n",
       "      <td>полный</td>\n",
       "      <td>Левый</td>\n",
       "      <td>Не требует ремонта</td>\n",
       "      <td>119520</td>\n",
       "      <td>лифтбек</td>\n",
       "      <td>чёрный</td>\n",
       "      <td>2.0 LTR</td>\n",
       "      <td>211 N12</td>\n",
       "      <td>бензин</td>\n",
       "      <td>роботизированная</td>\n",
       "      <td>5</td>\n",
       "      <td>2013</td>\n",
       "      <td>EUROPEAN</td>\n",
       "      <td>1345000.0</td>\n",
       "      <td>1</td>\n",
       "    </tr>\n",
       "    <tr>\n",
       "      <th>4</th>\n",
       "      <td>1105279368-cd1d19a8</td>\n",
       "      <td>NaN</td>\n",
       "      <td>NaN</td>\n",
       "      <td>NaN</td>\n",
       "      <td>NaN</td>\n",
       "      <td>NaN</td>\n",
       "      <td>NaN</td>\n",
       "      <td>0</td>\n",
       "      <td>внедорожник 5 дв.</td>\n",
       "      <td>белый</td>\n",
       "      <td>2.0 LTR</td>\n",
       "      <td>249 N12</td>\n",
       "      <td>бензин</td>\n",
       "      <td>роботизированная</td>\n",
       "      <td>5</td>\n",
       "      <td>2021</td>\n",
       "      <td>EUROPEAN</td>\n",
       "      <td>5176300.0</td>\n",
       "      <td>1</td>\n",
       "    </tr>\n",
       "  </tbody>\n",
       "</table>\n",
       "</div>"
      ],
      "text/plain": [
       "               sell_id    Владельцы       ПТС     Таможня    Привод   Руль  \\\n",
       "0  1105852895-ec19225f  2 владельца  Оригинал  Растаможен    полный  Левый   \n",
       "1  1106089948-6939140b  2 владельца  Оригинал  Растаможен  передний  Левый   \n",
       "2  1105739198-8ae650ca          NaN       NaN         NaN       NaN    NaN   \n",
       "3  1105958789-92478ba6  2 владельца  Оригинал  Растаможен    полный  Левый   \n",
       "4  1105279368-cd1d19a8          NaN       NaN         NaN       NaN    NaN   \n",
       "\n",
       "            Состояние mileage           bodyType   color engineDisplacement  \\\n",
       "0  Не требует ремонта   89820  внедорожник 5 дв.   серый            2.0 LTR   \n",
       "1  Не требует ремонта   94140    универсал 5 дв.  чёрный            2.0 LTR   \n",
       "2                 NaN       0            лифтбек   синий            2.0 LTR   \n",
       "3  Не требует ремонта  119520            лифтбек  чёрный            2.0 LTR   \n",
       "4                 NaN       0  внедорожник 5 дв.   белый            2.0 LTR   \n",
       "\n",
       "  enginePower fuelType vehicleTransmission numberOfDoors productionDate  \\\n",
       "0     225 N12   бензин      автоматическая             5           2013   \n",
       "1     190 N12   дизель    роботизированная             5           2017   \n",
       "2     245 N12   бензин    роботизированная             5           2021   \n",
       "3     211 N12   бензин    роботизированная             5           2013   \n",
       "4     249 N12   бензин    роботизированная             5           2021   \n",
       "\n",
       "     vendor      price  train  \n",
       "0  EUROPEAN  1475000.0      1  \n",
       "1  EUROPEAN  2500000.0      1  \n",
       "2  EUROPEAN  7927100.0      1  \n",
       "3  EUROPEAN  1345000.0      1  \n",
       "4  EUROPEAN  5176300.0      1  "
      ]
     },
     "execution_count": 11,
     "metadata": {},
     "output_type": "execute_result"
    }
   ],
   "source": [
    "df = df[columns]\n",
    "df.head()"
   ]
  },
  {
   "cell_type": "markdown",
   "id": "6b5f756b",
   "metadata": {},
   "source": [
    "#### Удалим дубликаты, которые образовались из-за перезапуска парсинга вследствии обрыва связи."
   ]
  },
  {
   "cell_type": "code",
   "execution_count": 12,
   "id": "fc1be6ea",
   "metadata": {},
   "outputs": [],
   "source": [
    "df.drop_duplicates(subset=['sell_id'], inplace=True)"
   ]
  },
  {
   "cell_type": "code",
   "execution_count": 13,
   "id": "33a66098",
   "metadata": {},
   "outputs": [
    {
     "name": "stdout",
     "output_type": "stream",
     "text": [
      "<class 'pandas.core.frame.DataFrame'>\n",
      "Int64Index: 58136 entries, 0 to 34685\n",
      "Data columns (total 19 columns):\n",
      " #   Column               Non-Null Count  Dtype  \n",
      "---  ------               --------------  -----  \n",
      " 0   sell_id              58136 non-null  object \n",
      " 1   Владельцы            52616 non-null  object \n",
      " 2   ПТС                  52615 non-null  object \n",
      " 3   Таможня              52616 non-null  object \n",
      " 4   Привод               52616 non-null  object \n",
      " 5   Руль                 52616 non-null  object \n",
      " 6   Состояние            52616 non-null  object \n",
      " 7   mileage              58136 non-null  object \n",
      " 8   bodyType             58136 non-null  object \n",
      " 9   color                58136 non-null  object \n",
      " 10  engineDisplacement   58136 non-null  object \n",
      " 11  enginePower          58136 non-null  object \n",
      " 12  fuelType             58136 non-null  object \n",
      " 13  vehicleTransmission  58136 non-null  object \n",
      " 14  numberOfDoors        58136 non-null  object \n",
      " 15  productionDate       58136 non-null  object \n",
      " 16  vendor               58131 non-null  object \n",
      " 17  price                23198 non-null  float64\n",
      " 18  train                58136 non-null  int64  \n",
      "dtypes: float64(1), int64(1), object(17)\n",
      "memory usage: 8.9+ MB\n"
     ]
    }
   ],
   "source": [
    "df.info()"
   ]
  },
  {
   "cell_type": "markdown",
   "id": "9a516d02",
   "metadata": {},
   "source": [
    "#### Построим график пропусков"
   ]
  },
  {
   "cell_type": "code",
   "execution_count": 14,
   "id": "b1229d57",
   "metadata": {},
   "outputs": [
    {
     "data": {
      "text/plain": [
       "<AxesSubplot:>"
      ]
     },
     "execution_count": 14,
     "metadata": {},
     "output_type": "execute_result"
    },
    {
     "data": {
      "image/png": "[encoded data removed]",
      "text/plain": [
       "<Figure size 2160x2160 with 2 Axes>"
      ]
     },
     "metadata": {
      "needs_background": "light"
     },
     "output_type": "display_data"
    }
   ],
   "source": [
    "plt.subplots(figsize=(30, 30))\n",
    "sns.heatmap(df.isnull())"
   ]
  },
  {
   "cell_type": "markdown",
   "id": "1479291a",
   "metadata": {},
   "source": [
    "#### Удалим записи, где нет цены"
   ]
  },
  {
   "cell_type": "code",
   "execution_count": 15,
   "id": "55c660f9",
   "metadata": {},
   "outputs": [],
   "source": [
    "df_test = df.loc[df['train'] == 0, :]\n",
    "df_train = df.loc[(df['train'] == 1) & (df['price'] > 0), :]"
   ]
  },
  {
   "cell_type": "code",
   "execution_count": 16,
   "id": "cacbc6bb",
   "metadata": {},
   "outputs": [],
   "source": [
    "df = df_test.append(df_train)"
   ]
  },
  {
   "cell_type": "markdown",
   "id": "b77d09bd",
   "metadata": {},
   "source": [
    "#### Смотрим колонку Владельцы"
   ]
  },
  {
   "cell_type": "code",
   "execution_count": 17,
   "id": "df40185a",
   "metadata": {},
   "outputs": [
    {
     "data": {
      "text/plain": [
       "3 или более    22432\n",
       "1 владелец     16531\n",
       "2 владельца    13401\n",
       "Name: Владельцы, dtype: int64"
      ]
     },
     "execution_count": 17,
     "metadata": {},
     "output_type": "execute_result"
    }
   ],
   "source": [
    "df['Владельцы'].value_counts()"
   ]
  },
  {
   "cell_type": "code",
   "execution_count": 18,
   "id": "b278b082",
   "metadata": {},
   "outputs": [],
   "source": [
    "# предположим что пропуски относятся к новым автомобилям, поэтому заполним их \"0\"\n",
    "df['Владельцы'] = df['Владельцы'].fillna(0)"
   ]
  },
  {
   "cell_type": "code",
   "execution_count": 19,
   "id": "f4b8f4b9",
   "metadata": {},
   "outputs": [],
   "source": [
    "# это количественный признак и преобразуем его, оставив только количество владельцев\n",
    "df['Владельцы'] = df['Владельцы'].apply(lambda x: 1 if str(x).startswith('1') else 2 if str(x).startswith('2') else 3 if str(x).startswith('3') else x)"
   ]
  },
  {
   "cell_type": "markdown",
   "id": "b7298508",
   "metadata": {},
   "source": [
    "#### Смотрим колонку ПТС"
   ]
  },
  {
   "cell_type": "code",
   "execution_count": 20,
   "id": "ccf2417d",
   "metadata": {},
   "outputs": [
    {
     "data": {
      "text/plain": [
       "Оригинал    45746\n",
       "Дубликат     6617\n",
       "Name: ПТС, dtype: int64"
      ]
     },
     "execution_count": 20,
     "metadata": {},
     "output_type": "execute_result"
    }
   ],
   "source": [
    "df['ПТС'].value_counts()"
   ]
  },
  {
   "cell_type": "code",
   "execution_count": 21,
   "id": "95ae0fe9",
   "metadata": {
    "scrolled": true
   },
   "outputs": [],
   "source": [
    "# это категориальный признак, преобразуем его\n",
    "df['ПТС'] = df['ПТС'].apply(lambda x: 1 if x == 'Оригинал' else 0)"
   ]
  },
  {
   "cell_type": "markdown",
   "id": "2e71ab4a",
   "metadata": {},
   "source": [
    "#### Смотрим колонку Привод"
   ]
  },
  {
   "cell_type": "code",
   "execution_count": 22,
   "id": "9bf90387",
   "metadata": {},
   "outputs": [
    {
     "data": {
      "text/plain": [
       "передний    25701\n",
       "полный      21586\n",
       "задний       5077\n",
       "Name: Привод, dtype: int64"
      ]
     },
     "execution_count": 22,
     "metadata": {},
     "output_type": "execute_result"
    }
   ],
   "source": [
    "df['Привод'].value_counts()"
   ]
  },
  {
   "cell_type": "code",
   "execution_count": 23,
   "id": "a094fc1b",
   "metadata": {},
   "outputs": [],
   "source": [
    "# применяем get_dummies и удаляем признак \"Привод\"\n",
    "df = pd.concat([df, pd.get_dummies(df['Привод'])], axis=1)\n",
    "df.drop(columns=['Привод'], inplace= True)"
   ]
  },
  {
   "cell_type": "markdown",
   "id": "ecfb687c",
   "metadata": {},
   "source": [
    "#### Смотрим колонку Руль"
   ]
  },
  {
   "cell_type": "code",
   "execution_count": 24,
   "id": "d675f9d8",
   "metadata": {},
   "outputs": [
    {
     "data": {
      "text/plain": [
       "Левый     50643\n",
       "Правый     1721\n",
       "Name: Руль, dtype: int64"
      ]
     },
     "execution_count": 24,
     "metadata": {},
     "output_type": "execute_result"
    }
   ],
   "source": [
    "df['Руль'].value_counts()"
   ]
  },
  {
   "cell_type": "code",
   "execution_count": 25,
   "id": "8726efe7",
   "metadata": {},
   "outputs": [
    {
     "name": "stdout",
     "output_type": "stream",
     "text": [
      "AxesSubplot(0.125,0.125;0.775x0.755)\n"
     ]
    },
    {
     "data": {
      "image/png": "[encoded data removed]",
      "text/plain": [
       "<Figure size 432x288 with 1 Axes>"
      ]
     },
     "metadata": {
      "needs_background": "light"
     },
     "output_type": "display_data"
    }
   ],
   "source": [
    "# Проверим корреляцию стороный руля и страны происхождения. Очевидно, что правосторонний руль у автомобилей произвденных в Японии. \n",
    "print(df['vendor'][df['Руль'] == 'Правый'].hist(bins=100))"
   ]
  },
  {
   "cell_type": "code",
   "execution_count": 26,
   "id": "910a5150",
   "metadata": {},
   "outputs": [],
   "source": [
    "# Заполним nans исходя из предыдущего вывода.\n",
    "def fill_steering(row):\n",
    "    if pd.isnull(row['Руль']) and row['vendor'] == 'JAPANESE':\n",
    "        return 1\n",
    "    elif pd.isnull(row['Руль']) and row['vendor'] != 'JAPANESE':\n",
    "        return 0\n",
    "    elif row['Руль'] == 'Левый':\n",
    "        return 0\n",
    "    elif row['Руль'] == 'Правый':\n",
    "        return 1"
   ]
  },
  {
   "cell_type": "code",
   "execution_count": 27,
   "id": "1fc0eace",
   "metadata": {
    "scrolled": true
   },
   "outputs": [],
   "source": [
    "# преобразуем его, применив функцию\n",
    "df['Руль'] = df.apply(fill_steering, axis=1)"
   ]
  },
  {
   "cell_type": "markdown",
   "id": "cf859123",
   "metadata": {},
   "source": [
    "#### Смотрим колонку Состояние"
   ]
  },
  {
   "cell_type": "code",
   "execution_count": 28,
   "id": "f2e7b8ce",
   "metadata": {},
   "outputs": [
    {
     "data": {
      "text/plain": [
       "Не требует ремонта    52364\n",
       "Name: Состояние, dtype: int64"
      ]
     },
     "execution_count": 28,
     "metadata": {},
     "output_type": "execute_result"
    }
   ],
   "source": [
    "df['Состояние'].value_counts()"
   ]
  },
  {
   "cell_type": "code",
   "execution_count": 29,
   "id": "6bc70639",
   "metadata": {
    "scrolled": true
   },
   "outputs": [],
   "source": [
    "# предположим что пропуски относятся к новым автомобилям, делаем вывод что все автомобили не требуют ремонта, \n",
    "# поэтому удаляем признак\n",
    "df.drop(columns=['Состояние'], inplace= True)"
   ]
  },
  {
   "cell_type": "markdown",
   "id": "d3e5ad05",
   "metadata": {},
   "source": [
    "#### Смотрим колонку Таможня"
   ]
  },
  {
   "cell_type": "code",
   "execution_count": 30,
   "id": "f5b941ba",
   "metadata": {},
   "outputs": [
    {
     "data": {
      "text/plain": [
       "Растаможен    52364\n",
       "Name: Таможня, dtype: int64"
      ]
     },
     "execution_count": 30,
     "metadata": {},
     "output_type": "execute_result"
    }
   ],
   "source": [
    "df['Таможня'].value_counts()"
   ]
  },
  {
   "cell_type": "code",
   "execution_count": 31,
   "id": "5602e3a6",
   "metadata": {},
   "outputs": [],
   "source": [
    "# предположим что пропуски относятся к автомобилям,который растаможен делаем вывод что все автомобили растаможены,\n",
    "# поэтому удаляем признак\n",
    "df.drop(columns=['Таможня'], inplace= True)"
   ]
  },
  {
   "cell_type": "markdown",
   "id": "1ca2a020",
   "metadata": {},
   "source": [
    "#### Смотрим колонку bodyType"
   ]
  },
  {
   "cell_type": "code",
   "execution_count": 32,
   "id": "b3a67d4b",
   "metadata": {},
   "outputs": [
    {
     "data": {
      "text/plain": [
       "внедорожник 5 дв.          21391\n",
       "седан                      21026\n",
       "хэтчбек 5 дв.               4653\n",
       "лифтбек                     2735\n",
       "универсал 5 дв.             2629\n",
       "минивэн                     1471\n",
       "купе                        1202\n",
       "компактвэн                   728\n",
       "хэтчбек 3 дв.                704\n",
       "пикап двойная кабина         400\n",
       "внедорожник 3 дв.            282\n",
       "купе-хардтоп                 204\n",
       "фургон                       157\n",
       "кабриолет                    121\n",
       "родстер                      114\n",
       "седан-хардтоп                 15\n",
       "микровэн                      11\n",
       "пикап полуторная кабина       11\n",
       "лимузин                        8\n",
       "пикап одинарная кабина         8\n",
       "седан 2 дв.                    6\n",
       "внедорожник открытый           3\n",
       "тарга                          2\n",
       "хэтчбек 4 дв.                  2\n",
       "фастбек                        1\n",
       "Name: bodyType, dtype: int64"
      ]
     },
     "execution_count": 32,
     "metadata": {},
     "output_type": "execute_result"
    }
   ],
   "source": [
    "df['bodyType'].value_counts()"
   ]
  },
  {
   "cell_type": "code",
   "execution_count": 33,
   "id": "8f0bdd35",
   "metadata": {},
   "outputs": [],
   "source": [
    "# применяем get_dummies\n",
    "df = pd.concat([df, pd.get_dummies(df['bodyType'])], axis=1)\n",
    "df.drop(columns=['bodyType'], inplace=True)"
   ]
  },
  {
   "cell_type": "markdown",
   "id": "0fe5bc61",
   "metadata": {},
   "source": [
    "#### Смотрим колонку color"
   ]
  },
  {
   "cell_type": "code",
   "execution_count": 34,
   "id": "12ecfec2",
   "metadata": {},
   "outputs": [],
   "source": [
    "df = pd.concat([df, pd.get_dummies(df['color'])], axis=1)\n",
    "df.drop(columns=['color'], inplace= True)"
   ]
  },
  {
   "cell_type": "markdown",
   "id": "bb0bb039",
   "metadata": {},
   "source": [
    "#### Смотрим колонку engineDisplacement"
   ]
  },
  {
   "cell_type": "code",
   "execution_count": 35,
   "id": "189b1bd5",
   "metadata": {},
   "outputs": [
    {
     "data": {
      "text/plain": [
       "1.6 LTR    12786\n",
       "2.0 LTR    12483\n",
       "3.0 LTR     5377\n",
       "1.8 LTR     4409\n",
       "2.5 LTR     3608\n",
       "1.4 LTR     2552\n",
       "3.5 LTR     2389\n",
       "2.4 LTR     2005\n",
       "1.5 LTR     1549\n",
       "1.3 LTR     1003\n",
       "4.0 LTR      817\n",
       "2.8 LTR      690\n",
       "1.2 LTR      536\n",
       "4.5 LTR      536\n",
       "4.7 LTR      522\n",
       "5.5 LTR      520\n",
       "2.1 LTR      515\n",
       "2.2 LTR      489\n",
       "4.4 LTR      447\n",
       "2.3 LTR      440\n",
       "2.9 LTR      424\n",
       "3.2 LTR      388\n",
       "2.7 LTR      367\n",
       "4.2 LTR      303\n",
       "1.7 LTR      289\n",
       "3.7 LTR      255\n",
       "1.9 LTR      239\n",
       "3.6 LTR      202\n",
       "5.0 LTR      190\n",
       "5.6 LTR      171\n",
       "4.6 LTR      164\n",
       "5.7 LTR      153\n",
       " LTR         126\n",
       "3.1 LTR      125\n",
       "1.0 LTR       87\n",
       "4.8 LTR       84\n",
       "2.6 LTR       76\n",
       "3.8 LTR       69\n",
       "6.0 LTR       66\n",
       "3.3 LTR       54\n",
       "5.4 LTR       53\n",
       "0.7 LTR       53\n",
       "3.4 LTR       51\n",
       "4.1 LTR       43\n",
       "6.2 LTR       37\n",
       "4.3 LTR       35\n",
       "5.2 LTR       23\n",
       "5.9 LTR       21\n",
       "1.1 LTR       12\n",
       "5.8 LTR       12\n",
       "6.3 LTR       11\n",
       "0.8 LTR        8\n",
       "4.9 LTR        7\n",
       "6.6 LTR        6\n",
       "6.1 LTR        3\n",
       "6.8 LTR        2\n",
       "5.3 LTR        1\n",
       "3.9 LTR        1\n",
       "Name: engineDisplacement, dtype: int64"
      ]
     },
     "execution_count": 35,
     "metadata": {},
     "output_type": "execute_result"
    }
   ],
   "source": [
    "df['engineDisplacement'].value_counts()"
   ]
  },
  {
   "cell_type": "code",
   "execution_count": 36,
   "id": "293b0248",
   "metadata": {},
   "outputs": [],
   "source": [
    "# Преобразуем признак в численный и сразу же удаляем пропуски\n",
    "df['engineDisplacement'] = df['engineDisplacement'].apply(lambda x: float(str(x).replace('LTR', '')) if str(x).replace('LTR', '').strip() != '' else 1.6)"
   ]
  },
  {
   "cell_type": "code",
   "execution_count": 37,
   "id": "6bbb096e",
   "metadata": {},
   "outputs": [],
   "source": [
    "df.dropna(subset=['engineDisplacement'],inplace = True)"
   ]
  },
  {
   "cell_type": "code",
   "execution_count": 38,
   "id": "a0825153",
   "metadata": {},
   "outputs": [
    {
     "data": {
      "text/plain": [
       "(34686, 56)"
      ]
     },
     "execution_count": 38,
     "metadata": {},
     "output_type": "execute_result"
    }
   ],
   "source": [
    "# Целевые тестовые данные\n",
    "XX = df.loc[df['train'] == 0].drop(columns=['price', 'sell_id'])\n",
    "XX.shape"
   ]
  },
  {
   "cell_type": "markdown",
   "id": "9998bec9",
   "metadata": {},
   "source": [
    "#### Смотрим колонку enginePower"
   ]
  },
  {
   "cell_type": "code",
   "execution_count": 39,
   "id": "6fb6cb29",
   "metadata": {
    "scrolled": true
   },
   "outputs": [],
   "source": [
    "# этот признак является количесвенным, поэтому выделим полезную часть\n",
    "df['enginePower'] = df['enginePower'].apply(lambda x: x.split()[0])"
   ]
  },
  {
   "cell_type": "code",
   "execution_count": 40,
   "id": "d7af0e6c",
   "metadata": {},
   "outputs": [
    {
     "data": {
      "text/plain": [
       "0        105\n",
       "1        110\n",
       "2        152\n",
       "3        110\n",
       "4        152\n",
       "        ... \n",
       "25706    122\n",
       "25707     98\n",
       "25708    106\n",
       "25709     87\n",
       "25710    113\n",
       "Name: enginePower, Length: 57884, dtype: object"
      ]
     },
     "execution_count": 40,
     "metadata": {},
     "output_type": "execute_result"
    }
   ],
   "source": [
    "df['enginePower']"
   ]
  },
  {
   "cell_type": "markdown",
   "id": "527bcdff",
   "metadata": {},
   "source": [
    "#### Смотрим колонку fuelType"
   ]
  },
  {
   "cell_type": "code",
   "execution_count": 41,
   "id": "4dab2a66",
   "metadata": {},
   "outputs": [
    {
     "data": {
      "text/plain": [
       "бензин     48393\n",
       "дизель      9043\n",
       "гибрид       306\n",
       "электро      126\n",
       "газ           16\n",
       "Name: fuelType, dtype: int64"
      ]
     },
     "execution_count": 41,
     "metadata": {},
     "output_type": "execute_result"
    }
   ],
   "source": [
    "df['fuelType'].value_counts()"
   ]
  },
  {
   "cell_type": "code",
   "execution_count": 42,
   "id": "2aef29de",
   "metadata": {},
   "outputs": [],
   "source": [
    "# преобразуем данные этой колонки, используя get_dummies\n",
    "df = pd.concat([df, pd.get_dummies(df['fuelType'])], axis=1)# применяем get_dummies\n",
    "df.drop(columns=['fuelType'], inplace= True)"
   ]
  },
  {
   "cell_type": "markdown",
   "id": "34262830",
   "metadata": {},
   "source": [
    "#### Смотрим колонку numberOfDoors"
   ]
  },
  {
   "cell_type": "code",
   "execution_count": 44,
   "id": "e84a162f",
   "metadata": {
    "scrolled": true
   },
   "outputs": [
    {
     "data": {
      "text/plain": [
       "5    32914\n",
       "4    22237\n",
       "2     1686\n",
       "3     1046\n",
       "0        1\n",
       "Name: numberOfDoors, dtype: int64"
      ]
     },
     "execution_count": 44,
     "metadata": {},
     "output_type": "execute_result"
    }
   ],
   "source": [
    "# оставляем без изменений\n",
    "df['numberOfDoors'].value_counts()"
   ]
  },
  {
   "cell_type": "markdown",
   "id": "fe9dcee8",
   "metadata": {},
   "source": [
    "#### Смотрим колонку productionDate"
   ]
  },
  {
   "cell_type": "code",
   "execution_count": 45,
   "id": "4666ae62",
   "metadata": {
    "scrolled": true
   },
   "outputs": [
    {
     "data": {
      "text/plain": [
       "2021    6317\n",
       "2012    3971\n",
       "2013    3672\n",
       "2011    3565\n",
       "2008    3534\n",
       "        ... \n",
       "1957       1\n",
       "1961       1\n",
       "1963       1\n",
       "1970       1\n",
       "1904       1\n",
       "Name: productionDate, Length: 71, dtype: int64"
      ]
     },
     "execution_count": 45,
     "metadata": {},
     "output_type": "execute_result"
    }
   ],
   "source": [
    "# оставляем без изменений\n",
    "df['productionDate'].value_counts()"
   ]
  },
  {
   "cell_type": "markdown",
   "id": "68249ce8",
   "metadata": {},
   "source": [
    "#### Смотрим колонку vehicleTransmission"
   ]
  },
  {
   "cell_type": "code",
   "execution_count": 46,
   "id": "61de850e",
   "metadata": {
    "scrolled": true
   },
   "outputs": [
    {
     "data": {
      "text/plain": [
       "автоматическая      30231\n",
       "механическая        14970\n",
       "роботизированная     6875\n",
       "вариатор             5808\n",
       "Name: vehicleTransmission, dtype: int64"
      ]
     },
     "execution_count": 46,
     "metadata": {},
     "output_type": "execute_result"
    }
   ],
   "source": [
    "# преобразуем данные этой колонки, используя get_dummies\n",
    "df['vehicleTransmission'].value_counts()"
   ]
  },
  {
   "cell_type": "code",
   "execution_count": 47,
   "id": "207a652a",
   "metadata": {},
   "outputs": [],
   "source": [
    "df = pd.concat([df, pd.get_dummies(df['vehicleTransmission'])], axis=1)\n",
    "df.drop(columns=['vehicleTransmission'], inplace= True)"
   ]
  },
  {
   "cell_type": "markdown",
   "id": "b3f4c586",
   "metadata": {},
   "source": [
    "#### Смотрим колонку vendor"
   ]
  },
  {
   "cell_type": "code",
   "execution_count": 48,
   "id": "b6c1942e",
   "metadata": {},
   "outputs": [
    {
     "data": {
      "text/plain": [
       "EUROPEAN    30901\n",
       "JAPANESE    17274\n",
       "KOREAN       3458\n",
       "AMERICAN     3279\n",
       "RUSSIAN      2969\n",
       "Name: vendor, dtype: int64"
      ]
     },
     "execution_count": 48,
     "metadata": {},
     "output_type": "execute_result"
    }
   ],
   "source": [
    "# удалим пропуски \"vendor\"\n",
    "df.dropna(subset=['vendor'],inplace = True)\n",
    "df.vendor.value_counts()"
   ]
  },
  {
   "cell_type": "code",
   "execution_count": 49,
   "id": "bc3a92bb",
   "metadata": {},
   "outputs": [],
   "source": [
    "df = pd.concat([df, pd.get_dummies(df['vendor'])], axis=1)\n",
    "df.drop(columns=['vendor'], inplace= True)"
   ]
  },
  {
   "cell_type": "code",
   "execution_count": 50,
   "id": "21c87487",
   "metadata": {},
   "outputs": [
    {
     "data": {
      "text/plain": [
       "<AxesSubplot:>"
      ]
     },
     "execution_count": 50,
     "metadata": {},
     "output_type": "execute_result"
    },
    {
     "data": {
      "image/png": "[encoded data removed]",
      "text/plain": [
       "<Figure size 1080x720 with 2 Axes>"
      ]
     },
     "metadata": {
      "needs_background": "light"
     },
     "output_type": "display_data"
    }
   ],
   "source": [
    "plt.rcParams['figure.figsize'] = (15,10)\n",
    "sns.heatmap(df.loc[:, 'Владельцы':'price'].corr())"
   ]
  },
  {
   "cell_type": "markdown",
   "id": "e803c722",
   "metadata": {},
   "source": [
    "#### Посмотрим на колонки mileage и Владельцы\n",
    "Удалим mileage и валдельцы, т.к. они сильно коррелируют с ProductionDate"
   ]
  },
  {
   "cell_type": "code",
   "execution_count": 51,
   "id": "01c1f371",
   "metadata": {},
   "outputs": [],
   "source": [
    "df.drop(columns=['mileage','Владельцы'], inplace= True)"
   ]
  },
  {
   "cell_type": "markdown",
   "id": "1d5e0485",
   "metadata": {},
   "source": [
    "#### нормализуем данные 'engineDisplacement', 'enginePower', 'productionDate'"
   ]
  },
  {
   "cell_type": "code",
   "execution_count": 52,
   "id": "11d0a0f9",
   "metadata": {},
   "outputs": [],
   "source": [
    "scaler = MinMaxScaler()\n",
    "columns_to_scale = ['engineDisplacement', 'enginePower', 'productionDate']\n",
    "scaler.fit(df[columns_to_scale])\n",
    "df[columns_to_scale] = scaler.transform(df[columns_to_scale])"
   ]
  },
  {
   "cell_type": "code",
   "execution_count": 53,
   "id": "5352bbd9",
   "metadata": {},
   "outputs": [
    {
     "data": {
      "text/html": [
       "<div>\n",
       "<style scoped>\n",
       "    .dataframe tbody tr th:only-of-type {\n",
       "        vertical-align: middle;\n",
       "    }\n",
       "\n",
       "    .dataframe tbody tr th {\n",
       "        vertical-align: top;\n",
       "    }\n",
       "\n",
       "    .dataframe thead th {\n",
       "        text-align: right;\n",
       "    }\n",
       "</style>\n",
       "<table border=\"1\" class=\"dataframe\">\n",
       "  <thead>\n",
       "    <tr style=\"text-align: right;\">\n",
       "      <th></th>\n",
       "      <th>sell_id</th>\n",
       "      <th>ПТС</th>\n",
       "      <th>Руль</th>\n",
       "      <th>engineDisplacement</th>\n",
       "      <th>enginePower</th>\n",
       "      <th>numberOfDoors</th>\n",
       "      <th>productionDate</th>\n",
       "      <th>price</th>\n",
       "      <th>train</th>\n",
       "      <th>задний</th>\n",
       "      <th>...</th>\n",
       "      <th>электро</th>\n",
       "      <th>автоматическая</th>\n",
       "      <th>вариатор</th>\n",
       "      <th>механическая</th>\n",
       "      <th>роботизированная</th>\n",
       "      <th>AMERICAN</th>\n",
       "      <th>EUROPEAN</th>\n",
       "      <th>JAPANESE</th>\n",
       "      <th>KOREAN</th>\n",
       "      <th>RUSSIAN</th>\n",
       "    </tr>\n",
       "  </thead>\n",
       "  <tbody>\n",
       "    <tr>\n",
       "      <th>0</th>\n",
       "      <td>1100575026</td>\n",
       "      <td>1</td>\n",
       "      <td>0</td>\n",
       "      <td>0.081967</td>\n",
       "      <td>0.144393</td>\n",
       "      <td>5</td>\n",
       "      <td>0.940171</td>\n",
       "      <td>NaN</td>\n",
       "      <td>0</td>\n",
       "      <td>0</td>\n",
       "      <td>...</td>\n",
       "      <td>0</td>\n",
       "      <td>0</td>\n",
       "      <td>0</td>\n",
       "      <td>0</td>\n",
       "      <td>1</td>\n",
       "      <td>0</td>\n",
       "      <td>1</td>\n",
       "      <td>0</td>\n",
       "      <td>0</td>\n",
       "      <td>0</td>\n",
       "    </tr>\n",
       "    <tr>\n",
       "      <th>1</th>\n",
       "      <td>1100549428</td>\n",
       "      <td>1</td>\n",
       "      <td>0</td>\n",
       "      <td>0.147541</td>\n",
       "      <td>0.152074</td>\n",
       "      <td>5</td>\n",
       "      <td>0.965812</td>\n",
       "      <td>NaN</td>\n",
       "      <td>0</td>\n",
       "      <td>0</td>\n",
       "      <td>...</td>\n",
       "      <td>0</td>\n",
       "      <td>0</td>\n",
       "      <td>0</td>\n",
       "      <td>1</td>\n",
       "      <td>0</td>\n",
       "      <td>0</td>\n",
       "      <td>1</td>\n",
       "      <td>0</td>\n",
       "      <td>0</td>\n",
       "      <td>0</td>\n",
       "    </tr>\n",
       "    <tr>\n",
       "      <th>2</th>\n",
       "      <td>1100658222</td>\n",
       "      <td>1</td>\n",
       "      <td>0</td>\n",
       "      <td>0.180328</td>\n",
       "      <td>0.216590</td>\n",
       "      <td>5</td>\n",
       "      <td>0.940171</td>\n",
       "      <td>NaN</td>\n",
       "      <td>0</td>\n",
       "      <td>0</td>\n",
       "      <td>...</td>\n",
       "      <td>0</td>\n",
       "      <td>0</td>\n",
       "      <td>0</td>\n",
       "      <td>0</td>\n",
       "      <td>1</td>\n",
       "      <td>0</td>\n",
       "      <td>1</td>\n",
       "      <td>0</td>\n",
       "      <td>0</td>\n",
       "      <td>0</td>\n",
       "    </tr>\n",
       "    <tr>\n",
       "      <th>3</th>\n",
       "      <td>1100937408</td>\n",
       "      <td>1</td>\n",
       "      <td>0</td>\n",
       "      <td>0.147541</td>\n",
       "      <td>0.152074</td>\n",
       "      <td>5</td>\n",
       "      <td>0.940171</td>\n",
       "      <td>NaN</td>\n",
       "      <td>0</td>\n",
       "      <td>0</td>\n",
       "      <td>...</td>\n",
       "      <td>0</td>\n",
       "      <td>1</td>\n",
       "      <td>0</td>\n",
       "      <td>0</td>\n",
       "      <td>0</td>\n",
       "      <td>0</td>\n",
       "      <td>1</td>\n",
       "      <td>0</td>\n",
       "      <td>0</td>\n",
       "      <td>0</td>\n",
       "    </tr>\n",
       "    <tr>\n",
       "      <th>4</th>\n",
       "      <td>1101037972</td>\n",
       "      <td>1</td>\n",
       "      <td>0</td>\n",
       "      <td>0.180328</td>\n",
       "      <td>0.216590</td>\n",
       "      <td>5</td>\n",
       "      <td>0.923077</td>\n",
       "      <td>NaN</td>\n",
       "      <td>0</td>\n",
       "      <td>0</td>\n",
       "      <td>...</td>\n",
       "      <td>0</td>\n",
       "      <td>1</td>\n",
       "      <td>0</td>\n",
       "      <td>0</td>\n",
       "      <td>0</td>\n",
       "      <td>0</td>\n",
       "      <td>1</td>\n",
       "      <td>0</td>\n",
       "      <td>0</td>\n",
       "      <td>0</td>\n",
       "    </tr>\n",
       "    <tr>\n",
       "      <th>...</th>\n",
       "      <td>...</td>\n",
       "      <td>...</td>\n",
       "      <td>...</td>\n",
       "      <td>...</td>\n",
       "      <td>...</td>\n",
       "      <td>...</td>\n",
       "      <td>...</td>\n",
       "      <td>...</td>\n",
       "      <td>...</td>\n",
       "      <td>...</td>\n",
       "      <td>...</td>\n",
       "      <td>...</td>\n",
       "      <td>...</td>\n",
       "      <td>...</td>\n",
       "      <td>...</td>\n",
       "      <td>...</td>\n",
       "      <td>...</td>\n",
       "      <td>...</td>\n",
       "      <td>...</td>\n",
       "      <td>...</td>\n",
       "      <td>...</td>\n",
       "    </tr>\n",
       "    <tr>\n",
       "      <th>34681</th>\n",
       "      <td>1101369263</td>\n",
       "      <td>1</td>\n",
       "      <td>0</td>\n",
       "      <td>0.147541</td>\n",
       "      <td>0.192012</td>\n",
       "      <td>4</td>\n",
       "      <td>0.940171</td>\n",
       "      <td>NaN</td>\n",
       "      <td>0</td>\n",
       "      <td>1</td>\n",
       "      <td>...</td>\n",
       "      <td>0</td>\n",
       "      <td>1</td>\n",
       "      <td>0</td>\n",
       "      <td>0</td>\n",
       "      <td>0</td>\n",
       "      <td>0</td>\n",
       "      <td>1</td>\n",
       "      <td>0</td>\n",
       "      <td>0</td>\n",
       "      <td>0</td>\n",
       "    </tr>\n",
       "    <tr>\n",
       "      <th>34682</th>\n",
       "      <td>1101369581</td>\n",
       "      <td>1</td>\n",
       "      <td>0</td>\n",
       "      <td>0.213115</td>\n",
       "      <td>0.274962</td>\n",
       "      <td>4</td>\n",
       "      <td>0.974359</td>\n",
       "      <td>NaN</td>\n",
       "      <td>0</td>\n",
       "      <td>0</td>\n",
       "      <td>...</td>\n",
       "      <td>0</td>\n",
       "      <td>1</td>\n",
       "      <td>0</td>\n",
       "      <td>0</td>\n",
       "      <td>0</td>\n",
       "      <td>0</td>\n",
       "      <td>1</td>\n",
       "      <td>0</td>\n",
       "      <td>0</td>\n",
       "      <td>0</td>\n",
       "    </tr>\n",
       "    <tr>\n",
       "      <th>34683</th>\n",
       "      <td>1101364889</td>\n",
       "      <td>0</td>\n",
       "      <td>0</td>\n",
       "      <td>0.295082</td>\n",
       "      <td>0.244240</td>\n",
       "      <td>4</td>\n",
       "      <td>0.794872</td>\n",
       "      <td>NaN</td>\n",
       "      <td>0</td>\n",
       "      <td>1</td>\n",
       "      <td>...</td>\n",
       "      <td>0</td>\n",
       "      <td>1</td>\n",
       "      <td>0</td>\n",
       "      <td>0</td>\n",
       "      <td>0</td>\n",
       "      <td>0</td>\n",
       "      <td>1</td>\n",
       "      <td>0</td>\n",
       "      <td>0</td>\n",
       "      <td>0</td>\n",
       "    </tr>\n",
       "    <tr>\n",
       "      <th>34684</th>\n",
       "      <td>1101362518</td>\n",
       "      <td>1</td>\n",
       "      <td>0</td>\n",
       "      <td>0.213115</td>\n",
       "      <td>0.265745</td>\n",
       "      <td>5</td>\n",
       "      <td>0.931624</td>\n",
       "      <td>NaN</td>\n",
       "      <td>0</td>\n",
       "      <td>0</td>\n",
       "      <td>...</td>\n",
       "      <td>0</td>\n",
       "      <td>1</td>\n",
       "      <td>0</td>\n",
       "      <td>0</td>\n",
       "      <td>0</td>\n",
       "      <td>0</td>\n",
       "      <td>1</td>\n",
       "      <td>0</td>\n",
       "      <td>0</td>\n",
       "      <td>0</td>\n",
       "    </tr>\n",
       "    <tr>\n",
       "      <th>34685</th>\n",
       "      <td>1101256068</td>\n",
       "      <td>1</td>\n",
       "      <td>0</td>\n",
       "      <td>0.377049</td>\n",
       "      <td>0.344086</td>\n",
       "      <td>5</td>\n",
       "      <td>0.888889</td>\n",
       "      <td>NaN</td>\n",
       "      <td>0</td>\n",
       "      <td>0</td>\n",
       "      <td>...</td>\n",
       "      <td>0</td>\n",
       "      <td>1</td>\n",
       "      <td>0</td>\n",
       "      <td>0</td>\n",
       "      <td>0</td>\n",
       "      <td>0</td>\n",
       "      <td>1</td>\n",
       "      <td>0</td>\n",
       "      <td>0</td>\n",
       "      <td>0</td>\n",
       "    </tr>\n",
       "  </tbody>\n",
       "</table>\n",
       "<p>34686 rows × 67 columns</p>\n",
       "</div>"
      ],
      "text/plain": [
       "          sell_id  ПТС  Руль  engineDisplacement  enginePower numberOfDoors  \\\n",
       "0      1100575026    1     0            0.081967     0.144393             5   \n",
       "1      1100549428    1     0            0.147541     0.152074             5   \n",
       "2      1100658222    1     0            0.180328     0.216590             5   \n",
       "3      1100937408    1     0            0.147541     0.152074             5   \n",
       "4      1101037972    1     0            0.180328     0.216590             5   \n",
       "...           ...  ...   ...                 ...          ...           ...   \n",
       "34681  1101369263    1     0            0.147541     0.192012             4   \n",
       "34682  1101369581    1     0            0.213115     0.274962             4   \n",
       "34683  1101364889    0     0            0.295082     0.244240             4   \n",
       "34684  1101362518    1     0            0.213115     0.265745             5   \n",
       "34685  1101256068    1     0            0.377049     0.344086             5   \n",
       "\n",
       "       productionDate  price  train  задний  ...  электро  автоматическая  \\\n",
       "0            0.940171    NaN      0       0  ...        0               0   \n",
       "1            0.965812    NaN      0       0  ...        0               0   \n",
       "2            0.940171    NaN      0       0  ...        0               0   \n",
       "3            0.940171    NaN      0       0  ...        0               1   \n",
       "4            0.923077    NaN      0       0  ...        0               1   \n",
       "...               ...    ...    ...     ...  ...      ...             ...   \n",
       "34681        0.940171    NaN      0       1  ...        0               1   \n",
       "34682        0.974359    NaN      0       0  ...        0               1   \n",
       "34683        0.794872    NaN      0       1  ...        0               1   \n",
       "34684        0.931624    NaN      0       0  ...        0               1   \n",
       "34685        0.888889    NaN      0       0  ...        0               1   \n",
       "\n",
       "       вариатор  механическая  роботизированная  AMERICAN  EUROPEAN  JAPANESE  \\\n",
       "0             0             0                 1         0         1         0   \n",
       "1             0             1                 0         0         1         0   \n",
       "2             0             0                 1         0         1         0   \n",
       "3             0             0                 0         0         1         0   \n",
       "4             0             0                 0         0         1         0   \n",
       "...         ...           ...               ...       ...       ...       ...   \n",
       "34681         0             0                 0         0         1         0   \n",
       "34682         0             0                 0         0         1         0   \n",
       "34683         0             0                 0         0         1         0   \n",
       "34684         0             0                 0         0         1         0   \n",
       "34685         0             0                 0         0         1         0   \n",
       "\n",
       "       KOREAN  RUSSIAN  \n",
       "0           0        0  \n",
       "1           0        0  \n",
       "2           0        0  \n",
       "3           0        0  \n",
       "4           0        0  \n",
       "...       ...      ...  \n",
       "34681       0        0  \n",
       "34682       0        0  \n",
       "34683       0        0  \n",
       "34684       0        0  \n",
       "34685       0        0  \n",
       "\n",
       "[34686 rows x 67 columns]"
      ]
     },
     "execution_count": 53,
     "metadata": {},
     "output_type": "execute_result"
    }
   ],
   "source": [
    "df.loc[df['train']==0]"
   ]
  },
  {
   "cell_type": "markdown",
   "id": "7ca1bc1f",
   "metadata": {},
   "source": [
    "## Выделим целевую переменную и разделим выборку на train и validate"
   ]
  },
  {
   "cell_type": "code",
   "execution_count": 54,
   "id": "4a4abdb8",
   "metadata": {},
   "outputs": [],
   "source": [
    "X = df.loc[df['train'] == 1].drop(columns=['price','sell_id'])\n",
    "y = df.loc[df['train'] == 1]['price'] / 1000000\n",
    "X_train, X_test, y_train, y_test = train_test_split(X, y, test_size=SPLIT_SIZE, shuffle=True, random_state=RANDOM_SEED)"
   ]
  },
  {
   "cell_type": "code",
   "execution_count": 55,
   "id": "221cc870",
   "metadata": {},
   "outputs": [
    {
     "name": "stdout",
     "output_type": "stream",
     "text": [
      "Точность наивной модели по метрике MAPE: 25.15%\n"
     ]
    }
   ],
   "source": [
    "# обучаем модель GradientBoostingRegressor, измеряем точность\n",
    "reg = GradientBoostingRegressor(random_state=RANDOM_SEED)\n",
    "reg.fit(X_train, y_train)\n",
    "predict = reg.predict(X_test)\n",
    " \n",
    "#оцениваем точность\n",
    "print(f\"Точность наивной модели по метрике MAPE: {(mape(y_test, predict))*100:0.2f}%\")"
   ]
  },
  {
   "cell_type": "markdown",
   "id": "a997f769",
   "metadata": {},
   "source": [
    "#### Точность модели не очень хорошая"
   ]
  },
  {
   "cell_type": "code",
   "execution_count": 56,
   "id": "ee5bb465",
   "metadata": {
    "scrolled": false
   },
   "outputs": [
    {
     "data": {
      "text/plain": [
       "<AxesSubplot:>"
      ]
     },
     "execution_count": 56,
     "metadata": {},
     "output_type": "execute_result"
    },
    {
     "data": {
      "image/png": "[encoded data removed]",
      "text/plain": [
       "<Figure size 720x720 with 1 Axes>"
      ]
     },
     "metadata": {
      "needs_background": "light"
     },
     "output_type": "display_data"
    }
   ],
   "source": [
    "# Посмотрим какие признаки больше всего влияют на модель.\n",
    "plt.rcParams['figure.figsize'] = (10,10)\n",
    "feat_importances = pd.Series(reg.feature_importances_, index=X.columns)\n",
    "feat_importances.nlargest(15).plot(kind='barh')"
   ]
  },
  {
   "cell_type": "code",
   "execution_count": 57,
   "id": "2969c107",
   "metadata": {},
   "outputs": [
    {
     "name": "stdout",
     "output_type": "stream",
     "text": [
      "Точность модели по метрике MAPE: 16.72%\n"
     ]
    }
   ],
   "source": [
    "# попробуем нормализовать целевую переменную.\n",
    "X_train, X_test, y_train, y_test = train_test_split(X, y, test_size=SPLIT_SIZE, shuffle=True, random_state=RANDOM_SEED)\n",
    "y_train = np.log(y_train)\n",
    "reg = GradientBoostingRegressor(random_state=RANDOM_SEED)\n",
    "reg.fit(X_train, y_train)\n",
    "predict = np.exp(reg.predict(X_test))\n",
    "print(f\"Точность модели по метрике MAPE: {(mape(y_test, predict))*100:0.2f}%\")"
   ]
  },
  {
   "cell_type": "markdown",
   "id": "74685620",
   "metadata": {},
   "source": [
    "#### Точность улучшилась"
   ]
  },
  {
   "cell_type": "code",
   "execution_count": 58,
   "id": "f68059ab",
   "metadata": {},
   "outputs": [
    {
     "data": {
      "text/plain": [
       "<AxesSubplot:>"
      ]
     },
     "execution_count": 58,
     "metadata": {},
     "output_type": "execute_result"
    },
    {
     "data": {
      "image/png": "[encoded data removed]",
      "text/plain": [
       "<Figure size 720x720 with 1 Axes>"
      ]
     },
     "metadata": {
      "needs_background": "light"
     },
     "output_type": "display_data"
    }
   ],
   "source": [
    "# Посмотрим какие признаки больше всего влияют на модель.\n",
    "plt.rcParams['figure.figsize'] = (10,10)\n",
    "feat_importances = pd.Series(reg.feature_importances_, index=X.columns)\n",
    "feat_importances.nlargest(15).plot(kind='barh')"
   ]
  },
  {
   "cell_type": "markdown",
   "id": "4c0a57a4",
   "metadata": {},
   "source": [
    "#### Проверим модель на преобучение"
   ]
  },
  {
   "cell_type": "code",
   "execution_count": 59,
   "id": "f19bfe98",
   "metadata": {},
   "outputs": [
    {
     "name": "stdout",
     "output_type": "stream",
     "text": [
      "[train] mape = 16.53%\n",
      "[valid] mape = 16.72%\n"
     ]
    }
   ],
   "source": [
    "y_pred_t = np.exp(reg.predict(X_train))\n",
    "mape_train = mape(np.exp(y_train),y_pred_t)\n",
    "print('[train] mape = {:.2f}%'.format(mape_train*100))\n",
    "y_pred_v = np.exp(reg.predict(X_test))\n",
    "mape_val = mape(y_test, y_pred_v)\n",
    "print('[valid] mape = {:.2f}%'.format(mape_val*100))"
   ]
  },
  {
   "cell_type": "code",
   "execution_count": 60,
   "id": "068bc347",
   "metadata": {},
   "outputs": [],
   "source": [
    "#Видим, что точность при валидации и тестировании приблизительно равны, делаем вывод, что преобучение отсутствует"
   ]
  },
  {
   "cell_type": "code",
   "execution_count": 61,
   "id": "c54c00fa",
   "metadata": {},
   "outputs": [
    {
     "data": {
      "text/plain": [
       "<catboost.core.CatBoostRegressor at 0x7f2706b2aa60>"
      ]
     },
     "execution_count": 61,
     "metadata": {},
     "output_type": "execute_result"
    }
   ],
   "source": [
    "X_train, X_test, y_train, y_test = train_test_split(X, y, test_size=SPLIT_SIZE, shuffle=True, random_state=RANDOM_SEED)\n",
    "model = CatBoostRegressor(iterations = 10000,\n",
    "                          random_seed = RANDOM_SEED,\n",
    "                          eval_metric='MAPE',\n",
    "                          custom_metric=['R2', 'MAE'],\n",
    "                          silent=True,\n",
    "                         )\n",
    "model.fit(X_train, y_train,\n",
    "         eval_set=(X_test, y_test),\n",
    "         verbose_eval=0,\n",
    "         use_best_model=True,\n",
    "         )"
   ]
  },
  {
   "cell_type": "code",
   "execution_count": 62,
   "id": "4e353887",
   "metadata": {},
   "outputs": [],
   "source": [
    "predict = (model.predict(X_test))\n"
   ]
  },
  {
   "cell_type": "code",
   "execution_count": 63,
   "id": "72515f0b",
   "metadata": {
    "scrolled": false
   },
   "outputs": [
    {
     "name": "stdout",
     "output_type": "stream",
     "text": [
      "0.940279022801546\n"
     ]
    }
   ],
   "source": [
    "estimators = [\n",
    "    ('lr', RidgeCV()),\n",
    "    ('svr', LinearSVR(random_state=RANDOM_SEED, max_iter=10000)),\n",
    "    ('rfr', RandomForestRegressor(n_estimators=10,\n",
    "                                          random_state=RANDOM_SEED))\n",
    "]\n",
    "reg = StackingRegressor(\n",
    "    estimators=estimators,\n",
    "    final_estimator=KNeighborsRegressor(n_neighbors=20,\n",
    "                                            metric='euclidean')\n",
    ")\n",
    "from sklearn.model_selection import train_test_split\n",
    "\n",
    "print(reg.fit(X_train, y_train).score(X_test, y_test))"
   ]
  },
  {
   "cell_type": "code",
   "execution_count": 64,
   "id": "41e693c5",
   "metadata": {},
   "outputs": [
    {
     "name": "stdout",
     "output_type": "stream",
     "text": [
      "Точность модели по метрике MAPE: 14.10%\n"
     ]
    }
   ],
   "source": [
    "predicted = reg.predict(X_test)\n",
    "print(f\"Точность модели по метрике MAPE: {(mape(predicted, y_test))*100:0.2f}%\")"
   ]
  },
  {
   "cell_type": "markdown",
   "id": "60570c12",
   "metadata": {},
   "source": [
    "## Предсказываем на тестовой выборке"
   ]
  },
  {
   "cell_type": "code",
   "execution_count": 173,
   "id": "2d04265f",
   "metadata": {},
   "outputs": [
    {
     "data": {
      "text/plain": [
       "(34686, 65)"
      ]
     },
     "execution_count": 173,
     "metadata": {},
     "output_type": "execute_result"
    }
   ],
   "source": [
    "XX = df.loc[df['train'] == 0].drop(['sell_id', 'price'], axis=1)\n",
    "ids = df.loc[df['train'] == 0]['sell_id']\n",
    "to_submit = pd.DataFrame(ids, columns=['sell_id'])\n",
    "XX.shape"
   ]
  },
  {
   "cell_type": "code",
   "execution_count": 174,
   "id": "735d1a2f",
   "metadata": {},
   "outputs": [],
   "source": [
    "predicted = reg.predict(XX) * 1000000"
   ]
  },
  {
   "cell_type": "markdown",
   "id": "8603860d",
   "metadata": {},
   "source": [
    "#### Добавляем поправку на инфляцию и округляем до тысяч"
   ]
  },
  {
   "cell_type": "code",
   "execution_count": 175,
   "id": "f44e095f",
   "metadata": {},
   "outputs": [],
   "source": [
    "predicted = predicted * 0.4 // 1000 * 1000"
   ]
  },
  {
   "cell_type": "code",
   "execution_count": 176,
   "id": "5af63088",
   "metadata": {},
   "outputs": [
    {
     "data": {
      "text/plain": [
       "array([428000., 430000., 626000., 417000., 494000., 689000., 465000.,\n",
       "       375000., 971000., 453000., 414000., 885000.])"
      ]
     },
     "execution_count": 176,
     "metadata": {},
     "output_type": "execute_result"
    }
   ],
   "source": [
    "predicted[:12]"
   ]
  },
  {
   "cell_type": "code",
   "execution_count": 177,
   "id": "7107e937",
   "metadata": {},
   "outputs": [],
   "source": [
    "to_submit['price'] = predicted"
   ]
  },
  {
   "cell_type": "code",
   "execution_count": 178,
   "id": "239ee237",
   "metadata": {},
   "outputs": [],
   "source": [
    "to_submit.to_csv('to_submit.csv', columns=['sell_id', 'price'], index=False)"
   ]
  },
  {
   "cell_type": "code",
   "execution_count": 172,
   "id": "f5f3a07d",
   "metadata": {},
   "outputs": [
    {
     "data": {
      "text/plain": [
       "(34686, 2)"
      ]
     },
     "execution_count": 172,
     "metadata": {},
     "output_type": "execute_result"
    }
   ],
   "source": [
    "to_submit.shape"
   ]
  },
  {
   "cell_type": "code",
   "execution_count": null,
   "id": "f2dff5aa",
   "metadata": {},
   "outputs": [],
   "source": []
  }
 ],
 "metadata": {
  "kernelspec": {
   "display_name": "Python 3",
   "language": "python",
   "name": "python3"
  },
  "language_info": {
   "codemirror_mode": {
    "name": "ipython",
    "version": 3
   },
   "file_extension": ".py",
   "mimetype": "text/x-python",
   "name": "python",
   "nbconvert_exporter": "python",
   "pygments_lexer": "ipython3",
   "version": "3.8.8"
  }
 },
 "nbformat": 4,
 "nbformat_minor": 5
}
