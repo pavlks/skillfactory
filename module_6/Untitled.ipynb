{
 "cells": [
  {
   "cell_type": "code",
   "execution_count": 68,
   "id": "b2efa538",
   "metadata": {},
   "outputs": [],
   "source": [
    "import requests\n",
    "import re\n",
    "\n",
    "from bs4 import BeautifulSoup"
   ]
  },
  {
   "cell_type": "code",
   "execution_count": 78,
   "id": "283ccde7",
   "metadata": {},
   "outputs": [],
   "source": [
    "url = 'https://auto.ru/cars/used/sale/volkswagen/touareg/1105272501-92f471b7/'\n",
    "headers = {\n",
    "'Host' : 'auto.ru',\n",
    "'User-Agent' : 'Mozilla/5.0 (X11; Fedora; Linux x86_64; rv:93.0) Gecko/20100101 Firefox/93.0',\n",
    "'Accept' : 'text/html,application/xhtml+xml,application/xml;q=0.9,image/avif,image/webp,*/*;q=0.8',\n",
    "'Accept-Language' : 'en-US,en;q=0.5',\n",
    "'Accept-Encoding' : 'gzip, deflate, br',\n",
    "'Connection' : 'keep-alive',\n",
    "'Cookie' : '_csrf_token=cd33b362bade8bf97053fcccb6e8a730d67cea3890bc13dd; autoru_sid=a%3Ag617d64fd2fv33ed8v4riej36hu1p6lm.c2367bd802049660a3fd810b448f8a98%7C1635607805027.604800.6pV4glxO38pAivwjPHlWkw.srCKVaOLlQydHyXq3dMz0_9zJ6Zo__8skasLouSHTI4; autoruuid=g617d64fd2fv33ed8v4riej36hu1p6lm.c2367bd802049660a3fd810b448f8a98; autoru_gdpr=1; suid=bc8be712d638a08131a6e9e0d202d740.c5b54afb905b8c06122ab3a791bcd52b; from_lifetime=1635709473054; from=direct; yuidlt=1; yandexuid=2760879651631376416; my=YysBAgA%3D; counter_ga_all7=2; credit_filter_promo_popup_closed=true; crookie=8ewFtMB7YUPTohUQlyCIDsQwU3HDblTJzTrHSBLij2aD3RTxsH0UW0Q4UyGAUsUai+YOMF3ONdP2aj4Eb3FbW+ITbvw=; cmtchd=MTYzNTYwNzgxMjc1MQ==; X-Vertis-DC=sas; bltsr=1; autoru-visits-count=1; autoru-visits-session-unexpired=1; los=1',\n",
    "'Upgrade-Insecure-Requests' : '1',\n",
    "'Sec-Fetch-Dest' : 'document',\n",
    "'Sec-Fetch-Mode' : 'navigate',\n",
    "'Sec-Fetch-Site' : 'none',\n",
    "'Sec-Fetch-User' : '?1'\n",
    "}\n",
    "\n",
    "sl = ['bodyType', 'brand', 'car_url', 'color', 'complectation_dict', 'description', 'engineDisplacement', \n",
    "      'enginePower', 'equipment_dict', 'fuelType', 'image', 'mileage', 'modelDate', 'model_info', 'model_name', \n",
    "      'name', 'numberOfDoors', 'parsing_unixtime', 'priceCurrency', 'productionDate', 'sell_id', 'super_gen', \n",
    "      'vehicleConfiguration', 'vehicleTransmission', 'vendor', 'Владельцы', 'Владение', 'ПТС', 'Привод', 'Руль', \n",
    "      'Состояние', 'Таможня']"
   ]
  },
  {
   "cell_type": "code",
   "execution_count": 79,
   "id": "4ce229a6",
   "metadata": {},
   "outputs": [],
   "source": [
    "req = requests.get(url, headers=headers)"
   ]
  },
  {
   "cell_type": "code",
   "execution_count": 80,
   "id": "c9f4008e",
   "metadata": {},
   "outputs": [],
   "source": [
    "resp = req.content\n",
    "code = BeautifulSoup(resp, 'html.parser')"
   ]
  },
  {
   "cell_type": "code",
   "execution_count": 92,
   "id": "8102a804",
   "metadata": {
    "scrolled": false
   },
   "outputs": [
    {
     "name": "stdout",
     "output_type": "stream",
     "text": [
      "yes\n",
      "yes\n",
      "None\n",
      "yes\n",
      "None\n",
      "yes\n",
      "yes\n",
      "yes\n",
      "None\n",
      "yes\n",
      "yes\n",
      "yes\n",
      "yes\n",
      "yes\n",
      "None\n",
      "yes\n",
      "yes\n",
      "None\n",
      "yes\n",
      "yes\n",
      "None\n",
      "yes\n",
      "yes\n",
      "yes\n",
      "yes\n",
      "yes\n",
      "yes\n",
      "yes\n",
      "yes\n",
      "yes\n",
      "yes\n",
      "yes\n"
     ]
    }
   ],
   "source": [
    "for word in sl:\n",
    "    poisk = re.compile(word, flags=re.IGNORECASE)\n",
    "    found = 'yes' if code.find(string=poisk) else None\n",
    "    print(found)"
   ]
  },
  {
   "cell_type": "code",
   "execution_count": null,
   "id": "e015ebc6",
   "metadata": {},
   "outputs": [],
   "source": []
  }
 ],
 "metadata": {
  "kernelspec": {
   "display_name": "Python 3",
   "language": "python",
   "name": "python3"
  },
  "language_info": {
   "codemirror_mode": {
    "name": "ipython",
    "version": 3
   },
   "file_extension": ".py",
   "mimetype": "text/x-python",
   "name": "python",
   "nbconvert_exporter": "python",
   "pygments_lexer": "ipython3",
   "version": "3.8.8"
  }
 },
 "nbformat": 4,
 "nbformat_minor": 5
}
