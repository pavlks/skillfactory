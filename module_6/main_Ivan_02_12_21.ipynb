{
 "cells": [
  {
   "cell_type": "code",
   "execution_count": 226,
   "id": "b34c190c",
   "metadata": {},
   "outputs": [],
   "source": [
    "import re\n",
    "import time\n",
    "import json\n",
    "import requests\n",
    "import datetime\n",
    "import pandas as pd\n",
    "import seaborn as sns \n",
    "import matplotlib.pyplot as plt\n",
    "%matplotlib inline\n",
    "\n",
    "from pprint import pprint\n",
    "from bs4 import BeautifulSoup"
   ]
  },
  {
   "cell_type": "code",
   "execution_count": 227,
   "id": "581205ca",
   "metadata": {},
   "outputs": [],
   "source": [
    "headers = {\n",
    "'Host' : 'auto.ru',\n",
    "'User-Agent' : 'Mozilla/5.0 (X11; Fedora; Linux x86_64; rv:94.0) Gecko/20100101 Firefox/94.0',\n",
    "'Accept' : 'text/html,application/xhtml+xml,application/xml;q=0.9,image/avif,image/webp,*/*;q=0.8',\n",
    "'Accept-Language' : 'en-US,en;q=0.5',\n",
    "'Accept-Encoding' : 'gzip, deflate, br',\n",
    "'Connection' : 'keep-alive',\n",
    "'Cookie' : 'autoru_gdpr=1; suid=bc8be712d638a08131a6e9e0d202d740.c5b54afb905b8c06122ab3a791bcd52b; yandexuid=2760879651631376416; my=YysBAgA%3D; counter_ga_all7=2; credit_filter_promo_popup_closed=true; bltsr=1; autoru-visits-count=5; autoru_sid=a%3Ag619130a126cnq19ulaaft362m5p2vb2.ce95d73e09b71591f2b431378fbd3c26%7C1637509921806.604800.1BSyVNdQ_Jgiakk7ftwSsg.rxF87OjlP3hNehiaJwY7hz1CT9Y7Izf61mSqV5Ly0C8; autoruuid=g619130a126cnq19ulaaft362m5p2vb2.ce95d73e09b71591f2b431378fbd3c26; crookie=jpj0jVvWTMkqF2bLNEjq1Sm8BK5liRI8I2IDRbmuxJB1Z9qhACbqZpnyGeU1riNvks6acZdg/tULhikIF+VQKxi5Ddo=; deal_million_popup_page_seen=-1; credit_modal_autoshow_closed=true; _yasc=BXlfPgARlvaqwGCFNYlOD81UvI/rudyiPXKWSUFuIbFRxQ==; _csrf_token=cd33b362bade8bf97053fcccb6e8a730d67cea3890bc13dd; from_lifetime=1637870096528; from=direct; safe_deal_promo=0; yuidlt=1; cmtchd=MTYzNzg2MjAxMjI2OQ==; X-Vertis-DC=sas; los=1',\n",
    "'Upgrade-Insecure-Requests' : '1',\n",
    "'Sec-Fetch-Dest' : 'document',\n",
    "'Sec-Fetch-Mode' : 'navigate',\n",
    "'Sec-Fetch-Site' : 'none',\n",
    "'Sec-Fetch-User' : '?1'\n",
    "}\n",
    "page_suffix = '?page='"
   ]
  },
  {
   "cell_type": "code",
   "execution_count": 228,
   "id": "0d75af13",
   "metadata": {},
   "outputs": [],
   "source": [
    "perks = ['Владельцы', 'Владение', 'ПТС', 'Привод', 'Руль', 'Состояние', 'Таможня', 'bodyType', 'brand', 'color', 'complectation_dict', 'description', 'engineDisplacement', \n",
    "      'enginePower', 'equipment_dict', 'fuelType', 'image', 'mileage', 'modelDate', 'model_info', 'model_name', \n",
    "      'name', 'numberOfDoors', 'parsing_unixtime', 'priceCurrency', 'productionDate', 'sell_id', 'super_gen', \n",
    "      'vehicleConfiguration', 'vehicleTransmission', 'vendor', 'car_url']"
   ]
  },
  {
   "cell_type": "code",
   "execution_count": 229,
   "id": "bf0ae443",
   "metadata": {},
   "outputs": [],
   "source": [
    "def get_ad_info(url, headers, characteristics):\n",
    "    ad_info = dict()   \n",
    "    r = requests.get(url, headers=headers)\n",
    "    html = BeautifulSoup(r.content, 'html.parser')\n",
    "    for li in html.find_all('li', 'CardInfoRow'):\n",
    "        var1, var2 = tuple(li.children)\n",
    "        key = var1.string\n",
    "        value = var2.string\n",
    "        if key in perks[:7]:\n",
    "            ad_info[key] = value\n",
    "    \n",
    "    try:\n",
    "        j1 = json.loads(html.script.string)\n",
    "    except:\n",
    "        return\n",
    "    \n",
    "    try:\n",
    "        j2 = json.loads(html.find('script', id=\"initial-state\").string)\n",
    "    except:\n",
    "        return\n",
    "        \n",
    "    for k in set(perks).intersection(set(j1)):\n",
    "        ad_info[k] = j1[k]\n",
    "\n",
    "    for l in set(perks).intersection(j1['vehicleEngine']):\n",
    "        try:\n",
    "            ad_info[l] = j1['vehicleEngine'][l]\n",
    "        except:\n",
    "            pass\n",
    "\n",
    "    for m in set(perks).intersection(j2['card']['state']):\n",
    "        try:\n",
    "            ad_info[m] = j2['card']['state'][m]\n",
    "        except:\n",
    "            pass\n",
    "\n",
    "    try: \n",
    "        ad_info['equipment_dict'] = j2['card']['vehicle_info']['equipment'] \n",
    "    except: \n",
    "        pass\n",
    "    \n",
    "    try: \n",
    "        ad_info['complectation_dict'] = j2['card']['vehicle_info']['complectation'] \n",
    "    except: \n",
    "        pass\n",
    "    \n",
    "    try: \n",
    "        ad_info['model_info'] = j2['card']['vehicle_info']['model_info'] \n",
    "    except: \n",
    "        pass\n",
    "    \n",
    "    try: \n",
    "        ad_info['model_name'] = j2['card']['vehicle_info']['model_info']['name'] \n",
    "    except: \n",
    "        pass\n",
    "    \n",
    "    try: \n",
    "        ad_info['super_gen'] = j2['card']['vehicle_info']['super_gen'] \n",
    "    except: \n",
    "        pass\n",
    "    \n",
    "    try: \n",
    "        ad_info['vendor'] = j2['card']['vehicle_info']['vendor'] \n",
    "    except: \n",
    "        pass\n",
    "    \n",
    "    try: \n",
    "        ad_info['sell_id'] = j2['card']['saleId'] \n",
    "    except: \n",
    "        pass\n",
    "    \n",
    "\n",
    "    try: \n",
    "        ad_info['price'] = j1['offers']['price'] \n",
    "    except: \n",
    "        pass\n",
    "    \n",
    "    try: \n",
    "        ad_info['priceCurrency'] = j1['offers']['priceCurrency'] \n",
    "    except: \n",
    "        pass\n",
    "    \n",
    "    try: \n",
    "        ad_info['car_url'] = j1['offers']['url'] \n",
    "    except: \n",
    "        pass\n",
    "    \n",
    "\n",
    "    ad_info['parsing_unixtime'] = time.time()\n",
    "\n",
    "    return ad_info"
   ]
  },
  {
   "cell_type": "code",
   "execution_count": null,
   "id": "8d83fb3c",
   "metadata": {},
   "outputs": [],
   "source": [
    "time_start = datetime.datetime.now()\n",
    "makes = ['', 'renault', 'toyota', 'mercedes', 'audi', 'hyundai', 'ford']\n",
    "makes = ['vaz', 'chevrolet', 'mitsubishi', 'volkswagen']\n",
    "for make in makes:\n",
    "    df = pd.DataFrame(columns=perks)\n",
    "    print(f'{make=}')\n",
    "    url = 'https://auto.ru/cars/' + make + '/all/'\n",
    "    rng = range(1, 100)\n",
    "    for page_num in rng:\n",
    "        if page_num <=1:\n",
    "            page_url = url\n",
    "        else:\n",
    "            page_url = url + page_suffix + str(page_num)\n",
    "        res = requests.get(page_url, headers=headers)\n",
    "        code = BeautifulSoup(res.content, 'html.parser')\n",
    "        ad_links = code.find_all(\"a\", class_=\"ListingItemTitle__link\")\n",
    "        for l in ad_links:\n",
    "            link = l['href']\n",
    "            print(f'{page_num = }  __  {link = }')\n",
    "            car_info = get_ad_info(link, headers, perks)\n",
    "            if car_info is None:\n",
    "                pass\n",
    "            else:\n",
    "                df = df.append(car_info, ignore_index=True,)\n",
    "            time.sleep(0.5)\n",
    "    time_passed = datetime.datetime.now() - time_start\n",
    "    print(f'{time_passed=}')\n",
    "    df.to_csv('project6' + make + '.csv')"
   ]
  },
  {
   "cell_type": "markdown",
   "id": "aae6476e",
   "metadata": {},
   "source": [
    "# Работа с данными"
   ]
  },
  {
   "cell_type": "code",
   "execution_count": 263,
   "id": "bd576df0",
   "metadata": {},
   "outputs": [
    {
     "name": "stdout",
     "output_type": "stream",
     "text": [
      "<class 'pandas.core.frame.DataFrame'>\n",
      "RangeIndex: 28673 entries, 0 to 28672\n",
      "Data columns (total 35 columns):\n",
      " #   Column                Non-Null Count  Dtype  \n",
      "---  ------                --------------  -----  \n",
      " 0   index                 28673 non-null  int64  \n",
      " 1   Unnamed: 0            28673 non-null  int64  \n",
      " 2   Владельцы             21776 non-null  object \n",
      " 3   Владение              3273 non-null   object \n",
      " 4   ПТС                   21776 non-null  object \n",
      " 5   Привод                21776 non-null  object \n",
      " 6   Руль                  21776 non-null  object \n",
      " 7   Состояние             21776 non-null  object \n",
      " 8   Таможня               21776 non-null  object \n",
      " 9   bodyType              28673 non-null  object \n",
      " 10  brand                 28673 non-null  object \n",
      " 11  color                 28673 non-null  object \n",
      " 12  complectation_dict    28670 non-null  object \n",
      " 13  description           28673 non-null  object \n",
      " 14  engineDisplacement    28673 non-null  object \n",
      " 15  enginePower           28673 non-null  object \n",
      " 16  equipment_dict        28673 non-null  object \n",
      " 17  fuelType              28673 non-null  object \n",
      " 18  image                 28673 non-null  object \n",
      " 19  mileage               28673 non-null  int64  \n",
      " 20  modelDate             28673 non-null  int64  \n",
      " 21  model_info            28673 non-null  object \n",
      " 22  model_name            28673 non-null  object \n",
      " 23  name                  28673 non-null  object \n",
      " 24  numberOfDoors         28673 non-null  int64  \n",
      " 25  parsing_unixtime      28673 non-null  float64\n",
      " 26  priceCurrency         28673 non-null  object \n",
      " 27  productionDate        28673 non-null  int64  \n",
      " 28  sell_id               28673 non-null  object \n",
      " 29  super_gen             28673 non-null  object \n",
      " 30  vehicleConfiguration  28673 non-null  object \n",
      " 31  vehicleTransmission   28673 non-null  object \n",
      " 32  vendor                28668 non-null  object \n",
      " 33  car_url               28673 non-null  object \n",
      " 34  price                 28345 non-null  float64\n",
      "dtypes: float64(2), int64(6), object(27)\n",
      "memory usage: 7.7+ MB\n"
     ]
    }
   ],
   "source": [
    "df = pd.read_csv('project6.csv')\n",
    "df = df.append(pd.read_csv('project6audi.csv'))\n",
    "df = df.append(pd.read_csv('project6_ford_1.csv'))\n",
    "df = df.append(pd.read_csv('project6_ford_3.csv'))\n",
    "df = df.append(pd.read_csv('project6_ford_4.csv'))\n",
    "df = df.append(pd.read_csv('project6hyundai.csv'))\n",
    "df = df.append(pd.read_csv('project6mercedes.csv'))\n",
    "df = df.append(pd.read_csv('project6renault.csv'))\n",
    "df = df.append(pd.read_csv('project6toyota.csv'))\n",
    "df = df.append(pd.read_csv('project6vaz.csv'))\n",
    "df.reset_index(inplace=True)\n",
    "df.info()"
   ]
  },
  {
   "cell_type": "code",
   "execution_count": 264,
   "id": "fa9d2064",
   "metadata": {},
   "outputs": [
    {
     "name": "stdout",
     "output_type": "stream",
     "text": [
      "<class 'pandas.core.frame.DataFrame'>\n",
      "Int64Index: 63359 entries, 0 to 34685\n",
      "Data columns (total 36 columns):\n",
      " #   Column                Non-Null Count  Dtype  \n",
      "---  ------                --------------  -----  \n",
      " 0   index                 28673 non-null  float64\n",
      " 1   Unnamed: 0            28673 non-null  float64\n",
      " 2   Владельцы             56462 non-null  object \n",
      " 3   Владение              15268 non-null  object \n",
      " 4   ПТС                   56461 non-null  object \n",
      " 5   Привод                56462 non-null  object \n",
      " 6   Руль                  56462 non-null  object \n",
      " 7   Состояние             56462 non-null  object \n",
      " 8   Таможня               56462 non-null  object \n",
      " 9   bodyType              63359 non-null  object \n",
      " 10  brand                 63359 non-null  object \n",
      " 11  color                 63359 non-null  object \n",
      " 12  complectation_dict    35088 non-null  object \n",
      " 13  description           63359 non-null  object \n",
      " 14  engineDisplacement    63359 non-null  object \n",
      " 15  enginePower           63359 non-null  object \n",
      " 16  equipment_dict        53363 non-null  object \n",
      " 17  fuelType              63359 non-null  object \n",
      " 18  image                 63359 non-null  object \n",
      " 19  mileage               63359 non-null  int64  \n",
      " 20  modelDate             63359 non-null  int64  \n",
      " 21  model_info            63359 non-null  object \n",
      " 22  model_name            63359 non-null  object \n",
      " 23  name                  63359 non-null  object \n",
      " 24  numberOfDoors         63359 non-null  int64  \n",
      " 25  parsing_unixtime      63359 non-null  float64\n",
      " 26  priceCurrency         63359 non-null  object \n",
      " 27  productionDate        63359 non-null  int64  \n",
      " 28  sell_id               63359 non-null  object \n",
      " 29  super_gen             63359 non-null  object \n",
      " 30  vehicleConfiguration  63359 non-null  object \n",
      " 31  vehicleTransmission   63359 non-null  object \n",
      " 32  vendor                63354 non-null  object \n",
      " 33  car_url               63359 non-null  object \n",
      " 34  price                 28345 non-null  float64\n",
      " 35  train                 63359 non-null  int64  \n",
      "dtypes: float64(4), int64(5), object(27)\n",
      "memory usage: 17.9+ MB\n"
     ]
    }
   ],
   "source": [
    "df['train'] = 1\n",
    "df_test = pd.read_csv('test.csv')\n",
    "df_test['train'] = 0\n",
    "df = df.append(df_test)\n",
    "\n",
    "df.info()"
   ]
  },
  {
   "cell_type": "code",
   "execution_count": 265,
   "id": "44914536",
   "metadata": {},
   "outputs": [
    {
     "data": {
      "text/plain": [
       "Index(['index', 'Unnamed: 0', 'Владельцы', 'Владение', 'ПТС', 'Привод', 'Руль',\n",
       "       'Состояние', 'Таможня', 'bodyType', 'brand', 'color',\n",
       "       'complectation_dict', 'description', 'engineDisplacement',\n",
       "       'enginePower', 'equipment_dict', 'fuelType', 'image', 'mileage',\n",
       "       'modelDate', 'model_info', 'model_name', 'name', 'numberOfDoors',\n",
       "       'parsing_unixtime', 'priceCurrency', 'productionDate', 'sell_id',\n",
       "       'super_gen', 'vehicleConfiguration', 'vehicleTransmission', 'vendor',\n",
       "       'car_url', 'price', 'train'],\n",
       "      dtype='object')"
      ]
     },
     "execution_count": 265,
     "metadata": {},
     "output_type": "execute_result"
    }
   ],
   "source": [
    "df.columns"
   ]
  },
  {
   "cell_type": "code",
   "execution_count": 266,
   "id": "95f262e2",
   "metadata": {
    "scrolled": true
   },
   "outputs": [
    {
     "data": {
      "text/html": [
       "<div>\n",
       "<style scoped>\n",
       "    .dataframe tbody tr th:only-of-type {\n",
       "        vertical-align: middle;\n",
       "    }\n",
       "\n",
       "    .dataframe tbody tr th {\n",
       "        vertical-align: top;\n",
       "    }\n",
       "\n",
       "    .dataframe thead th {\n",
       "        text-align: right;\n",
       "    }\n",
       "</style>\n",
       "<table border=\"1\" class=\"dataframe\">\n",
       "  <thead>\n",
       "    <tr style=\"text-align: right;\">\n",
       "      <th></th>\n",
       "      <th>index</th>\n",
       "      <th>Unnamed: 0</th>\n",
       "      <th>Владельцы</th>\n",
       "      <th>Владение</th>\n",
       "      <th>ПТС</th>\n",
       "      <th>Привод</th>\n",
       "      <th>Руль</th>\n",
       "      <th>Состояние</th>\n",
       "      <th>Таможня</th>\n",
       "      <th>bodyType</th>\n",
       "      <th>...</th>\n",
       "      <th>priceCurrency</th>\n",
       "      <th>productionDate</th>\n",
       "      <th>sell_id</th>\n",
       "      <th>super_gen</th>\n",
       "      <th>vehicleConfiguration</th>\n",
       "      <th>vehicleTransmission</th>\n",
       "      <th>vendor</th>\n",
       "      <th>car_url</th>\n",
       "      <th>price</th>\n",
       "      <th>train</th>\n",
       "    </tr>\n",
       "  </thead>\n",
       "  <tbody>\n",
       "    <tr>\n",
       "      <th>27074</th>\n",
       "      <td>2048.0</td>\n",
       "      <td>2048.0</td>\n",
       "      <td>2 владельца</td>\n",
       "      <td>NaN</td>\n",
       "      <td>Оригинал</td>\n",
       "      <td>передний</td>\n",
       "      <td>Левый</td>\n",
       "      <td>Не требует ремонта</td>\n",
       "      <td>Растаможен</td>\n",
       "      <td>седан</td>\n",
       "      <td>...</td>\n",
       "      <td>RUB</td>\n",
       "      <td>2013</td>\n",
       "      <td>1105667235-8412f67b</td>\n",
       "      <td>{'id': '7684102', 'name': 'I', 'ru_name': '1',...</td>\n",
       "      <td>SEDAN MECHANICAL 1.6</td>\n",
       "      <td>механическая</td>\n",
       "      <td>RUSSIAN</td>\n",
       "      <td>https://auto.ru/cars/used/sale/vaz/granta/1105...</td>\n",
       "      <td>314000.0</td>\n",
       "      <td>1</td>\n",
       "    </tr>\n",
       "    <tr>\n",
       "      <th>6811</th>\n",
       "      <td>NaN</td>\n",
       "      <td>NaN</td>\n",
       "      <td>3 или более</td>\n",
       "      <td>2 года и 8 месяцев</td>\n",
       "      <td>Оригинал</td>\n",
       "      <td>задний</td>\n",
       "      <td>Левый</td>\n",
       "      <td>Не требует ремонта</td>\n",
       "      <td>Растаможен</td>\n",
       "      <td>седан</td>\n",
       "      <td>...</td>\n",
       "      <td>RUB</td>\n",
       "      <td>1995</td>\n",
       "      <td>1101086002</td>\n",
       "      <td>{\"id\":\"20284330\",\"displacement\":2922,\"engine_t...</td>\n",
       "      <td>SEDAN AUTOMATIC 2.9</td>\n",
       "      <td>автоматическая</td>\n",
       "      <td>EUROPEAN</td>\n",
       "      <td>https://auto.ru/cars/used/sale/volvo/960/11010...</td>\n",
       "      <td>NaN</td>\n",
       "      <td>0</td>\n",
       "    </tr>\n",
       "    <tr>\n",
       "      <th>12600</th>\n",
       "      <td>2336.0</td>\n",
       "      <td>2336.0</td>\n",
       "      <td>NaN</td>\n",
       "      <td>NaN</td>\n",
       "      <td>NaN</td>\n",
       "      <td>NaN</td>\n",
       "      <td>NaN</td>\n",
       "      <td>NaN</td>\n",
       "      <td>NaN</td>\n",
       "      <td>седан</td>\n",
       "      <td>...</td>\n",
       "      <td>RUB</td>\n",
       "      <td>2021</td>\n",
       "      <td>1105474455-bc73e189</td>\n",
       "      <td>{'id': '21796089', 'name': 'II Рестайлинг', 'r...</td>\n",
       "      <td>SEDAN AUTOMATIC 1.6</td>\n",
       "      <td>автоматическая</td>\n",
       "      <td>KOREAN</td>\n",
       "      <td>https://auto.ru/cars/new/group/hyundai/solaris...</td>\n",
       "      <td>1591025.0</td>\n",
       "      <td>1</td>\n",
       "    </tr>\n",
       "  </tbody>\n",
       "</table>\n",
       "<p>3 rows × 36 columns</p>\n",
       "</div>"
      ],
      "text/plain": [
       "        index  Unnamed: 0    Владельцы            Владение       ПТС  \\\n",
       "27074  2048.0      2048.0  2 владельца                 NaN  Оригинал   \n",
       "6811      NaN         NaN  3 или более  2 года и 8 месяцев  Оригинал   \n",
       "12600  2336.0      2336.0          NaN                 NaN       NaN   \n",
       "\n",
       "         Привод   Руль           Состояние     Таможня bodyType  ...  \\\n",
       "27074  передний  Левый  Не требует ремонта  Растаможен    седан  ...   \n",
       "6811     задний  Левый  Не требует ремонта  Растаможен    седан  ...   \n",
       "12600       NaN    NaN                 NaN         NaN    седан  ...   \n",
       "\n",
       "      priceCurrency productionDate              sell_id  \\\n",
       "27074           RUB           2013  1105667235-8412f67b   \n",
       "6811            RUB           1995           1101086002   \n",
       "12600           RUB           2021  1105474455-bc73e189   \n",
       "\n",
       "                                               super_gen  \\\n",
       "27074  {'id': '7684102', 'name': 'I', 'ru_name': '1',...   \n",
       "6811   {\"id\":\"20284330\",\"displacement\":2922,\"engine_t...   \n",
       "12600  {'id': '21796089', 'name': 'II Рестайлинг', 'r...   \n",
       "\n",
       "       vehicleConfiguration vehicleTransmission    vendor  \\\n",
       "27074  SEDAN MECHANICAL 1.6        механическая   RUSSIAN   \n",
       "6811    SEDAN AUTOMATIC 2.9      автоматическая  EUROPEAN   \n",
       "12600   SEDAN AUTOMATIC 1.6      автоматическая    KOREAN   \n",
       "\n",
       "                                                 car_url      price  train  \n",
       "27074  https://auto.ru/cars/used/sale/vaz/granta/1105...   314000.0      1  \n",
       "6811   https://auto.ru/cars/used/sale/volvo/960/11010...        NaN      0  \n",
       "12600  https://auto.ru/cars/new/group/hyundai/solaris...  1591025.0      1  \n",
       "\n",
       "[3 rows x 36 columns]"
      ]
     },
     "execution_count": 266,
     "metadata": {},
     "output_type": "execute_result"
    }
   ],
   "source": [
    "df.sample(3)"
   ]
  },
  {
   "cell_type": "code",
   "execution_count": 267,
   "id": "6ebe5e4b",
   "metadata": {},
   "outputs": [],
   "source": [
    "#выделим признаки, с которыми будем работать\n",
    "columns = ['sell_id','Владельцы','ПТС','Таможня','Привод','Руль','Состояние','mileage','bodyType','color','engineDisplacement','enginePower',\n",
    "              'fuelType','vehicleTransmission','numberOfDoors','productionDate','vendor','price', 'train']\n",
    "# убираем \"Владение\" т.к. очень мало информации, modelDate скорее всего будет коррелировать с датой выпуска-сразу удалим признак.\n",
    "#'vehicleConfiguration' и 'name' удаляем т.к. у нас уже есть вся информация. Признак brand удаляем."
   ]
  },
  {
   "cell_type": "code",
   "execution_count": 268,
   "id": "c212661f",
   "metadata": {
    "scrolled": true
   },
   "outputs": [
    {
     "data": {
      "text/html": [
       "<div>\n",
       "<style scoped>\n",
       "    .dataframe tbody tr th:only-of-type {\n",
       "        vertical-align: middle;\n",
       "    }\n",
       "\n",
       "    .dataframe tbody tr th {\n",
       "        vertical-align: top;\n",
       "    }\n",
       "\n",
       "    .dataframe thead th {\n",
       "        text-align: right;\n",
       "    }\n",
       "</style>\n",
       "<table border=\"1\" class=\"dataframe\">\n",
       "  <thead>\n",
       "    <tr style=\"text-align: right;\">\n",
       "      <th></th>\n",
       "      <th>sell_id</th>\n",
       "      <th>Владельцы</th>\n",
       "      <th>ПТС</th>\n",
       "      <th>Таможня</th>\n",
       "      <th>Привод</th>\n",
       "      <th>Руль</th>\n",
       "      <th>Состояние</th>\n",
       "      <th>mileage</th>\n",
       "      <th>bodyType</th>\n",
       "      <th>color</th>\n",
       "      <th>engineDisplacement</th>\n",
       "      <th>enginePower</th>\n",
       "      <th>fuelType</th>\n",
       "      <th>vehicleTransmission</th>\n",
       "      <th>numberOfDoors</th>\n",
       "      <th>productionDate</th>\n",
       "      <th>vendor</th>\n",
       "      <th>price</th>\n",
       "      <th>train</th>\n",
       "    </tr>\n",
       "  </thead>\n",
       "  <tbody>\n",
       "    <tr>\n",
       "      <th>0</th>\n",
       "      <td>1105117076-5afcca8a</td>\n",
       "      <td>NaN</td>\n",
       "      <td>NaN</td>\n",
       "      <td>NaN</td>\n",
       "      <td>NaN</td>\n",
       "      <td>NaN</td>\n",
       "      <td>NaN</td>\n",
       "      <td>0</td>\n",
       "      <td>купе</td>\n",
       "      <td>чёрный</td>\n",
       "      <td>2.0 LTR</td>\n",
       "      <td>197 N12</td>\n",
       "      <td>бензин</td>\n",
       "      <td>автоматическая</td>\n",
       "      <td>2</td>\n",
       "      <td>2020</td>\n",
       "      <td>EUROPEAN</td>\n",
       "      <td>5360064.0</td>\n",
       "      <td>1</td>\n",
       "    </tr>\n",
       "    <tr>\n",
       "      <th>1</th>\n",
       "      <td>1105828980-edee6d5a</td>\n",
       "      <td>1 владелец</td>\n",
       "      <td>Оригинал</td>\n",
       "      <td>Растаможен</td>\n",
       "      <td>полный</td>\n",
       "      <td>Левый</td>\n",
       "      <td>Не требует ремонта</td>\n",
       "      <td>62000</td>\n",
       "      <td>внедорожник 5 дв.</td>\n",
       "      <td>пурпурный</td>\n",
       "      <td>2.5 LTR</td>\n",
       "      <td>180 N12</td>\n",
       "      <td>бензин</td>\n",
       "      <td>автоматическая</td>\n",
       "      <td>5</td>\n",
       "      <td>2018</td>\n",
       "      <td>JAPANESE</td>\n",
       "      <td>2295000.0</td>\n",
       "      <td>1</td>\n",
       "    </tr>\n",
       "    <tr>\n",
       "      <th>2</th>\n",
       "      <td>1105892143-a25eb3c3</td>\n",
       "      <td>3 или более</td>\n",
       "      <td>Дубликат</td>\n",
       "      <td>Растаможен</td>\n",
       "      <td>передний</td>\n",
       "      <td>Левый</td>\n",
       "      <td>Не требует ремонта</td>\n",
       "      <td>185566</td>\n",
       "      <td>седан</td>\n",
       "      <td>серый</td>\n",
       "      <td>1.6 LTR</td>\n",
       "      <td>115 N12</td>\n",
       "      <td>бензин</td>\n",
       "      <td>механическая</td>\n",
       "      <td>4</td>\n",
       "      <td>2006</td>\n",
       "      <td>EUROPEAN</td>\n",
       "      <td>320000.0</td>\n",
       "      <td>1</td>\n",
       "    </tr>\n",
       "    <tr>\n",
       "      <th>3</th>\n",
       "      <td>1105979835-fca730a5</td>\n",
       "      <td>NaN</td>\n",
       "      <td>NaN</td>\n",
       "      <td>NaN</td>\n",
       "      <td>NaN</td>\n",
       "      <td>NaN</td>\n",
       "      <td>NaN</td>\n",
       "      <td>0</td>\n",
       "      <td>внедорожник 5 дв.</td>\n",
       "      <td>серебристый</td>\n",
       "      <td>2.0 LTR</td>\n",
       "      <td>149 N12</td>\n",
       "      <td>бензин</td>\n",
       "      <td>автоматическая</td>\n",
       "      <td>5</td>\n",
       "      <td>2021</td>\n",
       "      <td>KOREAN</td>\n",
       "      <td>1520000.0</td>\n",
       "      <td>1</td>\n",
       "    </tr>\n",
       "    <tr>\n",
       "      <th>4</th>\n",
       "      <td>1106014848-0b67bbc0</td>\n",
       "      <td>3 или более</td>\n",
       "      <td>Дубликат</td>\n",
       "      <td>Растаможен</td>\n",
       "      <td>передний</td>\n",
       "      <td>Правый</td>\n",
       "      <td>Не требует ремонта</td>\n",
       "      <td>300000</td>\n",
       "      <td>хэтчбек 5 дв.</td>\n",
       "      <td>розовый</td>\n",
       "      <td>1.0 LTR</td>\n",
       "      <td>70 N12</td>\n",
       "      <td>бензин</td>\n",
       "      <td>автоматическая</td>\n",
       "      <td>5</td>\n",
       "      <td>2000</td>\n",
       "      <td>JAPANESE</td>\n",
       "      <td>175000.0</td>\n",
       "      <td>1</td>\n",
       "    </tr>\n",
       "    <tr>\n",
       "      <th>...</th>\n",
       "      <td>...</td>\n",
       "      <td>...</td>\n",
       "      <td>...</td>\n",
       "      <td>...</td>\n",
       "      <td>...</td>\n",
       "      <td>...</td>\n",
       "      <td>...</td>\n",
       "      <td>...</td>\n",
       "      <td>...</td>\n",
       "      <td>...</td>\n",
       "      <td>...</td>\n",
       "      <td>...</td>\n",
       "      <td>...</td>\n",
       "      <td>...</td>\n",
       "      <td>...</td>\n",
       "      <td>...</td>\n",
       "      <td>...</td>\n",
       "      <td>...</td>\n",
       "      <td>...</td>\n",
       "    </tr>\n",
       "    <tr>\n",
       "      <th>34681</th>\n",
       "      <td>1101369263</td>\n",
       "      <td>3 или более</td>\n",
       "      <td>Оригинал</td>\n",
       "      <td>Растаможен</td>\n",
       "      <td>задний</td>\n",
       "      <td>Левый</td>\n",
       "      <td>Не требует ремонта</td>\n",
       "      <td>115000</td>\n",
       "      <td>седан</td>\n",
       "      <td>коричневый</td>\n",
       "      <td>1.6 LTR</td>\n",
       "      <td>136 N12</td>\n",
       "      <td>бензин</td>\n",
       "      <td>автоматическая</td>\n",
       "      <td>4</td>\n",
       "      <td>2014</td>\n",
       "      <td>EUROPEAN</td>\n",
       "      <td>NaN</td>\n",
       "      <td>0</td>\n",
       "    </tr>\n",
       "    <tr>\n",
       "      <th>34682</th>\n",
       "      <td>1101369581</td>\n",
       "      <td>1 владелец</td>\n",
       "      <td>Оригинал</td>\n",
       "      <td>Растаможен</td>\n",
       "      <td>полный</td>\n",
       "      <td>Левый</td>\n",
       "      <td>Не требует ремонта</td>\n",
       "      <td>98000</td>\n",
       "      <td>седан</td>\n",
       "      <td>чёрный</td>\n",
       "      <td>2.0 LTR</td>\n",
       "      <td>190 N12</td>\n",
       "      <td>дизель</td>\n",
       "      <td>автоматическая</td>\n",
       "      <td>4</td>\n",
       "      <td>2018</td>\n",
       "      <td>EUROPEAN</td>\n",
       "      <td>NaN</td>\n",
       "      <td>0</td>\n",
       "    </tr>\n",
       "    <tr>\n",
       "      <th>34683</th>\n",
       "      <td>1101364889</td>\n",
       "      <td>3 или более</td>\n",
       "      <td>Дубликат</td>\n",
       "      <td>Растаможен</td>\n",
       "      <td>задний</td>\n",
       "      <td>Левый</td>\n",
       "      <td>Не требует ремонта</td>\n",
       "      <td>360000</td>\n",
       "      <td>седан</td>\n",
       "      <td>серый</td>\n",
       "      <td>2.5 LTR</td>\n",
       "      <td>170 N12</td>\n",
       "      <td>бензин</td>\n",
       "      <td>автоматическая</td>\n",
       "      <td>4</td>\n",
       "      <td>1997</td>\n",
       "      <td>EUROPEAN</td>\n",
       "      <td>NaN</td>\n",
       "      <td>0</td>\n",
       "    </tr>\n",
       "    <tr>\n",
       "      <th>34684</th>\n",
       "      <td>1101362518</td>\n",
       "      <td>2 владельца</td>\n",
       "      <td>Оригинал</td>\n",
       "      <td>Растаможен</td>\n",
       "      <td>полный</td>\n",
       "      <td>Левый</td>\n",
       "      <td>Не требует ремонта</td>\n",
       "      <td>90500</td>\n",
       "      <td>внедорожник 5 дв.</td>\n",
       "      <td>коричневый</td>\n",
       "      <td>2.0 LTR</td>\n",
       "      <td>184 N12</td>\n",
       "      <td>дизель</td>\n",
       "      <td>автоматическая</td>\n",
       "      <td>5</td>\n",
       "      <td>2013</td>\n",
       "      <td>EUROPEAN</td>\n",
       "      <td>NaN</td>\n",
       "      <td>0</td>\n",
       "    </tr>\n",
       "    <tr>\n",
       "      <th>34685</th>\n",
       "      <td>1101256068</td>\n",
       "      <td>3 или более</td>\n",
       "      <td>Оригинал</td>\n",
       "      <td>Растаможен</td>\n",
       "      <td>полный</td>\n",
       "      <td>Левый</td>\n",
       "      <td>Не требует ремонта</td>\n",
       "      <td>240000</td>\n",
       "      <td>внедорожник 5 дв.</td>\n",
       "      <td>чёрный</td>\n",
       "      <td>3.0 LTR</td>\n",
       "      <td>235 N12</td>\n",
       "      <td>дизель</td>\n",
       "      <td>автоматическая</td>\n",
       "      <td>5</td>\n",
       "      <td>2008</td>\n",
       "      <td>EUROPEAN</td>\n",
       "      <td>NaN</td>\n",
       "      <td>0</td>\n",
       "    </tr>\n",
       "  </tbody>\n",
       "</table>\n",
       "<p>63359 rows × 19 columns</p>\n",
       "</div>"
      ],
      "text/plain": [
       "                   sell_id    Владельцы       ПТС     Таможня    Привод  \\\n",
       "0      1105117076-5afcca8a          NaN       NaN         NaN       NaN   \n",
       "1      1105828980-edee6d5a   1 владелец  Оригинал  Растаможен    полный   \n",
       "2      1105892143-a25eb3c3  3 или более  Дубликат  Растаможен  передний   \n",
       "3      1105979835-fca730a5          NaN       NaN         NaN       NaN   \n",
       "4      1106014848-0b67bbc0  3 или более  Дубликат  Растаможен  передний   \n",
       "...                    ...          ...       ...         ...       ...   \n",
       "34681           1101369263  3 или более  Оригинал  Растаможен    задний   \n",
       "34682           1101369581   1 владелец  Оригинал  Растаможен    полный   \n",
       "34683           1101364889  3 или более  Дубликат  Растаможен    задний   \n",
       "34684           1101362518  2 владельца  Оригинал  Растаможен    полный   \n",
       "34685           1101256068  3 или более  Оригинал  Растаможен    полный   \n",
       "\n",
       "         Руль           Состояние  mileage           bodyType        color  \\\n",
       "0         NaN                 NaN        0               купе       чёрный   \n",
       "1       Левый  Не требует ремонта    62000  внедорожник 5 дв.    пурпурный   \n",
       "2       Левый  Не требует ремонта   185566              седан        серый   \n",
       "3         NaN                 NaN        0  внедорожник 5 дв.  серебристый   \n",
       "4      Правый  Не требует ремонта   300000      хэтчбек 5 дв.      розовый   \n",
       "...       ...                 ...      ...                ...          ...   \n",
       "34681   Левый  Не требует ремонта   115000              седан   коричневый   \n",
       "34682   Левый  Не требует ремонта    98000              седан       чёрный   \n",
       "34683   Левый  Не требует ремонта   360000              седан        серый   \n",
       "34684   Левый  Не требует ремонта    90500  внедорожник 5 дв.   коричневый   \n",
       "34685   Левый  Не требует ремонта   240000  внедорожник 5 дв.       чёрный   \n",
       "\n",
       "      engineDisplacement enginePower fuelType vehicleTransmission  \\\n",
       "0                2.0 LTR     197 N12   бензин      автоматическая   \n",
       "1                2.5 LTR     180 N12   бензин      автоматическая   \n",
       "2                1.6 LTR     115 N12   бензин        механическая   \n",
       "3                2.0 LTR     149 N12   бензин      автоматическая   \n",
       "4                1.0 LTR      70 N12   бензин      автоматическая   \n",
       "...                  ...         ...      ...                 ...   \n",
       "34681            1.6 LTR     136 N12   бензин      автоматическая   \n",
       "34682            2.0 LTR     190 N12   дизель      автоматическая   \n",
       "34683            2.5 LTR     170 N12   бензин      автоматическая   \n",
       "34684            2.0 LTR     184 N12   дизель      автоматическая   \n",
       "34685            3.0 LTR     235 N12   дизель      автоматическая   \n",
       "\n",
       "       numberOfDoors  productionDate    vendor      price  train  \n",
       "0                  2            2020  EUROPEAN  5360064.0      1  \n",
       "1                  5            2018  JAPANESE  2295000.0      1  \n",
       "2                  4            2006  EUROPEAN   320000.0      1  \n",
       "3                  5            2021    KOREAN  1520000.0      1  \n",
       "4                  5            2000  JAPANESE   175000.0      1  \n",
       "...              ...             ...       ...        ...    ...  \n",
       "34681              4            2014  EUROPEAN        NaN      0  \n",
       "34682              4            2018  EUROPEAN        NaN      0  \n",
       "34683              4            1997  EUROPEAN        NaN      0  \n",
       "34684              5            2013  EUROPEAN        NaN      0  \n",
       "34685              5            2008  EUROPEAN        NaN      0  \n",
       "\n",
       "[63359 rows x 19 columns]"
      ]
     },
     "execution_count": 268,
     "metadata": {},
     "output_type": "execute_result"
    }
   ],
   "source": [
    "#датасет с выбранными выше признаками\n",
    "df = df[columns]\n",
    "df"
   ]
  },
  {
   "cell_type": "code",
   "execution_count": 269,
   "id": "fc1be6ea",
   "metadata": {},
   "outputs": [],
   "source": [
    "#уадаляем дубликаты по sell_id\n",
    "df.drop_duplicates(subset=['sell_id'],inplace = True)"
   ]
  },
  {
   "cell_type": "code",
   "execution_count": 271,
   "id": "33a66098",
   "metadata": {},
   "outputs": [
    {
     "name": "stdout",
     "output_type": "stream",
     "text": [
      "<class 'pandas.core.frame.DataFrame'>\n",
      "Int64Index: 60388 entries, 0 to 34685\n",
      "Data columns (total 19 columns):\n",
      " #   Column               Non-Null Count  Dtype  \n",
      "---  ------               --------------  -----  \n",
      " 0   sell_id              60388 non-null  object \n",
      " 1   Владельцы            54492 non-null  object \n",
      " 2   ПТС                  54491 non-null  object \n",
      " 3   Таможня              54492 non-null  object \n",
      " 4   Привод               54492 non-null  object \n",
      " 5   Руль                 54492 non-null  object \n",
      " 6   Состояние            54492 non-null  object \n",
      " 7   mileage              60388 non-null  int64  \n",
      " 8   bodyType             60388 non-null  object \n",
      " 9   color                60388 non-null  object \n",
      " 10  engineDisplacement   60388 non-null  object \n",
      " 11  enginePower          60388 non-null  object \n",
      " 12  fuelType             60388 non-null  object \n",
      " 13  vehicleTransmission  60388 non-null  object \n",
      " 14  numberOfDoors        60388 non-null  int64  \n",
      " 15  productionDate       60388 non-null  int64  \n",
      " 16  vendor               60383 non-null  object \n",
      " 17  price                25375 non-null  float64\n",
      " 18  train                60388 non-null  int64  \n",
      "dtypes: float64(1), int64(4), object(14)\n",
      "memory usage: 9.2+ MB\n"
     ]
    }
   ],
   "source": [
    "df.info()"
   ]
  },
  {
   "cell_type": "code",
   "execution_count": 272,
   "id": "b1229d57",
   "metadata": {},
   "outputs": [
    {
     "data": {
      "text/plain": [
       "<AxesSubplot:>"
      ]
     },
     "execution_count": 272,
     "metadata": {},
     "output_type": "execute_result"
    },
    {
     "data": {
      "image/png": "[encoded data removed]",
      "text/plain": [
       "<Figure size 2160x2160 with 2 Axes>"
      ]
     },
     "metadata": {
      "needs_background": "light"
     },
     "output_type": "display_data"
    }
   ],
   "source": [
    "#Построим график пропусков\n",
    "plt.subplots(figsize=(30, 30))\n",
    "sns.heatmap(df.isnull())"
   ]
  },
  {
   "cell_type": "code",
   "execution_count": 273,
   "id": "55c660f9",
   "metadata": {},
   "outputs": [],
   "source": [
    "#удаляем пропуски где нет цены\n",
    "df.dropna(subset=['price'],inplace = True)"
   ]
  },
  {
   "cell_type": "code",
   "execution_count": 274,
   "id": "df40185a",
   "metadata": {},
   "outputs": [
    {
     "data": {
      "text/plain": [
       "1 владелец     7670\n",
       "3 или более    7233\n",
       "2 владельца    4576\n",
       "Name: Владельцы, dtype: int64"
      ]
     },
     "execution_count": 274,
     "metadata": {},
     "output_type": "execute_result"
    }
   ],
   "source": [
    "df['Владельцы'].value_counts()"
   ]
  },
  {
   "cell_type": "code",
   "execution_count": 275,
   "id": "b278b082",
   "metadata": {},
   "outputs": [],
   "source": [
    "#предположим что пропуски относятся к новым автомобилям, поэтому заполним их \"0\"\n",
    "df['Владельцы']=df['Владельцы'].fillna(0)"
   ]
  },
  {
   "cell_type": "code",
   "execution_count": 276,
   "id": "f4b8f4b9",
   "metadata": {},
   "outputs": [],
   "source": [
    "df['Владельцы'] = df['Владельцы'].apply(lambda x: 1 if str(x).startswith('1') else 2 if str(x).startswith('2') else 3 if str(x).startswith('3') else x)"
   ]
  },
  {
   "cell_type": "code",
   "execution_count": 277,
   "id": "00ccbaba",
   "metadata": {
    "scrolled": true
   },
   "outputs": [
    {
     "data": {
      "text/plain": [
       "1    25375\n",
       "Name: train, dtype: int64"
      ]
     },
     "execution_count": 277,
     "metadata": {},
     "output_type": "execute_result"
    }
   ],
   "source": [
    "df.train.value_counts()"
   ]
  },
  {
   "cell_type": "code",
   "execution_count": 245,
   "id": "ccf2417d",
   "metadata": {},
   "outputs": [
    {
     "data": {
      "text/plain": [
       "Оригинал    17180\n",
       "Дубликат     2299\n",
       "Name: ПТС, dtype: int64"
      ]
     },
     "execution_count": 245,
     "metadata": {},
     "output_type": "execute_result"
    }
   ],
   "source": [
    "df['ПТС'].value_counts()"
   ]
  },
  {
   "cell_type": "code",
   "execution_count": 246,
   "id": "95ae0fe9",
   "metadata": {
    "scrolled": true
   },
   "outputs": [],
   "source": [
    "df['ПТС'] = df['ПТС'].apply(lambda x: 1 if x == 'Оригинал' else 0)"
   ]
  },
  {
   "cell_type": "code",
   "execution_count": 247,
   "id": "99d15a6d",
   "metadata": {},
   "outputs": [
    {
     "name": "stdout",
     "output_type": "stream",
     "text": [
      "<class 'pandas.core.frame.DataFrame'>\n",
      "Int64Index: 25375 entries, 0 to 28672\n",
      "Data columns (total 19 columns):\n",
      " #   Column               Non-Null Count  Dtype  \n",
      "---  ------               --------------  -----  \n",
      " 0   sell_id              25375 non-null  object \n",
      " 1   Владельцы            25375 non-null  int64  \n",
      " 2   ПТС                  25375 non-null  int64  \n",
      " 3   Таможня              19479 non-null  object \n",
      " 4   Привод               19479 non-null  object \n",
      " 5   Руль                 19479 non-null  object \n",
      " 6   Состояние            19479 non-null  object \n",
      " 7   mileage              25375 non-null  int64  \n",
      " 8   bodyType             25375 non-null  object \n",
      " 9   color                25375 non-null  object \n",
      " 10  engineDisplacement   25375 non-null  object \n",
      " 11  enginePower          25375 non-null  object \n",
      " 12  fuelType             25375 non-null  object \n",
      " 13  vehicleTransmission  25375 non-null  object \n",
      " 14  numberOfDoors        25375 non-null  int64  \n",
      " 15  productionDate       25375 non-null  int64  \n",
      " 16  vendor               25372 non-null  object \n",
      " 17  price                25375 non-null  float64\n",
      " 18  train                25375 non-null  int64  \n",
      "dtypes: float64(1), int64(6), object(12)\n",
      "memory usage: 3.9+ MB\n"
     ]
    }
   ],
   "source": [
    "df.info()"
   ]
  },
  {
   "cell_type": "code",
   "execution_count": 248,
   "id": "9bf90387",
   "metadata": {},
   "outputs": [
    {
     "data": {
      "text/plain": [
       "передний    11207\n",
       "полный       7131\n",
       "задний       1141\n",
       "Name: Привод, dtype: int64"
      ]
     },
     "execution_count": 248,
     "metadata": {},
     "output_type": "execute_result"
    }
   ],
   "source": [
    "df['Привод'].value_counts()# get_dammies"
   ]
  },
  {
   "cell_type": "code",
   "execution_count": 249,
   "id": "a094fc1b",
   "metadata": {},
   "outputs": [],
   "source": [
    "# применяем get_dummies и удаляем признак \"Привод\"\n",
    "df=pd.concat([df, pd.get_dummies(df['Привод'])], axis=1)\n",
    "df.drop(columns=['Привод'], inplace= True)"
   ]
  },
  {
   "cell_type": "code",
   "execution_count": 250,
   "id": "d675f9d8",
   "metadata": {},
   "outputs": [
    {
     "data": {
      "text/plain": [
       "Левый     19122\n",
       "Правый      357\n",
       "Name: Руль, dtype: int64"
      ]
     },
     "execution_count": 250,
     "metadata": {},
     "output_type": "execute_result"
    }
   ],
   "source": [
    "df['Руль'].value_counts()"
   ]
  },
  {
   "cell_type": "code",
   "execution_count": 251,
   "id": "8726efe7",
   "metadata": {},
   "outputs": [
    {
     "name": "stdout",
     "output_type": "stream",
     "text": [
      "AxesSubplot(0.125,0.125;0.775x0.755)\n"
     ]
    },
    {
     "data": {
      "image/png": "[encoded data removed]",
      "text/plain": [
       "<Figure size 432x288 with 1 Axes>"
      ]
     },
     "metadata": {
      "needs_background": "light"
     },
     "output_type": "display_data"
    }
   ],
   "source": [
    "#Проверим корееляцию стороный руля и страны происхождения. очевидно правосторонний руль у автомобилей произвденных в Японии. \n",
    "print(df['vendor'][df['Руль'] == 'Правый'].hist(bins=100))"
   ]
  },
  {
   "cell_type": "code",
   "execution_count": 252,
   "id": "910a5150",
   "metadata": {},
   "outputs": [],
   "source": [
    "#Заполним nans исходя из предыдущего вывода.\n",
    "def fill_steering(row):\n",
    "    if pd.isnull(row['Руль']) and row['vendor'] == 'JAPANESE':\n",
    "        return 1\n",
    "    if pd.isnull(row['Руль']) and row['vendor'] != 'JAPANESE':\n",
    "        return 0\n",
    "    if row['Руль'] == 'Левый':\n",
    "        return 0\n",
    "    if row['Руль'] == 'Правый':\n",
    "        return 1"
   ]
  },
  {
   "cell_type": "code",
   "execution_count": 253,
   "id": "1fc0eace",
   "metadata": {
    "scrolled": true
   },
   "outputs": [],
   "source": [
    "df['Руль']=df.apply(fill_steering, axis=1)# применяем функцию"
   ]
  },
  {
   "cell_type": "code",
   "execution_count": 254,
   "id": "f2e7b8ce",
   "metadata": {},
   "outputs": [
    {
     "data": {
      "text/plain": [
       "Не требует ремонта    19479\n",
       "Name: Состояние, dtype: int64"
      ]
     },
     "execution_count": 254,
     "metadata": {},
     "output_type": "execute_result"
    }
   ],
   "source": [
    "df['Состояние'].value_counts()"
   ]
  },
  {
   "cell_type": "code",
   "execution_count": 255,
   "id": "6bc70639",
   "metadata": {
    "scrolled": true
   },
   "outputs": [],
   "source": [
    "# предположим что пропуски относятся к новым автомобилям, делаем вывод что все автомобили не требуют ремонта\n",
    "# поэтому удаляем признак\n",
    "df.drop(columns=['Состояние'], inplace= True)"
   ]
  },
  {
   "cell_type": "code",
   "execution_count": 192,
   "id": "f5b941ba",
   "metadata": {},
   "outputs": [
    {
     "data": {
      "text/plain": [
       "Растаможен    19479\n",
       "Name: Таможня, dtype: int64"
      ]
     },
     "execution_count": 192,
     "metadata": {},
     "output_type": "execute_result"
    }
   ],
   "source": [
    "df['Таможня'].value_counts()"
   ]
  },
  {
   "cell_type": "code",
   "execution_count": 193,
   "id": "5602e3a6",
   "metadata": {},
   "outputs": [],
   "source": [
    "# предположим что пропуски относятся к автомобилям,который растаможен делаем вывод что все автомобили растаможены\n",
    "# поэтому удаляем признак\n",
    "df.drop(columns=['Таможня'], inplace= True)"
   ]
  },
  {
   "cell_type": "code",
   "execution_count": 194,
   "id": "b3a67d4b",
   "metadata": {},
   "outputs": [
    {
     "data": {
      "text/plain": [
       "внедорожник 5 дв.          9939\n",
       "седан                      8663\n",
       "хэтчбек 5 дв.              2791\n",
       "универсал 5 дв.            1430\n",
       "лифтбек                     619\n",
       "минивэн                     501\n",
       "купе                        396\n",
       "компактвэн                  263\n",
       "хэтчбек 3 дв.               256\n",
       "внедорожник 3 дв.           193\n",
       "пикап двойная кабина        135\n",
       "фургон                       70\n",
       "купе-хардтоп                 47\n",
       "кабриолет                    33\n",
       "родстер                      16\n",
       "пикап полуторная кабина       6\n",
       "микровэн                      4\n",
       "пикап одинарная кабина        4\n",
       "седан-хардтоп                 3\n",
       "внедорожник открытый          2\n",
       "хэтчбек 4 дв.                 2\n",
       "лимузин                       2\n",
       "Name: bodyType, dtype: int64"
      ]
     },
     "execution_count": 194,
     "metadata": {},
     "output_type": "execute_result"
    }
   ],
   "source": [
    "df['bodyType'].value_counts()"
   ]
  },
  {
   "cell_type": "code",
   "execution_count": 195,
   "id": "8f0bdd35",
   "metadata": {},
   "outputs": [],
   "source": [
    "df=pd.concat([df, pd.get_dummies(df['bodyType'])], axis=1) # применяем get_dummies\n",
    "df.drop(columns=['bodyType'], inplace= True)"
   ]
  },
  {
   "cell_type": "code",
   "execution_count": 196,
   "id": "893c2867",
   "metadata": {},
   "outputs": [
    {
     "data": {
      "text/plain": [
       "1    7670\n",
       "3    7233\n",
       "0    5896\n",
       "2    4576\n",
       "Name: Владельцы, dtype: int64"
      ]
     },
     "execution_count": 196,
     "metadata": {},
     "output_type": "execute_result"
    }
   ],
   "source": [
    "df['Владельцы'].value_counts()"
   ]
  },
  {
   "cell_type": "code",
   "execution_count": 197,
   "id": "12ecfec2",
   "metadata": {},
   "outputs": [],
   "source": [
    "df=pd.concat([df, pd.get_dummies(df['color'])], axis=1)\n",
    "df.drop(columns=['color'], inplace= True)"
   ]
  },
  {
   "cell_type": "code",
   "execution_count": 198,
   "id": "189b1bd5",
   "metadata": {},
   "outputs": [
    {
     "data": {
      "text/plain": [
       "1.6 LTR    8584\n",
       "2.0 LTR    5532\n",
       "3.0 LTR    1584\n",
       "2.5 LTR    1228\n",
       "1.8 LTR    1142\n",
       "1.4 LTR    1058\n",
       "1.5 LTR     971\n",
       "3.5 LTR     711\n",
       "1.3 LTR     683\n",
       "4.0 LTR     468\n",
       "2.4 LTR     324\n",
       "2.8 LTR     313\n",
       "2.9 LTR     296\n",
       "2.2 LTR     273\n",
       "1.7 LTR     257\n",
       "2.1 LTR     249\n",
       "2.3 LTR     244\n",
       "4.5 LTR     197\n",
       "2.7 LTR     191\n",
       "5.5 LTR     164\n",
       "4.7 LTR     150\n",
       " LTR         79\n",
       "4.2 LTR      76\n",
       "1.2 LTR      76\n",
       "4.6 LTR      57\n",
       "3.2 LTR      45\n",
       "1.0 LTR      38\n",
       "3.1 LTR      37\n",
       "5.0 LTR      37\n",
       "3.6 LTR      28\n",
       "1.9 LTR      23\n",
       "2.6 LTR      23\n",
       "3.7 LTR      23\n",
       "5.4 LTR      22\n",
       "5.7 LTR      21\n",
       "0.8 LTR      18\n",
       "3.4 LTR      16\n",
       "6.2 LTR      15\n",
       "6.0 LTR      14\n",
       "3.8 LTR      13\n",
       "3.3 LTR      12\n",
       "5.2 LTR      11\n",
       "5.9 LTR       9\n",
       "4.1 LTR       9\n",
       "1.1 LTR       9\n",
       "4.4 LTR       8\n",
       "5.3 LTR       7\n",
       "5.6 LTR       6\n",
       "5.8 LTR       5\n",
       "4.3 LTR       4\n",
       "0.7 LTR       3\n",
       "6.3 LTR       3\n",
       "4.9 LTR       3\n",
       "6.8 LTR       3\n",
       "6.1 LTR       3\n",
       "Name: engineDisplacement, dtype: int64"
      ]
     },
     "execution_count": 198,
     "metadata": {},
     "output_type": "execute_result"
    }
   ],
   "source": [
    "df['engineDisplacement'].value_counts()"
   ]
  },
  {
   "cell_type": "code",
   "execution_count": 199,
   "id": "293b0248",
   "metadata": {},
   "outputs": [],
   "source": [
    "# Преобразуем признак в численный и сразу же удаляем пропуски\n",
    "df['engineDisplacement']=df['engineDisplacement'].apply(lambda x: float(str(x).replace('LTR', '')) if str(x).replace('LTR', '').strip() != '' else None)"
   ]
  },
  {
   "cell_type": "code",
   "execution_count": 200,
   "id": "6bbb096e",
   "metadata": {},
   "outputs": [],
   "source": [
    "df.dropna(subset=['engineDisplacement'],inplace = True)"
   ]
  },
  {
   "cell_type": "code",
   "execution_count": 201,
   "id": "1801aa22",
   "metadata": {
    "scrolled": true
   },
   "outputs": [
    {
     "name": "stdout",
     "output_type": "stream",
     "text": [
      "<class 'pandas.core.frame.DataFrame'>\n",
      "Int64Index: 25296 entries, 0 to 28672\n",
      "Data columns (total 12 columns):\n",
      " #   Column               Non-Null Count  Dtype  \n",
      "---  ------               --------------  -----  \n",
      " 0   Владельцы            25296 non-null  int64  \n",
      " 1   ПТС                  25296 non-null  int64  \n",
      " 2   Руль                 25296 non-null  int64  \n",
      " 3   mileage              25296 non-null  int64  \n",
      " 4   engineDisplacement   25296 non-null  float64\n",
      " 5   enginePower          25296 non-null  object \n",
      " 6   fuelType             25296 non-null  object \n",
      " 7   vehicleTransmission  25296 non-null  object \n",
      " 8   numberOfDoors        25296 non-null  int64  \n",
      " 9   productionDate       25296 non-null  int64  \n",
      " 10  vendor               25293 non-null  object \n",
      " 11  price                25296 non-null  float64\n",
      "dtypes: float64(2), int64(6), object(4)\n",
      "memory usage: 2.5+ MB\n"
     ]
    }
   ],
   "source": [
    "df.loc[:, 'Владельцы':'price'].info()"
   ]
  },
  {
   "cell_type": "code",
   "execution_count": 202,
   "id": "2e2bda56",
   "metadata": {
    "scrolled": true
   },
   "outputs": [
    {
     "data": {
      "text/plain": [
       "<AxesSubplot:>"
      ]
     },
     "execution_count": 202,
     "metadata": {},
     "output_type": "execute_result"
    },
    {
     "data": {
      "image/png": "[encoded data removed]",
      "text/plain": [
       "<Figure size 2160x2160 with 2 Axes>"
      ]
     },
     "metadata": {
      "needs_background": "light"
     },
     "output_type": "display_data"
    }
   ],
   "source": [
    "#Построим график пропусков\n",
    "plt.subplots(figsize=(30, 30))\n",
    "sns.heatmap(df.loc[:, 'Владельцы':'price'].isnull())"
   ]
  },
  {
   "cell_type": "code",
   "execution_count": 203,
   "id": "d11d2743",
   "metadata": {},
   "outputs": [],
   "source": [
    "#удалим пропуски \"vendor\"\n",
    "df.dropna(subset=['vendor'],inplace = True)"
   ]
  },
  {
   "cell_type": "code",
   "execution_count": 204,
   "id": "6fb6cb29",
   "metadata": {
    "scrolled": true
   },
   "outputs": [],
   "source": [
    "df['enginePower'] = df['enginePower'].apply(lambda x: x.split()[0])"
   ]
  },
  {
   "cell_type": "code",
   "execution_count": 205,
   "id": "d7af0e6c",
   "metadata": {},
   "outputs": [
    {
     "data": {
      "text/plain": [
       "0        197\n",
       "1        180\n",
       "2        115\n",
       "3        149\n",
       "4         70\n",
       "        ... \n",
       "28668    122\n",
       "28669     98\n",
       "28670    106\n",
       "28671     87\n",
       "28672    113\n",
       "Name: enginePower, Length: 25293, dtype: object"
      ]
     },
     "execution_count": 205,
     "metadata": {},
     "output_type": "execute_result"
    }
   ],
   "source": [
    "df['enginePower']"
   ]
  },
  {
   "cell_type": "code",
   "execution_count": 206,
   "id": "4dab2a66",
   "metadata": {},
   "outputs": [
    {
     "data": {
      "text/plain": [
       "бензин    21711\n",
       "дизель     3485\n",
       "гибрид       88\n",
       "газ           9\n",
       "Name: fuelType, dtype: int64"
      ]
     },
     "execution_count": 206,
     "metadata": {},
     "output_type": "execute_result"
    }
   ],
   "source": [
    "df['fuelType'].value_counts()"
   ]
  },
  {
   "cell_type": "code",
   "execution_count": 207,
   "id": "2aef29de",
   "metadata": {},
   "outputs": [],
   "source": [
    "df=pd.concat([df, pd.get_dummies(df['fuelType'])], axis=1)# применяем get_dummies\n",
    "df.drop(columns=['fuelType'], inplace= True)"
   ]
  },
  {
   "cell_type": "code",
   "execution_count": 208,
   "id": "e84a162f",
   "metadata": {
    "scrolled": true
   },
   "outputs": [
    {
     "data": {
      "text/plain": [
       "5    15406\n",
       "4     8922\n",
       "2      503\n",
       "3      462\n",
       "Name: numberOfDoors, dtype: int64"
      ]
     },
     "execution_count": 208,
     "metadata": {},
     "output_type": "execute_result"
    }
   ],
   "source": [
    "df['numberOfDoors'].value_counts()#оставляем без изменений"
   ]
  },
  {
   "cell_type": "code",
   "execution_count": 209,
   "id": "4666ae62",
   "metadata": {
    "scrolled": true
   },
   "outputs": [
    {
     "data": {
      "text/plain": [
       "2021    6696\n",
       "2018    1674\n",
       "2017    1513\n",
       "2019    1345\n",
       "2013    1319\n",
       "2012    1315\n",
       "2016    1268\n",
       "2014    1231\n",
       "2015    1131\n",
       "2011    1104\n",
       "2020    1091\n",
       "2008    1048\n",
       "2007     800\n",
       "2010     783\n",
       "2006     535\n",
       "2009     398\n",
       "2005     343\n",
       "2004     263\n",
       "2003     199\n",
       "2001     180\n",
       "2002     173\n",
       "2000     131\n",
       "1997      95\n",
       "1998      92\n",
       "1999      92\n",
       "1993      55\n",
       "1994      53\n",
       "1996      51\n",
       "1995      50\n",
       "1991      49\n",
       "1992      45\n",
       "1987      28\n",
       "1989      27\n",
       "1988      27\n",
       "1990      26\n",
       "1986      10\n",
       "1984       8\n",
       "1985       7\n",
       "1982       6\n",
       "1983       6\n",
       "1974       5\n",
       "1980       3\n",
       "1966       3\n",
       "1978       2\n",
       "1976       2\n",
       "1981       2\n",
       "1975       2\n",
       "1959       2\n",
       "1967       2\n",
       "1977       1\n",
       "1973       1\n",
       "1960       1\n",
       "Name: productionDate, dtype: int64"
      ]
     },
     "execution_count": 209,
     "metadata": {},
     "output_type": "execute_result"
    }
   ],
   "source": [
    "df['productionDate'].value_counts()"
   ]
  },
  {
   "cell_type": "code",
   "execution_count": 210,
   "id": "61de850e",
   "metadata": {
    "scrolled": true
   },
   "outputs": [
    {
     "data": {
      "text/plain": [
       "автоматическая      11634\n",
       "механическая         8597\n",
       "роботизированная     3142\n",
       "вариатор             1920\n",
       "Name: vehicleTransmission, dtype: int64"
      ]
     },
     "execution_count": 210,
     "metadata": {},
     "output_type": "execute_result"
    }
   ],
   "source": [
    "df['vehicleTransmission'].value_counts()"
   ]
  },
  {
   "cell_type": "code",
   "execution_count": 211,
   "id": "207a652a",
   "metadata": {},
   "outputs": [],
   "source": [
    "df=pd.concat([df, pd.get_dummies(df['vehicleTransmission'])], axis=1)\n",
    "df.drop(columns=['vehicleTransmission'], inplace= True)"
   ]
  },
  {
   "cell_type": "code",
   "execution_count": 212,
   "id": "5d6d56e6",
   "metadata": {},
   "outputs": [
    {
     "data": {
      "text/plain": [
       "EUROPEAN    10945\n",
       "KOREAN       3985\n",
       "JAPANESE     3660\n",
       "AMERICAN     3409\n",
       "RUSSIAN      3245\n",
       "CHINESE        49\n",
       "Name: vendor, dtype: int64"
      ]
     },
     "execution_count": 212,
     "metadata": {},
     "output_type": "execute_result"
    }
   ],
   "source": [
    "df['vendor'].value_counts()"
   ]
  },
  {
   "cell_type": "code",
   "execution_count": 213,
   "id": "bc3a92bb",
   "metadata": {},
   "outputs": [],
   "source": [
    "df=pd.concat([df, pd.get_dummies(df['vendor'])], axis=1)\n",
    "df.drop(columns=['vendor'], inplace= True)"
   ]
  },
  {
   "cell_type": "code",
   "execution_count": 214,
   "id": "21c87487",
   "metadata": {},
   "outputs": [
    {
     "data": {
      "text/plain": [
       "<AxesSubplot:>"
      ]
     },
     "execution_count": 214,
     "metadata": {},
     "output_type": "execute_result"
    },
    {
     "data": {
      "image/png": "[encoded data removed]",
      "text/plain": [
       "<Figure size 1080x720 with 2 Axes>"
      ]
     },
     "metadata": {
      "needs_background": "light"
     },
     "output_type": "display_data"
    }
   ],
   "source": [
    "plt.rcParams['figure.figsize'] = (15,10)\n",
    "sns.heatmap(df.loc[:, 'Владельцы':'price'].corr())"
   ]
  },
  {
   "cell_type": "code",
   "execution_count": 215,
   "id": "5ca5f204",
   "metadata": {},
   "outputs": [
    {
     "data": {
      "text/html": [
       "<div>\n",
       "<style scoped>\n",
       "    .dataframe tbody tr th:only-of-type {\n",
       "        vertical-align: middle;\n",
       "    }\n",
       "\n",
       "    .dataframe tbody tr th {\n",
       "        vertical-align: top;\n",
       "    }\n",
       "\n",
       "    .dataframe thead th {\n",
       "        text-align: right;\n",
       "    }\n",
       "</style>\n",
       "<table border=\"1\" class=\"dataframe\">\n",
       "  <thead>\n",
       "    <tr style=\"text-align: right;\">\n",
       "      <th></th>\n",
       "      <th>sell_id</th>\n",
       "      <th>Владельцы</th>\n",
       "      <th>ПТС</th>\n",
       "      <th>Руль</th>\n",
       "      <th>mileage</th>\n",
       "      <th>engineDisplacement</th>\n",
       "      <th>enginePower</th>\n",
       "      <th>numberOfDoors</th>\n",
       "      <th>productionDate</th>\n",
       "      <th>price</th>\n",
       "      <th>...</th>\n",
       "      <th>автоматическая</th>\n",
       "      <th>вариатор</th>\n",
       "      <th>механическая</th>\n",
       "      <th>роботизированная</th>\n",
       "      <th>AMERICAN</th>\n",
       "      <th>CHINESE</th>\n",
       "      <th>EUROPEAN</th>\n",
       "      <th>JAPANESE</th>\n",
       "      <th>KOREAN</th>\n",
       "      <th>RUSSIAN</th>\n",
       "    </tr>\n",
       "  </thead>\n",
       "  <tbody>\n",
       "    <tr>\n",
       "      <th>0</th>\n",
       "      <td>1105117076-5afcca8a</td>\n",
       "      <td>0</td>\n",
       "      <td>0</td>\n",
       "      <td>0</td>\n",
       "      <td>0</td>\n",
       "      <td>2.0</td>\n",
       "      <td>197</td>\n",
       "      <td>2</td>\n",
       "      <td>2020</td>\n",
       "      <td>5360064.0</td>\n",
       "      <td>...</td>\n",
       "      <td>1</td>\n",
       "      <td>0</td>\n",
       "      <td>0</td>\n",
       "      <td>0</td>\n",
       "      <td>0</td>\n",
       "      <td>0</td>\n",
       "      <td>1</td>\n",
       "      <td>0</td>\n",
       "      <td>0</td>\n",
       "      <td>0</td>\n",
       "    </tr>\n",
       "    <tr>\n",
       "      <th>1</th>\n",
       "      <td>1105828980-edee6d5a</td>\n",
       "      <td>1</td>\n",
       "      <td>1</td>\n",
       "      <td>0</td>\n",
       "      <td>62000</td>\n",
       "      <td>2.5</td>\n",
       "      <td>180</td>\n",
       "      <td>5</td>\n",
       "      <td>2018</td>\n",
       "      <td>2295000.0</td>\n",
       "      <td>...</td>\n",
       "      <td>1</td>\n",
       "      <td>0</td>\n",
       "      <td>0</td>\n",
       "      <td>0</td>\n",
       "      <td>0</td>\n",
       "      <td>0</td>\n",
       "      <td>0</td>\n",
       "      <td>1</td>\n",
       "      <td>0</td>\n",
       "      <td>0</td>\n",
       "    </tr>\n",
       "    <tr>\n",
       "      <th>2</th>\n",
       "      <td>1105892143-a25eb3c3</td>\n",
       "      <td>3</td>\n",
       "      <td>0</td>\n",
       "      <td>0</td>\n",
       "      <td>185566</td>\n",
       "      <td>1.6</td>\n",
       "      <td>115</td>\n",
       "      <td>4</td>\n",
       "      <td>2006</td>\n",
       "      <td>320000.0</td>\n",
       "      <td>...</td>\n",
       "      <td>0</td>\n",
       "      <td>0</td>\n",
       "      <td>1</td>\n",
       "      <td>0</td>\n",
       "      <td>0</td>\n",
       "      <td>0</td>\n",
       "      <td>1</td>\n",
       "      <td>0</td>\n",
       "      <td>0</td>\n",
       "      <td>0</td>\n",
       "    </tr>\n",
       "    <tr>\n",
       "      <th>3</th>\n",
       "      <td>1105979835-fca730a5</td>\n",
       "      <td>0</td>\n",
       "      <td>0</td>\n",
       "      <td>0</td>\n",
       "      <td>0</td>\n",
       "      <td>2.0</td>\n",
       "      <td>149</td>\n",
       "      <td>5</td>\n",
       "      <td>2021</td>\n",
       "      <td>1520000.0</td>\n",
       "      <td>...</td>\n",
       "      <td>1</td>\n",
       "      <td>0</td>\n",
       "      <td>0</td>\n",
       "      <td>0</td>\n",
       "      <td>0</td>\n",
       "      <td>0</td>\n",
       "      <td>0</td>\n",
       "      <td>0</td>\n",
       "      <td>1</td>\n",
       "      <td>0</td>\n",
       "    </tr>\n",
       "    <tr>\n",
       "      <th>4</th>\n",
       "      <td>1106014848-0b67bbc0</td>\n",
       "      <td>3</td>\n",
       "      <td>0</td>\n",
       "      <td>1</td>\n",
       "      <td>300000</td>\n",
       "      <td>1.0</td>\n",
       "      <td>70</td>\n",
       "      <td>5</td>\n",
       "      <td>2000</td>\n",
       "      <td>175000.0</td>\n",
       "      <td>...</td>\n",
       "      <td>1</td>\n",
       "      <td>0</td>\n",
       "      <td>0</td>\n",
       "      <td>0</td>\n",
       "      <td>0</td>\n",
       "      <td>0</td>\n",
       "      <td>0</td>\n",
       "      <td>1</td>\n",
       "      <td>0</td>\n",
       "      <td>0</td>\n",
       "    </tr>\n",
       "    <tr>\n",
       "      <th>...</th>\n",
       "      <td>...</td>\n",
       "      <td>...</td>\n",
       "      <td>...</td>\n",
       "      <td>...</td>\n",
       "      <td>...</td>\n",
       "      <td>...</td>\n",
       "      <td>...</td>\n",
       "      <td>...</td>\n",
       "      <td>...</td>\n",
       "      <td>...</td>\n",
       "      <td>...</td>\n",
       "      <td>...</td>\n",
       "      <td>...</td>\n",
       "      <td>...</td>\n",
       "      <td>...</td>\n",
       "      <td>...</td>\n",
       "      <td>...</td>\n",
       "      <td>...</td>\n",
       "      <td>...</td>\n",
       "      <td>...</td>\n",
       "      <td>...</td>\n",
       "    </tr>\n",
       "    <tr>\n",
       "      <th>28668</th>\n",
       "      <td>1106084272-590d68c9</td>\n",
       "      <td>2</td>\n",
       "      <td>1</td>\n",
       "      <td>0</td>\n",
       "      <td>152000</td>\n",
       "      <td>1.8</td>\n",
       "      <td>122</td>\n",
       "      <td>5</td>\n",
       "      <td>2016</td>\n",
       "      <td>554990.0</td>\n",
       "      <td>...</td>\n",
       "      <td>0</td>\n",
       "      <td>0</td>\n",
       "      <td>0</td>\n",
       "      <td>1</td>\n",
       "      <td>0</td>\n",
       "      <td>0</td>\n",
       "      <td>0</td>\n",
       "      <td>0</td>\n",
       "      <td>0</td>\n",
       "      <td>1</td>\n",
       "    </tr>\n",
       "    <tr>\n",
       "      <th>28669</th>\n",
       "      <td>1106067416-811209a6</td>\n",
       "      <td>3</td>\n",
       "      <td>1</td>\n",
       "      <td>0</td>\n",
       "      <td>165040</td>\n",
       "      <td>1.6</td>\n",
       "      <td>98</td>\n",
       "      <td>5</td>\n",
       "      <td>2010</td>\n",
       "      <td>309000.0</td>\n",
       "      <td>...</td>\n",
       "      <td>0</td>\n",
       "      <td>0</td>\n",
       "      <td>1</td>\n",
       "      <td>0</td>\n",
       "      <td>0</td>\n",
       "      <td>0</td>\n",
       "      <td>0</td>\n",
       "      <td>0</td>\n",
       "      <td>0</td>\n",
       "      <td>1</td>\n",
       "    </tr>\n",
       "    <tr>\n",
       "      <th>28670</th>\n",
       "      <td>1106085089-af6ac618</td>\n",
       "      <td>1</td>\n",
       "      <td>1</td>\n",
       "      <td>0</td>\n",
       "      <td>128135</td>\n",
       "      <td>1.6</td>\n",
       "      <td>106</td>\n",
       "      <td>4</td>\n",
       "      <td>2016</td>\n",
       "      <td>624000.0</td>\n",
       "      <td>...</td>\n",
       "      <td>0</td>\n",
       "      <td>0</td>\n",
       "      <td>0</td>\n",
       "      <td>1</td>\n",
       "      <td>0</td>\n",
       "      <td>0</td>\n",
       "      <td>0</td>\n",
       "      <td>0</td>\n",
       "      <td>0</td>\n",
       "      <td>1</td>\n",
       "    </tr>\n",
       "    <tr>\n",
       "      <th>28671</th>\n",
       "      <td>1106082394-0ee6a8ef</td>\n",
       "      <td>1</td>\n",
       "      <td>1</td>\n",
       "      <td>0</td>\n",
       "      <td>11801</td>\n",
       "      <td>1.6</td>\n",
       "      <td>87</td>\n",
       "      <td>4</td>\n",
       "      <td>2020</td>\n",
       "      <td>698000.0</td>\n",
       "      <td>...</td>\n",
       "      <td>0</td>\n",
       "      <td>0</td>\n",
       "      <td>1</td>\n",
       "      <td>0</td>\n",
       "      <td>0</td>\n",
       "      <td>0</td>\n",
       "      <td>0</td>\n",
       "      <td>0</td>\n",
       "      <td>0</td>\n",
       "      <td>1</td>\n",
       "    </tr>\n",
       "    <tr>\n",
       "      <th>28672</th>\n",
       "      <td>1105963402-8ff6dc7d</td>\n",
       "      <td>0</td>\n",
       "      <td>0</td>\n",
       "      <td>0</td>\n",
       "      <td>0</td>\n",
       "      <td>1.6</td>\n",
       "      <td>113</td>\n",
       "      <td>5</td>\n",
       "      <td>2021</td>\n",
       "      <td>1250900.0</td>\n",
       "      <td>...</td>\n",
       "      <td>0</td>\n",
       "      <td>1</td>\n",
       "      <td>0</td>\n",
       "      <td>0</td>\n",
       "      <td>0</td>\n",
       "      <td>0</td>\n",
       "      <td>0</td>\n",
       "      <td>0</td>\n",
       "      <td>0</td>\n",
       "      <td>1</td>\n",
       "    </tr>\n",
       "  </tbody>\n",
       "</table>\n",
       "<p>25293 rows × 66 columns</p>\n",
       "</div>"
      ],
      "text/plain": [
       "                   sell_id  Владельцы  ПТС  Руль  mileage  engineDisplacement  \\\n",
       "0      1105117076-5afcca8a          0    0     0        0                 2.0   \n",
       "1      1105828980-edee6d5a          1    1     0    62000                 2.5   \n",
       "2      1105892143-a25eb3c3          3    0     0   185566                 1.6   \n",
       "3      1105979835-fca730a5          0    0     0        0                 2.0   \n",
       "4      1106014848-0b67bbc0          3    0     1   300000                 1.0   \n",
       "...                    ...        ...  ...   ...      ...                 ...   \n",
       "28668  1106084272-590d68c9          2    1     0   152000                 1.8   \n",
       "28669  1106067416-811209a6          3    1     0   165040                 1.6   \n",
       "28670  1106085089-af6ac618          1    1     0   128135                 1.6   \n",
       "28671  1106082394-0ee6a8ef          1    1     0    11801                 1.6   \n",
       "28672  1105963402-8ff6dc7d          0    0     0        0                 1.6   \n",
       "\n",
       "      enginePower  numberOfDoors  productionDate      price  ...  \\\n",
       "0             197              2            2020  5360064.0  ...   \n",
       "1             180              5            2018  2295000.0  ...   \n",
       "2             115              4            2006   320000.0  ...   \n",
       "3             149              5            2021  1520000.0  ...   \n",
       "4              70              5            2000   175000.0  ...   \n",
       "...           ...            ...             ...        ...  ...   \n",
       "28668         122              5            2016   554990.0  ...   \n",
       "28669          98              5            2010   309000.0  ...   \n",
       "28670         106              4            2016   624000.0  ...   \n",
       "28671          87              4            2020   698000.0  ...   \n",
       "28672         113              5            2021  1250900.0  ...   \n",
       "\n",
       "       автоматическая  вариатор  механическая  роботизированная  AMERICAN  \\\n",
       "0                   1         0             0                 0         0   \n",
       "1                   1         0             0                 0         0   \n",
       "2                   0         0             1                 0         0   \n",
       "3                   1         0             0                 0         0   \n",
       "4                   1         0             0                 0         0   \n",
       "...               ...       ...           ...               ...       ...   \n",
       "28668               0         0             0                 1         0   \n",
       "28669               0         0             1                 0         0   \n",
       "28670               0         0             0                 1         0   \n",
       "28671               0         0             1                 0         0   \n",
       "28672               0         1             0                 0         0   \n",
       "\n",
       "       CHINESE  EUROPEAN  JAPANESE  KOREAN  RUSSIAN  \n",
       "0            0         1         0       0        0  \n",
       "1            0         0         1       0        0  \n",
       "2            0         1         0       0        0  \n",
       "3            0         0         0       1        0  \n",
       "4            0         0         1       0        0  \n",
       "...        ...       ...       ...     ...      ...  \n",
       "28668        0         0         0       0        1  \n",
       "28669        0         0         0       0        1  \n",
       "28670        0         0         0       0        1  \n",
       "28671        0         0         0       0        1  \n",
       "28672        0         0         0       0        1  \n",
       "\n",
       "[25293 rows x 66 columns]"
      ]
     },
     "execution_count": 215,
     "metadata": {},
     "output_type": "execute_result"
    }
   ],
   "source": [
    "df"
   ]
  },
  {
   "cell_type": "code",
   "execution_count": 216,
   "id": "01c1f371",
   "metadata": {},
   "outputs": [],
   "source": [
    "df.drop(columns=['mileage','Владельцы'], inplace= True)# удаляем mileage и валдельцы,т.к. коррелируют с ProductionDate"
   ]
  },
  {
   "cell_type": "code",
   "execution_count": 217,
   "id": "c5f12bcd",
   "metadata": {},
   "outputs": [
    {
     "data": {
      "text/plain": [
       "0    24406\n",
       "1      887\n",
       "Name: Руль, dtype: int64"
      ]
     },
     "execution_count": 217,
     "metadata": {},
     "output_type": "execute_result"
    }
   ],
   "source": [
    "df['Руль'].value_counts()"
   ]
  },
  {
   "cell_type": "code",
   "execution_count": 218,
   "id": "11d0a0f9",
   "metadata": {},
   "outputs": [],
   "source": [
    "# нормализуем данные 'engineDisplacement', 'enginePower', 'productionDate'\n",
    "from sklearn.preprocessing import MinMaxScaler\n",
    "scaler = MinMaxScaler()\n",
    "columns_to_scale=['engineDisplacement', 'enginePower', 'productionDate']\n",
    "scaler.fit(df[columns_to_scale])\n",
    "df[columns_to_scale]=scaler.transform(df[columns_to_scale])"
   ]
  },
  {
   "cell_type": "code",
   "execution_count": 219,
   "id": "dbb60533",
   "metadata": {},
   "outputs": [
    {
     "data": {
      "text/html": [
       "<div>\n",
       "<style scoped>\n",
       "    .dataframe tbody tr th:only-of-type {\n",
       "        vertical-align: middle;\n",
       "    }\n",
       "\n",
       "    .dataframe tbody tr th {\n",
       "        vertical-align: top;\n",
       "    }\n",
       "\n",
       "    .dataframe thead th {\n",
       "        text-align: right;\n",
       "    }\n",
       "</style>\n",
       "<table border=\"1\" class=\"dataframe\">\n",
       "  <thead>\n",
       "    <tr style=\"text-align: right;\">\n",
       "      <th></th>\n",
       "      <th>sell_id</th>\n",
       "      <th>ПТС</th>\n",
       "      <th>Руль</th>\n",
       "      <th>engineDisplacement</th>\n",
       "      <th>enginePower</th>\n",
       "      <th>numberOfDoors</th>\n",
       "      <th>productionDate</th>\n",
       "      <th>price</th>\n",
       "      <th>train</th>\n",
       "      <th>задний</th>\n",
       "      <th>...</th>\n",
       "      <th>автоматическая</th>\n",
       "      <th>вариатор</th>\n",
       "      <th>механическая</th>\n",
       "      <th>роботизированная</th>\n",
       "      <th>AMERICAN</th>\n",
       "      <th>CHINESE</th>\n",
       "      <th>EUROPEAN</th>\n",
       "      <th>JAPANESE</th>\n",
       "      <th>KOREAN</th>\n",
       "      <th>RUSSIAN</th>\n",
       "    </tr>\n",
       "  </thead>\n",
       "  <tbody>\n",
       "    <tr>\n",
       "      <th>0</th>\n",
       "      <td>1105117076-5afcca8a</td>\n",
       "      <td>0</td>\n",
       "      <td>0</td>\n",
       "      <td>0.213115</td>\n",
       "      <td>0.239766</td>\n",
       "      <td>2</td>\n",
       "      <td>0.983871</td>\n",
       "      <td>5360064.0</td>\n",
       "      <td>1</td>\n",
       "      <td>0</td>\n",
       "      <td>...</td>\n",
       "      <td>1</td>\n",
       "      <td>0</td>\n",
       "      <td>0</td>\n",
       "      <td>0</td>\n",
       "      <td>0</td>\n",
       "      <td>0</td>\n",
       "      <td>1</td>\n",
       "      <td>0</td>\n",
       "      <td>0</td>\n",
       "      <td>0</td>\n",
       "    </tr>\n",
       "    <tr>\n",
       "      <th>1</th>\n",
       "      <td>1105828980-edee6d5a</td>\n",
       "      <td>1</td>\n",
       "      <td>0</td>\n",
       "      <td>0.295082</td>\n",
       "      <td>0.214912</td>\n",
       "      <td>5</td>\n",
       "      <td>0.951613</td>\n",
       "      <td>2295000.0</td>\n",
       "      <td>1</td>\n",
       "      <td>0</td>\n",
       "      <td>...</td>\n",
       "      <td>1</td>\n",
       "      <td>0</td>\n",
       "      <td>0</td>\n",
       "      <td>0</td>\n",
       "      <td>0</td>\n",
       "      <td>0</td>\n",
       "      <td>0</td>\n",
       "      <td>1</td>\n",
       "      <td>0</td>\n",
       "      <td>0</td>\n",
       "    </tr>\n",
       "    <tr>\n",
       "      <th>2</th>\n",
       "      <td>1105892143-a25eb3c3</td>\n",
       "      <td>0</td>\n",
       "      <td>0</td>\n",
       "      <td>0.147541</td>\n",
       "      <td>0.119883</td>\n",
       "      <td>4</td>\n",
       "      <td>0.758065</td>\n",
       "      <td>320000.0</td>\n",
       "      <td>1</td>\n",
       "      <td>0</td>\n",
       "      <td>...</td>\n",
       "      <td>0</td>\n",
       "      <td>0</td>\n",
       "      <td>1</td>\n",
       "      <td>0</td>\n",
       "      <td>0</td>\n",
       "      <td>0</td>\n",
       "      <td>1</td>\n",
       "      <td>0</td>\n",
       "      <td>0</td>\n",
       "      <td>0</td>\n",
       "    </tr>\n",
       "    <tr>\n",
       "      <th>3</th>\n",
       "      <td>1105979835-fca730a5</td>\n",
       "      <td>0</td>\n",
       "      <td>0</td>\n",
       "      <td>0.213115</td>\n",
       "      <td>0.169591</td>\n",
       "      <td>5</td>\n",
       "      <td>1.000000</td>\n",
       "      <td>1520000.0</td>\n",
       "      <td>1</td>\n",
       "      <td>0</td>\n",
       "      <td>...</td>\n",
       "      <td>1</td>\n",
       "      <td>0</td>\n",
       "      <td>0</td>\n",
       "      <td>0</td>\n",
       "      <td>0</td>\n",
       "      <td>0</td>\n",
       "      <td>0</td>\n",
       "      <td>0</td>\n",
       "      <td>1</td>\n",
       "      <td>0</td>\n",
       "    </tr>\n",
       "    <tr>\n",
       "      <th>4</th>\n",
       "      <td>1106014848-0b67bbc0</td>\n",
       "      <td>0</td>\n",
       "      <td>1</td>\n",
       "      <td>0.049180</td>\n",
       "      <td>0.054094</td>\n",
       "      <td>5</td>\n",
       "      <td>0.661290</td>\n",
       "      <td>175000.0</td>\n",
       "      <td>1</td>\n",
       "      <td>0</td>\n",
       "      <td>...</td>\n",
       "      <td>1</td>\n",
       "      <td>0</td>\n",
       "      <td>0</td>\n",
       "      <td>0</td>\n",
       "      <td>0</td>\n",
       "      <td>0</td>\n",
       "      <td>0</td>\n",
       "      <td>1</td>\n",
       "      <td>0</td>\n",
       "      <td>0</td>\n",
       "    </tr>\n",
       "    <tr>\n",
       "      <th>...</th>\n",
       "      <td>...</td>\n",
       "      <td>...</td>\n",
       "      <td>...</td>\n",
       "      <td>...</td>\n",
       "      <td>...</td>\n",
       "      <td>...</td>\n",
       "      <td>...</td>\n",
       "      <td>...</td>\n",
       "      <td>...</td>\n",
       "      <td>...</td>\n",
       "      <td>...</td>\n",
       "      <td>...</td>\n",
       "      <td>...</td>\n",
       "      <td>...</td>\n",
       "      <td>...</td>\n",
       "      <td>...</td>\n",
       "      <td>...</td>\n",
       "      <td>...</td>\n",
       "      <td>...</td>\n",
       "      <td>...</td>\n",
       "      <td>...</td>\n",
       "    </tr>\n",
       "    <tr>\n",
       "      <th>28668</th>\n",
       "      <td>1106084272-590d68c9</td>\n",
       "      <td>1</td>\n",
       "      <td>0</td>\n",
       "      <td>0.180328</td>\n",
       "      <td>0.130117</td>\n",
       "      <td>5</td>\n",
       "      <td>0.919355</td>\n",
       "      <td>554990.0</td>\n",
       "      <td>1</td>\n",
       "      <td>0</td>\n",
       "      <td>...</td>\n",
       "      <td>0</td>\n",
       "      <td>0</td>\n",
       "      <td>0</td>\n",
       "      <td>1</td>\n",
       "      <td>0</td>\n",
       "      <td>0</td>\n",
       "      <td>0</td>\n",
       "      <td>0</td>\n",
       "      <td>0</td>\n",
       "      <td>1</td>\n",
       "    </tr>\n",
       "    <tr>\n",
       "      <th>28669</th>\n",
       "      <td>1106067416-811209a6</td>\n",
       "      <td>1</td>\n",
       "      <td>0</td>\n",
       "      <td>0.147541</td>\n",
       "      <td>0.095029</td>\n",
       "      <td>5</td>\n",
       "      <td>0.822581</td>\n",
       "      <td>309000.0</td>\n",
       "      <td>1</td>\n",
       "      <td>0</td>\n",
       "      <td>...</td>\n",
       "      <td>0</td>\n",
       "      <td>0</td>\n",
       "      <td>1</td>\n",
       "      <td>0</td>\n",
       "      <td>0</td>\n",
       "      <td>0</td>\n",
       "      <td>0</td>\n",
       "      <td>0</td>\n",
       "      <td>0</td>\n",
       "      <td>1</td>\n",
       "    </tr>\n",
       "    <tr>\n",
       "      <th>28670</th>\n",
       "      <td>1106085089-af6ac618</td>\n",
       "      <td>1</td>\n",
       "      <td>0</td>\n",
       "      <td>0.147541</td>\n",
       "      <td>0.106725</td>\n",
       "      <td>4</td>\n",
       "      <td>0.919355</td>\n",
       "      <td>624000.0</td>\n",
       "      <td>1</td>\n",
       "      <td>0</td>\n",
       "      <td>...</td>\n",
       "      <td>0</td>\n",
       "      <td>0</td>\n",
       "      <td>0</td>\n",
       "      <td>1</td>\n",
       "      <td>0</td>\n",
       "      <td>0</td>\n",
       "      <td>0</td>\n",
       "      <td>0</td>\n",
       "      <td>0</td>\n",
       "      <td>1</td>\n",
       "    </tr>\n",
       "    <tr>\n",
       "      <th>28671</th>\n",
       "      <td>1106082394-0ee6a8ef</td>\n",
       "      <td>1</td>\n",
       "      <td>0</td>\n",
       "      <td>0.147541</td>\n",
       "      <td>0.078947</td>\n",
       "      <td>4</td>\n",
       "      <td>0.983871</td>\n",
       "      <td>698000.0</td>\n",
       "      <td>1</td>\n",
       "      <td>0</td>\n",
       "      <td>...</td>\n",
       "      <td>0</td>\n",
       "      <td>0</td>\n",
       "      <td>1</td>\n",
       "      <td>0</td>\n",
       "      <td>0</td>\n",
       "      <td>0</td>\n",
       "      <td>0</td>\n",
       "      <td>0</td>\n",
       "      <td>0</td>\n",
       "      <td>1</td>\n",
       "    </tr>\n",
       "    <tr>\n",
       "      <th>28672</th>\n",
       "      <td>1105963402-8ff6dc7d</td>\n",
       "      <td>0</td>\n",
       "      <td>0</td>\n",
       "      <td>0.147541</td>\n",
       "      <td>0.116959</td>\n",
       "      <td>5</td>\n",
       "      <td>1.000000</td>\n",
       "      <td>1250900.0</td>\n",
       "      <td>1</td>\n",
       "      <td>0</td>\n",
       "      <td>...</td>\n",
       "      <td>0</td>\n",
       "      <td>1</td>\n",
       "      <td>0</td>\n",
       "      <td>0</td>\n",
       "      <td>0</td>\n",
       "      <td>0</td>\n",
       "      <td>0</td>\n",
       "      <td>0</td>\n",
       "      <td>0</td>\n",
       "      <td>1</td>\n",
       "    </tr>\n",
       "  </tbody>\n",
       "</table>\n",
       "<p>25293 rows × 64 columns</p>\n",
       "</div>"
      ],
      "text/plain": [
       "                   sell_id  ПТС  Руль  engineDisplacement  enginePower  \\\n",
       "0      1105117076-5afcca8a    0     0            0.213115     0.239766   \n",
       "1      1105828980-edee6d5a    1     0            0.295082     0.214912   \n",
       "2      1105892143-a25eb3c3    0     0            0.147541     0.119883   \n",
       "3      1105979835-fca730a5    0     0            0.213115     0.169591   \n",
       "4      1106014848-0b67bbc0    0     1            0.049180     0.054094   \n",
       "...                    ...  ...   ...                 ...          ...   \n",
       "28668  1106084272-590d68c9    1     0            0.180328     0.130117   \n",
       "28669  1106067416-811209a6    1     0            0.147541     0.095029   \n",
       "28670  1106085089-af6ac618    1     0            0.147541     0.106725   \n",
       "28671  1106082394-0ee6a8ef    1     0            0.147541     0.078947   \n",
       "28672  1105963402-8ff6dc7d    0     0            0.147541     0.116959   \n",
       "\n",
       "       numberOfDoors  productionDate      price  train  задний  ...  \\\n",
       "0                  2        0.983871  5360064.0      1       0  ...   \n",
       "1                  5        0.951613  2295000.0      1       0  ...   \n",
       "2                  4        0.758065   320000.0      1       0  ...   \n",
       "3                  5        1.000000  1520000.0      1       0  ...   \n",
       "4                  5        0.661290   175000.0      1       0  ...   \n",
       "...              ...             ...        ...    ...     ...  ...   \n",
       "28668              5        0.919355   554990.0      1       0  ...   \n",
       "28669              5        0.822581   309000.0      1       0  ...   \n",
       "28670              4        0.919355   624000.0      1       0  ...   \n",
       "28671              4        0.983871   698000.0      1       0  ...   \n",
       "28672              5        1.000000  1250900.0      1       0  ...   \n",
       "\n",
       "       автоматическая  вариатор  механическая  роботизированная  AMERICAN  \\\n",
       "0                   1         0             0                 0         0   \n",
       "1                   1         0             0                 0         0   \n",
       "2                   0         0             1                 0         0   \n",
       "3                   1         0             0                 0         0   \n",
       "4                   1         0             0                 0         0   \n",
       "...               ...       ...           ...               ...       ...   \n",
       "28668               0         0             0                 1         0   \n",
       "28669               0         0             1                 0         0   \n",
       "28670               0         0             0                 1         0   \n",
       "28671               0         0             1                 0         0   \n",
       "28672               0         1             0                 0         0   \n",
       "\n",
       "       CHINESE  EUROPEAN  JAPANESE  KOREAN  RUSSIAN  \n",
       "0            0         1         0       0        0  \n",
       "1            0         0         1       0        0  \n",
       "2            0         1         0       0        0  \n",
       "3            0         0         0       1        0  \n",
       "4            0         0         1       0        0  \n",
       "...        ...       ...       ...     ...      ...  \n",
       "28668        0         0         0       0        1  \n",
       "28669        0         0         0       0        1  \n",
       "28670        0         0         0       0        1  \n",
       "28671        0         0         0       0        1  \n",
       "28672        0         0         0       0        1  \n",
       "\n",
       "[25293 rows x 64 columns]"
      ]
     },
     "execution_count": 219,
     "metadata": {},
     "output_type": "execute_result"
    }
   ],
   "source": [
    "df"
   ]
  },
  {
   "cell_type": "code",
   "execution_count": 220,
   "id": "bc494105",
   "metadata": {},
   "outputs": [
    {
     "data": {
      "text/plain": [
       "<AxesSubplot:>"
      ]
     },
     "execution_count": 220,
     "metadata": {},
     "output_type": "execute_result"
    },
    {
     "data": {
      "image/png": "[encoded data removed]",
      "text/plain": [
       "<Figure size 1080x720 with 2 Axes>"
      ]
     },
     "metadata": {
      "needs_background": "light"
     },
     "output_type": "display_data"
    }
   ],
   "source": [
    "sns.heatmap(df.isnull())"
   ]
  },
  {
   "cell_type": "code",
   "execution_count": 221,
   "id": "41a3a36b",
   "metadata": {},
   "outputs": [],
   "source": [
    "# зафиксируем random_seed b test_size\n",
    "RANDOM_SEED = 42\n",
    "SPLIT_SIZE = 0.20\n"
   ]
  },
  {
   "cell_type": "code",
   "execution_count": 222,
   "id": "6969e276",
   "metadata": {},
   "outputs": [],
   "source": [
    "# pip install catboost"
   ]
  },
  {
   "cell_type": "code",
   "execution_count": 223,
   "id": "8c40c130",
   "metadata": {},
   "outputs": [],
   "source": [
    "from sklearn.model_selection import train_test_split\n",
    "from sklearn.model_selection import KFold\n",
    "from catboost import CatBoostRegressor\n",
    "from sklearn.ensemble import GradientBoostingRegressor\n",
    "from sklearn.metrics import mean_absolute_percentage_error as mape\n",
    "import numpy as np"
   ]
  },
  {
   "cell_type": "code",
   "execution_count": 225,
   "id": "b71dbcfd",
   "metadata": {},
   "outputs": [
    {
     "data": {
      "text/html": [
       "<div>\n",
       "<style scoped>\n",
       "    .dataframe tbody tr th:only-of-type {\n",
       "        vertical-align: middle;\n",
       "    }\n",
       "\n",
       "    .dataframe tbody tr th {\n",
       "        vertical-align: top;\n",
       "    }\n",
       "\n",
       "    .dataframe thead th {\n",
       "        text-align: right;\n",
       "    }\n",
       "</style>\n",
       "<table border=\"1\" class=\"dataframe\">\n",
       "  <thead>\n",
       "    <tr style=\"text-align: right;\">\n",
       "      <th></th>\n",
       "      <th>sell_id</th>\n",
       "      <th>ПТС</th>\n",
       "      <th>Руль</th>\n",
       "      <th>engineDisplacement</th>\n",
       "      <th>enginePower</th>\n",
       "      <th>numberOfDoors</th>\n",
       "      <th>productionDate</th>\n",
       "      <th>price</th>\n",
       "      <th>train</th>\n",
       "      <th>задний</th>\n",
       "      <th>...</th>\n",
       "      <th>автоматическая</th>\n",
       "      <th>вариатор</th>\n",
       "      <th>механическая</th>\n",
       "      <th>роботизированная</th>\n",
       "      <th>AMERICAN</th>\n",
       "      <th>CHINESE</th>\n",
       "      <th>EUROPEAN</th>\n",
       "      <th>JAPANESE</th>\n",
       "      <th>KOREAN</th>\n",
       "      <th>RUSSIAN</th>\n",
       "    </tr>\n",
       "  </thead>\n",
       "  <tbody>\n",
       "  </tbody>\n",
       "</table>\n",
       "<p>0 rows × 64 columns</p>\n",
       "</div>"
      ],
      "text/plain": [
       "Empty DataFrame\n",
       "Columns: [sell_id, ПТС, Руль, engineDisplacement, enginePower, numberOfDoors, productionDate, price, train, задний, передний, полный, внедорожник 3 дв., внедорожник 5 дв., внедорожник открытый, кабриолет, компактвэн, купе, купе-хардтоп, лимузин, лифтбек, микровэн, минивэн, пикап двойная кабина, пикап одинарная кабина, пикап полуторная кабина, родстер, седан, седан-хардтоп, универсал 5 дв., фургон, хэтчбек 3 дв., хэтчбек 4 дв., хэтчбек 5 дв., бежевый, белый, голубой, жёлтый, зелёный, золотистый, коричневый, красный, оранжевый, пурпурный, розовый, серебристый, серый, синий, фиолетовый, чёрный, бензин, газ, гибрид, дизель, автоматическая, вариатор, механическая, роботизированная, AMERICAN, CHINESE, EUROPEAN, JAPANESE, KOREAN, RUSSIAN]\n",
       "Index: []\n",
       "\n",
       "[0 rows x 64 columns]"
      ]
     },
     "execution_count": 225,
     "metadata": {},
     "output_type": "execute_result"
    }
   ],
   "source": [
    "df.loc[df['train']==0]"
   ]
  },
  {
   "cell_type": "code",
   "execution_count": 161,
   "id": "4a4abdb8",
   "metadata": {},
   "outputs": [
    {
     "ename": "ValueError",
     "evalue": "With n_samples=0, test_size=0.2 and train_size=None, the resulting train set will be empty. Adjust any of the aforementioned parameters.",
     "output_type": "error",
     "traceback": [
      "\u001b[0;31m---------------------------------------------------------------------------\u001b[0m",
      "\u001b[0;31mValueError\u001b[0m                                Traceback (most recent call last)",
      "\u001b[0;32m<ipython-input-161-26f46e0f70ca>\u001b[0m in \u001b[0;36m<module>\u001b[0;34m\u001b[0m\n\u001b[1;32m      2\u001b[0m \u001b[0mX\u001b[0m \u001b[0;34m=\u001b[0m \u001b[0mdf\u001b[0m\u001b[0;34m.\u001b[0m\u001b[0mloc\u001b[0m\u001b[0;34m[\u001b[0m\u001b[0mdf\u001b[0m\u001b[0;34m[\u001b[0m\u001b[0;34m'train'\u001b[0m\u001b[0;34m]\u001b[0m \u001b[0;34m!=\u001b[0m \u001b[0;36m1\u001b[0m\u001b[0;34m]\u001b[0m\u001b[0;34m.\u001b[0m\u001b[0mdrop\u001b[0m\u001b[0;34m(\u001b[0m\u001b[0mcolumns\u001b[0m\u001b[0;34m=\u001b[0m\u001b[0;34m[\u001b[0m\u001b[0;34m'price'\u001b[0m\u001b[0;34m,\u001b[0m\u001b[0;34m'sell_id'\u001b[0m\u001b[0;34m]\u001b[0m\u001b[0;34m)\u001b[0m\u001b[0;34m\u001b[0m\u001b[0;34m\u001b[0m\u001b[0m\n\u001b[1;32m      3\u001b[0m \u001b[0my\u001b[0m \u001b[0;34m=\u001b[0m \u001b[0mdf\u001b[0m\u001b[0;34m.\u001b[0m\u001b[0mloc\u001b[0m\u001b[0;34m[\u001b[0m\u001b[0mdf\u001b[0m\u001b[0;34m[\u001b[0m\u001b[0;34m'train'\u001b[0m\u001b[0;34m]\u001b[0m \u001b[0;34m!=\u001b[0m \u001b[0;36m1\u001b[0m\u001b[0;34m]\u001b[0m\u001b[0;34m[\u001b[0m\u001b[0;34m'price'\u001b[0m\u001b[0;34m]\u001b[0m\u001b[0;34m/\u001b[0m\u001b[0;36m1000000\u001b[0m\u001b[0;34m\u001b[0m\u001b[0;34m\u001b[0m\u001b[0m\n\u001b[0;32m----> 4\u001b[0;31m \u001b[0mX_train\u001b[0m\u001b[0;34m,\u001b[0m \u001b[0mX_test\u001b[0m\u001b[0;34m,\u001b[0m \u001b[0my_train\u001b[0m\u001b[0;34m,\u001b[0m \u001b[0my_test\u001b[0m \u001b[0;34m=\u001b[0m \u001b[0mtrain_test_split\u001b[0m\u001b[0;34m(\u001b[0m\u001b[0mX\u001b[0m\u001b[0;34m,\u001b[0m \u001b[0my\u001b[0m\u001b[0;34m,\u001b[0m \u001b[0mtest_size\u001b[0m\u001b[0;34m=\u001b[0m\u001b[0mSPLIT_SIZE\u001b[0m\u001b[0;34m,\u001b[0m \u001b[0mshuffle\u001b[0m\u001b[0;34m=\u001b[0m\u001b[0;32mTrue\u001b[0m\u001b[0;34m,\u001b[0m \u001b[0mrandom_state\u001b[0m\u001b[0;34m=\u001b[0m\u001b[0mRANDOM_SEED\u001b[0m\u001b[0;34m)\u001b[0m\u001b[0;34m\u001b[0m\u001b[0;34m\u001b[0m\u001b[0m\n\u001b[0m",
      "\u001b[0;32m~/APPS/anaconda3/lib/python3.8/site-packages/sklearn/model_selection/_split.py\u001b[0m in \u001b[0;36mtrain_test_split\u001b[0;34m(test_size, train_size, random_state, shuffle, stratify, *arrays)\u001b[0m\n\u001b[1;32m   2173\u001b[0m \u001b[0;34m\u001b[0m\u001b[0m\n\u001b[1;32m   2174\u001b[0m     \u001b[0mn_samples\u001b[0m \u001b[0;34m=\u001b[0m \u001b[0m_num_samples\u001b[0m\u001b[0;34m(\u001b[0m\u001b[0marrays\u001b[0m\u001b[0;34m[\u001b[0m\u001b[0;36m0\u001b[0m\u001b[0;34m]\u001b[0m\u001b[0;34m)\u001b[0m\u001b[0;34m\u001b[0m\u001b[0;34m\u001b[0m\u001b[0m\n\u001b[0;32m-> 2175\u001b[0;31m     n_train, n_test = _validate_shuffle_split(n_samples, test_size, train_size,\n\u001b[0m\u001b[1;32m   2176\u001b[0m                                               default_test_size=0.25)\n\u001b[1;32m   2177\u001b[0m \u001b[0;34m\u001b[0m\u001b[0m\n",
      "\u001b[0;32m~/APPS/anaconda3/lib/python3.8/site-packages/sklearn/model_selection/_split.py\u001b[0m in \u001b[0;36m_validate_shuffle_split\u001b[0;34m(n_samples, test_size, train_size, default_test_size)\u001b[0m\n\u001b[1;32m   1855\u001b[0m \u001b[0;34m\u001b[0m\u001b[0m\n\u001b[1;32m   1856\u001b[0m     \u001b[0;32mif\u001b[0m \u001b[0mn_train\u001b[0m \u001b[0;34m==\u001b[0m \u001b[0;36m0\u001b[0m\u001b[0;34m:\u001b[0m\u001b[0;34m\u001b[0m\u001b[0;34m\u001b[0m\u001b[0m\n\u001b[0;32m-> 1857\u001b[0;31m         raise ValueError(\n\u001b[0m\u001b[1;32m   1858\u001b[0m             \u001b[0;34m'With n_samples={}, test_size={} and train_size={}, the '\u001b[0m\u001b[0;34m\u001b[0m\u001b[0;34m\u001b[0m\u001b[0m\n\u001b[1;32m   1859\u001b[0m             \u001b[0;34m'resulting train set will be empty. Adjust any of the '\u001b[0m\u001b[0;34m\u001b[0m\u001b[0;34m\u001b[0m\u001b[0m\n",
      "\u001b[0;31mValueError\u001b[0m: With n_samples=0, test_size=0.2 and train_size=None, the resulting train set will be empty. Adjust any of the aforementioned parameters."
     ]
    }
   ],
   "source": [
    "#Выделим целевую переменную и разделим выборку на train и validate\n",
    "X = df.loc[df['train'] != 1].drop(columns=['price','sell_id'])\n",
    "y = df.loc[df['train'] != 1]['price']/1000000\n",
    "X_train, X_test, y_train, y_test = train_test_split(X, y, test_size=SPLIT_SIZE, shuffle=True, random_state=RANDOM_SEED)"
   ]
  },
  {
   "cell_type": "code",
   "execution_count": 158,
   "id": "221cc870",
   "metadata": {},
   "outputs": [
    {
     "name": "stdout",
     "output_type": "stream",
     "text": [
      "Точность наивной модели по метрике MAPE: 26.52%\n",
      "Точность наивной модели по метрике MAPE: 24.87%\n"
     ]
    }
   ],
   "source": [
    "#обучаем модель GradientBoostingRegressor, измеряем точность\n",
    "reg = GradientBoostingRegressor(random_state=RANDOM_SEED)\n",
    "reg.fit(X_train, y_train)\n",
    "predict = reg.predict(X_test)\n",
    " \n",
    "#оцениваем точностьcc\n",
    "print(f\"Точность наивной модели по метрике MAPE: {(mape(y_test, predict))*100:0.2f}%\")\n",
    "# ввиду инфляции и изменения цен со временем, посмотрим на метрику MAPE домножая на некий коэффициент\n",
    "\n",
    "# можно добиться улучшения процента при домножении на 0.9 предсказанных значений\n",
    "print(f\"Точность наивной модели по метрике MAPE: {(mape(y_test, predict*0.9))*100:0.2f}%\")"
   ]
  },
  {
   "cell_type": "markdown",
   "id": "a997f769",
   "metadata": {},
   "source": [
    "#### Точность модели не очень хорошая"
   ]
  },
  {
   "cell_type": "code",
   "execution_count": 159,
   "id": "ee5bb465",
   "metadata": {
    "scrolled": false
   },
   "outputs": [
    {
     "data": {
      "text/plain": [
       "<AxesSubplot:>"
      ]
     },
     "execution_count": 159,
     "metadata": {},
     "output_type": "execute_result"
    },
    {
     "data": {
      "image/png": "[encoded data removed]",
      "text/plain": [
       "<Figure size 720x720 with 1 Axes>"
      ]
     },
     "metadata": {
      "needs_background": "light"
     },
     "output_type": "display_data"
    }
   ],
   "source": [
    "# Посмотрим какие признаки больше всего влияют на модель.\n",
    "plt.rcParams['figure.figsize'] = (10,10)\n",
    "feat_importances = pd.Series(reg.feature_importances_, index=X.columns)\n",
    "feat_importances.nlargest(15).plot(kind='barh')"
   ]
  },
  {
   "cell_type": "code",
   "execution_count": 70,
   "id": "2969c107",
   "metadata": {},
   "outputs": [
    {
     "name": "stdout",
     "output_type": "stream",
     "text": [
      "Точность модели по метрике MAPE: 18.12%\n"
     ]
    }
   ],
   "source": [
    "# попробуем нормализовать целевую переменную.\n",
    "X_train, X_test, y_train, y_test = train_test_split(X, y, test_size=SPLIT_SIZE, shuffle=True, random_state=RANDOM_SEED)\n",
    "y_train = np.log(y_train)\n",
    "reg = GradientBoostingRegressor(random_state=RANDOM_SEED)\n",
    "reg.fit(X_train, y_train)\n",
    "predict = np.exp(reg.predict(X_test))\n",
    "print(f\"Точность модели по метрике MAPE: {(mape(y_test, predict))*100:0.2f}%\")"
   ]
  },
  {
   "cell_type": "code",
   "execution_count": 75,
   "id": "3c73b4a4",
   "metadata": {},
   "outputs": [
    {
     "name": "stdout",
     "output_type": "stream",
     "text": [
      "Точность наивной модели по метрике MAPE: 17.70%\n",
      "0 Точность модели по метрике MAPE: 18.12%\n",
      "1 Точность модели по метрике MAPE: 17.95%\n",
      "2 Точность модели по метрике MAPE: 17.82%\n",
      "3 Точность модели по метрике MAPE: 17.74%\n",
      "4 Точность модели по метрике MAPE: 17.69%\n",
      "5 Точность модели по метрике MAPE: 17.70%\n",
      "6 Точность модели по метрике MAPE: 17.74%\n",
      "7 Точность модели по метрике MAPE: 17.84%\n",
      "8 Точность модели по метрике MAPE: 17.99%\n",
      "9 Точность модели по метрике MAPE: 18.18%\n"
     ]
    }
   ],
   "source": [
    "# можно добиться улучшения до 17.7 процента при домножении на 0.95 предсказанных значений\n",
    "print(f\"Точность наивной модели по метрике MAPE: {(mape(y_test, predict*0.95))*100:0.2f}%\")\n",
    "\n",
    "for i in range(10):\n",
    "    print(f\"{i} Точность модели по метрике MAPE: {(mape(y_test, predict*(1-i/100)))*100:0.2f}%\")"
   ]
  },
  {
   "cell_type": "code",
   "execution_count": null,
   "id": "0ca3ec42",
   "metadata": {},
   "outputs": [],
   "source": [
    "y_train"
   ]
  },
  {
   "cell_type": "code",
   "execution_count": 117,
   "id": "6b393fc1",
   "metadata": {},
   "outputs": [
    {
     "data": {
      "text/plain": [
       "array([14.39971899, 13.54930016, 13.25586971, ..., 14.79824297,\n",
       "       11.12154695, 12.54565547])"
      ]
     },
     "execution_count": 117,
     "metadata": {},
     "output_type": "execute_result"
    }
   ],
   "source": [
    "reg.predict(X_test)"
   ]
  },
  {
   "cell_type": "markdown",
   "id": "74685620",
   "metadata": {},
   "source": [
    "#### Точность улучшилась"
   ]
  },
  {
   "cell_type": "code",
   "execution_count": 148,
   "id": "f68059ab",
   "metadata": {},
   "outputs": [
    {
     "data": {
      "text/plain": [
       "<matplotlib.axes._subplots.AxesSubplot at 0x24a05db6948>"
      ]
     },
     "execution_count": 148,
     "metadata": {},
     "output_type": "execute_result"
    },
    {
     "data": {
      "image/png": "[encoded data removed]",
      "text/plain": [
       "<Figure size 720x720 with 1 Axes>"
      ]
     },
     "metadata": {
      "needs_background": "light"
     },
     "output_type": "display_data"
    }
   ],
   "source": [
    "# Посмотрим какие признаки больше всего влияют на модель.\n",
    "plt.rcParams['figure.figsize'] = (10,10)\n",
    "feat_importances = pd.Series(reg.feature_importances_, index=X.columns)\n",
    "feat_importances.nlargest(15).plot(kind='barh')"
   ]
  },
  {
   "cell_type": "markdown",
   "id": "4c0a57a4",
   "metadata": {},
   "source": [
    "#### Проверим модель на преобучение"
   ]
  },
  {
   "cell_type": "code",
   "execution_count": 164,
   "id": "f19bfe98",
   "metadata": {},
   "outputs": [
    {
     "name": "stdout",
     "output_type": "stream",
     "text": [
      "[train] mape = 17.22%\n",
      "[valid] mape = 18.12%\n"
     ]
    }
   ],
   "source": [
    "y_pred_t = np.exp(reg.predict(X_train))\n",
    "mape_train = mape(np.exp(y_train),y_pred_t)\n",
    "print('[train] mape = {:.2f}%'.format(mape_train*100))\n",
    "y_pred_v = np.exp(reg.predict(X_test))\n",
    "mape_val = mape(y_test, y_pred_v)\n",
    "print('[valid] mape = {:.2f}%'.format(mape_val*100))"
   ]
  },
  {
   "cell_type": "code",
   "execution_count": null,
   "id": "068bc347",
   "metadata": {},
   "outputs": [],
   "source": [
    "#Видим, что точность при валидации и тестировании приблизительно равны, делаем вывод, что преобучение отсутствует"
   ]
  },
  {
   "cell_type": "code",
   "execution_count": 76,
   "id": "c54c00fa",
   "metadata": {},
   "outputs": [
    {
     "data": {
      "text/plain": [
       "<catboost.core.CatBoostRegressor at 0x7f59382e1a00>"
      ]
     },
     "execution_count": 76,
     "metadata": {},
     "output_type": "execute_result"
    }
   ],
   "source": [
    "X_train, X_test, y_train, y_test = train_test_split(X, y, test_size=SPLIT_SIZE, shuffle=True, random_state=RANDOM_SEED)\n",
    "model = CatBoostRegressor(iterations = 10000,\n",
    "                          random_seed = RANDOM_SEED,\n",
    "                          eval_metric='MAPE',\n",
    "                          custom_metric=['R2', 'MAE'],\n",
    "                          silent=True,\n",
    "                         )\n",
    "model.fit(X_train, y_train,\n",
    "         eval_set=(X_test, y_test),\n",
    "         verbose_eval=0,\n",
    "         use_best_model=True,\n",
    "         )"
   ]
  },
  {
   "cell_type": "code",
   "execution_count": 77,
   "id": "4e353887",
   "metadata": {},
   "outputs": [
    {
     "name": "stdout",
     "output_type": "stream",
     "text": [
      "Точность модели по метрике MAPE: 15.57%\n"
     ]
    }
   ],
   "source": [
    "predict = (model.predict(X_test))\n",
    "print(f\"Точность модели по метрике MAPE: {(mape(y_test, predict))*100:0.2f}%\")"
   ]
  },
  {
   "cell_type": "code",
   "execution_count": 81,
   "id": "390b5f8a",
   "metadata": {},
   "outputs": [
    {
     "name": "stdout",
     "output_type": "stream",
     "text": [
      "Точность наивной модели по метрике MAPE: 15.28%\n",
      "0 Точность модели по метрике MAPE: 15.57%\n",
      "1 Точность модели по метрике MAPE: 15.37%\n",
      "2 Точность модели по метрике MAPE: 15.25%\n",
      "3 Точность модели по метрике MAPE: 15.19%\n",
      "4 Точность модели по метрике MAPE: 15.20%\n",
      "5 Точность модели по метрике MAPE: 15.28%\n",
      "6 Точность модели по метрике MAPE: 15.41%\n",
      "7 Точность модели по метрике MAPE: 15.61%\n",
      "8 Точность модели по метрике MAPE: 15.86%\n",
      "9 Точность модели по метрике MAPE: 16.16%\n",
      "10 Точность модели по метрике MAPE: 16.53%\n",
      "11 Точность модели по метрике MAPE: 16.95%\n",
      "12 Точность модели по метрике MAPE: 17.42%\n",
      "13 Точность модели по метрике MAPE: 17.93%\n",
      "14 Точность модели по метрике MAPE: 18.48%\n",
      "15 Точность модели по метрике MAPE: 19.06%\n",
      "16 Точность модели по метрике MAPE: 19.69%\n",
      "17 Точность модели по метрике MAPE: 20.34%\n",
      "18 Точность модели по метрике MAPE: 21.01%\n",
      "19 Точность модели по метрике MAPE: 21.72%\n"
     ]
    }
   ],
   "source": [
    "# можно добиться улучшения до 17.7 процента при домножении на 0.95 предсказанных значений\n",
    "print(f\"Точность наивной модели по метрике MAPE: {(mape(y_test, predict*0.95))*100:0.2f}%\")\n",
    "\n",
    "for i in range(20):\n",
    "    print(f\"{i} Точность модели по метрике MAPE: {(mape(y_test, predict*(1-i/100)))*100:0.2f}%\")"
   ]
  },
  {
   "cell_type": "code",
   "execution_count": null,
   "id": "e6f1733c",
   "metadata": {},
   "outputs": [],
   "source": []
  }
 ],
 "metadata": {
  "kernelspec": {
   "display_name": "Python 3",
   "language": "python",
   "name": "python3"
  },
  "language_info": {
   "codemirror_mode": {
    "name": "ipython",
    "version": 3
   },
   "file_extension": ".py",
   "mimetype": "text/x-python",
   "name": "python",
   "nbconvert_exporter": "python",
   "pygments_lexer": "ipython3",
   "version": "3.8.8"
  }
 },
 "nbformat": 4,
 "nbformat_minor": 5
}
