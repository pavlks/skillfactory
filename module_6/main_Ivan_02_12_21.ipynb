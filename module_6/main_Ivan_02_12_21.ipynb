{
 "cells": [
  {
   "cell_type": "code",
   "execution_count": 445,
   "id": "b34c190c",
   "metadata": {},
   "outputs": [],
   "source": [
    "import re\n",
    "import time\n",
    "import json\n",
    "import requests\n",
    "import datetime\n",
    "import pandas as pd\n",
    "import seaborn as sns \n",
    "import matplotlib.pyplot as plt\n",
    "%matplotlib inline\n",
    "\n",
    "from pprint import pprint\n",
    "from bs4 import BeautifulSoup"
   ]
  },
  {
   "cell_type": "code",
   "execution_count": 446,
   "id": "581205ca",
   "metadata": {},
   "outputs": [],
   "source": [
    "headers = {\n",
    "'Host' : 'auto.ru',\n",
    "'User-Agent' : 'Mozilla/5.0 (X11; Fedora; Linux x86_64; rv:94.0) Gecko/20100101 Firefox/94.0',\n",
    "'Accept' : 'text/html,application/xhtml+xml,application/xml;q=0.9,image/avif,image/webp,*/*;q=0.8',\n",
    "'Accept-Language' : 'en-US,en;q=0.5',\n",
    "'Accept-Encoding' : 'gzip, deflate, br',\n",
    "'Connection' : 'keep-alive',\n",
    "'Cookie' : 'autoru_gdpr=1; suid=bc8be712d638a08131a6e9e0d202d740.c5b54afb905b8c06122ab3a791bcd52b; yandexuid=2760879651631376416; my=YysBAgA%3D; counter_ga_all7=2; credit_filter_promo_popup_closed=true; bltsr=1; autoru-visits-count=5; autoru_sid=a%3Ag619130a126cnq19ulaaft362m5p2vb2.ce95d73e09b71591f2b431378fbd3c26%7C1637509921806.604800.1BSyVNdQ_Jgiakk7ftwSsg.rxF87OjlP3hNehiaJwY7hz1CT9Y7Izf61mSqV5Ly0C8; autoruuid=g619130a126cnq19ulaaft362m5p2vb2.ce95d73e09b71591f2b431378fbd3c26; crookie=jpj0jVvWTMkqF2bLNEjq1Sm8BK5liRI8I2IDRbmuxJB1Z9qhACbqZpnyGeU1riNvks6acZdg/tULhikIF+VQKxi5Ddo=; deal_million_popup_page_seen=-1; credit_modal_autoshow_closed=true; _yasc=BXlfPgARlvaqwGCFNYlOD81UvI/rudyiPXKWSUFuIbFRxQ==; _csrf_token=cd33b362bade8bf97053fcccb6e8a730d67cea3890bc13dd; from_lifetime=1637870096528; from=direct; safe_deal_promo=0; yuidlt=1; cmtchd=MTYzNzg2MjAxMjI2OQ==; X-Vertis-DC=sas; los=1',\n",
    "'Upgrade-Insecure-Requests' : '1',\n",
    "'Sec-Fetch-Dest' : 'document',\n",
    "'Sec-Fetch-Mode' : 'navigate',\n",
    "'Sec-Fetch-Site' : 'none',\n",
    "'Sec-Fetch-User' : '?1'\n",
    "}\n",
    "page_suffix = '?page='"
   ]
  },
  {
   "cell_type": "code",
   "execution_count": 447,
   "id": "0d75af13",
   "metadata": {},
   "outputs": [],
   "source": [
    "perks = ['Владельцы', 'Владение', 'ПТС', 'Привод', 'Руль', 'Состояние', 'Таможня', 'bodyType', 'brand', 'color', 'complectation_dict', 'description', 'engineDisplacement', \n",
    "      'enginePower', 'equipment_dict', 'fuelType', 'image', 'mileage', 'modelDate', 'model_info', 'model_name', \n",
    "      'name', 'numberOfDoors', 'parsing_unixtime', 'priceCurrency', 'productionDate', 'sell_id', 'super_gen', \n",
    "      'vehicleConfiguration', 'vehicleTransmission', 'vendor', 'car_url']"
   ]
  },
  {
   "cell_type": "code",
   "execution_count": 448,
   "id": "bf0ae443",
   "metadata": {},
   "outputs": [],
   "source": [
    "def get_ad_info(url, headers, characteristics):\n",
    "    ad_info = dict()   \n",
    "    r = requests.get(url, headers=headers)\n",
    "    html = BeautifulSoup(r.content, 'html.parser')\n",
    "    for li in html.find_all('li', 'CardInfoRow'):\n",
    "        var1, var2 = tuple(li.children)\n",
    "        key = var1.string\n",
    "        value = var2.string\n",
    "        if key in perks[:7]:\n",
    "            ad_info[key] = value\n",
    "    \n",
    "    try:\n",
    "        j1 = json.loads(html.script.string)\n",
    "    except:\n",
    "        return\n",
    "    \n",
    "    try:\n",
    "        j2 = json.loads(html.find('script', id=\"initial-state\").string)\n",
    "    except:\n",
    "        return\n",
    "        \n",
    "    for k in set(perks).intersection(set(j1)):\n",
    "        ad_info[k] = j1[k]\n",
    "\n",
    "    for l in set(perks).intersection(j1['vehicleEngine']):\n",
    "        try:\n",
    "            ad_info[l] = j1['vehicleEngine'][l]\n",
    "        except:\n",
    "            pass\n",
    "\n",
    "    for m in set(perks).intersection(j2['card']['state']):\n",
    "        try:\n",
    "            ad_info[m] = j2['card']['state'][m]\n",
    "        except:\n",
    "            pass\n",
    "\n",
    "    try: \n",
    "        ad_info['equipment_dict'] = j2['card']['vehicle_info']['equipment'] \n",
    "    except: \n",
    "        pass\n",
    "    \n",
    "    try: \n",
    "        ad_info['complectation_dict'] = j2['card']['vehicle_info']['complectation'] \n",
    "    except: \n",
    "        pass\n",
    "    \n",
    "    try: \n",
    "        ad_info['model_info'] = j2['card']['vehicle_info']['model_info'] \n",
    "    except: \n",
    "        pass\n",
    "    \n",
    "    try: \n",
    "        ad_info['model_name'] = j2['card']['vehicle_info']['model_info']['name'] \n",
    "    except: \n",
    "        pass\n",
    "    \n",
    "    try: \n",
    "        ad_info['super_gen'] = j2['card']['vehicle_info']['super_gen'] \n",
    "    except: \n",
    "        pass\n",
    "    \n",
    "    try: \n",
    "        ad_info['vendor'] = j2['card']['vehicle_info']['vendor'] \n",
    "    except: \n",
    "        pass\n",
    "    \n",
    "    try: \n",
    "        ad_info['sell_id'] = j2['card']['saleId'] \n",
    "    except: \n",
    "        pass\n",
    "    \n",
    "\n",
    "    try: \n",
    "        ad_info['price'] = j1['offers']['price'] \n",
    "    except: \n",
    "        pass\n",
    "    \n",
    "    try: \n",
    "        ad_info['priceCurrency'] = j1['offers']['priceCurrency'] \n",
    "    except: \n",
    "        pass\n",
    "    \n",
    "    try: \n",
    "        ad_info['car_url'] = j1['offers']['url'] \n",
    "    except: \n",
    "        pass\n",
    "    \n",
    "\n",
    "    ad_info['parsing_unixtime'] = time.time()\n",
    "\n",
    "    return ad_info"
   ]
  },
  {
   "cell_type": "code",
   "execution_count": null,
   "id": "8d83fb3c",
   "metadata": {},
   "outputs": [],
   "source": [
    "time_start = datetime.datetime.now()\n",
    "makes = ['', 'renault', 'toyota', 'mercedes', 'audi', 'hyundai', 'ford']\n",
    "makes = ['vaz', 'chevrolet', 'mitsubishi', 'volkswagen']\n",
    "for make in makes:\n",
    "    df = pd.DataFrame(columns=perks)\n",
    "    print(f'{make=}')\n",
    "    url = 'https://auto.ru/cars/' + make + '/all/'\n",
    "    rng = range(1, 100)\n",
    "    for page_num in rng:\n",
    "        if page_num <=1:\n",
    "            page_url = url\n",
    "        else:\n",
    "            page_url = url + page_suffix + str(page_num)\n",
    "        res = requests.get(page_url, headers=headers)\n",
    "        code = BeautifulSoup(res.content, 'html.parser')\n",
    "        ad_links = code.find_all(\"a\", class_=\"ListingItemTitle__link\")\n",
    "        for l in ad_links:\n",
    "            link = l['href']\n",
    "            print(f'{page_num = }  __  {link = }')\n",
    "            car_info = get_ad_info(link, headers, perks)\n",
    "            if car_info is None:\n",
    "                pass\n",
    "            else:\n",
    "                df = df.append(car_info, ignore_index=True,)\n",
    "            time.sleep(0.5)\n",
    "    time_passed = datetime.datetime.now() - time_start\n",
    "    print(f'{time_passed=}')\n",
    "    df.to_csv('project6' + make + '.csv')"
   ]
  },
  {
   "cell_type": "markdown",
   "id": "aae6476e",
   "metadata": {},
   "source": [
    "# Работа с данными"
   ]
  },
  {
   "cell_type": "code",
   "execution_count": 449,
   "id": "bd576df0",
   "metadata": {},
   "outputs": [
    {
     "name": "stdout",
     "output_type": "stream",
     "text": [
      "<class 'pandas.core.frame.DataFrame'>\n",
      "RangeIndex: 28673 entries, 0 to 28672\n",
      "Data columns (total 35 columns):\n",
      " #   Column                Non-Null Count  Dtype  \n",
      "---  ------                --------------  -----  \n",
      " 0   index                 28673 non-null  int64  \n",
      " 1   Unnamed: 0            28673 non-null  int64  \n",
      " 2   Владельцы             21776 non-null  object \n",
      " 3   Владение              3273 non-null   object \n",
      " 4   ПТС                   21776 non-null  object \n",
      " 5   Привод                21776 non-null  object \n",
      " 6   Руль                  21776 non-null  object \n",
      " 7   Состояние             21776 non-null  object \n",
      " 8   Таможня               21776 non-null  object \n",
      " 9   bodyType              28673 non-null  object \n",
      " 10  brand                 28673 non-null  object \n",
      " 11  color                 28673 non-null  object \n",
      " 12  complectation_dict    28670 non-null  object \n",
      " 13  description           28673 non-null  object \n",
      " 14  engineDisplacement    28673 non-null  object \n",
      " 15  enginePower           28673 non-null  object \n",
      " 16  equipment_dict        28673 non-null  object \n",
      " 17  fuelType              28673 non-null  object \n",
      " 18  image                 28673 non-null  object \n",
      " 19  mileage               28673 non-null  int64  \n",
      " 20  modelDate             28673 non-null  int64  \n",
      " 21  model_info            28673 non-null  object \n",
      " 22  model_name            28673 non-null  object \n",
      " 23  name                  28673 non-null  object \n",
      " 24  numberOfDoors         28673 non-null  int64  \n",
      " 25  parsing_unixtime      28673 non-null  float64\n",
      " 26  priceCurrency         28673 non-null  object \n",
      " 27  productionDate        28673 non-null  int64  \n",
      " 28  sell_id               28673 non-null  object \n",
      " 29  super_gen             28673 non-null  object \n",
      " 30  vehicleConfiguration  28673 non-null  object \n",
      " 31  vehicleTransmission   28673 non-null  object \n",
      " 32  vendor                28668 non-null  object \n",
      " 33  car_url               28673 non-null  object \n",
      " 34  price                 28345 non-null  float64\n",
      "dtypes: float64(2), int64(6), object(27)\n",
      "memory usage: 7.7+ MB\n"
     ]
    }
   ],
   "source": [
    "df = pd.read_csv('project6.csv')\n",
    "df = df.append(pd.read_csv('project6audi.csv'))\n",
    "df = df.append(pd.read_csv('project6_ford_1.csv'))\n",
    "df = df.append(pd.read_csv('project6_ford_3.csv'))\n",
    "df = df.append(pd.read_csv('project6_ford_4.csv'))\n",
    "df = df.append(pd.read_csv('project6hyundai.csv'))\n",
    "df = df.append(pd.read_csv('project6mercedes.csv'))\n",
    "df = df.append(pd.read_csv('project6renault.csv'))\n",
    "df = df.append(pd.read_csv('project6toyota.csv'))\n",
    "df = df.append(pd.read_csv('project6vaz.csv'))\n",
    "df.reset_index(inplace=True)\n",
    "df.info()"
   ]
  },
  {
   "cell_type": "code",
   "execution_count": 450,
   "id": "8060108c",
   "metadata": {},
   "outputs": [
    {
     "name": "stdout",
     "output_type": "stream",
     "text": [
      "<class 'pandas.core.frame.DataFrame'>\n",
      "Int64Index: 63359 entries, 0 to 34685\n",
      "Data columns (total 36 columns):\n",
      " #   Column                Non-Null Count  Dtype  \n",
      "---  ------                --------------  -----  \n",
      " 0   index                 28673 non-null  float64\n",
      " 1   Unnamed: 0            28673 non-null  float64\n",
      " 2   Владельцы             56462 non-null  object \n",
      " 3   Владение              15268 non-null  object \n",
      " 4   ПТС                   56461 non-null  object \n",
      " 5   Привод                56462 non-null  object \n",
      " 6   Руль                  56462 non-null  object \n",
      " 7   Состояние             56462 non-null  object \n",
      " 8   Таможня               56462 non-null  object \n",
      " 9   bodyType              63359 non-null  object \n",
      " 10  brand                 63359 non-null  object \n",
      " 11  color                 63359 non-null  object \n",
      " 12  complectation_dict    35088 non-null  object \n",
      " 13  description           63359 non-null  object \n",
      " 14  engineDisplacement    63359 non-null  object \n",
      " 15  enginePower           63359 non-null  object \n",
      " 16  equipment_dict        53363 non-null  object \n",
      " 17  fuelType              63359 non-null  object \n",
      " 18  image                 63359 non-null  object \n",
      " 19  mileage               63359 non-null  int64  \n",
      " 20  modelDate             63359 non-null  int64  \n",
      " 21  model_info            63359 non-null  object \n",
      " 22  model_name            63359 non-null  object \n",
      " 23  name                  63359 non-null  object \n",
      " 24  numberOfDoors         63359 non-null  int64  \n",
      " 25  parsing_unixtime      63359 non-null  float64\n",
      " 26  priceCurrency         63359 non-null  object \n",
      " 27  productionDate        63359 non-null  int64  \n",
      " 28  sell_id               63359 non-null  object \n",
      " 29  super_gen             63359 non-null  object \n",
      " 30  vehicleConfiguration  63359 non-null  object \n",
      " 31  vehicleTransmission   63359 non-null  object \n",
      " 32  vendor                63354 non-null  object \n",
      " 33  car_url               63359 non-null  object \n",
      " 34  price                 28345 non-null  float64\n",
      " 35  train                 63359 non-null  int64  \n",
      "dtypes: float64(4), int64(5), object(27)\n",
      "memory usage: 17.9+ MB\n"
     ]
    }
   ],
   "source": [
    "df['train'] = 1\n",
    "df_test = pd.read_csv('test.csv')\n",
    "df_test['train'] = 0\n",
    "df = df.append(df_test)\n",
    "\n",
    "df.info()"
   ]
  },
  {
   "cell_type": "code",
   "execution_count": 451,
   "id": "44914536",
   "metadata": {},
   "outputs": [
    {
     "data": {
      "text/plain": [
       "Index(['index', 'Unnamed: 0', 'Владельцы', 'Владение', 'ПТС', 'Привод', 'Руль',\n",
       "       'Состояние', 'Таможня', 'bodyType', 'brand', 'color',\n",
       "       'complectation_dict', 'description', 'engineDisplacement',\n",
       "       'enginePower', 'equipment_dict', 'fuelType', 'image', 'mileage',\n",
       "       'modelDate', 'model_info', 'model_name', 'name', 'numberOfDoors',\n",
       "       'parsing_unixtime', 'priceCurrency', 'productionDate', 'sell_id',\n",
       "       'super_gen', 'vehicleConfiguration', 'vehicleTransmission', 'vendor',\n",
       "       'car_url', 'price', 'train'],\n",
       "      dtype='object')"
      ]
     },
     "execution_count": 451,
     "metadata": {},
     "output_type": "execute_result"
    }
   ],
   "source": [
    "df.columns"
   ]
  },
  {
   "cell_type": "code",
   "execution_count": 452,
   "id": "95f262e2",
   "metadata": {
    "scrolled": true
   },
   "outputs": [
    {
     "data": {
      "text/html": [
       "<div>\n",
       "<style scoped>\n",
       "    .dataframe tbody tr th:only-of-type {\n",
       "        vertical-align: middle;\n",
       "    }\n",
       "\n",
       "    .dataframe tbody tr th {\n",
       "        vertical-align: top;\n",
       "    }\n",
       "\n",
       "    .dataframe thead th {\n",
       "        text-align: right;\n",
       "    }\n",
       "</style>\n",
       "<table border=\"1\" class=\"dataframe\">\n",
       "  <thead>\n",
       "    <tr style=\"text-align: right;\">\n",
       "      <th></th>\n",
       "      <th>index</th>\n",
       "      <th>Unnamed: 0</th>\n",
       "      <th>Владельцы</th>\n",
       "      <th>Владение</th>\n",
       "      <th>ПТС</th>\n",
       "      <th>Привод</th>\n",
       "      <th>Руль</th>\n",
       "      <th>Состояние</th>\n",
       "      <th>Таможня</th>\n",
       "      <th>bodyType</th>\n",
       "      <th>...</th>\n",
       "      <th>priceCurrency</th>\n",
       "      <th>productionDate</th>\n",
       "      <th>sell_id</th>\n",
       "      <th>super_gen</th>\n",
       "      <th>vehicleConfiguration</th>\n",
       "      <th>vehicleTransmission</th>\n",
       "      <th>vendor</th>\n",
       "      <th>car_url</th>\n",
       "      <th>price</th>\n",
       "      <th>train</th>\n",
       "    </tr>\n",
       "  </thead>\n",
       "  <tbody>\n",
       "    <tr>\n",
       "      <th>24243</th>\n",
       "      <td>NaN</td>\n",
       "      <td>NaN</td>\n",
       "      <td>2 владельца</td>\n",
       "      <td>1 год и 7 месяцев</td>\n",
       "      <td>Оригинал</td>\n",
       "      <td>передний</td>\n",
       "      <td>Левый</td>\n",
       "      <td>Не требует ремонта</td>\n",
       "      <td>Растаможен</td>\n",
       "      <td>седан</td>\n",
       "      <td>...</td>\n",
       "      <td>RUB</td>\n",
       "      <td>2015</td>\n",
       "      <td>1088300454</td>\n",
       "      <td>{\"id\":\"20554758\",\"displacement\":1598,\"engine_t...</td>\n",
       "      <td>SEDAN AUTOMATIC 1.6</td>\n",
       "      <td>автоматическая</td>\n",
       "      <td>EUROPEAN</td>\n",
       "      <td>https://auto.ru/cars/used/sale/volkswagen/polo...</td>\n",
       "      <td>NaN</td>\n",
       "      <td>0</td>\n",
       "    </tr>\n",
       "    <tr>\n",
       "      <th>7797</th>\n",
       "      <td>NaN</td>\n",
       "      <td>NaN</td>\n",
       "      <td>2 владельца</td>\n",
       "      <td>NaN</td>\n",
       "      <td>Оригинал</td>\n",
       "      <td>полный</td>\n",
       "      <td>Левый</td>\n",
       "      <td>Не требует ремонта</td>\n",
       "      <td>Растаможен</td>\n",
       "      <td>купе</td>\n",
       "      <td>...</td>\n",
       "      <td>RUB</td>\n",
       "      <td>2018</td>\n",
       "      <td>1101244569</td>\n",
       "      <td>{\"id\":\"20906854\",\"name\":\"420\",\"nameplate\":\"420...</td>\n",
       "      <td>COUPE AUTOMATIC 2.0</td>\n",
       "      <td>автоматическая</td>\n",
       "      <td>EUROPEAN</td>\n",
       "      <td>https://auto.ru/cars/used/sale/bmw/4/110124456...</td>\n",
       "      <td>NaN</td>\n",
       "      <td>0</td>\n",
       "    </tr>\n",
       "    <tr>\n",
       "      <th>24128</th>\n",
       "      <td>2799.0</td>\n",
       "      <td>2799.0</td>\n",
       "      <td>3 или более</td>\n",
       "      <td>6 лет и 12 месяцев</td>\n",
       "      <td>Дубликат</td>\n",
       "      <td>полный</td>\n",
       "      <td>Левый</td>\n",
       "      <td>Не требует ремонта</td>\n",
       "      <td>Растаможен</td>\n",
       "      <td>минивэн</td>\n",
       "      <td>...</td>\n",
       "      <td>RUB</td>\n",
       "      <td>2007</td>\n",
       "      <td>1105175415-db056b07</td>\n",
       "      <td>{'id': '6397522', 'name': 'II Рестайлинг', 'ru...</td>\n",
       "      <td>MINIVAN AUTOMATIC 3.5</td>\n",
       "      <td>автоматическая</td>\n",
       "      <td>JAPANESE</td>\n",
       "      <td>https://auto.ru/cars/used/sale/toyota/sienna/1...</td>\n",
       "      <td>1199000.0</td>\n",
       "      <td>1</td>\n",
       "    </tr>\n",
       "  </tbody>\n",
       "</table>\n",
       "<p>3 rows × 36 columns</p>\n",
       "</div>"
      ],
      "text/plain": [
       "        index  Unnamed: 0    Владельцы            Владение       ПТС  \\\n",
       "24243     NaN         NaN  2 владельца   1 год и 7 месяцев  Оригинал   \n",
       "7797      NaN         NaN  2 владельца                 NaN  Оригинал   \n",
       "24128  2799.0      2799.0  3 или более  6 лет и 12 месяцев  Дубликат   \n",
       "\n",
       "         Привод   Руль           Состояние     Таможня bodyType  ...  \\\n",
       "24243  передний  Левый  Не требует ремонта  Растаможен    седан  ...   \n",
       "7797     полный  Левый  Не требует ремонта  Растаможен     купе  ...   \n",
       "24128    полный  Левый  Не требует ремонта  Растаможен  минивэн  ...   \n",
       "\n",
       "      priceCurrency productionDate              sell_id  \\\n",
       "24243           RUB           2015           1088300454   \n",
       "7797            RUB           2018           1101244569   \n",
       "24128           RUB           2007  1105175415-db056b07   \n",
       "\n",
       "                                               super_gen  \\\n",
       "24243  {\"id\":\"20554758\",\"displacement\":1598,\"engine_t...   \n",
       "7797   {\"id\":\"20906854\",\"name\":\"420\",\"nameplate\":\"420...   \n",
       "24128  {'id': '6397522', 'name': 'II Рестайлинг', 'ru...   \n",
       "\n",
       "        vehicleConfiguration vehicleTransmission    vendor  \\\n",
       "24243    SEDAN AUTOMATIC 1.6      автоматическая  EUROPEAN   \n",
       "7797     COUPE AUTOMATIC 2.0      автоматическая  EUROPEAN   \n",
       "24128  MINIVAN AUTOMATIC 3.5      автоматическая  JAPANESE   \n",
       "\n",
       "                                                 car_url      price  train  \n",
       "24243  https://auto.ru/cars/used/sale/volkswagen/polo...        NaN      0  \n",
       "7797   https://auto.ru/cars/used/sale/bmw/4/110124456...        NaN      0  \n",
       "24128  https://auto.ru/cars/used/sale/toyota/sienna/1...  1199000.0      1  \n",
       "\n",
       "[3 rows x 36 columns]"
      ]
     },
     "execution_count": 452,
     "metadata": {},
     "output_type": "execute_result"
    }
   ],
   "source": [
    "df.sample(3)"
   ]
  },
  {
   "cell_type": "code",
   "execution_count": 453,
   "id": "6ebe5e4b",
   "metadata": {},
   "outputs": [],
   "source": [
    "#выделим признаки, с которыми будем работать\n",
    "columns = ['sell_id','Владельцы','ПТС','Таможня','Привод','Руль','Состояние','mileage','bodyType','color','engineDisplacement','enginePower',\n",
    "              'fuelType','vehicleTransmission','numberOfDoors','productionDate','vendor','price', 'train']\n",
    "# убираем \"Владение\" т.к. очень мало информации, modelDate скорее всего будет коррелировать с датой выпуска-сразу удалим признак.\n",
    "#'vehicleConfiguration' и 'name' удаляем т.к. у нас уже есть вся информация. Признак brand удаляем."
   ]
  },
  {
   "cell_type": "code",
   "execution_count": 454,
   "id": "c212661f",
   "metadata": {
    "scrolled": true
   },
   "outputs": [
    {
     "data": {
      "text/html": [
       "<div>\n",
       "<style scoped>\n",
       "    .dataframe tbody tr th:only-of-type {\n",
       "        vertical-align: middle;\n",
       "    }\n",
       "\n",
       "    .dataframe tbody tr th {\n",
       "        vertical-align: top;\n",
       "    }\n",
       "\n",
       "    .dataframe thead th {\n",
       "        text-align: right;\n",
       "    }\n",
       "</style>\n",
       "<table border=\"1\" class=\"dataframe\">\n",
       "  <thead>\n",
       "    <tr style=\"text-align: right;\">\n",
       "      <th></th>\n",
       "      <th>sell_id</th>\n",
       "      <th>Владельцы</th>\n",
       "      <th>ПТС</th>\n",
       "      <th>Таможня</th>\n",
       "      <th>Привод</th>\n",
       "      <th>Руль</th>\n",
       "      <th>Состояние</th>\n",
       "      <th>mileage</th>\n",
       "      <th>bodyType</th>\n",
       "      <th>color</th>\n",
       "      <th>engineDisplacement</th>\n",
       "      <th>enginePower</th>\n",
       "      <th>fuelType</th>\n",
       "      <th>vehicleTransmission</th>\n",
       "      <th>numberOfDoors</th>\n",
       "      <th>productionDate</th>\n",
       "      <th>vendor</th>\n",
       "      <th>price</th>\n",
       "      <th>train</th>\n",
       "    </tr>\n",
       "  </thead>\n",
       "  <tbody>\n",
       "    <tr>\n",
       "      <th>0</th>\n",
       "      <td>1105117076-5afcca8a</td>\n",
       "      <td>NaN</td>\n",
       "      <td>NaN</td>\n",
       "      <td>NaN</td>\n",
       "      <td>NaN</td>\n",
       "      <td>NaN</td>\n",
       "      <td>NaN</td>\n",
       "      <td>0</td>\n",
       "      <td>купе</td>\n",
       "      <td>чёрный</td>\n",
       "      <td>2.0 LTR</td>\n",
       "      <td>197 N12</td>\n",
       "      <td>бензин</td>\n",
       "      <td>автоматическая</td>\n",
       "      <td>2</td>\n",
       "      <td>2020</td>\n",
       "      <td>EUROPEAN</td>\n",
       "      <td>5360064.0</td>\n",
       "      <td>1</td>\n",
       "    </tr>\n",
       "    <tr>\n",
       "      <th>1</th>\n",
       "      <td>1105828980-edee6d5a</td>\n",
       "      <td>1 владелец</td>\n",
       "      <td>Оригинал</td>\n",
       "      <td>Растаможен</td>\n",
       "      <td>полный</td>\n",
       "      <td>Левый</td>\n",
       "      <td>Не требует ремонта</td>\n",
       "      <td>62000</td>\n",
       "      <td>внедорожник 5 дв.</td>\n",
       "      <td>пурпурный</td>\n",
       "      <td>2.5 LTR</td>\n",
       "      <td>180 N12</td>\n",
       "      <td>бензин</td>\n",
       "      <td>автоматическая</td>\n",
       "      <td>5</td>\n",
       "      <td>2018</td>\n",
       "      <td>JAPANESE</td>\n",
       "      <td>2295000.0</td>\n",
       "      <td>1</td>\n",
       "    </tr>\n",
       "    <tr>\n",
       "      <th>2</th>\n",
       "      <td>1105892143-a25eb3c3</td>\n",
       "      <td>3 или более</td>\n",
       "      <td>Дубликат</td>\n",
       "      <td>Растаможен</td>\n",
       "      <td>передний</td>\n",
       "      <td>Левый</td>\n",
       "      <td>Не требует ремонта</td>\n",
       "      <td>185566</td>\n",
       "      <td>седан</td>\n",
       "      <td>серый</td>\n",
       "      <td>1.6 LTR</td>\n",
       "      <td>115 N12</td>\n",
       "      <td>бензин</td>\n",
       "      <td>механическая</td>\n",
       "      <td>4</td>\n",
       "      <td>2006</td>\n",
       "      <td>EUROPEAN</td>\n",
       "      <td>320000.0</td>\n",
       "      <td>1</td>\n",
       "    </tr>\n",
       "    <tr>\n",
       "      <th>3</th>\n",
       "      <td>1105979835-fca730a5</td>\n",
       "      <td>NaN</td>\n",
       "      <td>NaN</td>\n",
       "      <td>NaN</td>\n",
       "      <td>NaN</td>\n",
       "      <td>NaN</td>\n",
       "      <td>NaN</td>\n",
       "      <td>0</td>\n",
       "      <td>внедорожник 5 дв.</td>\n",
       "      <td>серебристый</td>\n",
       "      <td>2.0 LTR</td>\n",
       "      <td>149 N12</td>\n",
       "      <td>бензин</td>\n",
       "      <td>автоматическая</td>\n",
       "      <td>5</td>\n",
       "      <td>2021</td>\n",
       "      <td>KOREAN</td>\n",
       "      <td>1520000.0</td>\n",
       "      <td>1</td>\n",
       "    </tr>\n",
       "    <tr>\n",
       "      <th>4</th>\n",
       "      <td>1106014848-0b67bbc0</td>\n",
       "      <td>3 или более</td>\n",
       "      <td>Дубликат</td>\n",
       "      <td>Растаможен</td>\n",
       "      <td>передний</td>\n",
       "      <td>Правый</td>\n",
       "      <td>Не требует ремонта</td>\n",
       "      <td>300000</td>\n",
       "      <td>хэтчбек 5 дв.</td>\n",
       "      <td>розовый</td>\n",
       "      <td>1.0 LTR</td>\n",
       "      <td>70 N12</td>\n",
       "      <td>бензин</td>\n",
       "      <td>автоматическая</td>\n",
       "      <td>5</td>\n",
       "      <td>2000</td>\n",
       "      <td>JAPANESE</td>\n",
       "      <td>175000.0</td>\n",
       "      <td>1</td>\n",
       "    </tr>\n",
       "    <tr>\n",
       "      <th>...</th>\n",
       "      <td>...</td>\n",
       "      <td>...</td>\n",
       "      <td>...</td>\n",
       "      <td>...</td>\n",
       "      <td>...</td>\n",
       "      <td>...</td>\n",
       "      <td>...</td>\n",
       "      <td>...</td>\n",
       "      <td>...</td>\n",
       "      <td>...</td>\n",
       "      <td>...</td>\n",
       "      <td>...</td>\n",
       "      <td>...</td>\n",
       "      <td>...</td>\n",
       "      <td>...</td>\n",
       "      <td>...</td>\n",
       "      <td>...</td>\n",
       "      <td>...</td>\n",
       "      <td>...</td>\n",
       "    </tr>\n",
       "    <tr>\n",
       "      <th>34681</th>\n",
       "      <td>1101369263</td>\n",
       "      <td>3 или более</td>\n",
       "      <td>Оригинал</td>\n",
       "      <td>Растаможен</td>\n",
       "      <td>задний</td>\n",
       "      <td>Левый</td>\n",
       "      <td>Не требует ремонта</td>\n",
       "      <td>115000</td>\n",
       "      <td>седан</td>\n",
       "      <td>коричневый</td>\n",
       "      <td>1.6 LTR</td>\n",
       "      <td>136 N12</td>\n",
       "      <td>бензин</td>\n",
       "      <td>автоматическая</td>\n",
       "      <td>4</td>\n",
       "      <td>2014</td>\n",
       "      <td>EUROPEAN</td>\n",
       "      <td>NaN</td>\n",
       "      <td>0</td>\n",
       "    </tr>\n",
       "    <tr>\n",
       "      <th>34682</th>\n",
       "      <td>1101369581</td>\n",
       "      <td>1 владелец</td>\n",
       "      <td>Оригинал</td>\n",
       "      <td>Растаможен</td>\n",
       "      <td>полный</td>\n",
       "      <td>Левый</td>\n",
       "      <td>Не требует ремонта</td>\n",
       "      <td>98000</td>\n",
       "      <td>седан</td>\n",
       "      <td>чёрный</td>\n",
       "      <td>2.0 LTR</td>\n",
       "      <td>190 N12</td>\n",
       "      <td>дизель</td>\n",
       "      <td>автоматическая</td>\n",
       "      <td>4</td>\n",
       "      <td>2018</td>\n",
       "      <td>EUROPEAN</td>\n",
       "      <td>NaN</td>\n",
       "      <td>0</td>\n",
       "    </tr>\n",
       "    <tr>\n",
       "      <th>34683</th>\n",
       "      <td>1101364889</td>\n",
       "      <td>3 или более</td>\n",
       "      <td>Дубликат</td>\n",
       "      <td>Растаможен</td>\n",
       "      <td>задний</td>\n",
       "      <td>Левый</td>\n",
       "      <td>Не требует ремонта</td>\n",
       "      <td>360000</td>\n",
       "      <td>седан</td>\n",
       "      <td>серый</td>\n",
       "      <td>2.5 LTR</td>\n",
       "      <td>170 N12</td>\n",
       "      <td>бензин</td>\n",
       "      <td>автоматическая</td>\n",
       "      <td>4</td>\n",
       "      <td>1997</td>\n",
       "      <td>EUROPEAN</td>\n",
       "      <td>NaN</td>\n",
       "      <td>0</td>\n",
       "    </tr>\n",
       "    <tr>\n",
       "      <th>34684</th>\n",
       "      <td>1101362518</td>\n",
       "      <td>2 владельца</td>\n",
       "      <td>Оригинал</td>\n",
       "      <td>Растаможен</td>\n",
       "      <td>полный</td>\n",
       "      <td>Левый</td>\n",
       "      <td>Не требует ремонта</td>\n",
       "      <td>90500</td>\n",
       "      <td>внедорожник 5 дв.</td>\n",
       "      <td>коричневый</td>\n",
       "      <td>2.0 LTR</td>\n",
       "      <td>184 N12</td>\n",
       "      <td>дизель</td>\n",
       "      <td>автоматическая</td>\n",
       "      <td>5</td>\n",
       "      <td>2013</td>\n",
       "      <td>EUROPEAN</td>\n",
       "      <td>NaN</td>\n",
       "      <td>0</td>\n",
       "    </tr>\n",
       "    <tr>\n",
       "      <th>34685</th>\n",
       "      <td>1101256068</td>\n",
       "      <td>3 или более</td>\n",
       "      <td>Оригинал</td>\n",
       "      <td>Растаможен</td>\n",
       "      <td>полный</td>\n",
       "      <td>Левый</td>\n",
       "      <td>Не требует ремонта</td>\n",
       "      <td>240000</td>\n",
       "      <td>внедорожник 5 дв.</td>\n",
       "      <td>чёрный</td>\n",
       "      <td>3.0 LTR</td>\n",
       "      <td>235 N12</td>\n",
       "      <td>дизель</td>\n",
       "      <td>автоматическая</td>\n",
       "      <td>5</td>\n",
       "      <td>2008</td>\n",
       "      <td>EUROPEAN</td>\n",
       "      <td>NaN</td>\n",
       "      <td>0</td>\n",
       "    </tr>\n",
       "  </tbody>\n",
       "</table>\n",
       "<p>63359 rows × 19 columns</p>\n",
       "</div>"
      ],
      "text/plain": [
       "                   sell_id    Владельцы       ПТС     Таможня    Привод  \\\n",
       "0      1105117076-5afcca8a          NaN       NaN         NaN       NaN   \n",
       "1      1105828980-edee6d5a   1 владелец  Оригинал  Растаможен    полный   \n",
       "2      1105892143-a25eb3c3  3 или более  Дубликат  Растаможен  передний   \n",
       "3      1105979835-fca730a5          NaN       NaN         NaN       NaN   \n",
       "4      1106014848-0b67bbc0  3 или более  Дубликат  Растаможен  передний   \n",
       "...                    ...          ...       ...         ...       ...   \n",
       "34681           1101369263  3 или более  Оригинал  Растаможен    задний   \n",
       "34682           1101369581   1 владелец  Оригинал  Растаможен    полный   \n",
       "34683           1101364889  3 или более  Дубликат  Растаможен    задний   \n",
       "34684           1101362518  2 владельца  Оригинал  Растаможен    полный   \n",
       "34685           1101256068  3 или более  Оригинал  Растаможен    полный   \n",
       "\n",
       "         Руль           Состояние  mileage           bodyType        color  \\\n",
       "0         NaN                 NaN        0               купе       чёрный   \n",
       "1       Левый  Не требует ремонта    62000  внедорожник 5 дв.    пурпурный   \n",
       "2       Левый  Не требует ремонта   185566              седан        серый   \n",
       "3         NaN                 NaN        0  внедорожник 5 дв.  серебристый   \n",
       "4      Правый  Не требует ремонта   300000      хэтчбек 5 дв.      розовый   \n",
       "...       ...                 ...      ...                ...          ...   \n",
       "34681   Левый  Не требует ремонта   115000              седан   коричневый   \n",
       "34682   Левый  Не требует ремонта    98000              седан       чёрный   \n",
       "34683   Левый  Не требует ремонта   360000              седан        серый   \n",
       "34684   Левый  Не требует ремонта    90500  внедорожник 5 дв.   коричневый   \n",
       "34685   Левый  Не требует ремонта   240000  внедорожник 5 дв.       чёрный   \n",
       "\n",
       "      engineDisplacement enginePower fuelType vehicleTransmission  \\\n",
       "0                2.0 LTR     197 N12   бензин      автоматическая   \n",
       "1                2.5 LTR     180 N12   бензин      автоматическая   \n",
       "2                1.6 LTR     115 N12   бензин        механическая   \n",
       "3                2.0 LTR     149 N12   бензин      автоматическая   \n",
       "4                1.0 LTR      70 N12   бензин      автоматическая   \n",
       "...                  ...         ...      ...                 ...   \n",
       "34681            1.6 LTR     136 N12   бензин      автоматическая   \n",
       "34682            2.0 LTR     190 N12   дизель      автоматическая   \n",
       "34683            2.5 LTR     170 N12   бензин      автоматическая   \n",
       "34684            2.0 LTR     184 N12   дизель      автоматическая   \n",
       "34685            3.0 LTR     235 N12   дизель      автоматическая   \n",
       "\n",
       "       numberOfDoors  productionDate    vendor      price  train  \n",
       "0                  2            2020  EUROPEAN  5360064.0      1  \n",
       "1                  5            2018  JAPANESE  2295000.0      1  \n",
       "2                  4            2006  EUROPEAN   320000.0      1  \n",
       "3                  5            2021    KOREAN  1520000.0      1  \n",
       "4                  5            2000  JAPANESE   175000.0      1  \n",
       "...              ...             ...       ...        ...    ...  \n",
       "34681              4            2014  EUROPEAN        NaN      0  \n",
       "34682              4            2018  EUROPEAN        NaN      0  \n",
       "34683              4            1997  EUROPEAN        NaN      0  \n",
       "34684              5            2013  EUROPEAN        NaN      0  \n",
       "34685              5            2008  EUROPEAN        NaN      0  \n",
       "\n",
       "[63359 rows x 19 columns]"
      ]
     },
     "execution_count": 454,
     "metadata": {},
     "output_type": "execute_result"
    }
   ],
   "source": [
    "#датасет с выбранными выше признаками\n",
    "df = df[columns]\n",
    "df"
   ]
  },
  {
   "cell_type": "code",
   "execution_count": 455,
   "id": "fc1be6ea",
   "metadata": {},
   "outputs": [],
   "source": [
    "#уадаляем дубликаты по sell_id\n",
    "df.drop_duplicates(subset=['sell_id'],inplace = True)"
   ]
  },
  {
   "cell_type": "code",
   "execution_count": 456,
   "id": "33a66098",
   "metadata": {},
   "outputs": [
    {
     "name": "stdout",
     "output_type": "stream",
     "text": [
      "<class 'pandas.core.frame.DataFrame'>\n",
      "Int64Index: 60388 entries, 0 to 34685\n",
      "Data columns (total 19 columns):\n",
      " #   Column               Non-Null Count  Dtype  \n",
      "---  ------               --------------  -----  \n",
      " 0   sell_id              60388 non-null  object \n",
      " 1   Владельцы            54492 non-null  object \n",
      " 2   ПТС                  54491 non-null  object \n",
      " 3   Таможня              54492 non-null  object \n",
      " 4   Привод               54492 non-null  object \n",
      " 5   Руль                 54492 non-null  object \n",
      " 6   Состояние            54492 non-null  object \n",
      " 7   mileage              60388 non-null  int64  \n",
      " 8   bodyType             60388 non-null  object \n",
      " 9   color                60388 non-null  object \n",
      " 10  engineDisplacement   60388 non-null  object \n",
      " 11  enginePower          60388 non-null  object \n",
      " 12  fuelType             60388 non-null  object \n",
      " 13  vehicleTransmission  60388 non-null  object \n",
      " 14  numberOfDoors        60388 non-null  int64  \n",
      " 15  productionDate       60388 non-null  int64  \n",
      " 16  vendor               60383 non-null  object \n",
      " 17  price                25375 non-null  float64\n",
      " 18  train                60388 non-null  int64  \n",
      "dtypes: float64(1), int64(4), object(14)\n",
      "memory usage: 9.2+ MB\n"
     ]
    }
   ],
   "source": [
    "df.info()"
   ]
  },
  {
   "cell_type": "code",
   "execution_count": 457,
   "id": "b1229d57",
   "metadata": {},
   "outputs": [
    {
     "data": {
      "text/plain": [
       "<AxesSubplot:>"
      ]
     },
     "execution_count": 457,
     "metadata": {},
     "output_type": "execute_result"
    },
    {
     "data": {
      "image/png": "[encoded data removed]",
      "text/plain": [
       "<Figure size 2160x2160 with 2 Axes>"
      ]
     },
     "metadata": {
      "needs_background": "light"
     },
     "output_type": "display_data"
    }
   ],
   "source": [
    "#Построим график пропусков\n",
    "plt.subplots(figsize=(30, 30))\n",
    "sns.heatmap(df.isnull())"
   ]
  },
  {
   "cell_type": "code",
   "execution_count": 458,
   "id": "55c660f9",
   "metadata": {},
   "outputs": [],
   "source": [
    "#удаляем пропуски где нет цены\n",
    "df_test = df.loc[df['train'] == 0, :]\n",
    "df_train = df.loc[(df['train'] == 1) & (df['price'] > 0), :]"
   ]
  },
  {
   "cell_type": "code",
   "execution_count": 459,
   "id": "c3f27b5b",
   "metadata": {},
   "outputs": [],
   "source": [
    "df = df_test.append(df_train)"
   ]
  },
  {
   "cell_type": "code",
   "execution_count": 460,
   "id": "df40185a",
   "metadata": {},
   "outputs": [
    {
     "data": {
      "text/plain": [
       "3 или более    23190\n",
       "1 владелец     17129\n",
       "2 владельца    13846\n",
       "Name: Владельцы, dtype: int64"
      ]
     },
     "execution_count": 460,
     "metadata": {},
     "output_type": "execute_result"
    }
   ],
   "source": [
    "df['Владельцы'].value_counts()"
   ]
  },
  {
   "cell_type": "code",
   "execution_count": 461,
   "id": "b278b082",
   "metadata": {},
   "outputs": [],
   "source": [
    "#предположим что пропуски относятся к новым автомобилям, поэтому заполним их \"0\"\n",
    "df['Владельцы']=df['Владельцы'].fillna(0)"
   ]
  },
  {
   "cell_type": "code",
   "execution_count": 462,
   "id": "f4b8f4b9",
   "metadata": {},
   "outputs": [],
   "source": [
    "df['Владельцы'] = df['Владельцы'].apply(lambda x: 1 if str(x).startswith('1') else 2 if str(x).startswith('2') else 3 if str(x).startswith('3') else x)"
   ]
  },
  {
   "cell_type": "code",
   "execution_count": 463,
   "id": "ccf2417d",
   "metadata": {},
   "outputs": [
    {
     "data": {
      "text/plain": [
       "Оригинал    47278\n",
       "Дубликат     6886\n",
       "Name: ПТС, dtype: int64"
      ]
     },
     "execution_count": 463,
     "metadata": {},
     "output_type": "execute_result"
    }
   ],
   "source": [
    "df['ПТС'].value_counts()"
   ]
  },
  {
   "cell_type": "code",
   "execution_count": 464,
   "id": "95ae0fe9",
   "metadata": {
    "scrolled": true
   },
   "outputs": [],
   "source": [
    "df['ПТС'] = df['ПТС'].apply(lambda x: 1 if x == 'Оригинал' else 0)"
   ]
  },
  {
   "cell_type": "code",
   "execution_count": 465,
   "id": "99d15a6d",
   "metadata": {},
   "outputs": [
    {
     "name": "stdout",
     "output_type": "stream",
     "text": [
      "<class 'pandas.core.frame.DataFrame'>\n",
      "Int64Index: 60061 entries, 0 to 28672\n",
      "Data columns (total 19 columns):\n",
      " #   Column               Non-Null Count  Dtype  \n",
      "---  ------               --------------  -----  \n",
      " 0   sell_id              60061 non-null  object \n",
      " 1   Владельцы            60061 non-null  int64  \n",
      " 2   ПТС                  60061 non-null  int64  \n",
      " 3   Таможня              54165 non-null  object \n",
      " 4   Привод               54165 non-null  object \n",
      " 5   Руль                 54165 non-null  object \n",
      " 6   Состояние            54165 non-null  object \n",
      " 7   mileage              60061 non-null  int64  \n",
      " 8   bodyType             60061 non-null  object \n",
      " 9   color                60061 non-null  object \n",
      " 10  engineDisplacement   60061 non-null  object \n",
      " 11  enginePower          60061 non-null  object \n",
      " 12  fuelType             60061 non-null  object \n",
      " 13  vehicleTransmission  60061 non-null  object \n",
      " 14  numberOfDoors        60061 non-null  int64  \n",
      " 15  productionDate       60061 non-null  int64  \n",
      " 16  vendor               60058 non-null  object \n",
      " 17  price                25375 non-null  float64\n",
      " 18  train                60061 non-null  int64  \n",
      "dtypes: float64(1), int64(6), object(12)\n",
      "memory usage: 9.2+ MB\n"
     ]
    }
   ],
   "source": [
    "df.info()"
   ]
  },
  {
   "cell_type": "code",
   "execution_count": 466,
   "id": "9bf90387",
   "metadata": {},
   "outputs": [
    {
     "data": {
      "text/plain": [
       "передний    26772\n",
       "полный      22151\n",
       "задний       5242\n",
       "Name: Привод, dtype: int64"
      ]
     },
     "execution_count": 466,
     "metadata": {},
     "output_type": "execute_result"
    }
   ],
   "source": [
    "df['Привод'].value_counts()# get_dammies"
   ]
  },
  {
   "cell_type": "code",
   "execution_count": 467,
   "id": "a094fc1b",
   "metadata": {},
   "outputs": [],
   "source": [
    "# применяем get_dummies и удаляем признак \"Привод\"\n",
    "df=pd.concat([df, pd.get_dummies(df['Привод'])], axis=1)\n",
    "df.drop(columns=['Привод'], inplace= True)"
   ]
  },
  {
   "cell_type": "code",
   "execution_count": 468,
   "id": "d675f9d8",
   "metadata": {},
   "outputs": [
    {
     "data": {
      "text/plain": [
       "Левый     52409\n",
       "Правый     1756\n",
       "Name: Руль, dtype: int64"
      ]
     },
     "execution_count": 468,
     "metadata": {},
     "output_type": "execute_result"
    }
   ],
   "source": [
    "df['Руль'].value_counts()"
   ]
  },
  {
   "cell_type": "code",
   "execution_count": 469,
   "id": "8726efe7",
   "metadata": {},
   "outputs": [
    {
     "name": "stdout",
     "output_type": "stream",
     "text": [
      "AxesSubplot(0.125,0.125;0.775x0.755)\n"
     ]
    },
    {
     "data": {
      "image/png": "[encoded data removed]",
      "text/plain": [
       "<Figure size 432x288 with 1 Axes>"
      ]
     },
     "metadata": {
      "needs_background": "light"
     },
     "output_type": "display_data"
    }
   ],
   "source": [
    "#Проверим корееляцию стороный руля и страны происхождения. очевидно правосторонний руль у автомобилей произвденных в Японии. \n",
    "print(df['vendor'][df['Руль'] == 'Правый'].hist(bins=100))"
   ]
  },
  {
   "cell_type": "code",
   "execution_count": 470,
   "id": "910a5150",
   "metadata": {},
   "outputs": [],
   "source": [
    "#Заполним nans исходя из предыдущего вывода.\n",
    "def fill_steering(row):\n",
    "    if pd.isnull(row['Руль']) and row['vendor'] == 'JAPANESE':\n",
    "        return 1\n",
    "    if pd.isnull(row['Руль']) and row['vendor'] != 'JAPANESE':\n",
    "        return 0\n",
    "    if row['Руль'] == 'Левый':\n",
    "        return 0\n",
    "    if row['Руль'] == 'Правый':\n",
    "        return 1"
   ]
  },
  {
   "cell_type": "code",
   "execution_count": 471,
   "id": "1fc0eace",
   "metadata": {
    "scrolled": true
   },
   "outputs": [],
   "source": [
    "df['Руль']=df.apply(fill_steering, axis=1)# применяем функцию"
   ]
  },
  {
   "cell_type": "code",
   "execution_count": 472,
   "id": "f2e7b8ce",
   "metadata": {},
   "outputs": [
    {
     "data": {
      "text/plain": [
       "Не требует ремонта    54165\n",
       "Name: Состояние, dtype: int64"
      ]
     },
     "execution_count": 472,
     "metadata": {},
     "output_type": "execute_result"
    }
   ],
   "source": [
    "df['Состояние'].value_counts()"
   ]
  },
  {
   "cell_type": "code",
   "execution_count": 473,
   "id": "6bc70639",
   "metadata": {
    "scrolled": true
   },
   "outputs": [],
   "source": [
    "# предположим что пропуски относятся к новым автомобилям, делаем вывод что все автомобили не требуют ремонта\n",
    "# поэтому удаляем признак\n",
    "df.drop(columns=['Состояние'], inplace= True)"
   ]
  },
  {
   "cell_type": "code",
   "execution_count": 474,
   "id": "f5b941ba",
   "metadata": {},
   "outputs": [
    {
     "data": {
      "text/plain": [
       "Растаможен    54165\n",
       "Name: Таможня, dtype: int64"
      ]
     },
     "execution_count": 474,
     "metadata": {},
     "output_type": "execute_result"
    }
   ],
   "source": [
    "df['Таможня'].value_counts()"
   ]
  },
  {
   "cell_type": "code",
   "execution_count": 475,
   "id": "5602e3a6",
   "metadata": {},
   "outputs": [],
   "source": [
    "# предположим что пропуски относятся к автомобилям,который растаможен делаем вывод что все автомобили растаможены\n",
    "# поэтому удаляем признак\n",
    "df.drop(columns=['Таможня'], inplace= True)"
   ]
  },
  {
   "cell_type": "code",
   "execution_count": 476,
   "id": "b3a67d4b",
   "metadata": {},
   "outputs": [
    {
     "data": {
      "text/plain": [
       "внедорожник 5 дв.          22167\n",
       "седан                      21810\n",
       "хэтчбек 5 дв.               4915\n",
       "лифтбек                     2851\n",
       "универсал 5 дв.             2706\n",
       "минивэн                     1496\n",
       "купе                        1220\n",
       "компактвэн                   752\n",
       "хэтчбек 3 дв.                741\n",
       "пикап двойная кабина         415\n",
       "внедорожник 3 дв.            308\n",
       "купе-хардтоп                 205\n",
       "фургон                       167\n",
       "кабриолет                    123\n",
       "родстер                      115\n",
       "седан-хардтоп                 15\n",
       "пикап полуторная кабина       11\n",
       "микровэн                      11\n",
       "пикап одинарная кабина         9\n",
       "лимузин                        8\n",
       "седан 2 дв.                    6\n",
       "внедорожник открытый           5\n",
       "хэтчбек 4 дв.                  2\n",
       "тарга                          2\n",
       "фастбек                        1\n",
       "Name: bodyType, dtype: int64"
      ]
     },
     "execution_count": 476,
     "metadata": {},
     "output_type": "execute_result"
    }
   ],
   "source": [
    "df['bodyType'].value_counts()"
   ]
  },
  {
   "cell_type": "code",
   "execution_count": 477,
   "id": "8f0bdd35",
   "metadata": {},
   "outputs": [],
   "source": [
    "df=pd.concat([df, pd.get_dummies(df['bodyType'])], axis=1) # применяем get_dummies\n",
    "df.drop(columns=['bodyType'], inplace= True)"
   ]
  },
  {
   "cell_type": "code",
   "execution_count": 478,
   "id": "893c2867",
   "metadata": {},
   "outputs": [
    {
     "data": {
      "text/plain": [
       "3    23190\n",
       "1    17129\n",
       "2    13846\n",
       "0     5896\n",
       "Name: Владельцы, dtype: int64"
      ]
     },
     "execution_count": 478,
     "metadata": {},
     "output_type": "execute_result"
    }
   ],
   "source": [
    "df['Владельцы'].value_counts()"
   ]
  },
  {
   "cell_type": "code",
   "execution_count": 479,
   "id": "12ecfec2",
   "metadata": {},
   "outputs": [],
   "source": [
    "df=pd.concat([df, pd.get_dummies(df['color'])], axis=1)\n",
    "df.drop(columns=['color'], inplace= True)"
   ]
  },
  {
   "cell_type": "code",
   "execution_count": 480,
   "id": "189b1bd5",
   "metadata": {},
   "outputs": [
    {
     "data": {
      "text/plain": [
       "1.6 LTR    13557\n",
       "2.0 LTR    12923\n",
       "3.0 LTR     5499\n",
       "1.8 LTR     4491\n",
       "2.5 LTR     3705\n",
       "1.4 LTR     2693\n",
       "3.5 LTR     2421\n",
       "2.4 LTR     2069\n",
       "1.5 LTR     1696\n",
       "1.3 LTR     1048\n",
       "4.0 LTR      824\n",
       "2.8 LTR      697\n",
       "1.2 LTR      561\n",
       "4.5 LTR      543\n",
       "4.7 LTR      527\n",
       "5.5 LTR      525\n",
       "2.1 LTR      520\n",
       "2.2 LTR      509\n",
       "4.4 LTR      455\n",
       "2.3 LTR      447\n",
       "2.9 LTR      427\n",
       "3.2 LTR      393\n",
       "2.7 LTR      380\n",
       "1.7 LTR      316\n",
       "4.2 LTR      304\n",
       "3.7 LTR      265\n",
       "1.9 LTR      244\n",
       "3.6 LTR      211\n",
       "5.0 LTR      195\n",
       "5.6 LTR      176\n",
       "4.6 LTR      165\n",
       "5.7 LTR      156\n",
       " LTR         134\n",
       "3.1 LTR      125\n",
       "1.0 LTR       95\n",
       "4.8 LTR       84\n",
       "2.6 LTR       78\n",
       "3.8 LTR       70\n",
       "6.0 LTR       67\n",
       "3.3 LTR       56\n",
       "0.7 LTR       56\n",
       "5.4 LTR       53\n",
       "3.4 LTR       52\n",
       "4.1 LTR       44\n",
       "6.2 LTR       43\n",
       "4.3 LTR       36\n",
       "5.2 LTR       23\n",
       "5.9 LTR       21\n",
       "0.8 LTR       18\n",
       "1.1 LTR       13\n",
       "5.8 LTR       12\n",
       "6.3 LTR       11\n",
       "5.3 LTR        8\n",
       "4.9 LTR        7\n",
       "6.6 LTR        6\n",
       "6.8 LTR        3\n",
       "6.1 LTR        3\n",
       "3.9 LTR        1\n",
       "Name: engineDisplacement, dtype: int64"
      ]
     },
     "execution_count": 480,
     "metadata": {},
     "output_type": "execute_result"
    }
   ],
   "source": [
    "df['engineDisplacement'].value_counts()"
   ]
  },
  {
   "cell_type": "code",
   "execution_count": 481,
   "id": "293b0248",
   "metadata": {},
   "outputs": [],
   "source": [
    "# Преобразуем признак в численный и сразу же удаляем пропуски\n",
    "df['engineDisplacement']=df['engineDisplacement'].apply(lambda x: float(str(x).replace('LTR', '')) if str(x).replace('LTR', '').strip() != '' else None)"
   ]
  },
  {
   "cell_type": "code",
   "execution_count": 482,
   "id": "6bbb096e",
   "metadata": {},
   "outputs": [],
   "source": [
    "df.dropna(subset=['engineDisplacement'],inplace = True)"
   ]
  },
  {
   "cell_type": "code",
   "execution_count": 483,
   "id": "1801aa22",
   "metadata": {
    "scrolled": true
   },
   "outputs": [
    {
     "name": "stdout",
     "output_type": "stream",
     "text": [
      "<class 'pandas.core.frame.DataFrame'>\n",
      "Int64Index: 59927 entries, 0 to 28672\n",
      "Data columns (total 12 columns):\n",
      " #   Column               Non-Null Count  Dtype  \n",
      "---  ------               --------------  -----  \n",
      " 0   Владельцы            59927 non-null  int64  \n",
      " 1   ПТС                  59927 non-null  int64  \n",
      " 2   Руль                 59927 non-null  int64  \n",
      " 3   mileage              59927 non-null  int64  \n",
      " 4   engineDisplacement   59927 non-null  float64\n",
      " 5   enginePower          59927 non-null  object \n",
      " 6   fuelType             59927 non-null  object \n",
      " 7   vehicleTransmission  59927 non-null  object \n",
      " 8   numberOfDoors        59927 non-null  int64  \n",
      " 9   productionDate       59927 non-null  int64  \n",
      " 10  vendor               59924 non-null  object \n",
      " 11  price                25296 non-null  float64\n",
      "dtypes: float64(2), int64(6), object(4)\n",
      "memory usage: 5.9+ MB\n"
     ]
    }
   ],
   "source": [
    "df.loc[:, 'Владельцы':'price'].info()"
   ]
  },
  {
   "cell_type": "code",
   "execution_count": 484,
   "id": "2e2bda56",
   "metadata": {
    "scrolled": true
   },
   "outputs": [
    {
     "data": {
      "text/plain": [
       "<AxesSubplot:>"
      ]
     },
     "execution_count": 484,
     "metadata": {},
     "output_type": "execute_result"
    },
    {
     "data": {
      "image/png": "[encoded data removed]",
      "text/plain": [
       "<Figure size 2160x2160 with 2 Axes>"
      ]
     },
     "metadata": {
      "needs_background": "light"
     },
     "output_type": "display_data"
    }
   ],
   "source": [
    "#Построим график пропусков\n",
    "plt.subplots(figsize=(30, 30))\n",
    "sns.heatmap(df.loc[:, 'Владельцы':'price'].isnull())"
   ]
  },
  {
   "cell_type": "code",
   "execution_count": 485,
   "id": "d11d2743",
   "metadata": {},
   "outputs": [],
   "source": [
    "#удалим пропуски \"vendor\"\n",
    "df.dropna(subset=['vendor'],inplace = True)"
   ]
  },
  {
   "cell_type": "code",
   "execution_count": 486,
   "id": "6fb6cb29",
   "metadata": {
    "scrolled": true
   },
   "outputs": [],
   "source": [
    "df['enginePower'] = df['enginePower'].apply(lambda x: x.split()[0])"
   ]
  },
  {
   "cell_type": "code",
   "execution_count": 487,
   "id": "d7af0e6c",
   "metadata": {},
   "outputs": [
    {
     "data": {
      "text/plain": [
       "0        105\n",
       "1        110\n",
       "2        152\n",
       "3        110\n",
       "4        152\n",
       "        ... \n",
       "28668    122\n",
       "28669     98\n",
       "28670    106\n",
       "28671     87\n",
       "28672    113\n",
       "Name: enginePower, Length: 59924, dtype: object"
      ]
     },
     "execution_count": 487,
     "metadata": {},
     "output_type": "execute_result"
    }
   ],
   "source": [
    "df['enginePower']"
   ]
  },
  {
   "cell_type": "code",
   "execution_count": 488,
   "id": "4dab2a66",
   "metadata": {},
   "outputs": [
    {
     "data": {
      "text/plain": [
       "бензин    50312\n",
       "дизель     9285\n",
       "гибрид      311\n",
       "газ          16\n",
       "Name: fuelType, dtype: int64"
      ]
     },
     "execution_count": 488,
     "metadata": {},
     "output_type": "execute_result"
    }
   ],
   "source": [
    "df['fuelType'].value_counts()"
   ]
  },
  {
   "cell_type": "code",
   "execution_count": 489,
   "id": "2aef29de",
   "metadata": {},
   "outputs": [],
   "source": [
    "df=pd.concat([df, pd.get_dummies(df['fuelType'])], axis=1)# применяем get_dummies\n",
    "df.drop(columns=['fuelType'], inplace= True)"
   ]
  },
  {
   "cell_type": "code",
   "execution_count": 490,
   "id": "e84a162f",
   "metadata": {
    "scrolled": true
   },
   "outputs": [
    {
     "data": {
      "text/plain": [
       "5    34054\n",
       "4    23048\n",
       "2     1709\n",
       "3     1112\n",
       "0        1\n",
       "Name: numberOfDoors, dtype: int64"
      ]
     },
     "execution_count": 490,
     "metadata": {},
     "output_type": "execute_result"
    }
   ],
   "source": [
    "df['numberOfDoors'].value_counts()#оставляем без изменений"
   ]
  },
  {
   "cell_type": "code",
   "execution_count": 491,
   "id": "4666ae62",
   "metadata": {
    "scrolled": true
   },
   "outputs": [
    {
     "data": {
      "text/plain": [
       "2021    6696\n",
       "2012    4107\n",
       "2013    3796\n",
       "2011    3686\n",
       "2008    3654\n",
       "        ... \n",
       "1970       1\n",
       "1961       1\n",
       "1939       1\n",
       "1957       1\n",
       "1952       1\n",
       "Name: productionDate, Length: 71, dtype: int64"
      ]
     },
     "execution_count": 491,
     "metadata": {},
     "output_type": "execute_result"
    }
   ],
   "source": [
    "df['productionDate'].value_counts()"
   ]
  },
  {
   "cell_type": "code",
   "execution_count": 492,
   "id": "61de850e",
   "metadata": {
    "scrolled": true
   },
   "outputs": [
    {
     "data": {
      "text/plain": [
       "автоматическая      31175\n",
       "механическая        15806\n",
       "роботизированная     7024\n",
       "вариатор             5919\n",
       "Name: vehicleTransmission, dtype: int64"
      ]
     },
     "execution_count": 492,
     "metadata": {},
     "output_type": "execute_result"
    }
   ],
   "source": [
    "df['vehicleTransmission'].value_counts()"
   ]
  },
  {
   "cell_type": "code",
   "execution_count": 493,
   "id": "207a652a",
   "metadata": {},
   "outputs": [],
   "source": [
    "df=pd.concat([df, pd.get_dummies(df['vehicleTransmission'])], axis=1)\n",
    "df.drop(columns=['vehicleTransmission'], inplace= True)"
   ]
  },
  {
   "cell_type": "code",
   "execution_count": 495,
   "id": "5d6d56e6",
   "metadata": {},
   "outputs": [
    {
     "data": {
      "text/plain": [
       "EUROPEAN    31614\n",
       "JAPANESE    17622\n",
       "KOREAN       3985\n",
       "AMERICAN     3409\n",
       "RUSSIAN      3245\n",
       "CHINESE        49\n",
       "Name: vendor, dtype: int64"
      ]
     },
     "execution_count": 495,
     "metadata": {},
     "output_type": "execute_result"
    }
   ],
   "source": [
    "df['vendor'].value_counts()"
   ]
  },
  {
   "cell_type": "code",
   "execution_count": 496,
   "id": "bc3a92bb",
   "metadata": {},
   "outputs": [],
   "source": [
    "df=pd.concat([df, pd.get_dummies(df['vendor'])], axis=1)\n",
    "df.drop(columns=['vendor'], inplace= True)"
   ]
  },
  {
   "cell_type": "code",
   "execution_count": 497,
   "id": "21c87487",
   "metadata": {},
   "outputs": [
    {
     "data": {
      "text/plain": [
       "<AxesSubplot:>"
      ]
     },
     "execution_count": 497,
     "metadata": {},
     "output_type": "execute_result"
    },
    {
     "data": {
      "image/png": "[encoded data removed]",
      "text/plain": [
       "<Figure size 1080x720 with 2 Axes>"
      ]
     },
     "metadata": {
      "needs_background": "light"
     },
     "output_type": "display_data"
    }
   ],
   "source": [
    "plt.rcParams['figure.figsize'] = (15,10)\n",
    "sns.heatmap(df.loc[:, 'Владельцы':'price'].corr())"
   ]
  },
  {
   "cell_type": "code",
   "execution_count": 498,
   "id": "5ca5f204",
   "metadata": {},
   "outputs": [
    {
     "data": {
      "text/html": [
       "<div>\n",
       "<style scoped>\n",
       "    .dataframe tbody tr th:only-of-type {\n",
       "        vertical-align: middle;\n",
       "    }\n",
       "\n",
       "    .dataframe tbody tr th {\n",
       "        vertical-align: top;\n",
       "    }\n",
       "\n",
       "    .dataframe thead th {\n",
       "        text-align: right;\n",
       "    }\n",
       "</style>\n",
       "<table border=\"1\" class=\"dataframe\">\n",
       "  <thead>\n",
       "    <tr style=\"text-align: right;\">\n",
       "      <th></th>\n",
       "      <th>sell_id</th>\n",
       "      <th>Владельцы</th>\n",
       "      <th>ПТС</th>\n",
       "      <th>Руль</th>\n",
       "      <th>mileage</th>\n",
       "      <th>engineDisplacement</th>\n",
       "      <th>enginePower</th>\n",
       "      <th>numberOfDoors</th>\n",
       "      <th>productionDate</th>\n",
       "      <th>price</th>\n",
       "      <th>...</th>\n",
       "      <th>автоматическая</th>\n",
       "      <th>вариатор</th>\n",
       "      <th>механическая</th>\n",
       "      <th>роботизированная</th>\n",
       "      <th>AMERICAN</th>\n",
       "      <th>CHINESE</th>\n",
       "      <th>EUROPEAN</th>\n",
       "      <th>JAPANESE</th>\n",
       "      <th>KOREAN</th>\n",
       "      <th>RUSSIAN</th>\n",
       "    </tr>\n",
       "  </thead>\n",
       "  <tbody>\n",
       "    <tr>\n",
       "      <th>0</th>\n",
       "      <td>1100575026</td>\n",
       "      <td>3</td>\n",
       "      <td>1</td>\n",
       "      <td>0</td>\n",
       "      <td>74000</td>\n",
       "      <td>1.2</td>\n",
       "      <td>105</td>\n",
       "      <td>5</td>\n",
       "      <td>2014</td>\n",
       "      <td>NaN</td>\n",
       "      <td>...</td>\n",
       "      <td>0</td>\n",
       "      <td>0</td>\n",
       "      <td>0</td>\n",
       "      <td>1</td>\n",
       "      <td>0</td>\n",
       "      <td>0</td>\n",
       "      <td>1</td>\n",
       "      <td>0</td>\n",
       "      <td>0</td>\n",
       "      <td>0</td>\n",
       "    </tr>\n",
       "    <tr>\n",
       "      <th>1</th>\n",
       "      <td>1100549428</td>\n",
       "      <td>1</td>\n",
       "      <td>1</td>\n",
       "      <td>0</td>\n",
       "      <td>60563</td>\n",
       "      <td>1.6</td>\n",
       "      <td>110</td>\n",
       "      <td>5</td>\n",
       "      <td>2017</td>\n",
       "      <td>NaN</td>\n",
       "      <td>...</td>\n",
       "      <td>0</td>\n",
       "      <td>0</td>\n",
       "      <td>1</td>\n",
       "      <td>0</td>\n",
       "      <td>0</td>\n",
       "      <td>0</td>\n",
       "      <td>1</td>\n",
       "      <td>0</td>\n",
       "      <td>0</td>\n",
       "      <td>0</td>\n",
       "    </tr>\n",
       "    <tr>\n",
       "      <th>2</th>\n",
       "      <td>1100658222</td>\n",
       "      <td>1</td>\n",
       "      <td>1</td>\n",
       "      <td>0</td>\n",
       "      <td>88000</td>\n",
       "      <td>1.8</td>\n",
       "      <td>152</td>\n",
       "      <td>5</td>\n",
       "      <td>2014</td>\n",
       "      <td>NaN</td>\n",
       "      <td>...</td>\n",
       "      <td>0</td>\n",
       "      <td>0</td>\n",
       "      <td>0</td>\n",
       "      <td>1</td>\n",
       "      <td>0</td>\n",
       "      <td>0</td>\n",
       "      <td>1</td>\n",
       "      <td>0</td>\n",
       "      <td>0</td>\n",
       "      <td>0</td>\n",
       "    </tr>\n",
       "    <tr>\n",
       "      <th>3</th>\n",
       "      <td>1100937408</td>\n",
       "      <td>1</td>\n",
       "      <td>1</td>\n",
       "      <td>0</td>\n",
       "      <td>95000</td>\n",
       "      <td>1.6</td>\n",
       "      <td>110</td>\n",
       "      <td>5</td>\n",
       "      <td>2014</td>\n",
       "      <td>NaN</td>\n",
       "      <td>...</td>\n",
       "      <td>1</td>\n",
       "      <td>0</td>\n",
       "      <td>0</td>\n",
       "      <td>0</td>\n",
       "      <td>0</td>\n",
       "      <td>0</td>\n",
       "      <td>1</td>\n",
       "      <td>0</td>\n",
       "      <td>0</td>\n",
       "      <td>0</td>\n",
       "    </tr>\n",
       "    <tr>\n",
       "      <th>4</th>\n",
       "      <td>1101037972</td>\n",
       "      <td>1</td>\n",
       "      <td>1</td>\n",
       "      <td>0</td>\n",
       "      <td>58536</td>\n",
       "      <td>1.8</td>\n",
       "      <td>152</td>\n",
       "      <td>5</td>\n",
       "      <td>2012</td>\n",
       "      <td>NaN</td>\n",
       "      <td>...</td>\n",
       "      <td>1</td>\n",
       "      <td>0</td>\n",
       "      <td>0</td>\n",
       "      <td>0</td>\n",
       "      <td>0</td>\n",
       "      <td>0</td>\n",
       "      <td>1</td>\n",
       "      <td>0</td>\n",
       "      <td>0</td>\n",
       "      <td>0</td>\n",
       "    </tr>\n",
       "    <tr>\n",
       "      <th>...</th>\n",
       "      <td>...</td>\n",
       "      <td>...</td>\n",
       "      <td>...</td>\n",
       "      <td>...</td>\n",
       "      <td>...</td>\n",
       "      <td>...</td>\n",
       "      <td>...</td>\n",
       "      <td>...</td>\n",
       "      <td>...</td>\n",
       "      <td>...</td>\n",
       "      <td>...</td>\n",
       "      <td>...</td>\n",
       "      <td>...</td>\n",
       "      <td>...</td>\n",
       "      <td>...</td>\n",
       "      <td>...</td>\n",
       "      <td>...</td>\n",
       "      <td>...</td>\n",
       "      <td>...</td>\n",
       "      <td>...</td>\n",
       "      <td>...</td>\n",
       "    </tr>\n",
       "    <tr>\n",
       "      <th>28668</th>\n",
       "      <td>1106084272-590d68c9</td>\n",
       "      <td>2</td>\n",
       "      <td>1</td>\n",
       "      <td>0</td>\n",
       "      <td>152000</td>\n",
       "      <td>1.8</td>\n",
       "      <td>122</td>\n",
       "      <td>5</td>\n",
       "      <td>2016</td>\n",
       "      <td>554990.0</td>\n",
       "      <td>...</td>\n",
       "      <td>0</td>\n",
       "      <td>0</td>\n",
       "      <td>0</td>\n",
       "      <td>1</td>\n",
       "      <td>0</td>\n",
       "      <td>0</td>\n",
       "      <td>0</td>\n",
       "      <td>0</td>\n",
       "      <td>0</td>\n",
       "      <td>1</td>\n",
       "    </tr>\n",
       "    <tr>\n",
       "      <th>28669</th>\n",
       "      <td>1106067416-811209a6</td>\n",
       "      <td>3</td>\n",
       "      <td>1</td>\n",
       "      <td>0</td>\n",
       "      <td>165040</td>\n",
       "      <td>1.6</td>\n",
       "      <td>98</td>\n",
       "      <td>5</td>\n",
       "      <td>2010</td>\n",
       "      <td>309000.0</td>\n",
       "      <td>...</td>\n",
       "      <td>0</td>\n",
       "      <td>0</td>\n",
       "      <td>1</td>\n",
       "      <td>0</td>\n",
       "      <td>0</td>\n",
       "      <td>0</td>\n",
       "      <td>0</td>\n",
       "      <td>0</td>\n",
       "      <td>0</td>\n",
       "      <td>1</td>\n",
       "    </tr>\n",
       "    <tr>\n",
       "      <th>28670</th>\n",
       "      <td>1106085089-af6ac618</td>\n",
       "      <td>1</td>\n",
       "      <td>1</td>\n",
       "      <td>0</td>\n",
       "      <td>128135</td>\n",
       "      <td>1.6</td>\n",
       "      <td>106</td>\n",
       "      <td>4</td>\n",
       "      <td>2016</td>\n",
       "      <td>624000.0</td>\n",
       "      <td>...</td>\n",
       "      <td>0</td>\n",
       "      <td>0</td>\n",
       "      <td>0</td>\n",
       "      <td>1</td>\n",
       "      <td>0</td>\n",
       "      <td>0</td>\n",
       "      <td>0</td>\n",
       "      <td>0</td>\n",
       "      <td>0</td>\n",
       "      <td>1</td>\n",
       "    </tr>\n",
       "    <tr>\n",
       "      <th>28671</th>\n",
       "      <td>1106082394-0ee6a8ef</td>\n",
       "      <td>1</td>\n",
       "      <td>1</td>\n",
       "      <td>0</td>\n",
       "      <td>11801</td>\n",
       "      <td>1.6</td>\n",
       "      <td>87</td>\n",
       "      <td>4</td>\n",
       "      <td>2020</td>\n",
       "      <td>698000.0</td>\n",
       "      <td>...</td>\n",
       "      <td>0</td>\n",
       "      <td>0</td>\n",
       "      <td>1</td>\n",
       "      <td>0</td>\n",
       "      <td>0</td>\n",
       "      <td>0</td>\n",
       "      <td>0</td>\n",
       "      <td>0</td>\n",
       "      <td>0</td>\n",
       "      <td>1</td>\n",
       "    </tr>\n",
       "    <tr>\n",
       "      <th>28672</th>\n",
       "      <td>1105963402-8ff6dc7d</td>\n",
       "      <td>0</td>\n",
       "      <td>0</td>\n",
       "      <td>0</td>\n",
       "      <td>0</td>\n",
       "      <td>1.6</td>\n",
       "      <td>113</td>\n",
       "      <td>5</td>\n",
       "      <td>2021</td>\n",
       "      <td>1250900.0</td>\n",
       "      <td>...</td>\n",
       "      <td>0</td>\n",
       "      <td>1</td>\n",
       "      <td>0</td>\n",
       "      <td>0</td>\n",
       "      <td>0</td>\n",
       "      <td>0</td>\n",
       "      <td>0</td>\n",
       "      <td>0</td>\n",
       "      <td>0</td>\n",
       "      <td>1</td>\n",
       "    </tr>\n",
       "  </tbody>\n",
       "</table>\n",
       "<p>59924 rows × 69 columns</p>\n",
       "</div>"
      ],
      "text/plain": [
       "                   sell_id  Владельцы  ПТС  Руль  mileage  engineDisplacement  \\\n",
       "0               1100575026          3    1     0    74000                 1.2   \n",
       "1               1100549428          1    1     0    60563                 1.6   \n",
       "2               1100658222          1    1     0    88000                 1.8   \n",
       "3               1100937408          1    1     0    95000                 1.6   \n",
       "4               1101037972          1    1     0    58536                 1.8   \n",
       "...                    ...        ...  ...   ...      ...                 ...   \n",
       "28668  1106084272-590d68c9          2    1     0   152000                 1.8   \n",
       "28669  1106067416-811209a6          3    1     0   165040                 1.6   \n",
       "28670  1106085089-af6ac618          1    1     0   128135                 1.6   \n",
       "28671  1106082394-0ee6a8ef          1    1     0    11801                 1.6   \n",
       "28672  1105963402-8ff6dc7d          0    0     0        0                 1.6   \n",
       "\n",
       "      enginePower  numberOfDoors  productionDate      price  ...  \\\n",
       "0             105              5            2014        NaN  ...   \n",
       "1             110              5            2017        NaN  ...   \n",
       "2             152              5            2014        NaN  ...   \n",
       "3             110              5            2014        NaN  ...   \n",
       "4             152              5            2012        NaN  ...   \n",
       "...           ...            ...             ...        ...  ...   \n",
       "28668         122              5            2016   554990.0  ...   \n",
       "28669          98              5            2010   309000.0  ...   \n",
       "28670         106              4            2016   624000.0  ...   \n",
       "28671          87              4            2020   698000.0  ...   \n",
       "28672         113              5            2021  1250900.0  ...   \n",
       "\n",
       "       автоматическая  вариатор  механическая  роботизированная  AMERICAN  \\\n",
       "0                   0         0             0                 1         0   \n",
       "1                   0         0             1                 0         0   \n",
       "2                   0         0             0                 1         0   \n",
       "3                   1         0             0                 0         0   \n",
       "4                   1         0             0                 0         0   \n",
       "...               ...       ...           ...               ...       ...   \n",
       "28668               0         0             0                 1         0   \n",
       "28669               0         0             1                 0         0   \n",
       "28670               0         0             0                 1         0   \n",
       "28671               0         0             1                 0         0   \n",
       "28672               0         1             0                 0         0   \n",
       "\n",
       "       CHINESE  EUROPEAN  JAPANESE  KOREAN  RUSSIAN  \n",
       "0            0         1         0       0        0  \n",
       "1            0         1         0       0        0  \n",
       "2            0         1         0       0        0  \n",
       "3            0         1         0       0        0  \n",
       "4            0         1         0       0        0  \n",
       "...        ...       ...       ...     ...      ...  \n",
       "28668        0         0         0       0        1  \n",
       "28669        0         0         0       0        1  \n",
       "28670        0         0         0       0        1  \n",
       "28671        0         0         0       0        1  \n",
       "28672        0         0         0       0        1  \n",
       "\n",
       "[59924 rows x 69 columns]"
      ]
     },
     "execution_count": 498,
     "metadata": {},
     "output_type": "execute_result"
    }
   ],
   "source": [
    "df"
   ]
  },
  {
   "cell_type": "code",
   "execution_count": 499,
   "id": "01c1f371",
   "metadata": {},
   "outputs": [],
   "source": [
    "df.drop(columns=['mileage','Владельцы'], inplace= True)# удаляем mileage и валдельцы,т.к. коррелируют с ProductionDate"
   ]
  },
  {
   "cell_type": "code",
   "execution_count": 500,
   "id": "c5f12bcd",
   "metadata": {},
   "outputs": [
    {
     "data": {
      "text/plain": [
       "0    57672\n",
       "1     2252\n",
       "Name: Руль, dtype: int64"
      ]
     },
     "execution_count": 500,
     "metadata": {},
     "output_type": "execute_result"
    }
   ],
   "source": [
    "df['Руль'].value_counts()"
   ]
  },
  {
   "cell_type": "code",
   "execution_count": 502,
   "id": "11d0a0f9",
   "metadata": {},
   "outputs": [],
   "source": [
    "# нормализуем данные 'engineDisplacement', 'enginePower', 'productionDate'\n",
    "from sklearn.preprocessing import MinMaxScaler\n",
    "scaler = MinMaxScaler()\n",
    "columns_to_scale=['engineDisplacement', 'enginePower', 'productionDate']\n",
    "scaler.fit(df[columns_to_scale])\n",
    "df[columns_to_scale]=scaler.transform(df[columns_to_scale])"
   ]
  },
  {
   "cell_type": "code",
   "execution_count": 503,
   "id": "dbb60533",
   "metadata": {},
   "outputs": [
    {
     "data": {
      "text/html": [
       "<div>\n",
       "<style scoped>\n",
       "    .dataframe tbody tr th:only-of-type {\n",
       "        vertical-align: middle;\n",
       "    }\n",
       "\n",
       "    .dataframe tbody tr th {\n",
       "        vertical-align: top;\n",
       "    }\n",
       "\n",
       "    .dataframe thead th {\n",
       "        text-align: right;\n",
       "    }\n",
       "</style>\n",
       "<table border=\"1\" class=\"dataframe\">\n",
       "  <thead>\n",
       "    <tr style=\"text-align: right;\">\n",
       "      <th></th>\n",
       "      <th>sell_id</th>\n",
       "      <th>ПТС</th>\n",
       "      <th>Руль</th>\n",
       "      <th>engineDisplacement</th>\n",
       "      <th>enginePower</th>\n",
       "      <th>numberOfDoors</th>\n",
       "      <th>productionDate</th>\n",
       "      <th>price</th>\n",
       "      <th>train</th>\n",
       "      <th>задний</th>\n",
       "      <th>...</th>\n",
       "      <th>автоматическая</th>\n",
       "      <th>вариатор</th>\n",
       "      <th>механическая</th>\n",
       "      <th>роботизированная</th>\n",
       "      <th>AMERICAN</th>\n",
       "      <th>CHINESE</th>\n",
       "      <th>EUROPEAN</th>\n",
       "      <th>JAPANESE</th>\n",
       "      <th>KOREAN</th>\n",
       "      <th>RUSSIAN</th>\n",
       "    </tr>\n",
       "  </thead>\n",
       "  <tbody>\n",
       "    <tr>\n",
       "      <th>0</th>\n",
       "      <td>1100575026</td>\n",
       "      <td>1</td>\n",
       "      <td>0</td>\n",
       "      <td>0.081967</td>\n",
       "      <td>0.109170</td>\n",
       "      <td>5</td>\n",
       "      <td>0.940171</td>\n",
       "      <td>NaN</td>\n",
       "      <td>0</td>\n",
       "      <td>0</td>\n",
       "      <td>...</td>\n",
       "      <td>0</td>\n",
       "      <td>0</td>\n",
       "      <td>0</td>\n",
       "      <td>1</td>\n",
       "      <td>0</td>\n",
       "      <td>0</td>\n",
       "      <td>1</td>\n",
       "      <td>0</td>\n",
       "      <td>0</td>\n",
       "      <td>0</td>\n",
       "    </tr>\n",
       "    <tr>\n",
       "      <th>1</th>\n",
       "      <td>1100549428</td>\n",
       "      <td>1</td>\n",
       "      <td>0</td>\n",
       "      <td>0.147541</td>\n",
       "      <td>0.116448</td>\n",
       "      <td>5</td>\n",
       "      <td>0.965812</td>\n",
       "      <td>NaN</td>\n",
       "      <td>0</td>\n",
       "      <td>0</td>\n",
       "      <td>...</td>\n",
       "      <td>0</td>\n",
       "      <td>0</td>\n",
       "      <td>1</td>\n",
       "      <td>0</td>\n",
       "      <td>0</td>\n",
       "      <td>0</td>\n",
       "      <td>1</td>\n",
       "      <td>0</td>\n",
       "      <td>0</td>\n",
       "      <td>0</td>\n",
       "    </tr>\n",
       "    <tr>\n",
       "      <th>2</th>\n",
       "      <td>1100658222</td>\n",
       "      <td>1</td>\n",
       "      <td>0</td>\n",
       "      <td>0.180328</td>\n",
       "      <td>0.177584</td>\n",
       "      <td>5</td>\n",
       "      <td>0.940171</td>\n",
       "      <td>NaN</td>\n",
       "      <td>0</td>\n",
       "      <td>0</td>\n",
       "      <td>...</td>\n",
       "      <td>0</td>\n",
       "      <td>0</td>\n",
       "      <td>0</td>\n",
       "      <td>1</td>\n",
       "      <td>0</td>\n",
       "      <td>0</td>\n",
       "      <td>1</td>\n",
       "      <td>0</td>\n",
       "      <td>0</td>\n",
       "      <td>0</td>\n",
       "    </tr>\n",
       "    <tr>\n",
       "      <th>3</th>\n",
       "      <td>1100937408</td>\n",
       "      <td>1</td>\n",
       "      <td>0</td>\n",
       "      <td>0.147541</td>\n",
       "      <td>0.116448</td>\n",
       "      <td>5</td>\n",
       "      <td>0.940171</td>\n",
       "      <td>NaN</td>\n",
       "      <td>0</td>\n",
       "      <td>0</td>\n",
       "      <td>...</td>\n",
       "      <td>1</td>\n",
       "      <td>0</td>\n",
       "      <td>0</td>\n",
       "      <td>0</td>\n",
       "      <td>0</td>\n",
       "      <td>0</td>\n",
       "      <td>1</td>\n",
       "      <td>0</td>\n",
       "      <td>0</td>\n",
       "      <td>0</td>\n",
       "    </tr>\n",
       "    <tr>\n",
       "      <th>4</th>\n",
       "      <td>1101037972</td>\n",
       "      <td>1</td>\n",
       "      <td>0</td>\n",
       "      <td>0.180328</td>\n",
       "      <td>0.177584</td>\n",
       "      <td>5</td>\n",
       "      <td>0.923077</td>\n",
       "      <td>NaN</td>\n",
       "      <td>0</td>\n",
       "      <td>0</td>\n",
       "      <td>...</td>\n",
       "      <td>1</td>\n",
       "      <td>0</td>\n",
       "      <td>0</td>\n",
       "      <td>0</td>\n",
       "      <td>0</td>\n",
       "      <td>0</td>\n",
       "      <td>1</td>\n",
       "      <td>0</td>\n",
       "      <td>0</td>\n",
       "      <td>0</td>\n",
       "    </tr>\n",
       "    <tr>\n",
       "      <th>...</th>\n",
       "      <td>...</td>\n",
       "      <td>...</td>\n",
       "      <td>...</td>\n",
       "      <td>...</td>\n",
       "      <td>...</td>\n",
       "      <td>...</td>\n",
       "      <td>...</td>\n",
       "      <td>...</td>\n",
       "      <td>...</td>\n",
       "      <td>...</td>\n",
       "      <td>...</td>\n",
       "      <td>...</td>\n",
       "      <td>...</td>\n",
       "      <td>...</td>\n",
       "      <td>...</td>\n",
       "      <td>...</td>\n",
       "      <td>...</td>\n",
       "      <td>...</td>\n",
       "      <td>...</td>\n",
       "      <td>...</td>\n",
       "      <td>...</td>\n",
       "    </tr>\n",
       "    <tr>\n",
       "      <th>28668</th>\n",
       "      <td>1106084272-590d68c9</td>\n",
       "      <td>1</td>\n",
       "      <td>0</td>\n",
       "      <td>0.180328</td>\n",
       "      <td>0.133916</td>\n",
       "      <td>5</td>\n",
       "      <td>0.957265</td>\n",
       "      <td>554990.0</td>\n",
       "      <td>1</td>\n",
       "      <td>0</td>\n",
       "      <td>...</td>\n",
       "      <td>0</td>\n",
       "      <td>0</td>\n",
       "      <td>0</td>\n",
       "      <td>1</td>\n",
       "      <td>0</td>\n",
       "      <td>0</td>\n",
       "      <td>0</td>\n",
       "      <td>0</td>\n",
       "      <td>0</td>\n",
       "      <td>1</td>\n",
       "    </tr>\n",
       "    <tr>\n",
       "      <th>28669</th>\n",
       "      <td>1106067416-811209a6</td>\n",
       "      <td>1</td>\n",
       "      <td>0</td>\n",
       "      <td>0.147541</td>\n",
       "      <td>0.098981</td>\n",
       "      <td>5</td>\n",
       "      <td>0.905983</td>\n",
       "      <td>309000.0</td>\n",
       "      <td>1</td>\n",
       "      <td>0</td>\n",
       "      <td>...</td>\n",
       "      <td>0</td>\n",
       "      <td>0</td>\n",
       "      <td>1</td>\n",
       "      <td>0</td>\n",
       "      <td>0</td>\n",
       "      <td>0</td>\n",
       "      <td>0</td>\n",
       "      <td>0</td>\n",
       "      <td>0</td>\n",
       "      <td>1</td>\n",
       "    </tr>\n",
       "    <tr>\n",
       "      <th>28670</th>\n",
       "      <td>1106085089-af6ac618</td>\n",
       "      <td>1</td>\n",
       "      <td>0</td>\n",
       "      <td>0.147541</td>\n",
       "      <td>0.110626</td>\n",
       "      <td>4</td>\n",
       "      <td>0.957265</td>\n",
       "      <td>624000.0</td>\n",
       "      <td>1</td>\n",
       "      <td>0</td>\n",
       "      <td>...</td>\n",
       "      <td>0</td>\n",
       "      <td>0</td>\n",
       "      <td>0</td>\n",
       "      <td>1</td>\n",
       "      <td>0</td>\n",
       "      <td>0</td>\n",
       "      <td>0</td>\n",
       "      <td>0</td>\n",
       "      <td>0</td>\n",
       "      <td>1</td>\n",
       "    </tr>\n",
       "    <tr>\n",
       "      <th>28671</th>\n",
       "      <td>1106082394-0ee6a8ef</td>\n",
       "      <td>1</td>\n",
       "      <td>0</td>\n",
       "      <td>0.147541</td>\n",
       "      <td>0.082969</td>\n",
       "      <td>4</td>\n",
       "      <td>0.991453</td>\n",
       "      <td>698000.0</td>\n",
       "      <td>1</td>\n",
       "      <td>0</td>\n",
       "      <td>...</td>\n",
       "      <td>0</td>\n",
       "      <td>0</td>\n",
       "      <td>1</td>\n",
       "      <td>0</td>\n",
       "      <td>0</td>\n",
       "      <td>0</td>\n",
       "      <td>0</td>\n",
       "      <td>0</td>\n",
       "      <td>0</td>\n",
       "      <td>1</td>\n",
       "    </tr>\n",
       "    <tr>\n",
       "      <th>28672</th>\n",
       "      <td>1105963402-8ff6dc7d</td>\n",
       "      <td>0</td>\n",
       "      <td>0</td>\n",
       "      <td>0.147541</td>\n",
       "      <td>0.120815</td>\n",
       "      <td>5</td>\n",
       "      <td>1.000000</td>\n",
       "      <td>1250900.0</td>\n",
       "      <td>1</td>\n",
       "      <td>0</td>\n",
       "      <td>...</td>\n",
       "      <td>0</td>\n",
       "      <td>1</td>\n",
       "      <td>0</td>\n",
       "      <td>0</td>\n",
       "      <td>0</td>\n",
       "      <td>0</td>\n",
       "      <td>0</td>\n",
       "      <td>0</td>\n",
       "      <td>0</td>\n",
       "      <td>1</td>\n",
       "    </tr>\n",
       "  </tbody>\n",
       "</table>\n",
       "<p>59924 rows × 67 columns</p>\n",
       "</div>"
      ],
      "text/plain": [
       "                   sell_id  ПТС  Руль  engineDisplacement  enginePower  \\\n",
       "0               1100575026    1     0            0.081967     0.109170   \n",
       "1               1100549428    1     0            0.147541     0.116448   \n",
       "2               1100658222    1     0            0.180328     0.177584   \n",
       "3               1100937408    1     0            0.147541     0.116448   \n",
       "4               1101037972    1     0            0.180328     0.177584   \n",
       "...                    ...  ...   ...                 ...          ...   \n",
       "28668  1106084272-590d68c9    1     0            0.180328     0.133916   \n",
       "28669  1106067416-811209a6    1     0            0.147541     0.098981   \n",
       "28670  1106085089-af6ac618    1     0            0.147541     0.110626   \n",
       "28671  1106082394-0ee6a8ef    1     0            0.147541     0.082969   \n",
       "28672  1105963402-8ff6dc7d    0     0            0.147541     0.120815   \n",
       "\n",
       "       numberOfDoors  productionDate      price  train  задний  ...  \\\n",
       "0                  5        0.940171        NaN      0       0  ...   \n",
       "1                  5        0.965812        NaN      0       0  ...   \n",
       "2                  5        0.940171        NaN      0       0  ...   \n",
       "3                  5        0.940171        NaN      0       0  ...   \n",
       "4                  5        0.923077        NaN      0       0  ...   \n",
       "...              ...             ...        ...    ...     ...  ...   \n",
       "28668              5        0.957265   554990.0      1       0  ...   \n",
       "28669              5        0.905983   309000.0      1       0  ...   \n",
       "28670              4        0.957265   624000.0      1       0  ...   \n",
       "28671              4        0.991453   698000.0      1       0  ...   \n",
       "28672              5        1.000000  1250900.0      1       0  ...   \n",
       "\n",
       "       автоматическая  вариатор  механическая  роботизированная  AMERICAN  \\\n",
       "0                   0         0             0                 1         0   \n",
       "1                   0         0             1                 0         0   \n",
       "2                   0         0             0                 1         0   \n",
       "3                   1         0             0                 0         0   \n",
       "4                   1         0             0                 0         0   \n",
       "...               ...       ...           ...               ...       ...   \n",
       "28668               0         0             0                 1         0   \n",
       "28669               0         0             1                 0         0   \n",
       "28670               0         0             0                 1         0   \n",
       "28671               0         0             1                 0         0   \n",
       "28672               0         1             0                 0         0   \n",
       "\n",
       "       CHINESE  EUROPEAN  JAPANESE  KOREAN  RUSSIAN  \n",
       "0            0         1         0       0        0  \n",
       "1            0         1         0       0        0  \n",
       "2            0         1         0       0        0  \n",
       "3            0         1         0       0        0  \n",
       "4            0         1         0       0        0  \n",
       "...        ...       ...       ...     ...      ...  \n",
       "28668        0         0         0       0        1  \n",
       "28669        0         0         0       0        1  \n",
       "28670        0         0         0       0        1  \n",
       "28671        0         0         0       0        1  \n",
       "28672        0         0         0       0        1  \n",
       "\n",
       "[59924 rows x 67 columns]"
      ]
     },
     "execution_count": 503,
     "metadata": {},
     "output_type": "execute_result"
    }
   ],
   "source": [
    "df"
   ]
  },
  {
   "cell_type": "code",
   "execution_count": 504,
   "id": "bc494105",
   "metadata": {},
   "outputs": [
    {
     "data": {
      "text/plain": [
       "<AxesSubplot:>"
      ]
     },
     "execution_count": 504,
     "metadata": {},
     "output_type": "execute_result"
    },
    {
     "data": {
      "image/png": "[encoded data removed]",
      "text/plain": [
       "<Figure size 1080x720 with 2 Axes>"
      ]
     },
     "metadata": {
      "needs_background": "light"
     },
     "output_type": "display_data"
    }
   ],
   "source": [
    "sns.heatmap(df.isnull())"
   ]
  },
  {
   "cell_type": "code",
   "execution_count": 505,
   "id": "41a3a36b",
   "metadata": {},
   "outputs": [],
   "source": [
    "# зафиксируем random_seed b test_size\n",
    "RANDOM_SEED = 42\n",
    "SPLIT_SIZE = 0.20\n"
   ]
  },
  {
   "cell_type": "code",
   "execution_count": 506,
   "id": "6969e276",
   "metadata": {},
   "outputs": [],
   "source": [
    "# pip install catboost"
   ]
  },
  {
   "cell_type": "code",
   "execution_count": 507,
   "id": "8c40c130",
   "metadata": {},
   "outputs": [],
   "source": [
    "from sklearn.model_selection import train_test_split\n",
    "from sklearn.model_selection import KFold\n",
    "from catboost import CatBoostRegressor\n",
    "from sklearn.ensemble import GradientBoostingRegressor\n",
    "from sklearn.metrics import mean_absolute_percentage_error as mape\n",
    "import numpy as np"
   ]
  },
  {
   "cell_type": "code",
   "execution_count": 508,
   "id": "96abadeb",
   "metadata": {},
   "outputs": [
    {
     "data": {
      "text/html": [
       "<div>\n",
       "<style scoped>\n",
       "    .dataframe tbody tr th:only-of-type {\n",
       "        vertical-align: middle;\n",
       "    }\n",
       "\n",
       "    .dataframe tbody tr th {\n",
       "        vertical-align: top;\n",
       "    }\n",
       "\n",
       "    .dataframe thead th {\n",
       "        text-align: right;\n",
       "    }\n",
       "</style>\n",
       "<table border=\"1\" class=\"dataframe\">\n",
       "  <thead>\n",
       "    <tr style=\"text-align: right;\">\n",
       "      <th></th>\n",
       "      <th>sell_id</th>\n",
       "      <th>ПТС</th>\n",
       "      <th>Руль</th>\n",
       "      <th>engineDisplacement</th>\n",
       "      <th>enginePower</th>\n",
       "      <th>numberOfDoors</th>\n",
       "      <th>productionDate</th>\n",
       "      <th>price</th>\n",
       "      <th>train</th>\n",
       "      <th>задний</th>\n",
       "      <th>...</th>\n",
       "      <th>автоматическая</th>\n",
       "      <th>вариатор</th>\n",
       "      <th>механическая</th>\n",
       "      <th>роботизированная</th>\n",
       "      <th>AMERICAN</th>\n",
       "      <th>CHINESE</th>\n",
       "      <th>EUROPEAN</th>\n",
       "      <th>JAPANESE</th>\n",
       "      <th>KOREAN</th>\n",
       "      <th>RUSSIAN</th>\n",
       "    </tr>\n",
       "  </thead>\n",
       "  <tbody>\n",
       "    <tr>\n",
       "      <th>0</th>\n",
       "      <td>1100575026</td>\n",
       "      <td>1</td>\n",
       "      <td>0</td>\n",
       "      <td>0.081967</td>\n",
       "      <td>0.109170</td>\n",
       "      <td>5</td>\n",
       "      <td>0.940171</td>\n",
       "      <td>NaN</td>\n",
       "      <td>0</td>\n",
       "      <td>0</td>\n",
       "      <td>...</td>\n",
       "      <td>0</td>\n",
       "      <td>0</td>\n",
       "      <td>0</td>\n",
       "      <td>1</td>\n",
       "      <td>0</td>\n",
       "      <td>0</td>\n",
       "      <td>1</td>\n",
       "      <td>0</td>\n",
       "      <td>0</td>\n",
       "      <td>0</td>\n",
       "    </tr>\n",
       "    <tr>\n",
       "      <th>1</th>\n",
       "      <td>1100549428</td>\n",
       "      <td>1</td>\n",
       "      <td>0</td>\n",
       "      <td>0.147541</td>\n",
       "      <td>0.116448</td>\n",
       "      <td>5</td>\n",
       "      <td>0.965812</td>\n",
       "      <td>NaN</td>\n",
       "      <td>0</td>\n",
       "      <td>0</td>\n",
       "      <td>...</td>\n",
       "      <td>0</td>\n",
       "      <td>0</td>\n",
       "      <td>1</td>\n",
       "      <td>0</td>\n",
       "      <td>0</td>\n",
       "      <td>0</td>\n",
       "      <td>1</td>\n",
       "      <td>0</td>\n",
       "      <td>0</td>\n",
       "      <td>0</td>\n",
       "    </tr>\n",
       "    <tr>\n",
       "      <th>2</th>\n",
       "      <td>1100658222</td>\n",
       "      <td>1</td>\n",
       "      <td>0</td>\n",
       "      <td>0.180328</td>\n",
       "      <td>0.177584</td>\n",
       "      <td>5</td>\n",
       "      <td>0.940171</td>\n",
       "      <td>NaN</td>\n",
       "      <td>0</td>\n",
       "      <td>0</td>\n",
       "      <td>...</td>\n",
       "      <td>0</td>\n",
       "      <td>0</td>\n",
       "      <td>0</td>\n",
       "      <td>1</td>\n",
       "      <td>0</td>\n",
       "      <td>0</td>\n",
       "      <td>1</td>\n",
       "      <td>0</td>\n",
       "      <td>0</td>\n",
       "      <td>0</td>\n",
       "    </tr>\n",
       "    <tr>\n",
       "      <th>3</th>\n",
       "      <td>1100937408</td>\n",
       "      <td>1</td>\n",
       "      <td>0</td>\n",
       "      <td>0.147541</td>\n",
       "      <td>0.116448</td>\n",
       "      <td>5</td>\n",
       "      <td>0.940171</td>\n",
       "      <td>NaN</td>\n",
       "      <td>0</td>\n",
       "      <td>0</td>\n",
       "      <td>...</td>\n",
       "      <td>1</td>\n",
       "      <td>0</td>\n",
       "      <td>0</td>\n",
       "      <td>0</td>\n",
       "      <td>0</td>\n",
       "      <td>0</td>\n",
       "      <td>1</td>\n",
       "      <td>0</td>\n",
       "      <td>0</td>\n",
       "      <td>0</td>\n",
       "    </tr>\n",
       "    <tr>\n",
       "      <th>4</th>\n",
       "      <td>1101037972</td>\n",
       "      <td>1</td>\n",
       "      <td>0</td>\n",
       "      <td>0.180328</td>\n",
       "      <td>0.177584</td>\n",
       "      <td>5</td>\n",
       "      <td>0.923077</td>\n",
       "      <td>NaN</td>\n",
       "      <td>0</td>\n",
       "      <td>0</td>\n",
       "      <td>...</td>\n",
       "      <td>1</td>\n",
       "      <td>0</td>\n",
       "      <td>0</td>\n",
       "      <td>0</td>\n",
       "      <td>0</td>\n",
       "      <td>0</td>\n",
       "      <td>1</td>\n",
       "      <td>0</td>\n",
       "      <td>0</td>\n",
       "      <td>0</td>\n",
       "    </tr>\n",
       "    <tr>\n",
       "      <th>...</th>\n",
       "      <td>...</td>\n",
       "      <td>...</td>\n",
       "      <td>...</td>\n",
       "      <td>...</td>\n",
       "      <td>...</td>\n",
       "      <td>...</td>\n",
       "      <td>...</td>\n",
       "      <td>...</td>\n",
       "      <td>...</td>\n",
       "      <td>...</td>\n",
       "      <td>...</td>\n",
       "      <td>...</td>\n",
       "      <td>...</td>\n",
       "      <td>...</td>\n",
       "      <td>...</td>\n",
       "      <td>...</td>\n",
       "      <td>...</td>\n",
       "      <td>...</td>\n",
       "      <td>...</td>\n",
       "      <td>...</td>\n",
       "      <td>...</td>\n",
       "    </tr>\n",
       "    <tr>\n",
       "      <th>34681</th>\n",
       "      <td>1101369263</td>\n",
       "      <td>1</td>\n",
       "      <td>0</td>\n",
       "      <td>0.147541</td>\n",
       "      <td>0.154294</td>\n",
       "      <td>4</td>\n",
       "      <td>0.940171</td>\n",
       "      <td>NaN</td>\n",
       "      <td>0</td>\n",
       "      <td>1</td>\n",
       "      <td>...</td>\n",
       "      <td>1</td>\n",
       "      <td>0</td>\n",
       "      <td>0</td>\n",
       "      <td>0</td>\n",
       "      <td>0</td>\n",
       "      <td>0</td>\n",
       "      <td>1</td>\n",
       "      <td>0</td>\n",
       "      <td>0</td>\n",
       "      <td>0</td>\n",
       "    </tr>\n",
       "    <tr>\n",
       "      <th>34682</th>\n",
       "      <td>1101369581</td>\n",
       "      <td>1</td>\n",
       "      <td>0</td>\n",
       "      <td>0.213115</td>\n",
       "      <td>0.232897</td>\n",
       "      <td>4</td>\n",
       "      <td>0.974359</td>\n",
       "      <td>NaN</td>\n",
       "      <td>0</td>\n",
       "      <td>0</td>\n",
       "      <td>...</td>\n",
       "      <td>1</td>\n",
       "      <td>0</td>\n",
       "      <td>0</td>\n",
       "      <td>0</td>\n",
       "      <td>0</td>\n",
       "      <td>0</td>\n",
       "      <td>1</td>\n",
       "      <td>0</td>\n",
       "      <td>0</td>\n",
       "      <td>0</td>\n",
       "    </tr>\n",
       "    <tr>\n",
       "      <th>34683</th>\n",
       "      <td>1101364889</td>\n",
       "      <td>0</td>\n",
       "      <td>0</td>\n",
       "      <td>0.295082</td>\n",
       "      <td>0.203785</td>\n",
       "      <td>4</td>\n",
       "      <td>0.794872</td>\n",
       "      <td>NaN</td>\n",
       "      <td>0</td>\n",
       "      <td>1</td>\n",
       "      <td>...</td>\n",
       "      <td>1</td>\n",
       "      <td>0</td>\n",
       "      <td>0</td>\n",
       "      <td>0</td>\n",
       "      <td>0</td>\n",
       "      <td>0</td>\n",
       "      <td>1</td>\n",
       "      <td>0</td>\n",
       "      <td>0</td>\n",
       "      <td>0</td>\n",
       "    </tr>\n",
       "    <tr>\n",
       "      <th>34684</th>\n",
       "      <td>1101362518</td>\n",
       "      <td>1</td>\n",
       "      <td>0</td>\n",
       "      <td>0.213115</td>\n",
       "      <td>0.224163</td>\n",
       "      <td>5</td>\n",
       "      <td>0.931624</td>\n",
       "      <td>NaN</td>\n",
       "      <td>0</td>\n",
       "      <td>0</td>\n",
       "      <td>...</td>\n",
       "      <td>1</td>\n",
       "      <td>0</td>\n",
       "      <td>0</td>\n",
       "      <td>0</td>\n",
       "      <td>0</td>\n",
       "      <td>0</td>\n",
       "      <td>1</td>\n",
       "      <td>0</td>\n",
       "      <td>0</td>\n",
       "      <td>0</td>\n",
       "    </tr>\n",
       "    <tr>\n",
       "      <th>34685</th>\n",
       "      <td>1101256068</td>\n",
       "      <td>1</td>\n",
       "      <td>0</td>\n",
       "      <td>0.377049</td>\n",
       "      <td>0.298399</td>\n",
       "      <td>5</td>\n",
       "      <td>0.888889</td>\n",
       "      <td>NaN</td>\n",
       "      <td>0</td>\n",
       "      <td>0</td>\n",
       "      <td>...</td>\n",
       "      <td>1</td>\n",
       "      <td>0</td>\n",
       "      <td>0</td>\n",
       "      <td>0</td>\n",
       "      <td>0</td>\n",
       "      <td>0</td>\n",
       "      <td>1</td>\n",
       "      <td>0</td>\n",
       "      <td>0</td>\n",
       "      <td>0</td>\n",
       "    </tr>\n",
       "  </tbody>\n",
       "</table>\n",
       "<p>34631 rows × 67 columns</p>\n",
       "</div>"
      ],
      "text/plain": [
       "          sell_id  ПТС  Руль  engineDisplacement  enginePower  numberOfDoors  \\\n",
       "0      1100575026    1     0            0.081967     0.109170              5   \n",
       "1      1100549428    1     0            0.147541     0.116448              5   \n",
       "2      1100658222    1     0            0.180328     0.177584              5   \n",
       "3      1100937408    1     0            0.147541     0.116448              5   \n",
       "4      1101037972    1     0            0.180328     0.177584              5   \n",
       "...           ...  ...   ...                 ...          ...            ...   \n",
       "34681  1101369263    1     0            0.147541     0.154294              4   \n",
       "34682  1101369581    1     0            0.213115     0.232897              4   \n",
       "34683  1101364889    0     0            0.295082     0.203785              4   \n",
       "34684  1101362518    1     0            0.213115     0.224163              5   \n",
       "34685  1101256068    1     0            0.377049     0.298399              5   \n",
       "\n",
       "       productionDate  price  train  задний  ...  автоматическая  вариатор  \\\n",
       "0            0.940171    NaN      0       0  ...               0         0   \n",
       "1            0.965812    NaN      0       0  ...               0         0   \n",
       "2            0.940171    NaN      0       0  ...               0         0   \n",
       "3            0.940171    NaN      0       0  ...               1         0   \n",
       "4            0.923077    NaN      0       0  ...               1         0   \n",
       "...               ...    ...    ...     ...  ...             ...       ...   \n",
       "34681        0.940171    NaN      0       1  ...               1         0   \n",
       "34682        0.974359    NaN      0       0  ...               1         0   \n",
       "34683        0.794872    NaN      0       1  ...               1         0   \n",
       "34684        0.931624    NaN      0       0  ...               1         0   \n",
       "34685        0.888889    NaN      0       0  ...               1         0   \n",
       "\n",
       "       механическая  роботизированная  AMERICAN  CHINESE  EUROPEAN  JAPANESE  \\\n",
       "0                 0                 1         0        0         1         0   \n",
       "1                 1                 0         0        0         1         0   \n",
       "2                 0                 1         0        0         1         0   \n",
       "3                 0                 0         0        0         1         0   \n",
       "4                 0                 0         0        0         1         0   \n",
       "...             ...               ...       ...      ...       ...       ...   \n",
       "34681             0                 0         0        0         1         0   \n",
       "34682             0                 0         0        0         1         0   \n",
       "34683             0                 0         0        0         1         0   \n",
       "34684             0                 0         0        0         1         0   \n",
       "34685             0                 0         0        0         1         0   \n",
       "\n",
       "       KOREAN  RUSSIAN  \n",
       "0           0        0  \n",
       "1           0        0  \n",
       "2           0        0  \n",
       "3           0        0  \n",
       "4           0        0  \n",
       "...       ...      ...  \n",
       "34681       0        0  \n",
       "34682       0        0  \n",
       "34683       0        0  \n",
       "34684       0        0  \n",
       "34685       0        0  \n",
       "\n",
       "[34631 rows x 67 columns]"
      ]
     },
     "execution_count": 508,
     "metadata": {},
     "output_type": "execute_result"
    }
   ],
   "source": [
    "df.loc[df['train']==0]"
   ]
  },
  {
   "cell_type": "code",
   "execution_count": 509,
   "id": "4a4abdb8",
   "metadata": {},
   "outputs": [],
   "source": [
    "#Выделим целевую переменную и разделим выборку на train и validate\n",
    "X = df.loc[df['train'] == 1].drop(columns=['price','sell_id'])\n",
    "y = df.loc[df['train'] == 1]['price']/1000000\n",
    "X_train, X_test, y_train, y_test = train_test_split(X, y, test_size=SPLIT_SIZE, shuffle=True, random_state=RANDOM_SEED)"
   ]
  },
  {
   "cell_type": "code",
   "execution_count": 520,
   "id": "221cc870",
   "metadata": {},
   "outputs": [
    {
     "name": "stdout",
     "output_type": "stream",
     "text": [
      "Точность наивной модели по метрике MAPE: 26.79%\n"
     ]
    }
   ],
   "source": [
    "#обучаем модель GradientBoostingRegressor, измеряем точность\n",
    "reg = GradientBoostingRegressor(random_state=RANDOM_SEED)\n",
    "reg.fit(X_train, y_train)\n",
    "predict = reg.predict(X_test)\n",
    " \n",
    "#оцениваем точность\n",
    "print(f\"Точность наивной модели по метрике MAPE: {(mape(y_test, predict))*100:0.2f}%\")"
   ]
  },
  {
   "cell_type": "code",
   "execution_count": 521,
   "id": "9038c49f",
   "metadata": {},
   "outputs": [
    {
     "data": {
      "text/plain": [
       "(34631, 65)"
      ]
     },
     "execution_count": 521,
     "metadata": {},
     "output_type": "execute_result"
    }
   ],
   "source": [
    "# Целевые тестовые данные\n",
    "XX = df.loc[df['train'] == 0].drop(columns=['price', 'sell_id'])\n",
    "XX.shape"
   ]
  },
  {
   "cell_type": "code",
   "execution_count": 522,
   "id": "d0aa69e6",
   "metadata": {},
   "outputs": [],
   "source": [
    "predict_reg = reg.predict(XX)"
   ]
  },
  {
   "cell_type": "markdown",
   "id": "a997f769",
   "metadata": {},
   "source": [
    "#### Точность модели не очень хорошая"
   ]
  },
  {
   "cell_type": "code",
   "execution_count": 159,
   "id": "ee5bb465",
   "metadata": {
    "scrolled": false
   },
   "outputs": [
    {
     "data": {
      "text/plain": [
       "<AxesSubplot:>"
      ]
     },
     "execution_count": 159,
     "metadata": {},
     "output_type": "execute_result"
    },
    {
     "data": {
      "image/png": "[encoded data removed]",
      "text/plain": [
       "<Figure size 720x720 with 1 Axes>"
      ]
     },
     "metadata": {
      "needs_background": "light"
     },
     "output_type": "display_data"
    }
   ],
   "source": [
    "# Посмотрим какие признаки больше всего влияют на модель.\n",
    "plt.rcParams['figure.figsize'] = (10,10)\n",
    "feat_importances = pd.Series(reg.feature_importances_, index=X.columns)\n",
    "feat_importances.nlargest(15).plot(kind='barh')"
   ]
  },
  {
   "cell_type": "code",
   "execution_count": 70,
   "id": "2969c107",
   "metadata": {},
   "outputs": [
    {
     "name": "stdout",
     "output_type": "stream",
     "text": [
      "Точность модели по метрике MAPE: 18.12%\n"
     ]
    }
   ],
   "source": [
    "# попробуем нормализовать целевую переменную.\n",
    "X_train, X_test, y_train, y_test = train_test_split(X, y, test_size=SPLIT_SIZE, shuffle=True, random_state=RANDOM_SEED)\n",
    "y_train = np.log(y_train)\n",
    "reg = GradientBoostingRegressor(random_state=RANDOM_SEED)\n",
    "reg.fit(X_train, y_train)\n",
    "predict = np.exp(reg.predict(X_test))\n",
    "print(f\"Точность модели по метрике MAPE: {(mape(y_test, predict))*100:0.2f}%\")"
   ]
  },
  {
   "cell_type": "code",
   "execution_count": 523,
   "id": "0ca3ec42",
   "metadata": {},
   "outputs": [
    {
     "data": {
      "text/plain": [
       "8495     0.2250\n",
       "8208     0.6990\n",
       "23455    1.7850\n",
       "8957     0.2850\n",
       "21163    0.7280\n",
       "          ...  \n",
       "24115    3.2590\n",
       "6099     4.5996\n",
       "1001     0.1050\n",
       "17752    0.3550\n",
       "26593    0.8139\n",
       "Name: price, Length: 20234, dtype: float64"
      ]
     },
     "execution_count": 523,
     "metadata": {},
     "output_type": "execute_result"
    }
   ],
   "source": [
    "y_train"
   ]
  },
  {
   "cell_type": "code",
   "execution_count": 117,
   "id": "6b393fc1",
   "metadata": {},
   "outputs": [
    {
     "data": {
      "text/plain": [
       "array([14.39971899, 13.54930016, 13.25586971, ..., 14.79824297,\n",
       "       11.12154695, 12.54565547])"
      ]
     },
     "execution_count": 117,
     "metadata": {},
     "output_type": "execute_result"
    }
   ],
   "source": [
    "reg.predict(X_test)"
   ]
  },
  {
   "cell_type": "markdown",
   "id": "74685620",
   "metadata": {},
   "source": [
    "#### Точность улучшилась"
   ]
  },
  {
   "cell_type": "code",
   "execution_count": 148,
   "id": "f68059ab",
   "metadata": {},
   "outputs": [
    {
     "data": {
      "text/plain": [
       "<matplotlib.axes._subplots.AxesSubplot at 0x24a05db6948>"
      ]
     },
     "execution_count": 148,
     "metadata": {},
     "output_type": "execute_result"
    },
    {
     "data": {
      "image/png": "[encoded data removed]",
      "text/plain": [
       "<Figure size 720x720 with 1 Axes>"
      ]
     },
     "metadata": {
      "needs_background": "light"
     },
     "output_type": "display_data"
    }
   ],
   "source": [
    "# Посмотрим какие признаки больше всего влияют на модель.\n",
    "plt.rcParams['figure.figsize'] = (10,10)\n",
    "feat_importances = pd.Series(reg.feature_importances_, index=X.columns)\n",
    "feat_importances.nlargest(15).plot(kind='barh')"
   ]
  },
  {
   "cell_type": "markdown",
   "id": "4c0a57a4",
   "metadata": {},
   "source": [
    "#### Проверим модель на преобучение"
   ]
  },
  {
   "cell_type": "code",
   "execution_count": 164,
   "id": "f19bfe98",
   "metadata": {},
   "outputs": [
    {
     "name": "stdout",
     "output_type": "stream",
     "text": [
      "[train] mape = 17.22%\n",
      "[valid] mape = 18.12%\n"
     ]
    }
   ],
   "source": [
    "y_pred_t = np.exp(reg.predict(X_train))\n",
    "mape_train = mape(np.exp(y_train),y_pred_t)\n",
    "print('[train] mape = {:.2f}%'.format(mape_train*100))\n",
    "y_pred_v = np.exp(reg.predict(X_test))\n",
    "mape_val = mape(y_test, y_pred_v)\n",
    "print('[valid] mape = {:.2f}%'.format(mape_val*100))"
   ]
  },
  {
   "cell_type": "code",
   "execution_count": null,
   "id": "068bc347",
   "metadata": {},
   "outputs": [],
   "source": [
    "#Видим, что точность при валидации и тестировании приблизительно равны, делаем вывод, что преобучение отсутствует"
   ]
  },
  {
   "cell_type": "code",
   "execution_count": 76,
   "id": "c54c00fa",
   "metadata": {},
   "outputs": [
    {
     "data": {
      "text/plain": [
       "<catboost.core.CatBoostRegressor at 0x7f59382e1a00>"
      ]
     },
     "execution_count": 76,
     "metadata": {},
     "output_type": "execute_result"
    }
   ],
   "source": [
    "X_train, X_test, y_train, y_test = train_test_split(X, y, test_size=SPLIT_SIZE, shuffle=True, random_state=RANDOM_SEED)\n",
    "model = CatBoostRegressor(iterations = 10000,\n",
    "                          random_seed = RANDOM_SEED,\n",
    "                          eval_metric='MAPE',\n",
    "                          custom_metric=['R2', 'MAE'],\n",
    "                          silent=True,\n",
    "                         )\n",
    "model.fit(X_train, y_train,\n",
    "         eval_set=(X_test, y_test),\n",
    "         verbose_eval=0,\n",
    "         use_best_model=True,\n",
    "         )"
   ]
  },
  {
   "cell_type": "code",
   "execution_count": 77,
   "id": "4e353887",
   "metadata": {},
   "outputs": [
    {
     "name": "stdout",
     "output_type": "stream",
     "text": [
      "Точность модели по метрике MAPE: 15.57%\n"
     ]
    }
   ],
   "source": [
    "predict = (model.predict(X_test))\n",
    "print(f\"Точность модели по метрике MAPE: {(mape(y_test, predict))*100:0.2f}%\")"
   ]
  },
  {
   "cell_type": "code",
   "execution_count": 81,
   "id": "390b5f8a",
   "metadata": {},
   "outputs": [
    {
     "name": "stdout",
     "output_type": "stream",
     "text": [
      "Точность наивной модели по метрике MAPE: 15.28%\n",
      "0 Точность модели по метрике MAPE: 15.57%\n",
      "1 Точность модели по метрике MAPE: 15.37%\n",
      "2 Точность модели по метрике MAPE: 15.25%\n",
      "3 Точность модели по метрике MAPE: 15.19%\n",
      "4 Точность модели по метрике MAPE: 15.20%\n",
      "5 Точность модели по метрике MAPE: 15.28%\n",
      "6 Точность модели по метрике MAPE: 15.41%\n",
      "7 Точность модели по метрике MAPE: 15.61%\n",
      "8 Точность модели по метрике MAPE: 15.86%\n",
      "9 Точность модели по метрике MAPE: 16.16%\n",
      "10 Точность модели по метрике MAPE: 16.53%\n",
      "11 Точность модели по метрике MAPE: 16.95%\n",
      "12 Точность модели по метрике MAPE: 17.42%\n",
      "13 Точность модели по метрике MAPE: 17.93%\n",
      "14 Точность модели по метрике MAPE: 18.48%\n",
      "15 Точность модели по метрике MAPE: 19.06%\n",
      "16 Точность модели по метрике MAPE: 19.69%\n",
      "17 Точность модели по метрике MAPE: 20.34%\n",
      "18 Точность модели по метрике MAPE: 21.01%\n",
      "19 Точность модели по метрике MAPE: 21.72%\n"
     ]
    }
   ],
   "source": [
    "# можно добиться улучшения до 17.7 процента при домножении на 0.95 предсказанных значений\n",
    "print(f\"Точность наивной модели по метрике MAPE: {(mape(y_test, predict*0.95))*100:0.2f}%\")\n",
    "\n",
    "for i in range(20):\n",
    "    print(f\"{i} Точность модели по метрике MAPE: {(mape(y_test, predict*(1-i/100)))*100:0.2f}%\")"
   ]
  },
  {
   "cell_type": "code",
   "execution_count": null,
   "id": "e0593a75",
   "metadata": {},
   "outputs": [],
   "source": []
  }
 ],
 "metadata": {
  "kernelspec": {
   "display_name": "Python 3",
   "language": "python",
   "name": "python3"
  },
  "language_info": {
   "codemirror_mode": {
    "name": "ipython",
    "version": 3
   },
   "file_extension": ".py",
   "mimetype": "text/x-python",
   "name": "python",
   "nbconvert_exporter": "python",
   "pygments_lexer": "ipython3",
   "version": "3.8.8"
  }
 },
 "nbformat": 4,
 "nbformat_minor": 5
}
