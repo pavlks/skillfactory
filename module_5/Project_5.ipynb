{
 "cells": [
  {
   "cell_type": "markdown",
   "id": "811f6d19",
   "metadata": {},
   "source": [
    "# Проект 5. Компьютер говорит \"НЕТ\""
   ]
  },
  {
   "cell_type": "markdown",
   "id": "34cb1056",
   "metadata": {},
   "source": [
    "#### Импортируем библиотеки"
   ]
  },
  {
   "cell_type": "code",
   "execution_count": 1,
   "id": "ea6e2809",
   "metadata": {},
   "outputs": [],
   "source": [
    "import pandas as pd\n",
    "import numpy as np\n",
    "\n",
    "import matplotlib.pyplot as plt\n",
    "import seaborn as sns\n",
    "\n",
    "from sklearn.feature_selection import f_classif, mutual_info_classif\n",
    "from sklearn.preprocessing import LabelEncoder, OneHotEncoder, StandardScaler\n",
    "from sklearn.metrics import accuracy_score, f1_score, confusion_matrix, auc, roc_auc_score, roc_curve\n",
    "\n",
    "from sklearn.model_selection import train_test_split, GridSearchCV, cross_validate, cross_val_score, KFold\n",
    "\n",
    "from sklearn.neighbors import KNeighborsClassifier\n",
    "from sklearn.tree import DecisionTreeClassifier\n",
    "from sklearn.linear_model import LogisticRegression"
   ]
  },
  {
   "cell_type": "markdown",
   "id": "bf9c263d",
   "metadata": {},
   "source": [
    "#### Читаем данные из файла и смотрим их описание"
   ]
  },
  {
   "cell_type": "code",
   "execution_count": 2,
   "id": "20fb3f37",
   "metadata": {},
   "outputs": [
    {
     "data": {
      "text/html": [
       "<div>\n",
       "<style scoped>\n",
       "    .dataframe tbody tr th:only-of-type {\n",
       "        vertical-align: middle;\n",
       "    }\n",
       "\n",
       "    .dataframe tbody tr th {\n",
       "        vertical-align: top;\n",
       "    }\n",
       "\n",
       "    .dataframe thead th {\n",
       "        text-align: right;\n",
       "    }\n",
       "</style>\n",
       "<table border=\"1\" class=\"dataframe\">\n",
       "  <thead>\n",
       "    <tr style=\"text-align: right;\">\n",
       "      <th></th>\n",
       "      <th>client_id</th>\n",
       "      <th>education</th>\n",
       "      <th>sex</th>\n",
       "      <th>age</th>\n",
       "      <th>car</th>\n",
       "      <th>car_type</th>\n",
       "      <th>decline_app_cnt</th>\n",
       "      <th>good_work</th>\n",
       "      <th>bki_request_cnt</th>\n",
       "      <th>home_address</th>\n",
       "      <th>work_address</th>\n",
       "      <th>income</th>\n",
       "      <th>foreign_passport</th>\n",
       "      <th>default</th>\n",
       "    </tr>\n",
       "  </thead>\n",
       "  <tbody>\n",
       "    <tr>\n",
       "      <th>0</th>\n",
       "      <td>25905</td>\n",
       "      <td>SCH</td>\n",
       "      <td>M</td>\n",
       "      <td>62</td>\n",
       "      <td>Y</td>\n",
       "      <td>Y</td>\n",
       "      <td>0</td>\n",
       "      <td>0</td>\n",
       "      <td>1</td>\n",
       "      <td>1</td>\n",
       "      <td>2</td>\n",
       "      <td>18000</td>\n",
       "      <td>N</td>\n",
       "      <td>0</td>\n",
       "    </tr>\n",
       "    <tr>\n",
       "      <th>1</th>\n",
       "      <td>63161</td>\n",
       "      <td>SCH</td>\n",
       "      <td>F</td>\n",
       "      <td>59</td>\n",
       "      <td>N</td>\n",
       "      <td>N</td>\n",
       "      <td>0</td>\n",
       "      <td>0</td>\n",
       "      <td>3</td>\n",
       "      <td>2</td>\n",
       "      <td>3</td>\n",
       "      <td>19000</td>\n",
       "      <td>N</td>\n",
       "      <td>0</td>\n",
       "    </tr>\n",
       "    <tr>\n",
       "      <th>2</th>\n",
       "      <td>25887</td>\n",
       "      <td>SCH</td>\n",
       "      <td>M</td>\n",
       "      <td>25</td>\n",
       "      <td>Y</td>\n",
       "      <td>N</td>\n",
       "      <td>2</td>\n",
       "      <td>0</td>\n",
       "      <td>1</td>\n",
       "      <td>1</td>\n",
       "      <td>2</td>\n",
       "      <td>30000</td>\n",
       "      <td>Y</td>\n",
       "      <td>0</td>\n",
       "    </tr>\n",
       "    <tr>\n",
       "      <th>3</th>\n",
       "      <td>16222</td>\n",
       "      <td>SCH</td>\n",
       "      <td>F</td>\n",
       "      <td>53</td>\n",
       "      <td>N</td>\n",
       "      <td>N</td>\n",
       "      <td>0</td>\n",
       "      <td>0</td>\n",
       "      <td>2</td>\n",
       "      <td>2</td>\n",
       "      <td>3</td>\n",
       "      <td>10000</td>\n",
       "      <td>N</td>\n",
       "      <td>0</td>\n",
       "    </tr>\n",
       "    <tr>\n",
       "      <th>4</th>\n",
       "      <td>101655</td>\n",
       "      <td>GRD</td>\n",
       "      <td>M</td>\n",
       "      <td>48</td>\n",
       "      <td>N</td>\n",
       "      <td>N</td>\n",
       "      <td>0</td>\n",
       "      <td>1</td>\n",
       "      <td>1</td>\n",
       "      <td>2</td>\n",
       "      <td>3</td>\n",
       "      <td>30000</td>\n",
       "      <td>Y</td>\n",
       "      <td>0</td>\n",
       "    </tr>\n",
       "  </tbody>\n",
       "</table>\n",
       "</div>"
      ],
      "text/plain": [
       "   client_id education sex  age car car_type  decline_app_cnt  good_work  \\\n",
       "0      25905       SCH   M   62   Y        Y                0          0   \n",
       "1      63161       SCH   F   59   N        N                0          0   \n",
       "2      25887       SCH   M   25   Y        N                2          0   \n",
       "3      16222       SCH   F   53   N        N                0          0   \n",
       "4     101655       GRD   M   48   N        N                0          1   \n",
       "\n",
       "   bki_request_cnt  home_address  work_address  income foreign_passport  \\\n",
       "0                1             1             2   18000                N   \n",
       "1                3             2             3   19000                N   \n",
       "2                1             1             2   30000                Y   \n",
       "3                2             2             3   10000                N   \n",
       "4                1             2             3   30000                Y   \n",
       "\n",
       "   default  \n",
       "0        0  \n",
       "1        0  \n",
       "2        0  \n",
       "3        0  \n",
       "4        0  "
      ]
     },
     "execution_count": 2,
     "metadata": {},
     "output_type": "execute_result"
    }
   ],
   "source": [
    "data = pd.read_csv('train.csv')\n",
    "data.head()"
   ]
  },
  {
   "cell_type": "code",
   "execution_count": 3,
   "id": "a186f6d5",
   "metadata": {},
   "outputs": [
    {
     "name": "stdout",
     "output_type": "stream",
     "text": [
      "<class 'pandas.core.frame.DataFrame'>\n",
      "RangeIndex: 73799 entries, 0 to 73798\n",
      "Data columns (total 14 columns):\n",
      " #   Column            Non-Null Count  Dtype \n",
      "---  ------            --------------  ----- \n",
      " 0   client_id         73799 non-null  int64 \n",
      " 1   education         73492 non-null  object\n",
      " 2   sex               73799 non-null  object\n",
      " 3   age               73799 non-null  int64 \n",
      " 4   car               73799 non-null  object\n",
      " 5   car_type          73799 non-null  object\n",
      " 6   decline_app_cnt   73799 non-null  int64 \n",
      " 7   good_work         73799 non-null  int64 \n",
      " 8   bki_request_cnt   73799 non-null  int64 \n",
      " 9   home_address      73799 non-null  int64 \n",
      " 10  work_address      73799 non-null  int64 \n",
      " 11  income            73799 non-null  int64 \n",
      " 12  foreign_passport  73799 non-null  object\n",
      " 13  default           73799 non-null  int64 \n",
      "dtypes: int64(9), object(5)\n",
      "memory usage: 7.9+ MB\n"
     ]
    }
   ],
   "source": [
    "data.info()"
   ]
  },
  {
   "cell_type": "markdown",
   "id": "47a0cff9",
   "metadata": {},
   "source": [
    "#### Соотношение нулей и единиц в целевой переменной"
   ]
  },
  {
   "cell_type": "code",
   "execution_count": 4,
   "id": "e63149aa",
   "metadata": {},
   "outputs": [
    {
     "data": {
      "text/plain": [
       "<AxesSubplot:>"
      ]
     },
     "execution_count": 4,
     "metadata": {},
     "output_type": "execute_result"
    },
    {
     "data": {
      "image/png": "[encoded data removed]",
      "text/plain": [
       "<Figure size 432x288 with 1 Axes>"
      ]
     },
     "metadata": {
      "needs_background": "light"
     },
     "output_type": "display_data"
    }
   ],
   "source": [
    "data.default.hist(bins=2)"
   ]
  },
  {
   "cell_type": "markdown",
   "id": "2e633bf2",
   "metadata": {},
   "source": [
    "#### Данные по графе \"образование\""
   ]
  },
  {
   "cell_type": "code",
   "execution_count": 5,
   "id": "05292dc1",
   "metadata": {},
   "outputs": [
    {
     "data": {
      "text/plain": [
       "<AxesSubplot:>"
      ]
     },
     "execution_count": 5,
     "metadata": {},
     "output_type": "execute_result"
    },
    {
     "data": {
      "image/png": "[encoded data removed]",
      "text/plain": [
       "<Figure size 432x288 with 1 Axes>"
      ]
     },
     "metadata": {
      "needs_background": "light"
     },
     "output_type": "display_data"
    }
   ],
   "source": [
    "data.education.value_counts().plot.barh()"
   ]
  },
  {
   "cell_type": "markdown",
   "id": "0775fa5c",
   "metadata": {},
   "source": [
    "#### Заполним пропуски сгенерированными значениями. Для генерации будем использовать данные о том, как часто появляется то или иное значение в данных. Применяем этот подход, потому что пропущенно довольно мало данных и это будет всяко лучше, чем заполнить средним значением."
   ]
  },
  {
   "cell_type": "code",
   "execution_count": 6,
   "id": "683cba6c",
   "metadata": {
    "scrolled": true
   },
   "outputs": [
    {
     "data": {
      "text/plain": [
       "<AxesSubplot:>"
      ]
     },
     "execution_count": 6,
     "metadata": {},
     "output_type": "execute_result"
    },
    {
     "data": {
      "image/png": "[encoded data removed]",
      "text/plain": [
       "<Figure size 432x288 with 1 Axes>"
      ]
     },
     "metadata": {
      "needs_background": "light"
     },
     "output_type": "display_data"
    }
   ],
   "source": [
    "# вероятности появления различных значений признака 'education'\n",
    "edu_proba = (data.education.value_counts() / data.education.count())\n",
    "# список значений\n",
    "edu_values = edu_proba.index\n",
    "# кол-во пустых значений\n",
    "size = data.loc[data.education.isna(), 'education'].shape[0]\n",
    "# генерируем значения рандомом придерживаясь частоты их появления в датасете\n",
    "generated_edu = np.random.choice(edu_values, size=size, p=edu_proba)\n",
    "\n",
    "# построим для проверки\n",
    "pd.Series(generated_edu).value_counts().plot.barh()"
   ]
  },
  {
   "cell_type": "code",
   "execution_count": 7,
   "id": "7c829282",
   "metadata": {},
   "outputs": [],
   "source": [
    "data.loc[data.education.isna(), 'education'] = generated_edu"
   ]
  },
  {
   "cell_type": "code",
   "execution_count": 8,
   "id": "a69042d4",
   "metadata": {},
   "outputs": [
    {
     "data": {
      "text/plain": [
       "<AxesSubplot:>"
      ]
     },
     "execution_count": 8,
     "metadata": {},
     "output_type": "execute_result"
    },
    {
     "data": {
      "image/png": "[encoded data removed]",
      "text/plain": [
       "<Figure size 432x288 with 1 Axes>"
      ]
     },
     "metadata": {
      "needs_background": "light"
     },
     "output_type": "display_data"
    }
   ],
   "source": [
    "data.education.value_counts().plot.barh()"
   ]
  },
  {
   "cell_type": "markdown",
   "id": "b81ac15a",
   "metadata": {},
   "source": [
    "#### Колонки с числовыми значениями и их прологарифмированное распределение"
   ]
  },
  {
   "cell_type": "code",
   "execution_count": 9,
   "id": "ae536e11",
   "metadata": {},
   "outputs": [
    {
     "name": "stderr",
     "output_type": "stream",
     "text": [
      "/home/pavlk/APPS/anaconda3/lib/python3.8/site-packages/seaborn/distributions.py:2557: FutureWarning: `distplot` is a deprecated function and will be removed in a future version. Please adapt your code to use either `displot` (a figure-level function with similar flexibility) or `histplot` (an axes-level function for histograms).\n",
      "  warnings.warn(msg, FutureWarning)\n"
     ]
    },
    {
     "data": {
      "image/png": "[encoded data removed]",
      "text/plain": [
       "<Figure size 432x288 with 1 Axes>"
      ]
     },
     "metadata": {
      "needs_background": "light"
     },
     "output_type": "display_data"
    },
    {
     "data": {
      "image/png": "[encoded data removed]",
      "text/plain": [
       "<Figure size 432x288 with 1 Axes>"
      ]
     },
     "metadata": {
      "needs_background": "light"
     },
     "output_type": "display_data"
    },
    {
     "data": {
      "image/png": "[encoded data removed]",
      "text/plain": [
       "<Figure size 432x288 with 1 Axes>"
      ]
     },
     "metadata": {
      "needs_background": "light"
     },
     "output_type": "display_data"
    },
    {
     "data": {
      "image/png": "[encoded data removed]",
      "text/plain": [
       "<Figure size 432x288 with 1 Axes>"
      ]
     },
     "metadata": {
      "needs_background": "light"
     },
     "output_type": "display_data"
    }
   ],
   "source": [
    "num_cols = ['age', 'decline_app_cnt', 'bki_request_cnt', 'income']\n",
    "for i in num_cols:\n",
    "    plt.figure()\n",
    "    sns.distplot(np.log(data[i] + 1), kde = False, rug=False, bins=10)\n",
    "    plt.title(i)\n",
    "    plt.show()"
   ]
  },
  {
   "cell_type": "markdown",
   "id": "5b20ade5",
   "metadata": {},
   "source": [
    "#### Разобьем клиентов по группам: те кто возвращает кредит и кто нет"
   ]
  },
  {
   "cell_type": "code",
   "execution_count": 10,
   "id": "fa599075",
   "metadata": {},
   "outputs": [],
   "source": [
    "defaulters = np.log(data.loc[data.default == 1, ['age', 'decline_app_cnt', 'income', 'bki_request_cnt']] + 1)\n",
    "nondefaulters = np.log(data.loc[data.default == 0, ['age', 'decline_app_cnt', 'income', 'bki_request_cnt']] + 1)"
   ]
  },
  {
   "cell_type": "markdown",
   "id": "cb7bb926",
   "metadata": {},
   "source": [
    "#### Посмотрим средний возраст клиентов по группам"
   ]
  },
  {
   "cell_type": "code",
   "execution_count": 11,
   "id": "baf2cfcd",
   "metadata": {
    "scrolled": true
   },
   "outputs": [
    {
     "data": {
      "image/png": "[encoded data removed]",
      "text/plain": [
       "<Figure size 432x288 with 1 Axes>"
      ]
     },
     "metadata": {
      "needs_background": "light"
     },
     "output_type": "display_data"
    }
   ],
   "source": [
    "fig = plt.figure()\n",
    "axes = fig.add_axes([0, 0, 1, 1])\n",
    "axes.boxplot([defaulters.age, nondefaulters.age], labels=['def', 'nondef'], widths=[0.8, 0.8], meanline=True);"
   ]
  },
  {
   "cell_type": "markdown",
   "id": "294955c6",
   "metadata": {},
   "source": [
    "#### Посмотрим среднее кол-во отказов клиентам по группам"
   ]
  },
  {
   "cell_type": "code",
   "execution_count": 12,
   "id": "10d40bd7",
   "metadata": {},
   "outputs": [
    {
     "data": {
      "image/png": "[encoded data removed]",
      "text/plain": [
       "<Figure size 432x288 with 1 Axes>"
      ]
     },
     "metadata": {
      "needs_background": "light"
     },
     "output_type": "display_data"
    }
   ],
   "source": [
    "fig = plt.figure()\n",
    "axes = fig.add_axes([0, 0, 2, 1])\n",
    "axes.boxplot([defaulters.decline_app_cnt, nondefaulters.decline_app_cnt], labels=['def', 'nondef'], meanline=True, widths=[0.8, 0.8], autorange=False, vert=False, notch=True, sym='');"
   ]
  },
  {
   "cell_type": "code",
   "execution_count": 13,
   "id": "4d5fc397",
   "metadata": {},
   "outputs": [
    {
     "data": {
      "text/plain": [
       "default\n",
       "0    0.240877\n",
       "1    0.515472\n",
       "Name: decline_app_cnt, dtype: float64"
      ]
     },
     "execution_count": 13,
     "metadata": {},
     "output_type": "execute_result"
    }
   ],
   "source": [
    "# На графике не понятно среднее значение, посчитаем его вручную\n",
    "data.groupby('default').decline_app_cnt.mean()"
   ]
  },
  {
   "cell_type": "markdown",
   "id": "6a0fd26c",
   "metadata": {},
   "source": [
    "#### Посмотрим среднее кол-во обращений в БКИ по группам"
   ]
  },
  {
   "cell_type": "code",
   "execution_count": 14,
   "id": "daae6d72",
   "metadata": {
    "scrolled": true
   },
   "outputs": [
    {
     "data": {
      "image/png": "[encoded data removed]",
      "text/plain": [
       "<Figure size 432x288 with 1 Axes>"
      ]
     },
     "metadata": {
      "needs_background": "light"
     },
     "output_type": "display_data"
    }
   ],
   "source": [
    "fig = plt.figure()\n",
    "axes = fig.add_axes([0, 0, 2, 1])\n",
    "axes.boxplot([defaulters.bki_request_cnt, nondefaulters.bki_request_cnt], labels=['def', 'nondef'], meanline=True, widths=[0.8, 0.8], autorange=False, vert=False, notch=True, sym='');"
   ]
  },
  {
   "cell_type": "markdown",
   "id": "7b72e640",
   "metadata": {},
   "source": [
    "#### Посмотрим среднее зарплаты клиентов по группам"
   ]
  },
  {
   "cell_type": "code",
   "execution_count": 15,
   "id": "018bb458",
   "metadata": {
    "scrolled": true
   },
   "outputs": [
    {
     "data": {
      "image/png": "[encoded data removed]",
      "text/plain": [
       "<Figure size 432x288 with 1 Axes>"
      ]
     },
     "metadata": {
      "needs_background": "light"
     },
     "output_type": "display_data"
    }
   ],
   "source": [
    "fig = plt.figure()\n",
    "axes = fig.add_axes([0, 0, 2, 1])\n",
    "axes.boxplot([defaulters.income, nondefaulters.income], vert=False, labels=['def', 'nondef'], widths=[0.8, 0.8], meanline=False);"
   ]
  },
  {
   "cell_type": "code",
   "execution_count": 16,
   "id": "6f92a3a9",
   "metadata": {
    "scrolled": true
   },
   "outputs": [
    {
     "data": {
      "text/plain": [
       "default\n",
       "0    41799.713288\n",
       "1    36288.113316\n",
       "Name: income, dtype: float64"
      ]
     },
     "execution_count": 16,
     "metadata": {},
     "output_type": "execute_result"
    }
   ],
   "source": [
    "# Снова график не сликшом нагляден, посчитаем вручную\n",
    "data.groupby('default').income.mean()"
   ]
  },
  {
   "cell_type": "markdown",
   "id": "3e4b6d33",
   "metadata": {},
   "source": [
    "### Оценим корреляцию признаков"
   ]
  },
  {
   "cell_type": "code",
   "execution_count": 17,
   "id": "d9fcc29d",
   "metadata": {},
   "outputs": [
    {
     "data": {
      "text/html": [
       "<div>\n",
       "<style scoped>\n",
       "    .dataframe tbody tr th:only-of-type {\n",
       "        vertical-align: middle;\n",
       "    }\n",
       "\n",
       "    .dataframe tbody tr th {\n",
       "        vertical-align: top;\n",
       "    }\n",
       "\n",
       "    .dataframe thead th {\n",
       "        text-align: right;\n",
       "    }\n",
       "</style>\n",
       "<table border=\"1\" class=\"dataframe\">\n",
       "  <thead>\n",
       "    <tr style=\"text-align: right;\">\n",
       "      <th></th>\n",
       "      <th>age</th>\n",
       "      <th>decline_app_cnt</th>\n",
       "      <th>bki_request_cnt</th>\n",
       "      <th>income</th>\n",
       "    </tr>\n",
       "  </thead>\n",
       "  <tbody>\n",
       "    <tr>\n",
       "      <th>age</th>\n",
       "      <td>1.000000</td>\n",
       "      <td>-0.111175</td>\n",
       "      <td>0.046265</td>\n",
       "      <td>-0.018900</td>\n",
       "    </tr>\n",
       "    <tr>\n",
       "      <th>decline_app_cnt</th>\n",
       "      <td>-0.111175</td>\n",
       "      <td>1.000000</td>\n",
       "      <td>0.155894</td>\n",
       "      <td>-0.021687</td>\n",
       "    </tr>\n",
       "    <tr>\n",
       "      <th>bki_request_cnt</th>\n",
       "      <td>0.046265</td>\n",
       "      <td>0.155894</td>\n",
       "      <td>1.000000</td>\n",
       "      <td>0.082983</td>\n",
       "    </tr>\n",
       "    <tr>\n",
       "      <th>income</th>\n",
       "      <td>-0.018900</td>\n",
       "      <td>-0.021687</td>\n",
       "      <td>0.082983</td>\n",
       "      <td>1.000000</td>\n",
       "    </tr>\n",
       "  </tbody>\n",
       "</table>\n",
       "</div>"
      ],
      "text/plain": [
       "                      age  decline_app_cnt  bki_request_cnt    income\n",
       "age              1.000000        -0.111175         0.046265 -0.018900\n",
       "decline_app_cnt -0.111175         1.000000         0.155894 -0.021687\n",
       "bki_request_cnt  0.046265         0.155894         1.000000  0.082983\n",
       "income          -0.018900        -0.021687         0.082983  1.000000"
      ]
     },
     "execution_count": 17,
     "metadata": {},
     "output_type": "execute_result"
    },
    {
     "data": {
      "image/png": "[encoded data removed]",
      "text/plain": [
       "<Figure size 432x288 with 2 Axes>"
      ]
     },
     "metadata": {
      "needs_background": "light"
     },
     "output_type": "display_data"
    }
   ],
   "source": [
    "sns.heatmap(data[num_cols].corr().abs(), vmin=0, vmax=1)\n",
    "data[num_cols].corr()"
   ]
  },
  {
   "cell_type": "markdown",
   "id": "27ccd339",
   "metadata": {},
   "source": [
    "### Вывод\n",
    "Есть лёгкая связь между кол-вом обращеий в Бюро кредитных историй и кол-вом отказов. Это кажется логичным, ведь у дефолтных клиентов больше заявок на кредиты, а значит их пробивали чаще в БКИ. Есть также небольшая корреляция с возрастом, но она отрицательна, это говорит о более серьёзном отношении к деньгам с возрастом. Ну и последнее, это чем больше доход, тем чаще люди обращаются за кредитом. Это кажется логичным, ведь тем увереннее они в том, что его смогут погасить и надежнее чувствуют себя в финансовом плане."
   ]
  },
  {
   "cell_type": "markdown",
   "id": "bb72c3d9",
   "metadata": {},
   "source": [
    "## Значимость числовых признаков"
   ]
  },
  {
   "cell_type": "code",
   "execution_count": 18,
   "id": "9faaa66c",
   "metadata": {},
   "outputs": [
    {
     "data": {
      "text/plain": [
       "<AxesSubplot:>"
      ]
     },
     "execution_count": 18,
     "metadata": {},
     "output_type": "execute_result"
    },
    {
     "data": {
      "image/png": "[encoded data removed]",
      "text/plain": [
       "<Figure size 432x288 with 1 Axes>"
      ]
     },
     "metadata": {
      "needs_background": "light"
     },
     "output_type": "display_data"
    }
   ],
   "source": [
    "imp_num = pd.Series(f_classif(data[num_cols], data['default'])[0], index = num_cols)\n",
    "imp_num.sort_values(inplace = True)\n",
    "imp_num.plot(kind = 'barh')"
   ]
  },
  {
   "cell_type": "markdown",
   "id": "f841bb8b",
   "metadata": {},
   "source": [
    "Самым значимым оказался признак `decline_app_cnt` - количество отказов"
   ]
  },
  {
   "cell_type": "markdown",
   "id": "769b94f9",
   "metadata": {},
   "source": [
    "#### Преобразуем бинарные признаки"
   ]
  },
  {
   "cell_type": "code",
   "execution_count": 19,
   "id": "fa5dfd57",
   "metadata": {},
   "outputs": [
    {
     "data": {
      "text/html": [
       "<div>\n",
       "<style scoped>\n",
       "    .dataframe tbody tr th:only-of-type {\n",
       "        vertical-align: middle;\n",
       "    }\n",
       "\n",
       "    .dataframe tbody tr th {\n",
       "        vertical-align: top;\n",
       "    }\n",
       "\n",
       "    .dataframe thead th {\n",
       "        text-align: right;\n",
       "    }\n",
       "</style>\n",
       "<table border=\"1\" class=\"dataframe\">\n",
       "  <thead>\n",
       "    <tr style=\"text-align: right;\">\n",
       "      <th></th>\n",
       "      <th>client_id</th>\n",
       "      <th>education</th>\n",
       "      <th>sex</th>\n",
       "      <th>age</th>\n",
       "      <th>car</th>\n",
       "      <th>car_type</th>\n",
       "      <th>decline_app_cnt</th>\n",
       "      <th>good_work</th>\n",
       "      <th>bki_request_cnt</th>\n",
       "      <th>home_address</th>\n",
       "      <th>work_address</th>\n",
       "      <th>income</th>\n",
       "      <th>foreign_passport</th>\n",
       "      <th>default</th>\n",
       "    </tr>\n",
       "  </thead>\n",
       "  <tbody>\n",
       "    <tr>\n",
       "      <th>0</th>\n",
       "      <td>25905</td>\n",
       "      <td>SCH</td>\n",
       "      <td>M</td>\n",
       "      <td>62</td>\n",
       "      <td>1</td>\n",
       "      <td>1</td>\n",
       "      <td>0</td>\n",
       "      <td>0</td>\n",
       "      <td>1</td>\n",
       "      <td>1</td>\n",
       "      <td>2</td>\n",
       "      <td>18000</td>\n",
       "      <td>0</td>\n",
       "      <td>0</td>\n",
       "    </tr>\n",
       "    <tr>\n",
       "      <th>1</th>\n",
       "      <td>63161</td>\n",
       "      <td>SCH</td>\n",
       "      <td>F</td>\n",
       "      <td>59</td>\n",
       "      <td>0</td>\n",
       "      <td>0</td>\n",
       "      <td>0</td>\n",
       "      <td>0</td>\n",
       "      <td>3</td>\n",
       "      <td>2</td>\n",
       "      <td>3</td>\n",
       "      <td>19000</td>\n",
       "      <td>0</td>\n",
       "      <td>0</td>\n",
       "    </tr>\n",
       "    <tr>\n",
       "      <th>2</th>\n",
       "      <td>25887</td>\n",
       "      <td>SCH</td>\n",
       "      <td>M</td>\n",
       "      <td>25</td>\n",
       "      <td>1</td>\n",
       "      <td>0</td>\n",
       "      <td>2</td>\n",
       "      <td>0</td>\n",
       "      <td>1</td>\n",
       "      <td>1</td>\n",
       "      <td>2</td>\n",
       "      <td>30000</td>\n",
       "      <td>1</td>\n",
       "      <td>0</td>\n",
       "    </tr>\n",
       "    <tr>\n",
       "      <th>3</th>\n",
       "      <td>16222</td>\n",
       "      <td>SCH</td>\n",
       "      <td>F</td>\n",
       "      <td>53</td>\n",
       "      <td>0</td>\n",
       "      <td>0</td>\n",
       "      <td>0</td>\n",
       "      <td>0</td>\n",
       "      <td>2</td>\n",
       "      <td>2</td>\n",
       "      <td>3</td>\n",
       "      <td>10000</td>\n",
       "      <td>0</td>\n",
       "      <td>0</td>\n",
       "    </tr>\n",
       "    <tr>\n",
       "      <th>4</th>\n",
       "      <td>101655</td>\n",
       "      <td>GRD</td>\n",
       "      <td>M</td>\n",
       "      <td>48</td>\n",
       "      <td>0</td>\n",
       "      <td>0</td>\n",
       "      <td>0</td>\n",
       "      <td>1</td>\n",
       "      <td>1</td>\n",
       "      <td>2</td>\n",
       "      <td>3</td>\n",
       "      <td>30000</td>\n",
       "      <td>1</td>\n",
       "      <td>0</td>\n",
       "    </tr>\n",
       "  </tbody>\n",
       "</table>\n",
       "</div>"
      ],
      "text/plain": [
       "   client_id education sex  age  car  car_type  decline_app_cnt  good_work  \\\n",
       "0      25905       SCH   M   62    1         1                0          0   \n",
       "1      63161       SCH   F   59    0         0                0          0   \n",
       "2      25887       SCH   M   25    1         0                2          0   \n",
       "3      16222       SCH   F   53    0         0                0          0   \n",
       "4     101655       GRD   M   48    0         0                0          1   \n",
       "\n",
       "   bki_request_cnt  home_address  work_address  income  foreign_passport  \\\n",
       "0                1             1             2   18000                 0   \n",
       "1                3             2             3   19000                 0   \n",
       "2                1             1             2   30000                 1   \n",
       "3                2             2             3   10000                 0   \n",
       "4                1             2             3   30000                 1   \n",
       "\n",
       "   default  \n",
       "0        0  \n",
       "1        0  \n",
       "2        0  \n",
       "3        0  \n",
       "4        0  "
      ]
     },
     "execution_count": 19,
     "metadata": {},
     "output_type": "execute_result"
    }
   ],
   "source": [
    "# Для бинарных признаков мы будем использовать LabelEncoder\n",
    "bin_cols = ['car', 'car_type', 'foreign_passport', 'good_work']\n",
    "label_encoder = LabelEncoder()\n",
    "\n",
    "for column in bin_cols:\n",
    "    data[column] = label_encoder.fit_transform(data[column])\n",
    "    \n",
    "# убедимся впреобразовании    \n",
    "data.head()"
   ]
  },
  {
   "cell_type": "code",
   "execution_count": 20,
   "id": "d5fdf03b",
   "metadata": {},
   "outputs": [],
   "source": [
    "# Преобразуем строковые значения в числовые у колонок 'sex' и 'education' с помощью LabelEncoder\n",
    "cols = ['sex', 'education']\n",
    "label_encoder = LabelEncoder()\n",
    "\n",
    "for column in cols:\n",
    "    data[column] = label_encoder.fit_transform(data[column])"
   ]
  },
  {
   "cell_type": "markdown",
   "id": "536cbc4f",
   "metadata": {},
   "source": [
    "## Значимость категориальных признаков"
   ]
  },
  {
   "cell_type": "code",
   "execution_count": 21,
   "id": "cdc36ae8",
   "metadata": {},
   "outputs": [
    {
     "data": {
      "text/plain": [
       "<AxesSubplot:>"
      ]
     },
     "execution_count": 21,
     "metadata": {},
     "output_type": "execute_result"
    },
    {
     "data": {
      "image/png": "[encoded data removed]",
      "text/plain": [
       "<Figure size 432x288 with 1 Axes>"
      ]
     },
     "metadata": {
      "needs_background": "light"
     },
     "output_type": "display_data"
    }
   ],
   "source": [
    "cat_cols = ['work_address', 'home_address', 'sex', 'education']\n",
    "imp_cat = pd.Series(mutual_info_classif(data[bin_cols + cat_cols], data['default'],\n",
    "                                     discrete_features =True), index = bin_cols + cat_cols)\n",
    "imp_cat.sort_values(inplace = True)\n",
    "imp_cat.plot(kind = 'barh')"
   ]
  },
  {
   "cell_type": "markdown",
   "id": "ecf750f2",
   "metadata": {},
   "source": [
    "Самым значимым оказался признак `home_address` - домашний адрес клиента"
   ]
  },
  {
   "cell_type": "markdown",
   "id": "2d8b470e",
   "metadata": {},
   "source": [
    "Переведём категориальные признаки в колонки с помощью OneHotEncoder (принцип как у `get_dummies`) и посмотрим кол-во получившихся колонок"
   ]
  },
  {
   "cell_type": "code",
   "execution_count": 22,
   "id": "babd188f",
   "metadata": {},
   "outputs": [
    {
     "data": {
      "text/plain": [
       "(73799, 13)"
      ]
     },
     "execution_count": 22,
     "metadata": {},
     "output_type": "execute_result"
    }
   ],
   "source": [
    "X_cat = OneHotEncoder(sparse = False).fit_transform(data[cat_cols].values)\n",
    "X_cat.shape"
   ]
  },
  {
   "cell_type": "markdown",
   "id": "bbf54f61",
   "metadata": {},
   "source": [
    "#### Стандартизируем переменные"
   ]
  },
  {
   "cell_type": "code",
   "execution_count": 23,
   "id": "843db96f",
   "metadata": {},
   "outputs": [],
   "source": [
    "X_num = StandardScaler().fit_transform(data[num_cols].values)"
   ]
  },
  {
   "cell_type": "markdown",
   "id": "20162aef",
   "metadata": {},
   "source": [
    "#### Объединим все преобразованные данные в одну таблицу"
   ]
  },
  {
   "cell_type": "code",
   "execution_count": 24,
   "id": "7206c63e",
   "metadata": {},
   "outputs": [],
   "source": [
    "X = np.hstack([X_num, data[bin_cols].values, X_cat])\n",
    "Y = data['default'].values"
   ]
  },
  {
   "cell_type": "markdown",
   "id": "52ee4a2a",
   "metadata": {},
   "source": [
    "#### Разбиваем на обучающую и проверочную выборки"
   ]
  },
  {
   "cell_type": "code",
   "execution_count": 25,
   "id": "ce507a36",
   "metadata": {},
   "outputs": [],
   "source": [
    "X_train, X_test, y_train, y_test = train_test_split(X, Y, test_size=0.20, random_state=42)"
   ]
  },
  {
   "cell_type": "markdown",
   "id": "59798bec",
   "metadata": {},
   "source": [
    "## 1. Используем Логистическую Регрессию в качестве классификатора"
   ]
  },
  {
   "cell_type": "markdown",
   "id": "96cef5c4",
   "metadata": {},
   "source": [
    "#### Обучим модель и построим ROC-кривую"
   ]
  },
  {
   "cell_type": "code",
   "execution_count": 26,
   "id": "a9d01102",
   "metadata": {},
   "outputs": [
    {
     "name": "stderr",
     "output_type": "stream",
     "text": [
      "/home/pavlk/APPS/anaconda3/lib/python3.8/site-packages/sklearn/linear_model/_logistic.py:763: ConvergenceWarning: lbfgs failed to converge (status=1):\n",
      "STOP: TOTAL NO. of ITERATIONS REACHED LIMIT.\n",
      "\n",
      "Increase the number of iterations (max_iter) or scale the data as shown in:\n",
      "    https://scikit-learn.org/stable/modules/preprocessing.html\n",
      "Please also refer to the documentation for alternative solver options:\n",
      "    https://scikit-learn.org/stable/modules/linear_model.html#logistic-regression\n",
      "  n_iter_i = _check_optimize_result(\n"
     ]
    },
    {
     "data": {
      "image/png": "[encoded data removed]",
      "text/plain": [
       "<Figure size 432x288 with 1 Axes>"
      ]
     },
     "metadata": {
      "needs_background": "light"
     },
     "output_type": "display_data"
    }
   ],
   "source": [
    "model = LogisticRegression()\n",
    "model.fit(X_train, y_train)\n",
    "\n",
    "y_pred = model.predict(X_test)\n",
    "\n",
    "probs = model.predict_proba(X_test)\n",
    "probs = probs[:,1]\n",
    "\n",
    "\n",
    "fpr, tpr, threshold = roc_curve(y_test, probs)\n",
    "roc_auc = roc_auc_score(y_test, probs)\n",
    "\n",
    "plt.figure()\n",
    "plt.plot([0, 1], label='Baseline', linestyle='--')\n",
    "plt.plot(fpr, tpr, label = 'Regression')\n",
    "plt.title('Logistic Regression ROC AUC = %0.3f' % roc_auc)\n",
    "plt.ylabel('True Positive Rate')\n",
    "plt.xlabel('False Positive Rate')\n",
    "plt.legend(loc = 'lower right')\n",
    "plt.show()"
   ]
  },
  {
   "cell_type": "markdown",
   "id": "af303574",
   "metadata": {},
   "source": [
    "### Вывод\n",
    "Площадь под кривой получилась равная 0.67, что слегка лучше чем просто случайное предсказывание. У нас есть куда улучшать модель."
   ]
  },
  {
   "cell_type": "markdown",
   "id": "3511c811",
   "metadata": {},
   "source": [
    "Показатель точности на обучающей выборке"
   ]
  },
  {
   "cell_type": "code",
   "execution_count": 27,
   "id": "4f46d541",
   "metadata": {},
   "outputs": [
    {
     "data": {
      "text/plain": [
       "0.8717288571960907"
      ]
     },
     "execution_count": 27,
     "metadata": {},
     "output_type": "execute_result"
    }
   ],
   "source": [
    "accuracy_score(y_train, model.predict(X_train))"
   ]
  },
  {
   "cell_type": "markdown",
   "id": "5fc34427",
   "metadata": {},
   "source": [
    "Показатель точности на тестовой выборке"
   ]
  },
  {
   "cell_type": "code",
   "execution_count": 28,
   "id": "5746a31b",
   "metadata": {},
   "outputs": [
    {
     "data": {
      "text/plain": [
       "0.875609756097561"
      ]
     },
     "execution_count": 28,
     "metadata": {},
     "output_type": "execute_result"
    }
   ],
   "source": [
    "accuracy_score(y_test, model.predict(X_test))"
   ]
  },
  {
   "cell_type": "markdown",
   "id": "49347d33",
   "metadata": {},
   "source": [
    "## 2. Используем k -ближайших соседей в качестве классификатора"
   ]
  },
  {
   "cell_type": "code",
   "execution_count": 29,
   "id": "4fef8d04",
   "metadata": {},
   "outputs": [
    {
     "data": {
      "text/plain": [
       "0.840350039352135"
      ]
     },
     "execution_count": 29,
     "metadata": {},
     "output_type": "execute_result"
    }
   ],
   "source": [
    "# Зададим 3 в качестве кол-ва соседей\n",
    "model = KNeighborsClassifier(n_neighbors=3)\n",
    "kf = KFold(n_splits=10)\n",
    "\n",
    "# Посмотрим на среднее значение метрики accuracy\n",
    "accs = cross_val_score(model, X, Y, cv=kf, scoring=\"accuracy\")\n",
    "accs.mean()"
   ]
  },
  {
   "cell_type": "markdown",
   "id": "c83ed8e9",
   "metadata": {},
   "source": [
    "## 3. Попробуем дерево решений в качестве классификатора"
   ]
  },
  {
   "cell_type": "markdown",
   "id": "1ab6e07d",
   "metadata": {},
   "source": [
    "#### Подготовка:\n",
    "Сначала уравняем количество данных нулей и единиц в целевой переменной. Да, придется убрать большую часть данных, но я бы хотел попробовать эту модель и посмотреть на результаты, несмотря ни на что."
   ]
  },
  {
   "cell_type": "code",
   "execution_count": 30,
   "id": "aac3ab03",
   "metadata": {},
   "outputs": [
    {
     "name": "stdout",
     "output_type": "stream",
     "text": [
      "0.5250458956202466\n"
     ]
    }
   ],
   "source": [
    "n = data.default.value_counts()[1]\n",
    "zeros = data.loc[data.default == 0][:n]\n",
    "ones = data.loc[data.default == 1]\n",
    "balanced = pd.concat([zeros, ones], axis=0, ignore_index=True)\n",
    "# Для бинарных признаков мы будем использовать LabelEncoder\n",
    "bin_cols = ['car', 'car_type', 'foreign_passport', 'good_work']\n",
    "label_encoder = LabelEncoder()\n",
    "\n",
    "for column in bin_cols:\n",
    "    balanced[column] = label_encoder.fit_transform(balanced[column])\n",
    "\n",
    "# Преобразуем строковые значения в числовые у колонок 'sex' и 'education' с помощью LabelEncoder\n",
    "cols = ['sex', 'education']\n",
    "label_encoder = LabelEncoder()\n",
    "\n",
    "for column in cols:\n",
    "    balanced[column] = label_encoder.fit_transform(balanced[column])\n",
    "\n",
    "X_cat = OneHotEncoder(sparse = False).fit_transform(balanced[cat_cols].values)\n",
    "\n",
    "# Стандартизация числовых переменных\n",
    "X_num = StandardScaler().fit_transform(balanced[num_cols].values)\n",
    "\n",
    "# Объединяем\n",
    "X_bal = np.hstack([X_num, balanced[bin_cols].values, X_cat])\n",
    "Y_bal = balanced['default'].values\n",
    "\n",
    "x_train, x_test, y_train, y_test = train_test_split(X_bal, Y_bal, test_size=0.3, shuffle=False)\n",
    "clf_bal = DecisionTreeClassifier(max_depth=500)\n",
    "clf_bal.fit(x_train, y_train)\n",
    "y_pred = clf_bal.predict(x_test)\n",
    "f1_bal = f1_score(y_test, y_pred)\n",
    "\n",
    "# Результат метрики f1_score\n",
    "print(f1_bal)"
   ]
  },
  {
   "cell_type": "markdown",
   "id": "479923f1",
   "metadata": {},
   "source": [
    "### Вывод\n",
    "Показатель f1_score оказался низким. Это можно объяснить тем, что я удалил около 70% всех данных, для того, чтобы уравнять количество нулей и единиц в целевой переменной"
   ]
  },
  {
   "cell_type": "markdown",
   "id": "5e2fc9bf",
   "metadata": {},
   "source": [
    "## Посмотрим метрики для DecisionTreeClassifier и посмотрим нет ли переобучения"
   ]
  },
  {
   "cell_type": "code",
   "execution_count": 31,
   "id": "99f55607",
   "metadata": {},
   "outputs": [],
   "source": [
    "def plot_cv_metrics(cv_metrics):\n",
    "    avg_f1_train, std_f1_train = cv_metrics['train_score'].mean(), cv_metrics['train_score'].std()\n",
    "    avg_f1_valid, std_f1_valid = cv_metrics['test_score'].mean(), cv_metrics['test_score'].std()\n",
    "    print('[train] F1-score = {:.2f} +/- {:.2f}'.format(avg_f1_train, std_f1_train))\n",
    "    print('[valid] F1-score = {:.2f} +/- {:.2f}'.format(avg_f1_valid, std_f1_valid))\n",
    "    \n",
    "    plt.figure(figsize=(15, 5))\n",
    "\n",
    "    plt.plot(cv_metrics['train_score'], label='train', marker='.')\n",
    "    plt.plot(cv_metrics['test_score'], label='valid', marker='.')\n",
    "\n",
    "    plt.ylim([0., 1.]);\n",
    "    plt.xlabel('CV iteration', fontsize=15)\n",
    "    plt.ylabel('F1-score', fontsize=15)\n",
    "    plt.legend(fontsize=15)"
   ]
  },
  {
   "cell_type": "code",
   "execution_count": 32,
   "id": "e4690d21",
   "metadata": {},
   "outputs": [],
   "source": [
    "clf = DecisionTreeClassifier()\n",
    "cv_metrics = cross_validate(clf, X, Y, cv=5, scoring='f1_micro', return_train_score=True)"
   ]
  },
  {
   "cell_type": "code",
   "execution_count": 33,
   "id": "c28255a8",
   "metadata": {},
   "outputs": [
    {
     "name": "stdout",
     "output_type": "stream",
     "text": [
      "[train] F1-score = 0.98 +/- 0.00\n",
      "[valid] F1-score = 0.78 +/- 0.00\n"
     ]
    },
    {
     "data": {
      "image/png": "[encoded data removed]",
      "text/plain": [
       "<Figure size 1080x360 with 1 Axes>"
      ]
     },
     "metadata": {
      "needs_background": "light"
     },
     "output_type": "display_data"
    }
   ],
   "source": [
    "plot_cv_metrics(cv_metrics)"
   ]
  },
  {
   "cell_type": "markdown",
   "id": "9de15ddc",
   "metadata": {},
   "source": [
    "### Вывод\n",
    "Переобучение на лицо, поэтому попробуем уменьшить глубину "
   ]
  },
  {
   "cell_type": "code",
   "execution_count": 34,
   "id": "fb32cc4a",
   "metadata": {},
   "outputs": [
    {
     "name": "stdout",
     "output_type": "stream",
     "text": [
      "[train] F1-score = 0.87 +/- 0.00\n",
      "[valid] F1-score = 0.87 +/- 0.00\n"
     ]
    },
    {
     "data": {
      "image/png": "[encoded data removed]",
      "text/plain": [
       "<Figure size 1080x360 with 1 Axes>"
      ]
     },
     "metadata": {
      "needs_background": "light"
     },
     "output_type": "display_data"
    }
   ],
   "source": [
    "clf = DecisionTreeClassifier(max_depth=5, random_state=456)\n",
    "cv_metrics = cross_validate(clf, X, Y, cv=5, scoring='f1_micro', return_train_score=True)\n",
    "plot_cv_metrics(cv_metrics)"
   ]
  },
  {
   "cell_type": "markdown",
   "id": "0c7308b4",
   "metadata": {},
   "source": [
    "### Вывод\n",
    "Как мы видим уменьшение глубины деревьев помогло избавиться от переобучения и улучшить наш показатель f1_score"
   ]
  },
  {
   "cell_type": "markdown",
   "id": "1be4a64d",
   "metadata": {},
   "source": [
    "## Посмотрим метрики для KNeighborsClassifier"
   ]
  },
  {
   "cell_type": "code",
   "execution_count": 35,
   "id": "3744e2cf",
   "metadata": {},
   "outputs": [
    {
     "name": "stdout",
     "output_type": "stream",
     "text": [
      "[train] F1-score = 0.88 +/- 0.00\n",
      "[valid] F1-score = 0.86 +/- 0.00\n"
     ]
    },
    {
     "data": {
      "image/png": "[encoded data removed]",
      "text/plain": [
       "<Figure size 1080x360 with 1 Axes>"
      ]
     },
     "metadata": {
      "needs_background": "light"
     },
     "output_type": "display_data"
    }
   ],
   "source": [
    "clf = KNeighborsClassifier()\n",
    "cv_metrics = cross_validate(clf, X, Y, cv=5, scoring='accuracy', return_train_score=True)\n",
    "plot_cv_metrics(cv_metrics)"
   ]
  },
  {
   "cell_type": "code",
   "execution_count": 36,
   "id": "0763d0b2",
   "metadata": {},
   "outputs": [
    {
     "name": "stdout",
     "output_type": "stream",
     "text": [
      "[train] F1-score = 0.87 +/- 0.00\n",
      "[valid] F1-score = 0.87 +/- 0.00\n"
     ]
    },
    {
     "data": {
      "image/png": "[encoded data removed]",
      "text/plain": [
       "<Figure size 1080x360 with 1 Axes>"
      ]
     },
     "metadata": {
      "needs_background": "light"
     },
     "output_type": "display_data"
    }
   ],
   "source": [
    "clf = KNeighborsClassifier(n_neighbors=18)\n",
    "cv_metrics = cross_validate(clf, X, Y, cv=5, scoring='accuracy', return_train_score=True)\n",
    "plot_cv_metrics(cv_metrics)"
   ]
  },
  {
   "cell_type": "markdown",
   "id": "106b59cb",
   "metadata": {},
   "source": [
    "### Вывод\n",
    "Для того, чтобы добиться \"сближения\" графиков пришлось увеличить количество соседей до 18. Если держать кол-во соседей меньше 10, то между графиками остается значительная разница."
   ]
  },
  {
   "cell_type": "markdown",
   "id": "7f977f8c",
   "metadata": {},
   "source": [
    "## Посмотрим метрики для LogRegression"
   ]
  },
  {
   "cell_type": "code",
   "execution_count": 37,
   "id": "d933415e",
   "metadata": {},
   "outputs": [
    {
     "name": "stderr",
     "output_type": "stream",
     "text": [
      "/home/pavlk/APPS/anaconda3/lib/python3.8/site-packages/sklearn/linear_model/_logistic.py:763: ConvergenceWarning: lbfgs failed to converge (status=1):\n",
      "STOP: TOTAL NO. of ITERATIONS REACHED LIMIT.\n",
      "\n",
      "Increase the number of iterations (max_iter) or scale the data as shown in:\n",
      "    https://scikit-learn.org/stable/modules/preprocessing.html\n",
      "Please also refer to the documentation for alternative solver options:\n",
      "    https://scikit-learn.org/stable/modules/linear_model.html#logistic-regression\n",
      "  n_iter_i = _check_optimize_result(\n",
      "/home/pavlk/APPS/anaconda3/lib/python3.8/site-packages/sklearn/linear_model/_logistic.py:763: ConvergenceWarning: lbfgs failed to converge (status=1):\n",
      "STOP: TOTAL NO. of ITERATIONS REACHED LIMIT.\n",
      "\n",
      "Increase the number of iterations (max_iter) or scale the data as shown in:\n",
      "    https://scikit-learn.org/stable/modules/preprocessing.html\n",
      "Please also refer to the documentation for alternative solver options:\n",
      "    https://scikit-learn.org/stable/modules/linear_model.html#logistic-regression\n",
      "  n_iter_i = _check_optimize_result(\n",
      "/home/pavlk/APPS/anaconda3/lib/python3.8/site-packages/sklearn/linear_model/_logistic.py:763: ConvergenceWarning: lbfgs failed to converge (status=1):\n",
      "STOP: TOTAL NO. of ITERATIONS REACHED LIMIT.\n",
      "\n",
      "Increase the number of iterations (max_iter) or scale the data as shown in:\n",
      "    https://scikit-learn.org/stable/modules/preprocessing.html\n",
      "Please also refer to the documentation for alternative solver options:\n",
      "    https://scikit-learn.org/stable/modules/linear_model.html#logistic-regression\n",
      "  n_iter_i = _check_optimize_result(\n",
      "/home/pavlk/APPS/anaconda3/lib/python3.8/site-packages/sklearn/linear_model/_logistic.py:763: ConvergenceWarning: lbfgs failed to converge (status=1):\n",
      "STOP: TOTAL NO. of ITERATIONS REACHED LIMIT.\n",
      "\n",
      "Increase the number of iterations (max_iter) or scale the data as shown in:\n",
      "    https://scikit-learn.org/stable/modules/preprocessing.html\n",
      "Please also refer to the documentation for alternative solver options:\n",
      "    https://scikit-learn.org/stable/modules/linear_model.html#logistic-regression\n",
      "  n_iter_i = _check_optimize_result(\n"
     ]
    },
    {
     "name": "stdout",
     "output_type": "stream",
     "text": [
      "[train] F1-score = 0.87 +/- 0.00\n",
      "[valid] F1-score = 0.87 +/- 0.00\n"
     ]
    },
    {
     "name": "stderr",
     "output_type": "stream",
     "text": [
      "/home/pavlk/APPS/anaconda3/lib/python3.8/site-packages/sklearn/linear_model/_logistic.py:763: ConvergenceWarning: lbfgs failed to converge (status=1):\n",
      "STOP: TOTAL NO. of ITERATIONS REACHED LIMIT.\n",
      "\n",
      "Increase the number of iterations (max_iter) or scale the data as shown in:\n",
      "    https://scikit-learn.org/stable/modules/preprocessing.html\n",
      "Please also refer to the documentation for alternative solver options:\n",
      "    https://scikit-learn.org/stable/modules/linear_model.html#logistic-regression\n",
      "  n_iter_i = _check_optimize_result(\n"
     ]
    },
    {
     "data": {
      "image/png": "[encoded data removed]",
      "text/plain": [
       "<Figure size 1080x360 with 1 Axes>"
      ]
     },
     "metadata": {
      "needs_background": "light"
     },
     "output_type": "display_data"
    }
   ],
   "source": [
    "clf = LogisticRegression()\n",
    "cv_metrics = cross_validate(clf, X, Y, cv=5, scoring='accuracy', return_train_score=True)\n",
    "plot_cv_metrics(cv_metrics)"
   ]
  },
  {
   "cell_type": "markdown",
   "id": "8491d5a8",
   "metadata": {},
   "source": [
    "### Вывод\n",
    "Как мы видим классификатор логистической регрессии не переобучается и показывает значение метрики f1_score в районе 0.87."
   ]
  },
  {
   "cell_type": "markdown",
   "id": "2e089aec",
   "metadata": {},
   "source": [
    "### Прежде, чем перейти к выводам, попробуем найти гиперпараметры для логистической регрессии"
   ]
  },
  {
   "cell_type": "markdown",
   "id": "245b44e0",
   "metadata": {},
   "source": [
    "#### Поиск гиперпараметров для логистической регрессии"
   ]
  },
  {
   "cell_type": "code",
   "execution_count": 38,
   "id": "824b0bd5",
   "metadata": {
    "scrolled": false
   },
   "outputs": [
    {
     "name": "stdout",
     "output_type": "stream",
     "text": [
      "Лучшее Penalty: l2\n",
      "Лучшее C: 1.5922827933410924\n"
     ]
    }
   ],
   "source": [
    "import warnings\n",
    "warnings.filterwarnings('ignore')\n",
    "\n",
    "X_train, X_test, y_train, y_test = train_test_split(X, Y, test_size=0.20, random_state=42)\n",
    "\n",
    "# Добавим типы регуляризации\n",
    "penalty = ['l1', 'l2']\n",
    "\n",
    "# Зададим ограничения для параметра регуляризации\n",
    "C = np.logspace(0, 10, 100)\n",
    "\n",
    "# Создадим гиперпараметры\n",
    "hyperparameters = dict(C=C, penalty=penalty)\n",
    "\n",
    "model = LogisticRegression()\n",
    "model.fit(X_train, y_train)\n",
    "\n",
    "# Создаем сетку поиска с использованием 5-кратной перекрестной проверки\n",
    "clf = GridSearchCV(model, hyperparameters, cv=5, verbose=0)\n",
    "\n",
    "best_model = clf.fit(X_train, y_train)\n",
    "\n",
    "# Выведем результат\n",
    "print('Лучшее Penalty:', best_model.best_estimator_.get_params()['penalty'])\n",
    "print('Лучшее C:', best_model.best_estimator_.get_params()['C'])"
   ]
  },
  {
   "cell_type": "markdown",
   "id": "41dd27f5",
   "metadata": {},
   "source": [
    "#### Теперь построим логистическую регрессию с найденными параметрами"
   ]
  },
  {
   "cell_type": "code",
   "execution_count": 39,
   "id": "fdbdfe88",
   "metadata": {},
   "outputs": [
    {
     "data": {
      "image/png": "[encoded data removed]",
      "text/plain": [
       "<Figure size 432x288 with 1 Axes>"
      ]
     },
     "metadata": {
      "needs_background": "light"
     },
     "output_type": "display_data"
    }
   ],
   "source": [
    "model = LogisticRegression(C=1.5922827933410924, penalty='l2')\n",
    "model.fit(X_train, y_train)\n",
    "\n",
    "y_pred = model.predict(X_test)\n",
    "\n",
    "probs = model.predict_proba(X_test)\n",
    "probs = probs[:,1]\n",
    "\n",
    "\n",
    "fpr, tpr, threshold = roc_curve(y_test, probs)\n",
    "roc_auc = roc_auc_score(y_test, probs)\n",
    "\n",
    "plt.figure()\n",
    "plt.plot([0, 1], label='Baseline', linestyle='--')\n",
    "plt.plot(fpr, tpr, label = 'Regression')\n",
    "plt.title('Logistic Regression ROC AUC = %0.3f' % roc_auc)\n",
    "plt.ylabel('True Positive Rate')\n",
    "plt.xlabel('False Positive Rate')\n",
    "plt.legend(loc = 'lower right')\n",
    "plt.show()"
   ]
  },
  {
   "cell_type": "markdown",
   "id": "c084f883",
   "metadata": {},
   "source": [
    "# Выводы по проекту № 5"
   ]
  },
  {
   "cell_type": "markdown",
   "id": "bf7dbf70",
   "metadata": {},
   "source": [
    "Итак, опираясь на проделанную работу я могу сказать, что для повышения показания метрик, нам необходимо уделить большее внимание предварительной обработке данных. Можно сделать следующее:\n",
    "- попробовать сгенерировать дополнительные признаки, например, с помощью PolynomialFeatures\n",
    "- можно попробовать найти дополнительную информацию и добавить её в датасет\n",
    "- можно поменять стратегию заполнения пустых полей в поле `education` и добавить новую категорию `unknown` или же удалить эти данные из набора и посмотреть как изменится результат\n",
    "- возможно образование коррелирует с другим признаком и подобрать новые значения с этой стороны\n",
    "В целом, есть куда потратить время, ведь не зря на предобработку уходит до 80% всего времени. В нашей команде из 2х человек работой с данными занимался Андрей Фёдоров, я же взялся за то, чтобы попробовать результативность каждой модели.\n",
    "\n",
    "Говоря о гиперпараметрах, мы видим, что значения модели с параметрами по умолчанию - это и есть тот вариант, когда мы достигаем лучшего результата в нашей модели.\n",
    "\n",
    "В своём проекте я постарался использовать и применить все 3 модели, что мы прошли в этом модуле и посмотреть на их результаты. Конечно, еще придется набраться опыта и начать понимать, когда одна модель более предпочтительна, чем другая. Но на данном этапе я вижу, что Логистическая Регрессия, К-соседей выдают приблизительно одинаковый результат в районе 0.8. Хотя я до конца не уверен, можно ли сравнивать между собой различные метрики (accuracy, f1_score и т.д.) А Деревья не очень подходят под эти данные, потому что очень большая разница у целевого показателя между кол-вом 0 и 1."
   ]
  },
  {
   "cell_type": "code",
   "execution_count": null,
   "id": "a352bbf3",
   "metadata": {},
   "outputs": [],
   "source": []
  }
 ],
 "metadata": {
  "kernelspec": {
   "display_name": "Python 3",
   "language": "python",
   "name": "python3"
  },
  "language_info": {
   "codemirror_mode": {
    "name": "ipython",
    "version": 3
   },
   "file_extension": ".py",
   "mimetype": "text/x-python",
   "name": "python",
   "nbconvert_exporter": "python",
   "pygments_lexer": "ipython3",
   "version": "3.8.8"
  }
 },
 "nbformat": 4,
 "nbformat_minor": 5
}
