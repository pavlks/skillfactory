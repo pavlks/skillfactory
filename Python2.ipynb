{
 "cells": [
  {
   "cell_type": "code",
   "execution_count": 16,
   "metadata": {},
   "outputs": [],
   "source": [
    "sparta = ['Иванов', 'Петров', 'Сидоров', 'Зайцев', 'Дятлов', \n",
    "          'Козлов', 'Лисичкин', 'Огурцов', 'Капустин', 'Арбузов']"
   ]
  },
  {
   "cell_type": "code",
   "execution_count": 29,
   "metadata": {},
   "outputs": [
    {
     "name": "stdout",
     "output_type": "stream",
     "text": [
      "590\n"
     ]
    }
   ],
   "source": [
    "my_list = [1, 10, 45, 31, 12, 54, 111, 398, 97, 63]\n",
    "my_list.sort(reverse = True)\n",
    "new_list = my_list[::2]\n",
    "result = 0\n",
    "for number in new_list:\n",
    "    result += number\n",
    "print(result)"
   ]
  },
  {
   "cell_type": "code",
   "execution_count": 30,
   "metadata": {},
   "outputs": [
    {
     "name": "stdout",
     "output_type": "stream",
     "text": [
      "[1024, 512, 256, 128, 64, 32, 16, 8, 4, 2, 1]\n"
     ]
    }
   ],
   "source": [
    "my_list = [1]\n",
    "for i in range(10):\n",
    "    my_list.append(my_list[i] * 2)\n",
    "my_list.sort(reverse = True)\n",
    "print(my_list)"
   ]
  },
  {
   "cell_type": "code",
   "execution_count": 33,
   "metadata": {},
   "outputs": [
    {
     "name": "stdout",
     "output_type": "stream",
     "text": [
      "['а', 'а', 'а', 'б', 'б', 'п', 'п', 'я']\n"
     ]
    }
   ],
   "source": [
    "fruits = 'яблоко банан апельсин баклажан перец помидор арбуз ананас'.split()\n",
    "my_list = []\n",
    "for fruit in fruits:\n",
    "    my_list.append(fruit[0])\n",
    "my_list.sort()\n",
    "print(my_list)"
   ]
  },
  {
   "cell_type": "code",
   "execution_count": 36,
   "metadata": {},
   "outputs": [
    {
     "name": "stdout",
     "output_type": "stream",
     "text": [
      "[3, 6, 9, 12, 15, 18, 21, 24, 27, 30, 33, 36, 39, 42, 45, 48] 408\n"
     ]
    }
   ],
   "source": [
    "nl = list()\n",
    "for i in range(1, 50):\n",
    "    if i % 3 == 0:\n",
    "        nl.append(i)\n",
    "print(nl, sum(nl))"
   ]
  },
  {
   "cell_type": "code",
   "execution_count": 39,
   "metadata": {},
   "outputs": [],
   "source": [
    "raw_list = ['переменные', 'циклы', 'условия', 'списки', 'словари', 'файлы', 'функции']\n",
    "my_list = []\n",
    "for k in raw_list:\n",
    "    my_list.append(len(k))\n",
    "result = min(my_list) + max(my_list)"
   ]
  },
  {
   "cell_type": "code",
   "execution_count": 44,
   "metadata": {},
   "outputs": [
    {
     "name": "stdout",
     "output_type": "stream",
     "text": [
      "2\n",
      "71\n",
      "[4, 16, 20, 1633, 128, 3479, 781, 104, 5041, 28]\n",
      "5041\n"
     ]
    }
   ],
   "source": [
    "raw_list = [2, 8, 10, 23, 64, 49, 11, 52, 71, 14]\n",
    "x_min = min(raw_list)\n",
    "x_max = max(raw_list)\n",
    "my_list = []\n",
    "\n",
    "for item in raw_list:\n",
    "    if item % 2 == 0:\n",
    "        my_list.append(item * x_min)\n",
    "    else:\n",
    "        my_list.append(item * x_max)\n",
    "result = max(my_list)\n",
    "print(x_min, x_max, my_list, result, sep='\\n')"
   ]
  },
  {
   "cell_type": "code",
   "execution_count": 50,
   "metadata": {},
   "outputs": [
    {
     "name": "stdout",
     "output_type": "stream",
     "text": [
      "[9.9, 11, 12.100000000000001, 10.8, 12, 13.200000000000001, 11.700000000000001, 13, 14.3, 12.6, 14, 15.400000000000002, 13.5, 15, 16.5, 14.4, 16, 17.6, 15.3, 17, 18.700000000000003, 16.2, 18, 19.8, 17.1, 19, 20.900000000000002]\n"
     ]
    }
   ],
   "source": [
    "my_list = [x*y for x in range(11,20) for y in [0.9, 1, 1.1]]\n",
    "print(my_list)"
   ]
  },
  {
   "cell_type": "code",
   "execution_count": 52,
   "metadata": {},
   "outputs": [
    {
     "name": "stdout",
     "output_type": "stream",
     "text": [
      "[2.6457513110645907, 3.7416573867739413, 4.58257569495584, 5.291502622129181, 5.916079783099616, 6.48074069840786, 7.0]\n"
     ]
    }
   ],
   "source": [
    "my_list = [x**0.5 for x in range(1, 50) if x % 7 == 0]\n",
    "print(my_list)"
   ]
  },
  {
   "cell_type": "code",
   "execution_count": 54,
   "metadata": {},
   "outputs": [
    {
     "name": "stdout",
     "output_type": "stream",
     "text": [
      "[9, 10, 11, 12, 13, 14, 15, 16, 17, 18]\n"
     ]
    }
   ],
   "source": [
    "my_list = [x//10 + x%10 for x in range(90, 100)]\n",
    "print(my_list)"
   ]
  },
  {
   "cell_type": "code",
   "execution_count": 56,
   "metadata": {},
   "outputs": [
    {
     "name": "stdout",
     "output_type": "stream",
     "text": [
      "['+79033923029', '+78125849204', '+79053049385', '+79265748370', '+79030598495']\n"
     ]
    }
   ],
   "source": [
    "phones = [['+79033923029', 'Мария Никитина'], ['+78125849204', 'Егор Савичев'], ['+79053049385', 'Александр Пахомов'], ['+79265748370', 'Алина Егорова'], ['+79030598495', 'Руслан Башаров']]\n",
    "phones = [tel[0] for tel in phones]\n",
    "print(phones)"
   ]
  },
  {
   "cell_type": "code",
   "execution_count": 58,
   "metadata": {},
   "outputs": [],
   "source": [
    "employee_base = {\n",
    "    'Мария Никитина': '+79033923029',\n",
    "    'Егор Савичев': '+78125849204',\n",
    "    'Александр Пахомов': '+79053049385',\n",
    "    'Алина Егорова': '+79265748370',\n",
    "    'Руслан Башаров': '+79030598495'   \n",
    "}"
   ]
  },
  {
   "cell_type": "code",
   "execution_count": 60,
   "metadata": {},
   "outputs": [
    {
     "name": "stdout",
     "output_type": "stream",
     "text": [
      "unknown\n"
     ]
    }
   ],
   "source": [
    "draw_dict = {\n",
    "    'Россия': 'A',\n",
    "    'Португалия': 'B',\n",
    "    'Франция': 'C',\n",
    "    'Дания': 'C',\n",
    "    'Египет': 'A'\n",
    "}\n",
    "\n",
    "country = \"Италия\"\n",
    "if country in draw_dict:\n",
    "    group = draw_dict[country]\n",
    "else:\n",
    "    group = 'unknown'\n",
    "print(group)"
   ]
  },
  {
   "cell_type": "code",
   "execution_count": 64,
   "metadata": {},
   "outputs": [
    {
     "name": "stdout",
     "output_type": "stream",
     "text": [
      "{'Россия': 'A', 'Португалия': 'B', 'Франция': 'C', 'Дания': 'C', 'Египет': 'A', 'Италия': 'unknown'}\n"
     ]
    }
   ],
   "source": [
    "draw_dict = {\n",
    "    'Россия': 'A',\n",
    "    'Португалия': 'B',\n",
    "    'Франция': 'C',\n",
    "    'Дания': 'C',\n",
    "    'Египет': 'A'\n",
    "}\n",
    "\n",
    "country = \"Италия\"\n",
    "draw_dict.setdefault(country, 'unknown')\n",
    "print(draw_dict)"
   ]
  },
  {
   "cell_type": "code",
   "execution_count": 70,
   "metadata": {},
   "outputs": [],
   "source": [
    "draw_dict = {\n",
    "    'Россия': 'A',\n",
    "    'Португалия': 'B',\n",
    "    'Франция': 'C',\n",
    "    'Дания': 'C',\n",
    "    'Египет': 'A'\n",
    "}\n",
    "draw_new = dict()\n",
    "for c in draw_dict.keys():\n",
    "    if draw_dict[c] == 'A':\n",
    "        draw_new[c] = 'A'"
   ]
  },
  {
   "cell_type": "code",
   "execution_count": 72,
   "metadata": {},
   "outputs": [],
   "source": [
    "draw_dict = {\n",
    "    'Россия': 'A',\n",
    "    'Португалия': 'B',\n",
    "    'Франция': 'C',\n",
    "    'Дания': 'C',\n",
    "    'Египет': 'A'\n",
    "}\n",
    "draw_new = dict()\n",
    "for k, v in draw_dict.items():\n",
    "    if v == 'A':\n",
    "        draw_new[k] = v"
   ]
  },
  {
   "cell_type": "code",
   "execution_count": 75,
   "metadata": {},
   "outputs": [
    {
     "name": "stdout",
     "output_type": "stream",
     "text": [
      "{'2019-04-01': 2504, '2019-04-02': 4994, '2019-04-03': 6343}\n",
      "13841\n"
     ]
    }
   ],
   "source": [
    "dd = ['2019-04-01', '2019-04-02', '2019-04-03']\n",
    "ee = [2504, 4994, 6343]\n",
    "acc = dict()\n",
    "for i in range(3):\n",
    "    acc[dd[i]] = ee[i]\n",
    "print(acc)\n",
    "total = 0\n",
    "for v in acc.values():\n",
    "    total += v\n",
    "print(total)"
   ]
  },
  {
   "cell_type": "code",
   "execution_count": 79,
   "metadata": {},
   "outputs": [],
   "source": [
    "csv_file = [\n",
    "    ['100412', 'Ботинки для горных лыж ATOMIC Hawx Prime 100', 9],\n",
    "    ['100728', 'Скейтборд Jdbug RT03', 32],\n",
    "    ['100732', 'Роллерсерф Razor RipStik Bright', 11],\n",
    "    ['100803', 'Ботинки для сноуборда DC Tucknee', 20],\n",
    "    ['100898', 'Шагомер Omron HJA-306', 2],\n",
    "    ['100934', 'Пульсометр Beurer PM62', 17],\n",
    "]\n",
    "\n",
    "pulsometer_id = csv_file[5][0]"
   ]
  },
  {
   "cell_type": "code",
   "execution_count": 81,
   "metadata": {},
   "outputs": [
    {
     "name": "stdout",
     "output_type": "stream",
     "text": [
      "[['100728', 'Скейтборд Jdbug RT03', 32], ['100732', 'Роллерсерф Razor RipStik Bright', 11], ['100803', 'Ботинки для сноуборда DC Tucknee', 20], ['100934', 'Пульсометр Beurer PM62', 17]]\n"
     ]
    }
   ],
   "source": [
    "csv_file = [\n",
    "    ['100412', 'Ботинки для горных лыж ATOMIC Hawx Prime 100', 9],\n",
    "    ['100728', 'Скейтборд Jdbug RT03', 32],\n",
    "    ['100732', 'Роллерсерф Razor RipStik Bright', 11],\n",
    "    ['100803', 'Ботинки для сноуборда DC Tucknee', 20],\n",
    "    ['100898', 'Шагомер Omron HJA-306', 2],\n",
    "    ['100934', 'Пульсометр Beurer PM62', 17],\n",
    "]\n",
    "csv_file_filtered = list()\n",
    "for rec in csv_file:\n",
    "    if rec[2] > 10:\n",
    "        csv_file_filtered.append(rec)\n",
    "print(csv_file_filtered)"
   ]
  },
  {
   "cell_type": "code",
   "execution_count": 83,
   "metadata": {},
   "outputs": [
    {
     "name": "stdout",
     "output_type": "stream",
     "text": [
      "[{'id': '100412', 'position': 'Ботинки для горных лыж ATOMIC Hawx Prime 100', 'count': 9}, {'id': '100803', 'position': 'Ботинки для сноуборда DC Tucknee', 'count': 20}]\n"
     ]
    }
   ],
   "source": [
    "csv_dict = [\n",
    "    {'id': '100412', 'position': 'Ботинки для горных лыж ATOMIC Hawx Prime 100', 'count': 9},\n",
    "    {'id': '100728', 'position': 'Скейтборд Jdbug RT03', 'count': 32},\n",
    "    {'id': '100732', 'position': 'Роллерсерф Razor RipStik Bright', 'count': 11},\n",
    "    {'id': '100803', 'position': 'Ботинки для сноуборда DC Tucknee', 'count': 20},\n",
    "    {'id': '100898', 'position': 'Шагомер Omron HJA-306', 'count': 2},\n",
    "    {'id': '100934', 'position': 'Пульсометр Beurer PM62', 'count': 17},\n",
    "]\n",
    "\n",
    "csv_dict_boots = list()\n",
    "\n",
    "for rec in csv_dict:\n",
    "    if 'Ботинки' in rec['position']:\n",
    "        csv_dict_boots.append(rec)\n",
    "print(csv_dict_boots)"
   ]
  },
  {
   "cell_type": "code",
   "execution_count": 84,
   "metadata": {},
   "outputs": [],
   "source": [
    "contacts = {\n",
    "\n",
    "    'Борискин Владимир': {\n",
    "        'tel': '5387',\n",
    "        'position': 'менеджер'\n",
    "    },\n",
    "    \n",
    "    'Сомова Наталья': {\n",
    "        'tel': '5443',\n",
    "        'position': 'разработчик'\n",
    "    },\n",
    "}"
   ]
  },
  {
   "cell_type": "code",
   "execution_count": 86,
   "metadata": {},
   "outputs": [
    {
     "data": {
      "text/plain": [
       "98"
      ]
     },
     "execution_count": 86,
     "metadata": {},
     "output_type": "execute_result"
    }
   ],
   "source": [
    "results = [\n",
    "    {'cost': 98, 'source': 'vk'},\n",
    "    {'cost': 153, 'source': 'yandex'},\n",
    "    {'cost': 110, 'source': 'facebook'},\n",
    "]\n",
    "costs = [x['cost'] for x in results]\n",
    "min(costs)"
   ]
  },
  {
   "cell_type": "code",
   "execution_count": 91,
   "metadata": {},
   "outputs": [
    {
     "name": "stdout",
     "output_type": "stream",
     "text": [
      "0.98\n",
      "0.9702\n",
      "0.960498\n",
      "0.9220780799999999\n",
      "0.8944157375999999\n",
      "5\n"
     ]
    }
   ],
   "source": [
    "defect_stats = [\n",
    "    {'step number': 1, 'damage': 0.98},\n",
    "    {'step number': 2, 'damage': 0.99},\n",
    "    {'step number': 3, 'damage': 0.99},\n",
    "    {'step number': 4, 'damage': 0.96},\n",
    "    {'step number': 5, 'damage': 0.97},\n",
    "    {'step number': 6, 'damage': 0.97},\n",
    "]\n",
    "detail = 1\n",
    "n = 0\n",
    "while detail >= 0.9:\n",
    "    detail *= defect_stats[n]['damage']\n",
    "    n += 1\n",
    "    print(detail)\n",
    "else:\n",
    "    print(defect_stats[n - 1]['step number'])"
   ]
  },
  {
   "cell_type": "code",
   "execution_count": 105,
   "metadata": {},
   "outputs": [
    {
     "name": "stdout",
     "output_type": "stream",
     "text": [
      "('AMD', 0.13121)\n",
      "('AUD', 45.5309)\n",
      "('INR', 0.929658)\n",
      "('MDL', 3.6930500000000004)\n"
     ]
    }
   ],
   "source": [
    "currency = {\n",
    "    'AMD': {\n",
    "        'Name': 'Армянских драмов',\n",
    "        'Nominal': 100,\n",
    "        'Value': 13.121\n",
    "    },\n",
    "\n",
    "    'AUD': {\n",
    "        'Name': 'Австралийский доллар',\n",
    "        'Nominal': 1,\n",
    "        'Value': 45.5309\n",
    "    },\n",
    "\n",
    "    'INR': {\n",
    "        'Name': 'Индийских рупий',\n",
    "        'Nominal': 100,\n",
    "        'Value': 92.9658\n",
    "    },\n",
    "\n",
    "    'MDL': {\n",
    "        'Name': 'Молдавских леев',\n",
    "        'Nominal': 10,\n",
    "        'Value': 36.9305\n",
    "    },\n",
    "}\n",
    "\n",
    "for k, v in currency.items():\n",
    "    currency[k]['KURS'] = v['Value']/v['Nominal']\n",
    "print('\\n'.join([str((c, currency[c]['KURS'])) for c in currency]))"
   ]
  },
  {
   "cell_type": "code",
   "execution_count": 119,
   "metadata": {},
   "outputs": [
    {
     "name": "stdout",
     "output_type": "stream",
     "text": [
      "225\n"
     ]
    }
   ],
   "source": [
    "bodycount = {\n",
    "    'Проклятие Черной жемчужины': {\n",
    "        'человек': 17\n",
    "    }, \n",
    "\n",
    "    'Сундук мертвеца': {\n",
    "        'человек': 56,\n",
    "        'раков-отшельников': 1\n",
    "},\n",
    "\n",
    "    'На краю света': {\n",
    "        'человек': 88\n",
    "    },\n",
    "\n",
    "    'На странных берегах': {\n",
    "        'человек': 56,\n",
    "        'русалок': 2,\n",
    "        'ядовитых жаб': 3,\n",
    "        'пиратов зомби': 2\n",
    "    }\n",
    "}\n",
    "\n",
    "total = [bodycount[x][y] for x in bodycount.keys() for y in bodycount[x].keys()]\n",
    "print(sum(total))"
   ]
  },
  {
   "cell_type": "markdown",
   "metadata": {},
   "source": [
    "## Json practice"
   ]
  },
  {
   "cell_type": "code",
   "execution_count": 124,
   "metadata": {},
   "outputs": [
    {
     "name": "stdout",
     "output_type": "stream",
     "text": [
      "<class 'dict'>\n"
     ]
    }
   ],
   "source": [
    "import json\n",
    "with open('data.json', 'r') as f:\n",
    "    data = json.load(f)\n",
    "print(type(data))"
   ]
  },
  {
   "cell_type": "code",
   "execution_count": 129,
   "metadata": {},
   "outputs": [
    {
     "name": "stdout",
     "output_type": "stream",
     "text": [
      "{'id': 47946124, 'client_id': 62526, 'user_id': 110777, 'category': 'page', 'action': 'enter', 'options': {'name': 'landing'}}\n"
     ]
    }
   ],
   "source": [
    "dd = data['events_data']\n",
    "print(dd[0])"
   ]
  },
  {
   "cell_type": "code",
   "execution_count": 136,
   "metadata": {},
   "outputs": [
    {
     "data": {
      "text/plain": [
       "107"
      ]
     },
     "execution_count": 136,
     "metadata": {},
     "output_type": "execute_result"
    }
   ],
   "source": [
    "cats = [x['category'] for x in dd]\n",
    "len(cats)"
   ]
  },
  {
   "cell_type": "code",
   "execution_count": 138,
   "metadata": {},
   "outputs": [
    {
     "name": "stdout",
     "output_type": "stream",
     "text": [
      "Counter({'page': 74, 'datepicker': 15, 'table': 10, 'report': 8})\n"
     ]
    }
   ],
   "source": [
    "import collections\n",
    "c = collections.Counter()\n",
    "for cat in cats:\n",
    "    c[cat] += 1\n",
    "print(c)"
   ]
  },
  {
   "cell_type": "code",
   "execution_count": 152,
   "metadata": {},
   "outputs": [
    {
     "name": "stdout",
     "output_type": "stream",
     "text": [
      "Counter({27115: 4, 60459: 4, 58113: 2})\n"
     ]
    }
   ],
   "source": [
    "users_table = [x['client_id'] for x in dd if x['category'] == 'table']\n",
    "t = collections.Counter()\n",
    "for u in users_table:\n",
    "    t[u] += 1\n",
    "print(t)"
   ]
  },
  {
   "cell_type": "code",
   "execution_count": 154,
   "metadata": {},
   "outputs": [
    {
     "name": "stdout",
     "output_type": "stream",
     "text": [
      "3\n"
     ]
    }
   ],
   "source": [
    "print(len(t.keys()))"
   ]
  },
  {
   "cell_type": "code",
   "execution_count": 155,
   "metadata": {},
   "outputs": [
    {
     "name": "stdout",
     "output_type": "stream",
     "text": [
      "4\n"
     ]
    }
   ],
   "source": [
    "print(t[27115])"
   ]
  },
  {
   "cell_type": "code",
   "execution_count": 157,
   "metadata": {},
   "outputs": [
    {
     "name": "stdout",
     "output_type": "stream",
     "text": [
      "51\n",
      "12\n"
     ]
    }
   ],
   "source": [
    "actionmen = [x['client_id'] for x in dd]\n",
    "a = collections.Counter()\n",
    "for man in actionmen:\n",
    "    a[man] += 1\n",
    "print(len(a))\n",
    "print(a[60459])"
   ]
  },
  {
   "cell_type": "code",
   "execution_count": 161,
   "metadata": {},
   "outputs": [
    {
     "name": "stdout",
     "output_type": "stream",
     "text": [
      "9\n"
     ]
    }
   ],
   "source": [
    "c62602 = [x for x in dd if x['client_id'] == 62602 and x['category'] == 'page']\n",
    "print(len(c62602))"
   ]
  },
  {
   "cell_type": "code",
   "execution_count": 174,
   "metadata": {},
   "outputs": [
    {
     "name": "stdout",
     "output_type": "stream",
     "text": [
      "3\n",
      "[58113, 60459, 62602]\n"
     ]
    }
   ],
   "source": [
    "unique_users = list()\n",
    "for x in dd:\n",
    "    if x['category'] == 'report' and not x['client_id'] in unique_users:\n",
    "        unique_users.append(x['client_id'])\n",
    "unique_users.sort()\n",
    "print(len(unique_users))\n",
    "print(unique_users)"
   ]
  }
 ],
 "metadata": {
  "kernelspec": {
   "display_name": "Python 3",
   "language": "python",
   "name": "python3"
  },
  "language_info": {
   "codemirror_mode": {
    "name": "ipython",
    "version": 3
   },
   "file_extension": ".py",
   "mimetype": "text/x-python",
   "name": "python",
   "nbconvert_exporter": "python",
   "pygments_lexer": "ipython3",
   "version": "3.8.5"
  }
 },
 "nbformat": 4,
 "nbformat_minor": 4
}
