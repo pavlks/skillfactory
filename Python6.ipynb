{
 "cells": [
  {
   "cell_type": "code",
   "execution_count": 418,
   "metadata": {
    "scrolled": true
   },
   "outputs": [
    {
     "data": {
      "text/html": [
       "<div>\n",
       "<style scoped>\n",
       "    .dataframe tbody tr th:only-of-type {\n",
       "        vertical-align: middle;\n",
       "    }\n",
       "\n",
       "    .dataframe tbody tr th {\n",
       "        vertical-align: top;\n",
       "    }\n",
       "\n",
       "    .dataframe thead th {\n",
       "        text-align: right;\n",
       "    }\n",
       "</style>\n",
       "<table border=\"1\" class=\"dataframe\">\n",
       "  <thead>\n",
       "    <tr style=\"text-align: right;\">\n",
       "      <th></th>\n",
       "      <th>Unnamed: 0</th>\n",
       "      <th>Name</th>\n",
       "      <th>Age</th>\n",
       "      <th>Nationality</th>\n",
       "      <th>Club</th>\n",
       "      <th>Value</th>\n",
       "      <th>Wage</th>\n",
       "      <th>Position</th>\n",
       "      <th>Crossing</th>\n",
       "      <th>Finishing</th>\n",
       "      <th>...</th>\n",
       "      <th>Penalties</th>\n",
       "      <th>Composure</th>\n",
       "      <th>Marking</th>\n",
       "      <th>StandingTackle</th>\n",
       "      <th>SlidingTackle</th>\n",
       "      <th>GKDiving</th>\n",
       "      <th>GKHandling</th>\n",
       "      <th>GKKicking</th>\n",
       "      <th>GKPositioning</th>\n",
       "      <th>GKReflexes</th>\n",
       "    </tr>\n",
       "  </thead>\n",
       "  <tbody>\n",
       "    <tr>\n",
       "      <th>12892</th>\n",
       "      <td>13121</td>\n",
       "      <td>J. Lundstram</td>\n",
       "      <td>19</td>\n",
       "      <td>England</td>\n",
       "      <td>Crewe Alexandra</td>\n",
       "      <td>1100000</td>\n",
       "      <td>1000</td>\n",
       "      <td>CM</td>\n",
       "      <td>34</td>\n",
       "      <td>38</td>\n",
       "      <td>...</td>\n",
       "      <td>43</td>\n",
       "      <td>45</td>\n",
       "      <td>40</td>\n",
       "      <td>48</td>\n",
       "      <td>47</td>\n",
       "      <td>10</td>\n",
       "      <td>13</td>\n",
       "      <td>7</td>\n",
       "      <td>8</td>\n",
       "      <td>9</td>\n",
       "    </tr>\n",
       "    <tr>\n",
       "      <th>12893</th>\n",
       "      <td>13122</td>\n",
       "      <td>N. Christoffersson</td>\n",
       "      <td>19</td>\n",
       "      <td>Sweden</td>\n",
       "      <td>Trelleborgs FF</td>\n",
       "      <td>60000</td>\n",
       "      <td>1000</td>\n",
       "      <td>ST</td>\n",
       "      <td>23</td>\n",
       "      <td>52</td>\n",
       "      <td>...</td>\n",
       "      <td>43</td>\n",
       "      <td>42</td>\n",
       "      <td>22</td>\n",
       "      <td>15</td>\n",
       "      <td>19</td>\n",
       "      <td>10</td>\n",
       "      <td>9</td>\n",
       "      <td>9</td>\n",
       "      <td>5</td>\n",
       "      <td>12</td>\n",
       "    </tr>\n",
       "    <tr>\n",
       "      <th>12894</th>\n",
       "      <td>13123</td>\n",
       "      <td>B. Worman</td>\n",
       "      <td>16</td>\n",
       "      <td>England</td>\n",
       "      <td>Cambridge United</td>\n",
       "      <td>60000</td>\n",
       "      <td>1000</td>\n",
       "      <td>ST</td>\n",
       "      <td>25</td>\n",
       "      <td>40</td>\n",
       "      <td>...</td>\n",
       "      <td>55</td>\n",
       "      <td>41</td>\n",
       "      <td>32</td>\n",
       "      <td>13</td>\n",
       "      <td>11</td>\n",
       "      <td>6</td>\n",
       "      <td>5</td>\n",
       "      <td>10</td>\n",
       "      <td>6</td>\n",
       "      <td>13</td>\n",
       "    </tr>\n",
       "    <tr>\n",
       "      <th>12895</th>\n",
       "      <td>13124</td>\n",
       "      <td>D. Walker-Rice</td>\n",
       "      <td>17</td>\n",
       "      <td>England</td>\n",
       "      <td>Tranmere Rovers</td>\n",
       "      <td>60000</td>\n",
       "      <td>1000</td>\n",
       "      <td>RW</td>\n",
       "      <td>44</td>\n",
       "      <td>50</td>\n",
       "      <td>...</td>\n",
       "      <td>50</td>\n",
       "      <td>46</td>\n",
       "      <td>20</td>\n",
       "      <td>25</td>\n",
       "      <td>27</td>\n",
       "      <td>14</td>\n",
       "      <td>6</td>\n",
       "      <td>14</td>\n",
       "      <td>8</td>\n",
       "      <td>9</td>\n",
       "    </tr>\n",
       "    <tr>\n",
       "      <th>12896</th>\n",
       "      <td>13125</td>\n",
       "      <td>G. Nugent</td>\n",
       "      <td>16</td>\n",
       "      <td>England</td>\n",
       "      <td>Tranmere Rovers</td>\n",
       "      <td>60000</td>\n",
       "      <td>1000</td>\n",
       "      <td>CM</td>\n",
       "      <td>41</td>\n",
       "      <td>34</td>\n",
       "      <td>...</td>\n",
       "      <td>33</td>\n",
       "      <td>43</td>\n",
       "      <td>40</td>\n",
       "      <td>43</td>\n",
       "      <td>50</td>\n",
       "      <td>10</td>\n",
       "      <td>15</td>\n",
       "      <td>9</td>\n",
       "      <td>12</td>\n",
       "      <td>9</td>\n",
       "    </tr>\n",
       "  </tbody>\n",
       "</table>\n",
       "<p>5 rows × 42 columns</p>\n",
       "</div>"
      ],
      "text/plain": [
       "       Unnamed: 0                Name  Age Nationality              Club  \\\n",
       "12892       13121        J. Lundstram   19     England   Crewe Alexandra   \n",
       "12893       13122  N. Christoffersson   19      Sweden    Trelleborgs FF   \n",
       "12894       13123           B. Worman   16     England  Cambridge United   \n",
       "12895       13124      D. Walker-Rice   17     England   Tranmere Rovers   \n",
       "12896       13125           G. Nugent   16     England   Tranmere Rovers   \n",
       "\n",
       "         Value  Wage Position  Crossing  Finishing  ...  Penalties  Composure  \\\n",
       "12892  1100000  1000       CM        34         38  ...         43         45   \n",
       "12893    60000  1000       ST        23         52  ...         43         42   \n",
       "12894    60000  1000       ST        25         40  ...         55         41   \n",
       "12895    60000  1000       RW        44         50  ...         50         46   \n",
       "12896    60000  1000       CM        41         34  ...         33         43   \n",
       "\n",
       "       Marking  StandingTackle  SlidingTackle  GKDiving  GKHandling  \\\n",
       "12892       40              48             47        10          13   \n",
       "12893       22              15             19        10           9   \n",
       "12894       32              13             11         6           5   \n",
       "12895       20              25             27        14           6   \n",
       "12896       40              43             50        10          15   \n",
       "\n",
       "       GKKicking  GKPositioning  GKReflexes  \n",
       "12892          7              8           9  \n",
       "12893          9              5          12  \n",
       "12894         10              6          13  \n",
       "12895         14              8           9  \n",
       "12896          9             12           9  \n",
       "\n",
       "[5 rows x 42 columns]"
      ]
     },
     "execution_count": 418,
     "metadata": {},
     "output_type": "execute_result"
    }
   ],
   "source": [
    "import pandas as pd\n",
    "\n",
    "df = pd.read_csv('data_sf.xls')\n",
    "df.tail()"
   ]
  },
  {
   "cell_type": "code",
   "execution_count": 23,
   "metadata": {},
   "outputs": [
    {
     "data": {
      "text/plain": [
       "Atlético Mineiro    6\n",
       "Name: Club, dtype: int64"
      ]
     },
     "execution_count": 23,
     "metadata": {},
     "output_type": "execute_result"
    }
   ],
   "source": [
    "club_list = df['Club'].value_counts()\n",
    "top_clubs = club_list[club_list == club_list.max()]\n",
    "bottom_club = club_list[club_list == club_list[-1]]\n",
    "bottom_club"
   ]
  },
  {
   "cell_type": "code",
   "execution_count": 40,
   "metadata": {},
   "outputs": [
    {
     "data": {
      "text/plain": [
       "Index(['GK', 'ST', 'CB'], dtype='object')"
      ]
     },
     "execution_count": 40,
     "metadata": {},
     "output_type": "execute_result"
    }
   ],
   "source": [
    "pos = df['Position'].value_counts(normalize=True)\n",
    "pos.loc[pos > 0.1].index"
   ]
  },
  {
   "cell_type": "code",
   "execution_count": 44,
   "metadata": {},
   "outputs": [
    {
     "data": {
      "text/plain": [
       "LS     0.009382\n",
       "RS     0.008839\n",
       "RWB    0.005428\n",
       "LWB    0.004652\n",
       "CF     0.003954\n",
       "LF     0.000620\n",
       "RF     0.000465\n",
       "LAM    0.000465\n",
       "RAM    0.000388\n",
       "Name: Position, dtype: float64"
      ]
     },
     "execution_count": 44,
     "metadata": {},
     "output_type": "execute_result"
    }
   ],
   "source": [
    "pos = df['Position'].value_counts(normalize=True)\n",
    "pos.loc[pos < 0.01]"
   ]
  },
  {
   "cell_type": "code",
   "execution_count": 65,
   "metadata": {},
   "outputs": [
    {
     "data": {
      "text/html": [
       "<div>\n",
       "<style scoped>\n",
       "    .dataframe tbody tr th:only-of-type {\n",
       "        vertical-align: middle;\n",
       "    }\n",
       "\n",
       "    .dataframe tbody tr th {\n",
       "        vertical-align: top;\n",
       "    }\n",
       "\n",
       "    .dataframe thead th {\n",
       "        text-align: right;\n",
       "    }\n",
       "</style>\n",
       "<table border=\"1\" class=\"dataframe\">\n",
       "  <thead>\n",
       "    <tr style=\"text-align: right;\">\n",
       "      <th></th>\n",
       "      <th>Unnamed: 0</th>\n",
       "      <th>Name</th>\n",
       "      <th>Age</th>\n",
       "      <th>Nationality</th>\n",
       "      <th>Club</th>\n",
       "      <th>Value</th>\n",
       "      <th>Wage</th>\n",
       "    </tr>\n",
       "  </thead>\n",
       "  <tbody>\n",
       "    <tr>\n",
       "      <th>0</th>\n",
       "      <td>0</td>\n",
       "      <td>L. Messi</td>\n",
       "      <td>31</td>\n",
       "      <td>Argentina</td>\n",
       "      <td>FC Barcelona</td>\n",
       "      <td>110500000</td>\n",
       "      <td>565000</td>\n",
       "    </tr>\n",
       "    <tr>\n",
       "      <th>7</th>\n",
       "      <td>7</td>\n",
       "      <td>L. Suárez</td>\n",
       "      <td>31</td>\n",
       "      <td>Uruguay</td>\n",
       "      <td>FC Barcelona</td>\n",
       "      <td>80000000</td>\n",
       "      <td>455000</td>\n",
       "    </tr>\n",
       "  </tbody>\n",
       "</table>\n",
       "</div>"
      ],
      "text/plain": [
       "   Unnamed: 0       Name  Age Nationality          Club      Value    Wage\n",
       "0           0   L. Messi   31   Argentina  FC Barcelona  110500000  565000\n",
       "7           7  L. Suárez   31     Uruguay  FC Barcelona   80000000  455000"
      ]
     },
     "execution_count": 65,
     "metadata": {},
     "output_type": "execute_result"
    }
   ],
   "source": [
    "small_df = df[df.columns[0:7]].head(25)\n",
    "w = small_df.Wage.value_counts(bins=4)\n",
    "w.index\n",
    "w.index[3].left\n",
    "w.index[1].right\n",
    "small_df['Wage'] > w.index[3].left\n",
    "small_df.loc[small_df['Wage'] > w.index[3].left]"
   ]
  },
  {
   "cell_type": "markdown",
   "metadata": {},
   "source": [
    "## Задания"
   ]
  },
  {
   "cell_type": "code",
   "execution_count": 76,
   "metadata": {},
   "outputs": [
    {
     "data": {
      "text/plain": [
       "(21.2, 39.4]     4859\n",
       "(39.4, 57.6]     3957\n",
       "(57.6, 75.8]     2108\n",
       "(2.908, 21.2]    1760\n",
       "(75.8, 94.0]      213\n",
       "Name: FKAccuracy, dtype: int64"
      ]
     },
     "execution_count": 76,
     "metadata": {},
     "output_type": "execute_result"
    }
   ],
   "source": [
    "df['FKAccuracy'].value_counts(bins=5)"
   ]
  },
  {
   "cell_type": "code",
   "execution_count": 88,
   "metadata": {},
   "outputs": [
    {
     "data": {
      "text/html": [
       "<div>\n",
       "<style scoped>\n",
       "    .dataframe tbody tr th:only-of-type {\n",
       "        vertical-align: middle;\n",
       "    }\n",
       "\n",
       "    .dataframe tbody tr th {\n",
       "        vertical-align: top;\n",
       "    }\n",
       "\n",
       "    .dataframe thead th {\n",
       "        text-align: right;\n",
       "    }\n",
       "</style>\n",
       "<table border=\"1\" class=\"dataframe\">\n",
       "  <thead>\n",
       "    <tr style=\"text-align: right;\">\n",
       "      <th></th>\n",
       "      <th>Club</th>\n",
       "      <th>Players Count</th>\n",
       "    </tr>\n",
       "  </thead>\n",
       "  <tbody>\n",
       "    <tr>\n",
       "      <th>0</th>\n",
       "      <td>Real Madrid</td>\n",
       "      <td>4</td>\n",
       "    </tr>\n",
       "    <tr>\n",
       "      <th>1</th>\n",
       "      <td>FC Barcelona</td>\n",
       "      <td>4</td>\n",
       "    </tr>\n",
       "    <tr>\n",
       "      <th>2</th>\n",
       "      <td>Manchester City</td>\n",
       "      <td>3</td>\n",
       "    </tr>\n",
       "    <tr>\n",
       "      <th>3</th>\n",
       "      <td>Juventus</td>\n",
       "      <td>3</td>\n",
       "    </tr>\n",
       "    <tr>\n",
       "      <th>4</th>\n",
       "      <td>Atlético Madrid</td>\n",
       "      <td>3</td>\n",
       "    </tr>\n",
       "    <tr>\n",
       "      <th>5</th>\n",
       "      <td>Chelsea</td>\n",
       "      <td>2</td>\n",
       "    </tr>\n",
       "    <tr>\n",
       "      <th>6</th>\n",
       "      <td>FC Bayern München</td>\n",
       "      <td>2</td>\n",
       "    </tr>\n",
       "    <tr>\n",
       "      <th>7</th>\n",
       "      <td>Paris Saint-Germain</td>\n",
       "      <td>2</td>\n",
       "    </tr>\n",
       "    <tr>\n",
       "      <th>8</th>\n",
       "      <td>Tottenham Hotspur</td>\n",
       "      <td>1</td>\n",
       "    </tr>\n",
       "    <tr>\n",
       "      <th>9</th>\n",
       "      <td>Manchester United</td>\n",
       "      <td>1</td>\n",
       "    </tr>\n",
       "  </tbody>\n",
       "</table>\n",
       "</div>"
      ],
      "text/plain": [
       "                  Club  Players Count\n",
       "0          Real Madrid              4\n",
       "1         FC Barcelona              4\n",
       "2      Manchester City              3\n",
       "3             Juventus              3\n",
       "4      Atlético Madrid              3\n",
       "5              Chelsea              2\n",
       "6    FC Bayern München              2\n",
       "7  Paris Saint-Germain              2\n",
       "8    Tottenham Hotspur              1\n",
       "9    Manchester United              1"
      ]
     },
     "metadata": {},
     "output_type": "display_data"
    }
   ],
   "source": [
    "s = small_df['Club'].value_counts()\n",
    "s.index\n",
    "s_df = s.reset_index()\n",
    "s_df.columns = ['Club', 'Players Count']\n",
    "display(s_df)"
   ]
  },
  {
   "cell_type": "code",
   "execution_count": 99,
   "metadata": {},
   "outputs": [
    {
     "data": {
      "text/plain": [
       "(620.999, 95750.0]      0.970194\n",
       "(95750.0, 190500.0]     0.016393\n",
       "(190500.0, 285250.0]    0.008942\n",
       "(285250.0, 380000.0]    0.004471\n",
       "Name: Wage, dtype: float64"
      ]
     },
     "execution_count": 99,
     "metadata": {},
     "output_type": "execute_result"
    }
   ],
   "source": [
    "spanish = df[df['Nationality'] == 'Spain']['Wage']\n",
    "spanish.value_counts(normalize=True, bins=4)"
   ]
  },
  {
   "cell_type": "code",
   "execution_count": 107,
   "metadata": {},
   "outputs": [
    {
     "data": {
      "text/plain": [
       "13"
      ]
     },
     "execution_count": 107,
     "metadata": {},
     "output_type": "execute_result"
    }
   ],
   "source": [
    "lads = df[df['Club'] == 'Manchester United']\n",
    "lads['Nationality'].nunique()"
   ]
  },
  {
   "cell_type": "code",
   "execution_count": 199,
   "metadata": {},
   "outputs": [
    {
     "data": {
      "text/plain": [
       "array(['Alex Sandro', 'Douglas Costa'], dtype=object)"
      ]
     },
     "execution_count": 199,
     "metadata": {},
     "output_type": "execute_result"
    }
   ],
   "source": [
    "# Alex Sandro, Douglas Costa\n",
    "br1 = df[(df['Nationality'] == 'Brazil') & (df['Club'] == 'Juventus')]\n",
    "br1.Name.unique()"
   ]
  },
  {
   "cell_type": "code",
   "execution_count": 146,
   "metadata": {},
   "outputs": [
    {
     "data": {
      "text/plain": [
       "Club Atlético Huracán             4\n",
       "Hokkaido Consadole Sapporo        4\n",
       "Gimnasia y Esgrima La Plata       3\n",
       "Club Atlético Talleres            3\n",
       "Hammarby IF                       3\n",
       "                                 ..\n",
       "Guangzhou Evergrande Taobao FC    1\n",
       "Rayo Vallecano                    1\n",
       "Colo-Colo                         1\n",
       "FC Girondins de Bordeaux          1\n",
       "IF Elfsborg                       1\n",
       "Name: Club, Length: 212, dtype: int64"
      ]
     },
     "execution_count": 146,
     "metadata": {},
     "output_type": "execute_result"
    }
   ],
   "source": [
    "df[df['Age'] > 35].Club.value_counts()"
   ]
  },
  {
   "cell_type": "code",
   "execution_count": 150,
   "metadata": {},
   "outputs": [
    {
     "data": {
      "text/plain": [
       "(22.25, 28.5]      200\n",
       "(15.974, 22.25]    197\n",
       "(28.5, 34.75]      128\n",
       "(34.75, 41.0]       49\n",
       "Name: Age, dtype: int64"
      ]
     },
     "execution_count": 150,
     "metadata": {},
     "output_type": "execute_result"
    }
   ],
   "source": [
    "df[df['Nationality'] == 'Argentina']['Age'].value_counts(bins=4)"
   ]
  },
  {
   "cell_type": "code",
   "execution_count": 156,
   "metadata": {},
   "outputs": [
    {
     "data": {
      "text/plain": [
       "21    0.117735\n",
       "22    0.095380\n",
       "20    0.077496\n",
       "23    0.071535\n",
       "25    0.064083\n",
       "27    0.062593\n",
       "24    0.059613\n",
       "28    0.053651\n",
       "26    0.053651\n",
       "29    0.047690\n",
       "19    0.047690\n",
       "18    0.038748\n",
       "30    0.038748\n",
       "31    0.032787\n",
       "32    0.032787\n",
       "33    0.031297\n",
       "34    0.022355\n",
       "17    0.013413\n",
       "35    0.011923\n",
       "36    0.010432\n",
       "37    0.008942\n",
       "39    0.002981\n",
       "16    0.002981\n",
       "38    0.001490\n",
       "Name: Age, dtype: float64"
      ]
     },
     "execution_count": 156,
     "metadata": {},
     "output_type": "execute_result"
    }
   ],
   "source": [
    "df[df['Nationality'] == 'Spain']['Age'].value_counts(normalize=True)"
   ]
  },
  {
   "cell_type": "code",
   "execution_count": 173,
   "metadata": {},
   "outputs": [
    {
     "data": {
      "text/html": [
       "<div>\n",
       "<style scoped>\n",
       "    .dataframe tbody tr th:only-of-type {\n",
       "        vertical-align: middle;\n",
       "    }\n",
       "\n",
       "    .dataframe tbody tr th {\n",
       "        vertical-align: top;\n",
       "    }\n",
       "\n",
       "    .dataframe thead th {\n",
       "        text-align: right;\n",
       "    }\n",
       "</style>\n",
       "<table border=\"1\" class=\"dataframe\">\n",
       "  <thead>\n",
       "    <tr style=\"text-align: right;\">\n",
       "      <th></th>\n",
       "      <th>Position</th>\n",
       "      <th>Wage</th>\n",
       "    </tr>\n",
       "  </thead>\n",
       "  <tbody>\n",
       "    <tr>\n",
       "      <th>0</th>\n",
       "      <td>ST</td>\n",
       "      <td>11873000</td>\n",
       "    </tr>\n",
       "    <tr>\n",
       "      <th>1</th>\n",
       "      <td>GK</td>\n",
       "      <td>8784000</td>\n",
       "    </tr>\n",
       "    <tr>\n",
       "      <th>2</th>\n",
       "      <td>CB</td>\n",
       "      <td>7476000</td>\n",
       "    </tr>\n",
       "    <tr>\n",
       "      <th>3</th>\n",
       "      <td>CM</td>\n",
       "      <td>6194000</td>\n",
       "    </tr>\n",
       "    <tr>\n",
       "      <th>4</th>\n",
       "      <td>LB</td>\n",
       "      <td>6096000</td>\n",
       "    </tr>\n",
       "    <tr>\n",
       "      <th>5</th>\n",
       "      <td>CAM</td>\n",
       "      <td>5500000</td>\n",
       "    </tr>\n",
       "    <tr>\n",
       "      <th>6</th>\n",
       "      <td>LM</td>\n",
       "      <td>5440000</td>\n",
       "    </tr>\n",
       "    <tr>\n",
       "      <th>7</th>\n",
       "      <td>RM</td>\n",
       "      <td>5098000</td>\n",
       "    </tr>\n",
       "    <tr>\n",
       "      <th>8</th>\n",
       "      <td>RB</td>\n",
       "      <td>5034000</td>\n",
       "    </tr>\n",
       "  </tbody>\n",
       "</table>\n",
       "</div>"
      ],
      "text/plain": [
       "  Position      Wage\n",
       "0       ST  11873000\n",
       "1       GK   8784000\n",
       "2       CB   7476000\n",
       "3       CM   6194000\n",
       "4       LB   6096000\n",
       "5      CAM   5500000\n",
       "6       LM   5440000\n",
       "7       RM   5098000\n",
       "8       RB   5034000"
      ]
     },
     "execution_count": 173,
     "metadata": {},
     "output_type": "execute_result"
    }
   ],
   "source": [
    "br2 = df.groupby(['Position'])['Wage'].sum()\n",
    "br3 = br2.sort_values(ascending=False).reset_index()\n",
    "br3[br3['Wage'] > 5000000]"
   ]
  },
  {
   "cell_type": "code",
   "execution_count": 200,
   "metadata": {},
   "outputs": [
    {
     "data": {
      "text/plain": [
       "Wage        75125.0\n",
       "Value    27362500.0\n",
       "Name: LF, dtype: float64"
      ]
     },
     "execution_count": 200,
     "metadata": {},
     "output_type": "execute_result"
    }
   ],
   "source": [
    "df.groupby(['Position'])[['Wage','Value']].mean().sort_values(['Value'] ,ascending=False).loc['LF']"
   ]
  },
  {
   "cell_type": "code",
   "execution_count": 222,
   "metadata": {},
   "outputs": [
    {
     "data": {
      "text/plain": [
       "mean      13000.0\n",
       "median    13000.0\n",
       "Name: Cruzeiro, dtype: float64"
      ]
     },
     "execution_count": 222,
     "metadata": {},
     "output_type": "execute_result"
    }
   ],
   "source": [
    "mm = df.groupby(['Club'])['Wage'].agg(['mean', 'median'])\n",
    "mnmn = mm.loc[mm['mean'] == mm['median']]\n",
    "\n",
    "mnmn.sort_values(['mean'], ascending=False).iloc[0]"
   ]
  },
  {
   "cell_type": "code",
   "execution_count": 224,
   "metadata": {},
   "outputs": [
    {
     "data": {
      "text/plain": [
       "2035000"
      ]
     },
     "execution_count": 224,
     "metadata": {},
     "output_type": "execute_result"
    }
   ],
   "source": [
    "df[df['Club'] == 'Chelsea']['Wage'].sum()"
   ]
  },
  {
   "cell_type": "code",
   "execution_count": 240,
   "metadata": {},
   "outputs": [
    {
     "data": {
      "text/plain": [
       "Age\n",
       "20     54000\n",
       "30    300000\n",
       "Name: Wage, dtype: int64"
      ]
     },
     "execution_count": 240,
     "metadata": {},
     "output_type": "execute_result"
    }
   ],
   "source": [
    "df[df['Nationality'] == 'Argentina'].groupby(['Age'])['Wage'].max().loc[[20, 30]]"
   ]
  },
  {
   "cell_type": "code",
   "execution_count": 241,
   "metadata": {},
   "outputs": [
    {
     "data": {
      "text/plain": [
       "1000"
      ]
     },
     "execution_count": 241,
     "metadata": {},
     "output_type": "execute_result"
    }
   ],
   "source": [
    "df[df['Nationality'] == 'Argentina'].groupby(['Age'])['Wage'].min().loc[30]"
   ]
  },
  {
   "cell_type": "code",
   "execution_count": 242,
   "metadata": {},
   "outputs": [
    {
     "data": {
      "text/plain": [
       "Strength    59\n",
       "Balance     95\n",
       "dtype: int64"
      ]
     },
     "execution_count": 242,
     "metadata": {},
     "output_type": "execute_result"
    }
   ],
   "source": [
    "df[(df['Club'] == 'FC Barcelona') & (df['Nationality'] == 'Argentina')][['Strength', 'Balance']].max()"
   ]
  },
  {
   "cell_type": "markdown",
   "metadata": {},
   "source": [
    "# Pivot Tables -- Сводные Таблицы"
   ]
  },
  {
   "cell_type": "code",
   "execution_count": 250,
   "metadata": {},
   "outputs": [
    {
     "data": {
      "text/html": [
       "<div>\n",
       "<style scoped>\n",
       "    .dataframe tbody tr th:only-of-type {\n",
       "        vertical-align: middle;\n",
       "    }\n",
       "\n",
       "    .dataframe tbody tr th {\n",
       "        vertical-align: top;\n",
       "    }\n",
       "\n",
       "    .dataframe thead tr th {\n",
       "        text-align: left;\n",
       "    }\n",
       "\n",
       "    .dataframe thead tr:last-of-type th {\n",
       "        text-align: right;\n",
       "    }\n",
       "</style>\n",
       "<table border=\"1\" class=\"dataframe\">\n",
       "  <thead>\n",
       "    <tr>\n",
       "      <th></th>\n",
       "      <th colspan=\"5\" halign=\"left\">Wage</th>\n",
       "    </tr>\n",
       "    <tr>\n",
       "      <th>Club</th>\n",
       "      <th>FC Barcelona</th>\n",
       "      <th>Juventus</th>\n",
       "      <th>Manchester United</th>\n",
       "      <th>Real Madrid</th>\n",
       "      <th>All</th>\n",
       "    </tr>\n",
       "    <tr>\n",
       "      <th>Nationality</th>\n",
       "      <th></th>\n",
       "      <th></th>\n",
       "      <th></th>\n",
       "      <th></th>\n",
       "      <th></th>\n",
       "    </tr>\n",
       "  </thead>\n",
       "  <tbody>\n",
       "    <tr>\n",
       "      <th>Argentina</th>\n",
       "      <td>565000</td>\n",
       "      <td>205000</td>\n",
       "      <td>206000</td>\n",
       "      <td>0</td>\n",
       "      <td>976000</td>\n",
       "    </tr>\n",
       "    <tr>\n",
       "      <th>Belgium</th>\n",
       "      <td>110000</td>\n",
       "      <td>0</td>\n",
       "      <td>230000</td>\n",
       "      <td>240000</td>\n",
       "      <td>580000</td>\n",
       "    </tr>\n",
       "    <tr>\n",
       "      <th>Bosnia Herzegovina</th>\n",
       "      <td>0</td>\n",
       "      <td>180000</td>\n",
       "      <td>0</td>\n",
       "      <td>0</td>\n",
       "      <td>180000</td>\n",
       "    </tr>\n",
       "    <tr>\n",
       "      <th>Brazil</th>\n",
       "      <td>465000</td>\n",
       "      <td>335000</td>\n",
       "      <td>91000</td>\n",
       "      <td>570000</td>\n",
       "      <td>1461000</td>\n",
       "    </tr>\n",
       "    <tr>\n",
       "      <th>Chile</th>\n",
       "      <td>205000</td>\n",
       "      <td>0</td>\n",
       "      <td>215000</td>\n",
       "      <td>0</td>\n",
       "      <td>420000</td>\n",
       "    </tr>\n",
       "    <tr>\n",
       "      <th>Costa Rica</th>\n",
       "      <td>0</td>\n",
       "      <td>0</td>\n",
       "      <td>0</td>\n",
       "      <td>195000</td>\n",
       "      <td>195000</td>\n",
       "    </tr>\n",
       "    <tr>\n",
       "      <th>Croatia</th>\n",
       "      <td>260000</td>\n",
       "      <td>160000</td>\n",
       "      <td>0</td>\n",
       "      <td>420000</td>\n",
       "      <td>840000</td>\n",
       "    </tr>\n",
       "    <tr>\n",
       "      <th>Dominican Republic</th>\n",
       "      <td>0</td>\n",
       "      <td>0</td>\n",
       "      <td>0</td>\n",
       "      <td>140000</td>\n",
       "      <td>140000</td>\n",
       "    </tr>\n",
       "    <tr>\n",
       "      <th>Ecuador</th>\n",
       "      <td>0</td>\n",
       "      <td>0</td>\n",
       "      <td>120000</td>\n",
       "      <td>0</td>\n",
       "      <td>120000</td>\n",
       "    </tr>\n",
       "    <tr>\n",
       "      <th>England</th>\n",
       "      <td>0</td>\n",
       "      <td>0</td>\n",
       "      <td>478000</td>\n",
       "      <td>0</td>\n",
       "      <td>478000</td>\n",
       "    </tr>\n",
       "    <tr>\n",
       "      <th>France</th>\n",
       "      <td>495000</td>\n",
       "      <td>145000</td>\n",
       "      <td>375000</td>\n",
       "      <td>459000</td>\n",
       "      <td>1474000</td>\n",
       "    </tr>\n",
       "    <tr>\n",
       "      <th>Germany</th>\n",
       "      <td>240000</td>\n",
       "      <td>160000</td>\n",
       "      <td>0</td>\n",
       "      <td>355000</td>\n",
       "      <td>755000</td>\n",
       "    </tr>\n",
       "    <tr>\n",
       "      <th>Italy</th>\n",
       "      <td>0</td>\n",
       "      <td>460000</td>\n",
       "      <td>88000</td>\n",
       "      <td>0</td>\n",
       "      <td>548000</td>\n",
       "    </tr>\n",
       "    <tr>\n",
       "      <th>Ivory Coast</th>\n",
       "      <td>0</td>\n",
       "      <td>0</td>\n",
       "      <td>105000</td>\n",
       "      <td>0</td>\n",
       "      <td>105000</td>\n",
       "    </tr>\n",
       "    <tr>\n",
       "      <th>Morocco</th>\n",
       "      <td>0</td>\n",
       "      <td>160000</td>\n",
       "      <td>0</td>\n",
       "      <td>0</td>\n",
       "      <td>160000</td>\n",
       "    </tr>\n",
       "    <tr>\n",
       "      <th>Netherlands</th>\n",
       "      <td>135000</td>\n",
       "      <td>0</td>\n",
       "      <td>0</td>\n",
       "      <td>0</td>\n",
       "      <td>135000</td>\n",
       "    </tr>\n",
       "    <tr>\n",
       "      <th>Poland</th>\n",
       "      <td>0</td>\n",
       "      <td>125000</td>\n",
       "      <td>0</td>\n",
       "      <td>0</td>\n",
       "      <td>125000</td>\n",
       "    </tr>\n",
       "    <tr>\n",
       "      <th>Portugal</th>\n",
       "      <td>125000</td>\n",
       "      <td>405000</td>\n",
       "      <td>0</td>\n",
       "      <td>0</td>\n",
       "      <td>530000</td>\n",
       "    </tr>\n",
       "    <tr>\n",
       "      <th>Scotland</th>\n",
       "      <td>0</td>\n",
       "      <td>0</td>\n",
       "      <td>11000</td>\n",
       "      <td>0</td>\n",
       "      <td>11000</td>\n",
       "    </tr>\n",
       "    <tr>\n",
       "      <th>Serbia</th>\n",
       "      <td>0</td>\n",
       "      <td>0</td>\n",
       "      <td>165000</td>\n",
       "      <td>0</td>\n",
       "      <td>165000</td>\n",
       "    </tr>\n",
       "    <tr>\n",
       "      <th>Spain</th>\n",
       "      <td>912000</td>\n",
       "      <td>0</td>\n",
       "      <td>260000</td>\n",
       "      <td>1404000</td>\n",
       "      <td>2576000</td>\n",
       "    </tr>\n",
       "    <tr>\n",
       "      <th>Uruguay</th>\n",
       "      <td>455000</td>\n",
       "      <td>0</td>\n",
       "      <td>0</td>\n",
       "      <td>0</td>\n",
       "      <td>455000</td>\n",
       "    </tr>\n",
       "    <tr>\n",
       "      <th>Wales</th>\n",
       "      <td>0</td>\n",
       "      <td>0</td>\n",
       "      <td>13000</td>\n",
       "      <td>355000</td>\n",
       "      <td>368000</td>\n",
       "    </tr>\n",
       "    <tr>\n",
       "      <th>All</th>\n",
       "      <td>3967000</td>\n",
       "      <td>2335000</td>\n",
       "      <td>2357000</td>\n",
       "      <td>4138000</td>\n",
       "      <td>12797000</td>\n",
       "    </tr>\n",
       "  </tbody>\n",
       "</table>\n",
       "</div>"
      ],
      "text/plain": [
       "                           Wage                                         \\\n",
       "Club               FC Barcelona Juventus Manchester United Real Madrid   \n",
       "Nationality                                                              \n",
       "Argentina                565000   205000            206000           0   \n",
       "Belgium                  110000        0            230000      240000   \n",
       "Bosnia Herzegovina            0   180000                 0           0   \n",
       "Brazil                   465000   335000             91000      570000   \n",
       "Chile                    205000        0            215000           0   \n",
       "Costa Rica                    0        0                 0      195000   \n",
       "Croatia                  260000   160000                 0      420000   \n",
       "Dominican Republic            0        0                 0      140000   \n",
       "Ecuador                       0        0            120000           0   \n",
       "England                       0        0            478000           0   \n",
       "France                   495000   145000            375000      459000   \n",
       "Germany                  240000   160000                 0      355000   \n",
       "Italy                         0   460000             88000           0   \n",
       "Ivory Coast                   0        0            105000           0   \n",
       "Morocco                       0   160000                 0           0   \n",
       "Netherlands              135000        0                 0           0   \n",
       "Poland                        0   125000                 0           0   \n",
       "Portugal                 125000   405000                 0           0   \n",
       "Scotland                      0        0             11000           0   \n",
       "Serbia                        0        0            165000           0   \n",
       "Spain                    912000        0            260000     1404000   \n",
       "Uruguay                  455000        0                 0           0   \n",
       "Wales                         0        0             13000      355000   \n",
       "All                     3967000  2335000           2357000     4138000   \n",
       "\n",
       "                              \n",
       "Club                     All  \n",
       "Nationality                   \n",
       "Argentina             976000  \n",
       "Belgium               580000  \n",
       "Bosnia Herzegovina    180000  \n",
       "Brazil               1461000  \n",
       "Chile                 420000  \n",
       "Costa Rica            195000  \n",
       "Croatia               840000  \n",
       "Dominican Republic    140000  \n",
       "Ecuador               120000  \n",
       "England               478000  \n",
       "France               1474000  \n",
       "Germany               755000  \n",
       "Italy                 548000  \n",
       "Ivory Coast           105000  \n",
       "Morocco               160000  \n",
       "Netherlands           135000  \n",
       "Poland                125000  \n",
       "Portugal              530000  \n",
       "Scotland               11000  \n",
       "Serbia                165000  \n",
       "Spain                2576000  \n",
       "Uruguay               455000  \n",
       "Wales                 368000  \n",
       "All                 12797000  "
      ]
     },
     "metadata": {},
     "output_type": "display_data"
    }
   ],
   "source": [
    "pivot = df.loc[\n",
    "    df['Club']\n",
    "    .isin(['FC Barcelona','Real Madrid','Juventus','Manchester United'])]\\\n",
    "    .pivot_table(values=['Wage'],\n",
    "                index=['Nationality'],\n",
    "                columns=['Club'],\n",
    "                aggfunc='sum',\n",
    "                margins=True,\n",
    "                fill_value=0)\n",
    "display(pivot)\n"
   ]
  },
  {
   "cell_type": "code",
   "execution_count": 260,
   "metadata": {},
   "outputs": [
    {
     "data": {
      "text/plain": [
       "1"
      ]
     },
     "execution_count": 260,
     "metadata": {},
     "output_type": "execute_result"
    }
   ],
   "source": [
    "pivot = df.loc[df['Club']\n",
    "               .isin(['FC Barcelona','Real Madrid','Juventus','Manchester United'])]\\\n",
    "                .pivot_table(values=['Name'],\n",
    "\n",
    "index=['Nationality'],\n",
    "columns=['Club'],\n",
    "aggfunc='count',\n",
    "fill_value=0)\n",
    "# display(pivot)\n",
    "pivot.loc['Argentina']['Name']['Juventus']"
   ]
  },
  {
   "cell_type": "code",
   "execution_count": 303,
   "metadata": {},
   "outputs": [
    {
     "data": {
      "text/plain": [
       "2.5246153846153847"
      ]
     },
     "execution_count": 303,
     "metadata": {},
     "output_type": "execute_result"
    }
   ],
   "source": [
    "pivot13 = df.pivot_table(values=['Name'], index=['Position'], columns=['Club'], aggfunc='count', fill_value=0)\n",
    "# display(pivot13)\n",
    "pivot13.loc['GK'].mean()"
   ]
  },
  {
   "cell_type": "code",
   "execution_count": 302,
   "metadata": {},
   "outputs": [
    {
     "data": {
      "text/plain": [
       "6      5\n",
       "5     21\n",
       "4     39\n",
       "3     89\n",
       "0    136\n",
       "2    149\n",
       "1    211\n",
       "Name: CM, dtype: int64"
      ]
     },
     "execution_count": 302,
     "metadata": {},
     "output_type": "execute_result"
    }
   ],
   "source": [
    "pivot13.loc['CM'].value_counts(ascending=True)"
   ]
  },
  {
   "cell_type": "code",
   "execution_count": 308,
   "metadata": {
    "scrolled": false
   },
   "outputs": [
    {
     "data": {
      "text/html": [
       "<div>\n",
       "<style scoped>\n",
       "    .dataframe tbody tr th:only-of-type {\n",
       "        vertical-align: middle;\n",
       "    }\n",
       "\n",
       "    .dataframe tbody tr th {\n",
       "        vertical-align: top;\n",
       "    }\n",
       "\n",
       "    .dataframe thead tr th {\n",
       "        text-align: left;\n",
       "    }\n",
       "\n",
       "    .dataframe thead tr:last-of-type th {\n",
       "        text-align: right;\n",
       "    }\n",
       "</style>\n",
       "<table border=\"1\" class=\"dataframe\">\n",
       "  <thead>\n",
       "    <tr>\n",
       "      <th></th>\n",
       "      <th colspan=\"21\" halign=\"left\">Wage</th>\n",
       "    </tr>\n",
       "    <tr>\n",
       "      <th>Club</th>\n",
       "      <th>SSV Jahn Regensburg</th>\n",
       "      <th>1. FC Heidenheim 1846</th>\n",
       "      <th>1. FC Kaiserslautern</th>\n",
       "      <th>1. FC Köln</th>\n",
       "      <th>1. FC Magdeburg</th>\n",
       "      <th>1. FC Nürnberg</th>\n",
       "      <th>1. FC Union Berlin</th>\n",
       "      <th>1. FSV Mainz 05</th>\n",
       "      <th>AC Ajaccio</th>\n",
       "      <th>AC Horsens</th>\n",
       "      <th>...</th>\n",
       "      <th>Wycombe Wanderers</th>\n",
       "      <th>Yeni Malatyaspor</th>\n",
       "      <th>Yeovil Town</th>\n",
       "      <th>Yokohama F. Marinos</th>\n",
       "      <th>Zagłębie Lubin</th>\n",
       "      <th>Zagłębie Sosnowiec</th>\n",
       "      <th>Çaykur Rizespor</th>\n",
       "      <th>Örebro SK</th>\n",
       "      <th>Östersunds FK</th>\n",
       "      <th>Śląsk Wrocław</th>\n",
       "    </tr>\n",
       "    <tr>\n",
       "      <th>Nationality</th>\n",
       "      <th></th>\n",
       "      <th></th>\n",
       "      <th></th>\n",
       "      <th></th>\n",
       "      <th></th>\n",
       "      <th></th>\n",
       "      <th></th>\n",
       "      <th></th>\n",
       "      <th></th>\n",
       "      <th></th>\n",
       "      <th></th>\n",
       "      <th></th>\n",
       "      <th></th>\n",
       "      <th></th>\n",
       "      <th></th>\n",
       "      <th></th>\n",
       "      <th></th>\n",
       "      <th></th>\n",
       "      <th></th>\n",
       "      <th></th>\n",
       "      <th></th>\n",
       "    </tr>\n",
       "  </thead>\n",
       "  <tbody>\n",
       "    <tr>\n",
       "      <th>Afghanistan</th>\n",
       "      <td>0</td>\n",
       "      <td>0</td>\n",
       "      <td>0</td>\n",
       "      <td>0</td>\n",
       "      <td>0</td>\n",
       "      <td>0</td>\n",
       "      <td>0</td>\n",
       "      <td>0</td>\n",
       "      <td>0</td>\n",
       "      <td>0</td>\n",
       "      <td>...</td>\n",
       "      <td>0</td>\n",
       "      <td>0</td>\n",
       "      <td>0</td>\n",
       "      <td>0</td>\n",
       "      <td>0</td>\n",
       "      <td>0</td>\n",
       "      <td>0</td>\n",
       "      <td>0</td>\n",
       "      <td>0</td>\n",
       "      <td>0</td>\n",
       "    </tr>\n",
       "    <tr>\n",
       "      <th>Albania</th>\n",
       "      <td>0</td>\n",
       "      <td>0</td>\n",
       "      <td>0</td>\n",
       "      <td>0</td>\n",
       "      <td>0</td>\n",
       "      <td>0</td>\n",
       "      <td>0</td>\n",
       "      <td>0</td>\n",
       "      <td>2000</td>\n",
       "      <td>0</td>\n",
       "      <td>...</td>\n",
       "      <td>0</td>\n",
       "      <td>0</td>\n",
       "      <td>0</td>\n",
       "      <td>0</td>\n",
       "      <td>0</td>\n",
       "      <td>0</td>\n",
       "      <td>0</td>\n",
       "      <td>1000</td>\n",
       "      <td>0</td>\n",
       "      <td>0</td>\n",
       "    </tr>\n",
       "    <tr>\n",
       "      <th>Algeria</th>\n",
       "      <td>0</td>\n",
       "      <td>0</td>\n",
       "      <td>0</td>\n",
       "      <td>0</td>\n",
       "      <td>0</td>\n",
       "      <td>0</td>\n",
       "      <td>0</td>\n",
       "      <td>0</td>\n",
       "      <td>0</td>\n",
       "      <td>0</td>\n",
       "      <td>...</td>\n",
       "      <td>0</td>\n",
       "      <td>0</td>\n",
       "      <td>1000</td>\n",
       "      <td>0</td>\n",
       "      <td>0</td>\n",
       "      <td>0</td>\n",
       "      <td>0</td>\n",
       "      <td>0</td>\n",
       "      <td>0</td>\n",
       "      <td>0</td>\n",
       "    </tr>\n",
       "    <tr>\n",
       "      <th>Andorra</th>\n",
       "      <td>0</td>\n",
       "      <td>0</td>\n",
       "      <td>0</td>\n",
       "      <td>0</td>\n",
       "      <td>0</td>\n",
       "      <td>0</td>\n",
       "      <td>0</td>\n",
       "      <td>0</td>\n",
       "      <td>0</td>\n",
       "      <td>0</td>\n",
       "      <td>...</td>\n",
       "      <td>0</td>\n",
       "      <td>0</td>\n",
       "      <td>0</td>\n",
       "      <td>0</td>\n",
       "      <td>0</td>\n",
       "      <td>0</td>\n",
       "      <td>0</td>\n",
       "      <td>0</td>\n",
       "      <td>0</td>\n",
       "      <td>0</td>\n",
       "    </tr>\n",
       "    <tr>\n",
       "      <th>Angola</th>\n",
       "      <td>0</td>\n",
       "      <td>0</td>\n",
       "      <td>0</td>\n",
       "      <td>0</td>\n",
       "      <td>0</td>\n",
       "      <td>0</td>\n",
       "      <td>0</td>\n",
       "      <td>0</td>\n",
       "      <td>0</td>\n",
       "      <td>0</td>\n",
       "      <td>...</td>\n",
       "      <td>0</td>\n",
       "      <td>0</td>\n",
       "      <td>0</td>\n",
       "      <td>0</td>\n",
       "      <td>0</td>\n",
       "      <td>1000</td>\n",
       "      <td>0</td>\n",
       "      <td>0</td>\n",
       "      <td>0</td>\n",
       "      <td>0</td>\n",
       "    </tr>\n",
       "    <tr>\n",
       "      <th>...</th>\n",
       "      <td>...</td>\n",
       "      <td>...</td>\n",
       "      <td>...</td>\n",
       "      <td>...</td>\n",
       "      <td>...</td>\n",
       "      <td>...</td>\n",
       "      <td>...</td>\n",
       "      <td>...</td>\n",
       "      <td>...</td>\n",
       "      <td>...</td>\n",
       "      <td>...</td>\n",
       "      <td>...</td>\n",
       "      <td>...</td>\n",
       "      <td>...</td>\n",
       "      <td>...</td>\n",
       "      <td>...</td>\n",
       "      <td>...</td>\n",
       "      <td>...</td>\n",
       "      <td>...</td>\n",
       "      <td>...</td>\n",
       "      <td>...</td>\n",
       "    </tr>\n",
       "    <tr>\n",
       "      <th>Uzbekistan</th>\n",
       "      <td>0</td>\n",
       "      <td>0</td>\n",
       "      <td>0</td>\n",
       "      <td>0</td>\n",
       "      <td>0</td>\n",
       "      <td>0</td>\n",
       "      <td>0</td>\n",
       "      <td>0</td>\n",
       "      <td>0</td>\n",
       "      <td>0</td>\n",
       "      <td>...</td>\n",
       "      <td>0</td>\n",
       "      <td>0</td>\n",
       "      <td>0</td>\n",
       "      <td>0</td>\n",
       "      <td>0</td>\n",
       "      <td>0</td>\n",
       "      <td>0</td>\n",
       "      <td>0</td>\n",
       "      <td>0</td>\n",
       "      <td>0</td>\n",
       "    </tr>\n",
       "    <tr>\n",
       "      <th>Venezuela</th>\n",
       "      <td>0</td>\n",
       "      <td>0</td>\n",
       "      <td>0</td>\n",
       "      <td>0</td>\n",
       "      <td>0</td>\n",
       "      <td>0</td>\n",
       "      <td>0</td>\n",
       "      <td>0</td>\n",
       "      <td>0</td>\n",
       "      <td>0</td>\n",
       "      <td>...</td>\n",
       "      <td>0</td>\n",
       "      <td>0</td>\n",
       "      <td>0</td>\n",
       "      <td>0</td>\n",
       "      <td>0</td>\n",
       "      <td>0</td>\n",
       "      <td>0</td>\n",
       "      <td>0</td>\n",
       "      <td>0</td>\n",
       "      <td>0</td>\n",
       "    </tr>\n",
       "    <tr>\n",
       "      <th>Wales</th>\n",
       "      <td>0</td>\n",
       "      <td>0</td>\n",
       "      <td>0</td>\n",
       "      <td>0</td>\n",
       "      <td>0</td>\n",
       "      <td>0</td>\n",
       "      <td>0</td>\n",
       "      <td>0</td>\n",
       "      <td>0</td>\n",
       "      <td>0</td>\n",
       "      <td>...</td>\n",
       "      <td>4000</td>\n",
       "      <td>0</td>\n",
       "      <td>2000</td>\n",
       "      <td>0</td>\n",
       "      <td>0</td>\n",
       "      <td>0</td>\n",
       "      <td>0</td>\n",
       "      <td>0</td>\n",
       "      <td>0</td>\n",
       "      <td>0</td>\n",
       "    </tr>\n",
       "    <tr>\n",
       "      <th>Zambia</th>\n",
       "      <td>0</td>\n",
       "      <td>0</td>\n",
       "      <td>0</td>\n",
       "      <td>0</td>\n",
       "      <td>0</td>\n",
       "      <td>0</td>\n",
       "      <td>0</td>\n",
       "      <td>0</td>\n",
       "      <td>0</td>\n",
       "      <td>0</td>\n",
       "      <td>...</td>\n",
       "      <td>0</td>\n",
       "      <td>0</td>\n",
       "      <td>0</td>\n",
       "      <td>0</td>\n",
       "      <td>0</td>\n",
       "      <td>0</td>\n",
       "      <td>0</td>\n",
       "      <td>0</td>\n",
       "      <td>0</td>\n",
       "      <td>0</td>\n",
       "    </tr>\n",
       "    <tr>\n",
       "      <th>Zimbabwe</th>\n",
       "      <td>0</td>\n",
       "      <td>0</td>\n",
       "      <td>0</td>\n",
       "      <td>0</td>\n",
       "      <td>0</td>\n",
       "      <td>0</td>\n",
       "      <td>0</td>\n",
       "      <td>0</td>\n",
       "      <td>0</td>\n",
       "      <td>0</td>\n",
       "      <td>...</td>\n",
       "      <td>0</td>\n",
       "      <td>0</td>\n",
       "      <td>0</td>\n",
       "      <td>0</td>\n",
       "      <td>0</td>\n",
       "      <td>0</td>\n",
       "      <td>0</td>\n",
       "      <td>0</td>\n",
       "      <td>0</td>\n",
       "      <td>0</td>\n",
       "    </tr>\n",
       "  </tbody>\n",
       "</table>\n",
       "<p>156 rows × 650 columns</p>\n",
       "</div>"
      ],
      "text/plain": [
       "                            Wage                                             \\\n",
       "Club         SSV Jahn Regensburg 1. FC Heidenheim 1846 1. FC Kaiserslautern   \n",
       "Nationality                                                                   \n",
       "Afghanistan                    0                     0                    0   \n",
       "Albania                        0                     0                    0   \n",
       "Algeria                        0                     0                    0   \n",
       "Andorra                        0                     0                    0   \n",
       "Angola                         0                     0                    0   \n",
       "...                          ...                   ...                  ...   \n",
       "Uzbekistan                     0                     0                    0   \n",
       "Venezuela                      0                     0                    0   \n",
       "Wales                          0                     0                    0   \n",
       "Zambia                         0                     0                    0   \n",
       "Zimbabwe                       0                     0                    0   \n",
       "\n",
       "                                                                          \\\n",
       "Club        1. FC Köln 1. FC Magdeburg 1. FC Nürnberg 1. FC Union Berlin   \n",
       "Nationality                                                                \n",
       "Afghanistan          0               0              0                  0   \n",
       "Albania              0               0              0                  0   \n",
       "Algeria              0               0              0                  0   \n",
       "Andorra              0               0              0                  0   \n",
       "Angola               0               0              0                  0   \n",
       "...                ...             ...            ...                ...   \n",
       "Uzbekistan           0               0              0                  0   \n",
       "Venezuela            0               0              0                  0   \n",
       "Wales                0               0              0                  0   \n",
       "Zambia               0               0              0                  0   \n",
       "Zimbabwe             0               0              0                  0   \n",
       "\n",
       "                                                   ...                    \\\n",
       "Club        1. FSV Mainz 05 AC Ajaccio AC Horsens  ... Wycombe Wanderers   \n",
       "Nationality                                        ...                     \n",
       "Afghanistan               0          0          0  ...                 0   \n",
       "Albania                   0       2000          0  ...                 0   \n",
       "Algeria                   0          0          0  ...                 0   \n",
       "Andorra                   0          0          0  ...                 0   \n",
       "Angola                    0          0          0  ...                 0   \n",
       "...                     ...        ...        ...  ...               ...   \n",
       "Uzbekistan                0          0          0  ...                 0   \n",
       "Venezuela                 0          0          0  ...                 0   \n",
       "Wales                     0          0          0  ...              4000   \n",
       "Zambia                    0          0          0  ...                 0   \n",
       "Zimbabwe                  0          0          0  ...                 0   \n",
       "\n",
       "                                                                             \\\n",
       "Club        Yeni Malatyaspor Yeovil Town Yokohama F. Marinos Zagłębie Lubin   \n",
       "Nationality                                                                   \n",
       "Afghanistan                0           0                   0              0   \n",
       "Albania                    0           0                   0              0   \n",
       "Algeria                    0        1000                   0              0   \n",
       "Andorra                    0           0                   0              0   \n",
       "Angola                     0           0                   0              0   \n",
       "...                      ...         ...                 ...            ...   \n",
       "Uzbekistan                 0           0                   0              0   \n",
       "Venezuela                  0           0                   0              0   \n",
       "Wales                      0        2000                   0              0   \n",
       "Zambia                     0           0                   0              0   \n",
       "Zimbabwe                   0           0                   0              0   \n",
       "\n",
       "                                                                        \\\n",
       "Club        Zagłębie Sosnowiec Çaykur Rizespor Örebro SK Östersunds FK   \n",
       "Nationality                                                              \n",
       "Afghanistan                  0               0         0             0   \n",
       "Albania                      0               0      1000             0   \n",
       "Algeria                      0               0         0             0   \n",
       "Andorra                      0               0         0             0   \n",
       "Angola                    1000               0         0             0   \n",
       "...                        ...             ...       ...           ...   \n",
       "Uzbekistan                   0               0         0             0   \n",
       "Venezuela                    0               0         0             0   \n",
       "Wales                        0               0         0             0   \n",
       "Zambia                       0               0         0             0   \n",
       "Zimbabwe                     0               0         0             0   \n",
       "\n",
       "                           \n",
       "Club        Śląsk Wrocław  \n",
       "Nationality                \n",
       "Afghanistan             0  \n",
       "Albania                 0  \n",
       "Algeria                 0  \n",
       "Andorra                 0  \n",
       "Angola                  0  \n",
       "...                   ...  \n",
       "Uzbekistan              0  \n",
       "Venezuela               0  \n",
       "Wales                   0  \n",
       "Zambia                  0  \n",
       "Zimbabwe                0  \n",
       "\n",
       "[156 rows x 650 columns]"
      ]
     },
     "metadata": {},
     "output_type": "display_data"
    },
    {
     "data": {
      "text/plain": [
       "61000"
      ]
     },
     "execution_count": 308,
     "metadata": {},
     "output_type": "execute_result"
    }
   ],
   "source": [
    "pivot14 = df.pivot_table(values=['Wage'], index=['Nationality'], columns=['Club'], aggfunc='sum', fill_value=0)\n",
    "display(pivot14)\n",
    "pivot14.loc['Russia']['Wage']['AS Monaco']"
   ]
  },
  {
   "cell_type": "markdown",
   "metadata": {},
   "source": [
    "### 1st solution"
   ]
  },
  {
   "cell_type": "code",
   "execution_count": 434,
   "metadata": {},
   "outputs": [
    {
     "data": {
      "text/plain": [
       "Position\n",
       "RM    74.943864\n",
       "LM    74.211538\n",
       "RS    71.991228\n",
       "RB    71.186709\n",
       "CF    69.803922\n",
       "Name: SprintSpeed, dtype: float64"
      ]
     },
     "metadata": {},
     "output_type": "display_data"
    }
   ],
   "source": [
    "pivot142 = df.groupby(['Position'])['SprintSpeed'].mean().sort_values(ascending=False)\n",
    "display(pivot142.loc[['RB', 'LM', 'RM', 'CF', 'RS']].sort_values(ascending=False))"
   ]
  },
  {
   "cell_type": "markdown",
   "metadata": {},
   "source": [
    "### 2nd solution (using pivot tables)"
   ]
  },
  {
   "cell_type": "code",
   "execution_count": 432,
   "metadata": {},
   "outputs": [
    {
     "data": {
      "text/plain": [
       "Position\n",
       "RM    75.363112\n",
       "LM    74.338201\n",
       "RS    71.991228\n",
       "dtype: float64"
      ]
     },
     "execution_count": 432,
     "metadata": {},
     "output_type": "execute_result"
    }
   ],
   "source": [
    "pivot142a = df.pivot_table(values=['SprintSpeed'], index='Club', columns='Position', aggfunc='mean')\n",
    "# убрал RWM, потому что нельзя передавать отсутсвующие в таблице индексы\n",
    "pivot142a['SprintSpeed'][['RB', 'LM', 'RM', 'CF', 'RS']].mean().sort_values(ascending=False).head(3)\n"
   ]
  },
  {
   "cell_type": "code",
   "execution_count": 435,
   "metadata": {
    "scrolled": true
   },
   "outputs": [
    {
     "data": {
      "text/plain": [
       "Club\n",
       "Vitória      91.0\n",
       "Sydney FC    88.0\n",
       "CD Lugo      87.0\n",
       "Name: ST, dtype: float64"
      ]
     },
     "execution_count": 435,
     "metadata": {},
     "output_type": "execute_result"
    }
   ],
   "source": [
    "pivot142a = df.pivot_table(values=['SprintSpeed'], index='Club', columns='Position', aggfunc='mean')\n",
    "pivot142a['SprintSpeed']['ST'].sort_values(ascending=False).head(3)\n"
   ]
  }
 ],
 "metadata": {
  "kernelspec": {
   "display_name": "Python 3",
   "language": "python",
   "name": "python3"
  },
  "language_info": {
   "codemirror_mode": {
    "name": "ipython",
    "version": 3
   },
   "file_extension": ".py",
   "mimetype": "text/x-python",
   "name": "python",
   "nbconvert_exporter": "python",
   "pygments_lexer": "ipython3",
   "version": "3.8.5"
  }
 },
 "nbformat": 4,
 "nbformat_minor": 4
}
