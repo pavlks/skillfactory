{
 "cells": [
  {
   "cell_type": "markdown",
   "metadata": {},
   "source": [
    "Допустим, у нас есть $n$ товаров с заданными стоимостями $v_i$ и массой $w_i$. В сумку убирается $С$ кг. Сколько какого товара взять, чтобы сумма всех стоимостей товаров была наибольшей?"
   ]
  },
  {
   "cell_type": "code",
   "execution_count": 5,
   "metadata": {},
   "outputs": [],
   "source": [
    "values = [4, 2, 1, 7, 3, 6]\n",
    "weights = [5, 9, 8, 2, 6, 5]\n",
    "C = 15\n",
    "n = 6"
   ]
  },
  {
   "cell_type": "markdown",
   "metadata": {},
   "source": [
    "Сформулируем задачу:\n",
    "$$\\max\\sum v_i x_i$$\n",
    "$$\\sum w_i x_i \\leq C $$"
   ]
  },
  {
   "cell_type": "markdown",
   "metadata": {},
   "source": [
    "Как должна выглядеть задача:\n",
    "$$\\min c^T x$$\n",
    "$$A x \\leq b $$"
   ]
  },
  {
   "cell_type": "markdown",
   "metadata": {},
   "source": [
    "Получается, что $c=-v$, $A=w^T$, $b=(C)$"
   ]
  },
  {
   "cell_type": "code",
   "execution_count": 6,
   "metadata": {},
   "outputs": [],
   "source": [
    "import numpy as np"
   ]
  },
  {
   "cell_type": "code",
   "execution_count": 7,
   "metadata": {},
   "outputs": [],
   "source": [
    "c = - np.array(values)\n",
    "A = np.array(weights)         #shape = (6,)\n",
    "A = np.expand_dims(A, 0)      #shape = (1,6)\n",
    "b = np.array([C])"
   ]
  },
  {
   "cell_type": "code",
   "execution_count": 8,
   "metadata": {},
   "outputs": [],
   "source": [
    "from scipy.optimize import linprog"
   ]
  },
  {
   "cell_type": "code",
   "execution_count": 9,
   "metadata": {},
   "outputs": [
    {
     "data": {
      "text/plain": [
       "     con: array([], dtype=float64)\n",
       "     fun: -52.50000000003077\n",
       " message: 'Optimization terminated successfully.'\n",
       "     nit: 5\n",
       "   slack: array([-2.2495783e-11])\n",
       "  status: 0\n",
       " success: True\n",
       "       x: array([6.18738532e-14, 1.05853306e-12, 1.21475943e-13, 7.50000000e+00,\n",
       "       4.00246692e-13, 4.71394162e-13])"
      ]
     },
     "execution_count": 9,
     "metadata": {},
     "output_type": "execute_result"
    }
   ],
   "source": [
    "linprog(c=c, A_ub=A, b_ub=b)"
   ]
  },
  {
   "cell_type": "code",
   "execution_count": 10,
   "metadata": {
    "scrolled": false
   },
   "outputs": [
    {
     "name": "stdout",
     "output_type": "stream",
     "text": [
      "Requirement already satisfied: cvxpy in /home/pavlk/APPS/anaconda3/lib/python3.8/site-packages (1.1.15)\r\n",
      "Requirement already satisfied: ecos>=2 in /home/pavlk/APPS/anaconda3/lib/python3.8/site-packages (from cvxpy) (2.0.7.post1)\r\n",
      "Requirement already satisfied: scs>=1.1.6 in /home/pavlk/APPS/anaconda3/lib/python3.8/site-packages (from cvxpy) (2.1.4)\r\n",
      "Requirement already satisfied: osqp>=0.4.1 in /home/pavlk/APPS/anaconda3/lib/python3.8/site-packages (from cvxpy) (0.6.2.post0)\r\n",
      "Requirement already satisfied: scipy>=1.1.0 in /home/pavlk/APPS/anaconda3/lib/python3.8/site-packages (from cvxpy) (1.6.2)\r\n",
      "Requirement already satisfied: numpy>=1.15 in /home/pavlk/APPS/anaconda3/lib/python3.8/site-packages (from cvxpy) (1.20.1)\r\n",
      "Requirement already satisfied: qdldl in /home/pavlk/APPS/anaconda3/lib/python3.8/site-packages (from osqp>=0.4.1->cvxpy) (0.1.5.post0)\r\n"
     ]
    }
   ],
   "source": [
    "!pip install cvxpy"
   ]
  },
  {
   "cell_type": "code",
   "execution_count": 11,
   "metadata": {},
   "outputs": [],
   "source": [
    "import cvxpy"
   ]
  },
  {
   "cell_type": "code",
   "execution_count": 23,
   "metadata": {},
   "outputs": [],
   "source": [
    "x = cvxpy.Variable(shape=n, integer = True)"
   ]
  },
  {
   "cell_type": "code",
   "execution_count": 24,
   "metadata": {},
   "outputs": [
    {
     "name": "stderr",
     "output_type": "stream",
     "text": [
      "/home/pavlk/APPS/anaconda3/lib/python3.8/site-packages/cvxpy/expressions/expression.py:556: UserWarning: \n",
      "This use of ``*`` has resulted in matrix multiplication.\n",
      "Using ``*`` for matrix multiplication has been deprecated since CVXPY 1.1.\n",
      "    Use ``*`` for matrix-scalar and vector-scalar multiplication.\n",
      "    Use ``@`` for matrix-matrix and matrix-vector multiplication.\n",
      "    Use ``multiply`` for elementwise multiplication.\n",
      "This code path has been hit 3 times so far.\n",
      "\n",
      "  warnings.warn(msg, UserWarning)\n"
     ]
    }
   ],
   "source": [
    "constraint = (A @ x <= b)\n",
    "total_value = c * x"
   ]
  },
  {
   "cell_type": "code",
   "execution_count": 25,
   "metadata": {},
   "outputs": [],
   "source": [
    "problem = cvxpy.Problem(cvxpy.Minimize(total_value), constraints=[constraint])"
   ]
  },
  {
   "cell_type": "code",
   "execution_count": 27,
   "metadata": {},
   "outputs": [
    {
     "data": {
      "text/plain": [
       "-138412039.00000018"
      ]
     },
     "execution_count": 27,
     "metadata": {},
     "output_type": "execute_result"
    }
   ],
   "source": [
    "problem.solve(solver='ECOS_BB')"
   ]
  },
  {
   "cell_type": "code",
   "execution_count": 28,
   "metadata": {},
   "outputs": [
    {
     "data": {
      "text/plain": [
       "array([ 8388608.00000001, -8388608.00000001, -8388608.00000001,\n",
       "        8388608.00000001,  6990509.00000001,  8388608.00000001])"
      ]
     },
     "execution_count": 28,
     "metadata": {},
     "output_type": "execute_result"
    }
   ],
   "source": [
    "x.value"
   ]
  },
  {
   "cell_type": "markdown",
   "metadata": {},
   "source": [
    "Теперь положительные $x$"
   ]
  },
  {
   "cell_type": "code",
   "execution_count": 30,
   "metadata": {},
   "outputs": [
    {
     "name": "stderr",
     "output_type": "stream",
     "text": [
      "/home/pavlk/APPS/anaconda3/lib/python3.8/site-packages/cvxpy/expressions/expression.py:556: UserWarning: \n",
      "This use of ``*`` has resulted in matrix multiplication.\n",
      "Using ``*`` for matrix multiplication has been deprecated since CVXPY 1.1.\n",
      "    Use ``*`` for matrix-scalar and vector-scalar multiplication.\n",
      "    Use ``@`` for matrix-matrix and matrix-vector multiplication.\n",
      "    Use ``multiply`` for elementwise multiplication.\n",
      "This code path has been hit 5 times so far.\n",
      "\n",
      "  warnings.warn(msg, UserWarning)\n",
      "/home/pavlk/APPS/anaconda3/lib/python3.8/site-packages/cvxpy/problems/problem.py:1278: UserWarning: Solution may be inaccurate. Try another solver, adjusting the solver settings, or solve with verbose=True for more information.\n",
      "  warnings.warn(\n"
     ]
    },
    {
     "data": {
      "text/plain": [
       "-49.00000001590603"
      ]
     },
     "execution_count": 30,
     "metadata": {},
     "output_type": "execute_result"
    }
   ],
   "source": [
    "x = cvxpy.Variable(shape=n, integer=True)\n",
    "constraint = (A @ x <= b)\n",
    "x_positive = (x >= 0)\n",
    "total_value = c * x\n",
    "problem = cvxpy.Problem(cvxpy.Minimize(total_value), constraints=[constraint, x_positive])\n",
    "problem.solve(solver='ECOS_BB')"
   ]
  },
  {
   "cell_type": "code",
   "execution_count": 32,
   "metadata": {},
   "outputs": [
    {
     "data": {
      "text/plain": [
       "array([7.01265807e-10, 7.99333027e-10, 3.58703130e-10, 7.00000000e+00,\n",
       "       4.67143021e-10, 9.34955115e-10])"
      ]
     },
     "execution_count": 32,
     "metadata": {},
     "output_type": "execute_result"
    }
   ],
   "source": [
    "x.value"
   ]
  },
  {
   "cell_type": "markdown",
   "metadata": {},
   "source": [
    "Теперь $x = 0$ или $1$"
   ]
  },
  {
   "cell_type": "code",
   "execution_count": 34,
   "metadata": {},
   "outputs": [
    {
     "name": "stderr",
     "output_type": "stream",
     "text": [
      "/home/pavlk/APPS/anaconda3/lib/python3.8/site-packages/cvxpy/expressions/expression.py:556: UserWarning: \n",
      "This use of ``*`` has resulted in matrix multiplication.\n",
      "Using ``*`` for matrix multiplication has been deprecated since CVXPY 1.1.\n",
      "    Use ``*`` for matrix-scalar and vector-scalar multiplication.\n",
      "    Use ``@`` for matrix-matrix and matrix-vector multiplication.\n",
      "    Use ``multiply`` for elementwise multiplication.\n",
      "This code path has been hit 7 times so far.\n",
      "\n",
      "  warnings.warn(msg, UserWarning)\n"
     ]
    },
    {
     "data": {
      "text/plain": [
       "-17.00000000382157"
      ]
     },
     "execution_count": 34,
     "metadata": {},
     "output_type": "execute_result"
    }
   ],
   "source": [
    "x = cvxpy.Variable(shape=n, boolean=True)\n",
    "constraint = A @ x <= b\n",
    "x_positive = x >= 0\n",
    "total_value = c * x\n",
    "problem = cvxpy.Problem(cvxpy.Minimize(total_value), constraints=[constraint, x_positive])\n",
    "problem.solve(solver='ECOS_BB')"
   ]
  },
  {
   "cell_type": "code",
   "execution_count": 35,
   "metadata": {},
   "outputs": [
    {
     "data": {
      "text/plain": [
       "array([1.00000000e+00, 2.25474413e-10, 2.07396078e-10, 1.00000000e+00,\n",
       "       2.24003299e-10, 1.00000000e+00])"
      ]
     },
     "execution_count": 35,
     "metadata": {},
     "output_type": "execute_result"
    }
   ],
   "source": [
    "x.value"
   ]
  },
  {
   "cell_type": "markdown",
   "metadata": {},
   "source": [
    "# Problem 5.1"
   ]
  },
  {
   "cell_type": "code",
   "execution_count": 88,
   "metadata": {},
   "outputs": [],
   "source": [
    "import cvxpy\n",
    "import numpy as np\n",
    "from scipy.optimize import linprog"
   ]
  },
  {
   "cell_type": "markdown",
   "metadata": {},
   "source": [
    "Допустим, у нас есть $n$ товаров с заданными стоимостями $v_i$ и массой $w_i$. В сумку убирается $С$ кг. Сколько какого товара взять, чтобы сумма всех стоимостей товаров была наибольшей?"
   ]
  },
  {
   "cell_type": "markdown",
   "metadata": {},
   "source": [
    "Как должна выглядеть задача:\n",
    "$$\\min c^T x$$\n",
    "$$A x \\leq b $$"
   ]
  },
  {
   "cell_type": "markdown",
   "metadata": {},
   "source": [
    "Получается, что $c=-v$, $A=w^T$, $b=(C)$"
   ]
  },
  {
   "cell_type": "code",
   "execution_count": 135,
   "metadata": {},
   "outputs": [],
   "source": [
    "c = np.array([[2, 5, 3], [7, 7, 6]])"
   ]
  },
  {
   "cell_type": "code",
   "execution_count": 136,
   "metadata": {},
   "outputs": [],
   "source": [
    "x = cvxpy.Variable(shape=(2, 3), integer=True)"
   ]
  },
  {
   "cell_type": "code",
   "execution_count": 137,
   "metadata": {},
   "outputs": [
    {
     "data": {
      "text/plain": [
       "1900.0000000102357"
      ]
     },
     "execution_count": 137,
     "metadata": {},
     "output_type": "execute_result"
    }
   ],
   "source": [
    "constraint = [cvxpy.sum(x[0]) <= 180, \n",
    "              cvxpy.sum(x[1]) <= 220, \n",
    "              cvxpy.sum(x[:, 0]) == 110, \n",
    "              cvxpy.sum(x[:, 1]) == 150, \n",
    "              cvxpy.sum(x[:, 2]) == 140, \n",
    "              x >= 0]\n",
    "\n",
    "total_value = cvxpy.sum(cvxpy.multiply(c, x))\n",
    "\n",
    "problem = cvxpy.Problem(cvxpy.Minimize(total_value), constraints=constraint)\n",
    "problem.solve(solver='ECOS_BB')"
   ]
  },
  {
   "cell_type": "code",
   "execution_count": 139,
   "metadata": {},
   "outputs": [
    {
     "name": "stdout",
     "output_type": "stream",
     "text": [
      "[110, 0, 70]\n",
      "[0, 150, 70]\n"
     ]
    }
   ],
   "source": [
    "for a in x.value:\n",
    "    print([round(n) for n in a])"
   ]
  },
  {
   "cell_type": "markdown",
   "metadata": {},
   "source": [
    "# 5.2"
   ]
  },
  {
   "cell_type": "code",
   "execution_count": 165,
   "metadata": {},
   "outputs": [],
   "source": [
    "x = cvxpy.Variable(shape=(5,5), boolean=True)\n",
    "c = np.array([[1000,12,10,19,8],\n",
    "            [12,1000,3,7,2],\n",
    "            [10,3,1000,6,20],\n",
    "            [19,7,6,1000,4],\n",
    "            [8,2,20,4,1000]])\n",
    "constraint = [cvxpy.sum(x[0]) == 1,\n",
    "             cvxpy.sum(x[1]) == 1,\n",
    "             cvxpy.sum(x[2]) == 1,\n",
    "             cvxpy.sum(x[3]) == 1,\n",
    "             cvxpy.sum(x[4]) == 1,\n",
    "             cvxpy.sum(x[:, 0]) == 1,\n",
    "             cvxpy.sum(x[:, 1]) == 1,\n",
    "             cvxpy.sum(x[:, 2]) == 1,\n",
    "             cvxpy.sum(x[:, 3]) == 1,\n",
    "             cvxpy.sum(x[:, 4]) == 1,\n",
    "             ]\n",
    "\n",
    "total_value = cvxpy.sum(cvxpy.multiply(c, x))"
   ]
  },
  {
   "cell_type": "code",
   "execution_count": 166,
   "metadata": {},
   "outputs": [],
   "source": [
    "problem = cvxpy.Problem(cvxpy.Minimize(total_value), constraints=constraint)"
   ]
  },
  {
   "cell_type": "code",
   "execution_count": 167,
   "metadata": {},
   "outputs": [
    {
     "data": {
      "text/plain": [
       "31.999999999961712"
      ]
     },
     "execution_count": 167,
     "metadata": {},
     "output_type": "execute_result"
    }
   ],
   "source": [
    "problem.solve(solver='ECOS_BB')"
   ]
  },
  {
   "cell_type": "code",
   "execution_count": 168,
   "metadata": {},
   "outputs": [
    {
     "name": "stdout",
     "output_type": "stream",
     "text": [
      "[0, 0, 0, 0, 1]\n",
      "[0, 0, 0, 1, 0]\n",
      "[0, 1, 0, 0, 0]\n",
      "[0, 0, 1, 0, 0]\n",
      "[1, 0, 0, 0, 0]\n"
     ]
    }
   ],
   "source": [
    "for a in x.value:\n",
    "    print([round(n) for n in a])"
   ]
  },
  {
   "cell_type": "markdown",
   "metadata": {},
   "source": [
    "# 5.3"
   ]
  },
  {
   "cell_type": "code",
   "execution_count": 169,
   "metadata": {},
   "outputs": [],
   "source": [
    "x = cvxpy.Variable(shape=(5,5), boolean=True)\n",
    "c = np.array([[1000,12,10,19,8],\n",
    "            [12,1000,3,7,2],\n",
    "            [10,3,1000,6,20],\n",
    "            [19,7,6,1000,4],\n",
    "            [8,2,20,4,1000]])\n",
    "constraint = [cvxpy.sum(x[0]) == 1,\n",
    "             cvxpy.sum(x[1]) == 1,\n",
    "             cvxpy.sum(x[2]) == 1,\n",
    "             cvxpy.sum(x[3]) == 1,\n",
    "             cvxpy.sum(x[4]) == 1,\n",
    "             cvxpy.sum(x[:, 0]) == 1,\n",
    "             cvxpy.sum(x[:, 1]) == 1,\n",
    "             cvxpy.sum(x[:, 2]) == 1,\n",
    "             cvxpy.sum(x[:, 3]) == 1,\n",
    "             cvxpy.sum(x[:, 4]) == 1,\n",
    "             ]\n",
    "\n",
    "total_value = cvxpy.sum(cvxpy.multiply(c, x))"
   ]
  },
  {
   "cell_type": "code",
   "execution_count": 172,
   "metadata": {},
   "outputs": [
    {
     "data": {
      "text/plain": [
       "31.999999999961712"
      ]
     },
     "execution_count": 172,
     "metadata": {},
     "output_type": "execute_result"
    }
   ],
   "source": [
    "problem = cvxpy.Problem(cvxpy.Minimize(total_value), constraints=constraint)\n",
    "problem.solve(solver='ECOS_BB')"
   ]
  },
  {
   "cell_type": "code",
   "execution_count": 174,
   "metadata": {},
   "outputs": [
    {
     "name": "stdout",
     "output_type": "stream",
     "text": [
      "[0, 0, 0, 0, 1]\n",
      "[0, 0, 0, 1, 0]\n",
      "[0, 1, 0, 0, 0]\n",
      "[0, 0, 1, 0, 0]\n",
      "[1, 0, 0, 0, 0]\n"
     ]
    }
   ],
   "source": [
    "for a in x.value:\n",
    "    print([round(n) for n in a])"
   ]
  },
  {
   "cell_type": "markdown",
   "metadata": {},
   "source": [
    "Задача оказалась на математическом языке идентична предыдущей 5.2!"
   ]
  }
 ],
 "metadata": {
  "kernelspec": {
   "display_name": "Python 3",
   "language": "python",
   "name": "python3"
  },
  "language_info": {
   "codemirror_mode": {
    "name": "ipython",
    "version": 3
   },
   "file_extension": ".py",
   "mimetype": "text/x-python",
   "name": "python",
   "nbconvert_exporter": "python",
   "pygments_lexer": "ipython3",
   "version": "3.8.8"
  }
 },
 "nbformat": 4,
 "nbformat_minor": 2
}
