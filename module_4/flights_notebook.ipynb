{
 "cells": [
  {
   "cell_type": "markdown",
   "metadata": {},
   "source": [
    "# Анализ дата сета из базы самолётов"
   ]
  },
  {
   "cell_type": "markdown",
   "metadata": {},
   "source": [
    "### Импортируем библиотеки, сами данные и даём заголовки колонкам"
   ]
  },
  {
   "cell_type": "code",
   "execution_count": 1,
   "metadata": {},
   "outputs": [
    {
     "data": {
      "text/html": [
       "<div>\n",
       "<style scoped>\n",
       "    .dataframe tbody tr th:only-of-type {\n",
       "        vertical-align: middle;\n",
       "    }\n",
       "\n",
       "    .dataframe tbody tr th {\n",
       "        vertical-align: top;\n",
       "    }\n",
       "\n",
       "    .dataframe thead th {\n",
       "        text-align: right;\n",
       "    }\n",
       "</style>\n",
       "<table border=\"1\" class=\"dataframe\">\n",
       "  <thead>\n",
       "    <tr style=\"text-align: right;\">\n",
       "      <th></th>\n",
       "      <th>flight_id</th>\n",
       "      <th>origin</th>\n",
       "      <th>destination</th>\n",
       "      <th>duration</th>\n",
       "      <th>aircraft_model</th>\n",
       "      <th>total_passengers</th>\n",
       "      <th>total_seats</th>\n",
       "      <th>fuel_expence</th>\n",
       "      <th>tickets_total_cost</th>\n",
       "      <th>income</th>\n",
       "      <th>departure_date</th>\n",
       "      <th>price_per_km</th>\n",
       "    </tr>\n",
       "  </thead>\n",
       "  <tbody>\n",
       "    <tr>\n",
       "      <th>0</th>\n",
       "      <td>136560</td>\n",
       "      <td>Anapa</td>\n",
       "      <td>Novokuznetsk</td>\n",
       "      <td>305</td>\n",
       "      <td>Boeing 737-300</td>\n",
       "      <td>0</td>\n",
       "      <td>130</td>\n",
       "      <td>10615.0</td>\n",
       "      <td>NaN</td>\n",
       "      <td>NaN</td>\n",
       "      <td>2017-01-24</td>\n",
       "      <td>NaN</td>\n",
       "    </tr>\n",
       "    <tr>\n",
       "      <th>1</th>\n",
       "      <td>136511</td>\n",
       "      <td>Anapa</td>\n",
       "      <td>Novokuznetsk</td>\n",
       "      <td>310</td>\n",
       "      <td>Boeing 737-300</td>\n",
       "      <td>0</td>\n",
       "      <td>130</td>\n",
       "      <td>21225.0</td>\n",
       "      <td>NaN</td>\n",
       "      <td>NaN</td>\n",
       "      <td>2017-02-21</td>\n",
       "      <td>NaN</td>\n",
       "    </tr>\n",
       "    <tr>\n",
       "      <th>2</th>\n",
       "      <td>136514</td>\n",
       "      <td>Anapa</td>\n",
       "      <td>Novokuznetsk</td>\n",
       "      <td>299</td>\n",
       "      <td>Boeing 737-300</td>\n",
       "      <td>0</td>\n",
       "      <td>130</td>\n",
       "      <td>125202.0</td>\n",
       "      <td>NaN</td>\n",
       "      <td>NaN</td>\n",
       "      <td>2017-02-07</td>\n",
       "      <td>NaN</td>\n",
       "    </tr>\n",
       "    <tr>\n",
       "      <th>3</th>\n",
       "      <td>136518</td>\n",
       "      <td>Anapa</td>\n",
       "      <td>Novokuznetsk</td>\n",
       "      <td>304</td>\n",
       "      <td>Boeing 737-300</td>\n",
       "      <td>0</td>\n",
       "      <td>130</td>\n",
       "      <td>8493.0</td>\n",
       "      <td>NaN</td>\n",
       "      <td>NaN</td>\n",
       "      <td>2016-12-20</td>\n",
       "      <td>NaN</td>\n",
       "    </tr>\n",
       "    <tr>\n",
       "      <th>4</th>\n",
       "      <td>136523</td>\n",
       "      <td>Anapa</td>\n",
       "      <td>Novokuznetsk</td>\n",
       "      <td>312</td>\n",
       "      <td>Boeing 737-300</td>\n",
       "      <td>0</td>\n",
       "      <td>130</td>\n",
       "      <td>25469.0</td>\n",
       "      <td>NaN</td>\n",
       "      <td>NaN</td>\n",
       "      <td>2017-01-10</td>\n",
       "      <td>NaN</td>\n",
       "    </tr>\n",
       "  </tbody>\n",
       "</table>\n",
       "</div>"
      ],
      "text/plain": [
       "   flight_id origin   destination  duration  aircraft_model  total_passengers  \\\n",
       "0     136560  Anapa  Novokuznetsk       305  Boeing 737-300                 0   \n",
       "1     136511  Anapa  Novokuznetsk       310  Boeing 737-300                 0   \n",
       "2     136514  Anapa  Novokuznetsk       299  Boeing 737-300                 0   \n",
       "3     136518  Anapa  Novokuznetsk       304  Boeing 737-300                 0   \n",
       "4     136523  Anapa  Novokuznetsk       312  Boeing 737-300                 0   \n",
       "\n",
       "   total_seats  fuel_expence  tickets_total_cost  income departure_date  \\\n",
       "0          130       10615.0                 NaN     NaN     2017-01-24   \n",
       "1          130       21225.0                 NaN     NaN     2017-02-21   \n",
       "2          130      125202.0                 NaN     NaN     2017-02-07   \n",
       "3          130        8493.0                 NaN     NaN     2016-12-20   \n",
       "4          130       25469.0                 NaN     NaN     2017-01-10   \n",
       "\n",
       "   price_per_km  \n",
       "0           NaN  \n",
       "1           NaN  \n",
       "2           NaN  \n",
       "3           NaN  \n",
       "4           NaN  "
      ]
     },
     "execution_count": 1,
     "metadata": {},
     "output_type": "execute_result"
    }
   ],
   "source": [
    "import pandas as pd\n",
    "import numpy as np\n",
    "import datetime\n",
    "\n",
    "\n",
    "columns=['flight_id', 'origin', 'destination', 'duration', 'aircraft_model', 'total_passengers', 'total_seats', 'fuel_expence', 'tickets_total_cost', 'income', 'departure_date', 'price_per_km']\n",
    "data = pd.read_csv('flights.csv', names=columns)\n",
    "\n",
    "\n",
    "data.head()"
   ]
  },
  {
   "cell_type": "markdown",
   "metadata": {},
   "source": [
    "Напомню, что колонка \"price_per_km\" представляет собой отношение прибыли на каждый пролетевший километр. Придуманный мной косвенный показатель прибыльности рейса. "
   ]
  },
  {
   "cell_type": "markdown",
   "metadata": {},
   "source": [
    "### Посмотрим информацию по данным"
   ]
  },
  {
   "cell_type": "code",
   "execution_count": 2,
   "metadata": {},
   "outputs": [
    {
     "name": "stdout",
     "output_type": "stream",
     "text": [
      "<class 'pandas.core.frame.DataFrame'>\n",
      "RangeIndex: 193 entries, 0 to 192\n",
      "Data columns (total 12 columns):\n",
      " #   Column              Non-Null Count  Dtype  \n",
      "---  ------              --------------  -----  \n",
      " 0   flight_id           193 non-null    int64  \n",
      " 1   origin              193 non-null    object \n",
      " 2   destination         193 non-null    object \n",
      " 3   duration            193 non-null    int64  \n",
      " 4   aircraft_model      193 non-null    object \n",
      " 5   total_passengers    193 non-null    int64  \n",
      " 6   total_seats         193 non-null    int64  \n",
      " 7   fuel_expence        193 non-null    float64\n",
      " 8   tickets_total_cost  180 non-null    float64\n",
      " 9   income              180 non-null    float64\n",
      " 10  departure_date      193 non-null    object \n",
      " 11  price_per_km        180 non-null    float64\n",
      "dtypes: float64(4), int64(4), object(4)\n",
      "memory usage: 18.2+ KB\n"
     ]
    }
   ],
   "source": [
    "data.info()"
   ]
  },
  {
   "cell_type": "code",
   "execution_count": 3,
   "metadata": {},
   "outputs": [
    {
     "data": {
      "text/html": [
       "<div>\n",
       "<style scoped>\n",
       "    .dataframe tbody tr th:only-of-type {\n",
       "        vertical-align: middle;\n",
       "    }\n",
       "\n",
       "    .dataframe tbody tr th {\n",
       "        vertical-align: top;\n",
       "    }\n",
       "\n",
       "    .dataframe thead th {\n",
       "        text-align: right;\n",
       "    }\n",
       "</style>\n",
       "<table border=\"1\" class=\"dataframe\">\n",
       "  <thead>\n",
       "    <tr style=\"text-align: right;\">\n",
       "      <th></th>\n",
       "      <th>flight_id</th>\n",
       "      <th>duration</th>\n",
       "      <th>total_passengers</th>\n",
       "      <th>total_seats</th>\n",
       "      <th>fuel_expence</th>\n",
       "      <th>tickets_total_cost</th>\n",
       "      <th>income</th>\n",
       "      <th>price_per_km</th>\n",
       "    </tr>\n",
       "  </thead>\n",
       "  <tbody>\n",
       "    <tr>\n",
       "      <th>count</th>\n",
       "      <td>193.000000</td>\n",
       "      <td>193.000000</td>\n",
       "      <td>193.000000</td>\n",
       "      <td>193.000000</td>\n",
       "      <td>193.000000</td>\n",
       "      <td>1.800000e+02</td>\n",
       "      <td>1.800000e+02</td>\n",
       "      <td>180.000000</td>\n",
       "    </tr>\n",
       "    <tr>\n",
       "      <th>mean</th>\n",
       "      <td>136540.466321</td>\n",
       "      <td>90.538860</td>\n",
       "      <td>95.082902</td>\n",
       "      <td>114.611399</td>\n",
       "      <td>76098.228411</td>\n",
       "      <td>1.179647e+06</td>\n",
       "      <td>1.099657e+06</td>\n",
       "      <td>1146.113304</td>\n",
       "    </tr>\n",
       "    <tr>\n",
       "      <th>std</th>\n",
       "      <td>249.389171</td>\n",
       "      <td>62.864684</td>\n",
       "      <td>29.159643</td>\n",
       "      <td>16.505342</td>\n",
       "      <td>17267.354429</td>\n",
       "      <td>4.811836e+05</td>\n",
       "      <td>4.765547e+05</td>\n",
       "      <td>171.577073</td>\n",
       "    </tr>\n",
       "    <tr>\n",
       "      <th>min</th>\n",
       "      <td>136119.000000</td>\n",
       "      <td>49.000000</td>\n",
       "      <td>0.000000</td>\n",
       "      <td>97.000000</td>\n",
       "      <td>4249.000000</td>\n",
       "      <td>5.310000e+05</td>\n",
       "      <td>4.558458e+05</td>\n",
       "      <td>723.725006</td>\n",
       "    </tr>\n",
       "    <tr>\n",
       "      <th>25%</th>\n",
       "      <td>136320.000000</td>\n",
       "      <td>50.000000</td>\n",
       "      <td>90.000000</td>\n",
       "      <td>97.000000</td>\n",
       "      <td>75154.166667</td>\n",
       "      <td>7.385250e+05</td>\n",
       "      <td>6.633708e+05</td>\n",
       "      <td>1053.015401</td>\n",
       "    </tr>\n",
       "    <tr>\n",
       "      <th>50%</th>\n",
       "      <td>136534.000000</td>\n",
       "      <td>99.000000</td>\n",
       "      <td>97.000000</td>\n",
       "      <td>130.000000</td>\n",
       "      <td>76657.250000</td>\n",
       "      <td>1.068850e+06</td>\n",
       "      <td>9.895840e+05</td>\n",
       "      <td>1095.712104</td>\n",
       "    </tr>\n",
       "    <tr>\n",
       "      <th>75%</th>\n",
       "      <td>136768.000000</td>\n",
       "      <td>100.000000</td>\n",
       "      <td>110.000000</td>\n",
       "      <td>130.000000</td>\n",
       "      <td>84881.000000</td>\n",
       "      <td>1.631950e+06</td>\n",
       "      <td>1.548660e+06</td>\n",
       "      <td>1269.526260</td>\n",
       "    </tr>\n",
       "    <tr>\n",
       "      <th>max</th>\n",
       "      <td>136961.000000</td>\n",
       "      <td>312.000000</td>\n",
       "      <td>130.000000</td>\n",
       "      <td>130.000000</td>\n",
       "      <td>125202.000000</td>\n",
       "      <td>1.886000e+06</td>\n",
       "      <td>1.805363e+06</td>\n",
       "      <td>1479.960093</td>\n",
       "    </tr>\n",
       "  </tbody>\n",
       "</table>\n",
       "</div>"
      ],
      "text/plain": [
       "           flight_id    duration  total_passengers  total_seats  \\\n",
       "count     193.000000  193.000000        193.000000   193.000000   \n",
       "mean   136540.466321   90.538860         95.082902   114.611399   \n",
       "std       249.389171   62.864684         29.159643    16.505342   \n",
       "min    136119.000000   49.000000          0.000000    97.000000   \n",
       "25%    136320.000000   50.000000         90.000000    97.000000   \n",
       "50%    136534.000000   99.000000         97.000000   130.000000   \n",
       "75%    136768.000000  100.000000        110.000000   130.000000   \n",
       "max    136961.000000  312.000000        130.000000   130.000000   \n",
       "\n",
       "        fuel_expence  tickets_total_cost        income  price_per_km  \n",
       "count     193.000000        1.800000e+02  1.800000e+02    180.000000  \n",
       "mean    76098.228411        1.179647e+06  1.099657e+06   1146.113304  \n",
       "std     17267.354429        4.811836e+05  4.765547e+05    171.577073  \n",
       "min      4249.000000        5.310000e+05  4.558458e+05    723.725006  \n",
       "25%     75154.166667        7.385250e+05  6.633708e+05   1053.015401  \n",
       "50%     76657.250000        1.068850e+06  9.895840e+05   1095.712104  \n",
       "75%     84881.000000        1.631950e+06  1.548660e+06   1269.526260  \n",
       "max    125202.000000        1.886000e+06  1.805363e+06   1479.960093  "
      ]
     },
     "execution_count": 3,
     "metadata": {},
     "output_type": "execute_result"
    }
   ],
   "source": [
    "data.describe()"
   ]
  },
  {
   "cell_type": "markdown",
   "metadata": {},
   "source": [
    "### В нашем наборе есть 13 рейсов в город Новокузнецк, которые не состоялись -- удалим их из набора."
   ]
  },
  {
   "cell_type": "code",
   "execution_count": 4,
   "metadata": {},
   "outputs": [],
   "source": [
    "data.dropna(axis=0, subset=['income'], inplace=True)"
   ]
  },
  {
   "cell_type": "markdown",
   "metadata": {},
   "source": [
    "## Начнём по разным признакам собирать \"худшие\" рейсы за зиму."
   ]
  },
  {
   "cell_type": "markdown",
   "metadata": {},
   "source": [
    "Сделаем список десяти худших рейсов по показателю \"price_per_km\" (отношение прибыли к кол-ву пролетевших километров)."
   ]
  },
  {
   "cell_type": "code",
   "execution_count": 5,
   "metadata": {},
   "outputs": [],
   "source": [
    "list0 = list(data.sort_values(by='price_per_km').head(10).flight_id)"
   ]
  },
  {
   "cell_type": "markdown",
   "metadata": {},
   "source": [
    "### Добавим колонку с процентом занятых мест в самолёте."
   ]
  },
  {
   "cell_type": "code",
   "execution_count": 6,
   "metadata": {},
   "outputs": [],
   "source": [
    "data['occupation_rate'] = data.total_passengers / data.total_seats"
   ]
  },
  {
   "cell_type": "markdown",
   "metadata": {},
   "source": [
    "### Добавим колонку с отношением прибыли к кол-ву пассажиров."
   ]
  },
  {
   "cell_type": "code",
   "execution_count": 7,
   "metadata": {},
   "outputs": [],
   "source": [
    "data['income_per_passenger'] = data.income / data.total_passengers"
   ]
  },
  {
   "cell_type": "markdown",
   "metadata": {},
   "source": [
    "Сделаем список десяти худших рейсов по показателю \"income_per_passenger\"."
   ]
  },
  {
   "cell_type": "code",
   "execution_count": 8,
   "metadata": {},
   "outputs": [],
   "source": [
    "list1 = list(data[['flight_id', 'income_per_passenger', 'departure_date']].sort_values(by='income_per_passenger').head(10).flight_id)"
   ]
  },
  {
   "cell_type": "markdown",
   "metadata": {},
   "source": [
    "### Добавим колонку с отношением затрат на топливо к общей выручке."
   ]
  },
  {
   "cell_type": "markdown",
   "metadata": {},
   "source": [
    "Чем больше -- тем, соответственно, хуже."
   ]
  },
  {
   "cell_type": "code",
   "execution_count": 9,
   "metadata": {},
   "outputs": [],
   "source": [
    "data['income_rate'] = data.fuel_expence / data.tickets_total_cost"
   ]
  },
  {
   "cell_type": "markdown",
   "metadata": {},
   "source": [
    "Сделаем список десяти худших рейсов по показателю \"income_rate\"."
   ]
  },
  {
   "cell_type": "code",
   "execution_count": 10,
   "metadata": {},
   "outputs": [],
   "source": [
    "list2 = list(data[['flight_id', 'income_rate', 'departure_date']].sort_values(by='income_rate', ascending=False).head(10).flight_id)"
   ]
  },
  {
   "cell_type": "markdown",
   "metadata": {},
   "source": [
    "Добавим колонку с днем недели для анализа полученных результатов (1 - Понедельник, ... , 7 - Воскресенье)"
   ]
  },
  {
   "cell_type": "code",
   "execution_count": 11,
   "metadata": {},
   "outputs": [],
   "source": [
    "data['day_of_week'] = data.departure_date.apply(lambda x: datetime.date.fromisoformat(x).isoweekday())"
   ]
  },
  {
   "cell_type": "markdown",
   "metadata": {},
   "source": [
    "### Теперь посмотрим, какие рейсы появляются во всех трёх списках."
   ]
  },
  {
   "cell_type": "code",
   "execution_count": 12,
   "metadata": {},
   "outputs": [],
   "source": [
    "cancel = set(list0).intersection(set(list1)).intersection(set(list2))"
   ]
  },
  {
   "cell_type": "code",
   "execution_count": 13,
   "metadata": {},
   "outputs": [
    {
     "data": {
      "text/html": [
       "<div>\n",
       "<style scoped>\n",
       "    .dataframe tbody tr th:only-of-type {\n",
       "        vertical-align: middle;\n",
       "    }\n",
       "\n",
       "    .dataframe tbody tr th {\n",
       "        vertical-align: top;\n",
       "    }\n",
       "\n",
       "    .dataframe thead th {\n",
       "        text-align: right;\n",
       "    }\n",
       "</style>\n",
       "<table border=\"1\" class=\"dataframe\">\n",
       "  <thead>\n",
       "    <tr style=\"text-align: right;\">\n",
       "      <th></th>\n",
       "      <th>flight_id</th>\n",
       "      <th>origin</th>\n",
       "      <th>destination</th>\n",
       "      <th>duration</th>\n",
       "      <th>aircraft_model</th>\n",
       "      <th>total_passengers</th>\n",
       "      <th>total_seats</th>\n",
       "      <th>fuel_expence</th>\n",
       "      <th>tickets_total_cost</th>\n",
       "      <th>income</th>\n",
       "      <th>departure_date</th>\n",
       "      <th>price_per_km</th>\n",
       "      <th>occupation_rate</th>\n",
       "      <th>income_per_passenger</th>\n",
       "      <th>income_rate</th>\n",
       "      <th>day_of_week</th>\n",
       "    </tr>\n",
       "  </thead>\n",
       "  <tbody>\n",
       "    <tr>\n",
       "      <th>14</th>\n",
       "      <td>136807</td>\n",
       "      <td>Anapa</td>\n",
       "      <td>Belgorod</td>\n",
       "      <td>50</td>\n",
       "      <td>Sukhoi Superjet-100</td>\n",
       "      <td>68</td>\n",
       "      <td>97</td>\n",
       "      <td>75154.166667</td>\n",
       "      <td>531000.0</td>\n",
       "      <td>455845.833333</td>\n",
       "      <td>2017-02-23</td>\n",
       "      <td>723.725006</td>\n",
       "      <td>0.701031</td>\n",
       "      <td>6703.615196</td>\n",
       "      <td>0.141533</td>\n",
       "      <td>4</td>\n",
       "    </tr>\n",
       "    <tr>\n",
       "      <th>16</th>\n",
       "      <td>136887</td>\n",
       "      <td>Anapa</td>\n",
       "      <td>Belgorod</td>\n",
       "      <td>49</td>\n",
       "      <td>Sukhoi Superjet-100</td>\n",
       "      <td>78</td>\n",
       "      <td>97</td>\n",
       "      <td>73651.083333</td>\n",
       "      <td>595200.0</td>\n",
       "      <td>521548.916667</td>\n",
       "      <td>2017-01-20</td>\n",
       "      <td>828.038703</td>\n",
       "      <td>0.804124</td>\n",
       "      <td>6686.524573</td>\n",
       "      <td>0.123742</td>\n",
       "      <td>5</td>\n",
       "    </tr>\n",
       "    <tr>\n",
       "      <th>19</th>\n",
       "      <td>136844</td>\n",
       "      <td>Anapa</td>\n",
       "      <td>Belgorod</td>\n",
       "      <td>50</td>\n",
       "      <td>Sukhoi Superjet-100</td>\n",
       "      <td>79</td>\n",
       "      <td>97</td>\n",
       "      <td>75154.166667</td>\n",
       "      <td>575100.0</td>\n",
       "      <td>499945.833333</td>\n",
       "      <td>2017-02-28</td>\n",
       "      <td>793.740503</td>\n",
       "      <td>0.814433</td>\n",
       "      <td>6328.428270</td>\n",
       "      <td>0.130680</td>\n",
       "      <td>2</td>\n",
       "    </tr>\n",
       "    <tr>\n",
       "      <th>23</th>\n",
       "      <td>136937</td>\n",
       "      <td>Anapa</td>\n",
       "      <td>Belgorod</td>\n",
       "      <td>50</td>\n",
       "      <td>Sukhoi Superjet-100</td>\n",
       "      <td>81</td>\n",
       "      <td>97</td>\n",
       "      <td>75154.166667</td>\n",
       "      <td>626100.0</td>\n",
       "      <td>550945.833333</td>\n",
       "      <td>2017-01-03</td>\n",
       "      <td>874.710806</td>\n",
       "      <td>0.835052</td>\n",
       "      <td>6801.800412</td>\n",
       "      <td>0.120035</td>\n",
       "      <td>2</td>\n",
       "    </tr>\n",
       "  </tbody>\n",
       "</table>\n",
       "</div>"
      ],
      "text/plain": [
       "    flight_id origin destination  duration       aircraft_model  \\\n",
       "14     136807  Anapa    Belgorod        50  Sukhoi Superjet-100   \n",
       "16     136887  Anapa    Belgorod        49  Sukhoi Superjet-100   \n",
       "19     136844  Anapa    Belgorod        50  Sukhoi Superjet-100   \n",
       "23     136937  Anapa    Belgorod        50  Sukhoi Superjet-100   \n",
       "\n",
       "    total_passengers  total_seats  fuel_expence  tickets_total_cost  \\\n",
       "14                68           97  75154.166667            531000.0   \n",
       "16                78           97  73651.083333            595200.0   \n",
       "19                79           97  75154.166667            575100.0   \n",
       "23                81           97  75154.166667            626100.0   \n",
       "\n",
       "           income departure_date  price_per_km  occupation_rate  \\\n",
       "14  455845.833333     2017-02-23    723.725006         0.701031   \n",
       "16  521548.916667     2017-01-20    828.038703         0.804124   \n",
       "19  499945.833333     2017-02-28    793.740503         0.814433   \n",
       "23  550945.833333     2017-01-03    874.710806         0.835052   \n",
       "\n",
       "    income_per_passenger  income_rate  day_of_week  \n",
       "14           6703.615196     0.141533            4  \n",
       "16           6686.524573     0.123742            5  \n",
       "19           6328.428270     0.130680            2  \n",
       "23           6801.800412     0.120035            2  "
      ]
     },
     "execution_count": 13,
     "metadata": {},
     "output_type": "execute_result"
    }
   ],
   "source": [
    "data.loc[data.flight_id.isin(cancel)]"
   ]
  },
  {
   "cell_type": "code",
   "execution_count": 15,
   "metadata": {},
   "outputs": [
    {
     "data": {
      "text/plain": [
       "1099656.6550925928"
      ]
     },
     "execution_count": 15,
     "metadata": {},
     "output_type": "execute_result"
    }
   ],
   "source": [
    "data.income.mean()"
   ]
  },
  {
   "cell_type": "markdown",
   "metadata": {},
   "source": [
    "# Вывод"
   ]
  },
  {
   "cell_type": "markdown",
   "metadata": {},
   "source": [
    "Проведя анализ рейсов из Анапы за зиму 2016-2017 года я могу выделить 3 рейса, которые показали себя с наименее выгодной стороны. ID этих рейсов ```136807, 136887, 136844```.\n",
    "\n",
    "Эти рейсы получились наименее выгодные по трём критериям: \n",
    "1.\tprice_per_km\" (отношение прибыли к кол-ву пролетевших километров)\n",
    "2.\tincome_per_passenger (доход в пересчёте на голову пассажира)\n",
    "3.\tincome_rate (показатель затрат на топливо к общей выручке)\n",
    "\n",
    "Можно также заметить, что один из этих рейсов приходится на праздник 23 февраля, другой – это последние день месяца февраля (канун 1-го марта). А дату 3-го рейса, 20 января, можно объяснить как первая пятница после праздников, когда все уже давно вернулись домой и погрузились в работу.\n",
    "\n",
    "Хочется подчеркнуть, что доходность этих рейсов 455846 руб., 521549 руб., 499946 руб. соответственно, при средней доходности всех рейсов в 1 099 657 рублей."
   ]
  },
  {
   "cell_type": "code",
   "execution_count": null,
   "metadata": {},
   "outputs": [],
   "source": []
  }
 ],
 "metadata": {
  "kernelspec": {
   "display_name": "Python 3",
   "language": "python",
   "name": "python3"
  },
  "language_info": {
   "codemirror_mode": {
    "name": "ipython",
    "version": 3
   },
   "file_extension": ".py",
   "mimetype": "text/x-python",
   "name": "python",
   "nbconvert_exporter": "python",
   "pygments_lexer": "ipython3",
   "version": "3.8.5"
  }
 },
 "nbformat": 4,
 "nbformat_minor": 4
}
