{
 "cells": [
  {
   "cell_type": "markdown",
   "id": "685f28f0",
   "metadata": {},
   "source": [
    "Определите функцию check_server, которая принимает на вход переменную mode.\n",
    "\n",
    "    Если mode имеет значение \"memory\", программа должна вернуть строку \"Memory is ok\".\n",
    "    Если mode имеет значение \"connection\", программа должна вернуть строку \"Connection is ok\".\n",
    "    Для остальных случае программа должна выбросить исключение ValueError\n"
   ]
  },
  {
   "cell_type": "code",
   "execution_count": null,
   "id": "9ac37283",
   "metadata": {},
   "outputs": [],
   "source": [
    "def check_server(mode):\n",
    "    if mode == 'memory':\n",
    "        return \"Memory is ok\"\n",
    "    elif mode == 'connection':\n",
    "        return \"Connection is ok\"\n",
    "    else:\n",
    "        raise ValueError()"
   ]
  },
  {
   "cell_type": "code",
   "execution_count": null,
   "id": "287238c2",
   "metadata": {},
   "outputs": [],
   "source": [
    "check_server('memory')"
   ]
  },
  {
   "cell_type": "markdown",
   "id": "49fbbba3",
   "metadata": {},
   "source": [
    "\n",
    "\n",
    "Напишите программу, которая реализует безопасное сложение двух объектов x и y.\n",
    "\n",
    "Если объекты не могут быть сложены, функция должна:\n",
    "\n",
    "    Отловить TypeError\n",
    "    Вывести на экран \"Can't sum x and y\", где x и y - переданные объекты\n",
    "    Вернуть 0\n",
    "\n",
    "safe_sum(1, 2)\n",
    "# 3\n",
    "\n",
    "safe_sum(5, 'a')\n",
    "# => Can't sum 5 and a\n",
    "# 0 \n",
    "      \n",
    "\n"
   ]
  },
  {
   "cell_type": "code",
   "execution_count": null,
   "id": "07c2720e",
   "metadata": {},
   "outputs": [],
   "source": [
    "def safe_sum(x, y):\n",
    "    try:\n",
    "        return x + y\n",
    "    except TypeError:\n",
    "        print(f\"Can't sum {x} and {y}\")\n",
    "        return 0"
   ]
  },
  {
   "cell_type": "code",
   "execution_count": null,
   "id": "6d08161e",
   "metadata": {},
   "outputs": [],
   "source": [
    "from copy import copy\n",
    "\n",
    "def remove_dups(values):\n",
    "    unique_values = list()\n",
    "    for i in range(len(values)):\n",
    "        if not values[i] in unique_values:\n",
    "            unique_values.append(values[i])\n",
    "    return unique_values"
   ]
  },
  {
   "cell_type": "code",
   "execution_count": null,
   "id": "83c1aaf7",
   "metadata": {},
   "outputs": [],
   "source": [
    "remove_dups([1, 12, 4, 1, 4, 8])"
   ]
  },
  {
   "cell_type": "code",
   "execution_count": 4,
   "id": "cd1a37d8",
   "metadata": {},
   "outputs": [],
   "source": [
    "import pdb\n",
    "\n",
    "user_db = [\n",
    "    {\"name\": \"Elena\", \"age\": 19, \"salary\": 80_000},\n",
    "    {\"name\": \"Sergey\", \"age\": 31, \"salary\": 160_000},\n",
    "    {\"name\": \"Olga\", \"age\": 33, \"salary\": 170_000},\n",
    "    {\"name\": \"Vadim\", \"age\": 17, \"salary\": 45_000}\n",
    "]"
   ]
  },
  {
   "cell_type": "code",
   "execution_count": 9,
   "id": "c7137623",
   "metadata": {},
   "outputs": [],
   "source": [
    "from collections import defaultdict\n",
    "\n",
    "def group_values(db, value_key, group_key, step):\n",
    "    grouped = defaultdict(list)\n",
    "    for item in db:\n",
    "        grouped[item[group_key] - (item[group_key] % step)].append(item[value_key])\n",
    "    return grouped"
   ]
  },
  {
   "cell_type": "code",
   "execution_count": 10,
   "id": "956d6675",
   "metadata": {
    "scrolled": false
   },
   "outputs": [
    {
     "data": {
      "text/plain": [
       "defaultdict(list, {10: [80000, 45000], 30: [160000, 170000]})"
      ]
     },
     "execution_count": 10,
     "metadata": {},
     "output_type": "execute_result"
    }
   ],
   "source": [
    "group_values(user_db, \"salary\", \"age\", 10)"
   ]
  },
  {
   "cell_type": "markdown",
   "id": "2a47cc21",
   "metadata": {},
   "source": [
    " Напишите функцию safe_exec(ext_func), которая получает на вход функцию func и пробует её выполнить.\n",
    "\n",
    "Если func выбрасывает исключение, то safe_exec выводит поясняющее сообщение этого исключения и возвращает 0.\n",
    "\n",
    "Если func завершается корректно, то мы возращаем результат выполнения функции.\n",
    "\n",
    "```\n",
    "def zero_div():\n",
    "    return 5/0\n",
    "safe_exec(zero_div)\n",
    "=> division by zero\n",
    "=> 0\n",
    "\n",
    "def normal_div():\n",
    "    return 5/1\n",
    "safe_exec(normal_div)\n",
    "=> 5\n",
    "```"
   ]
  },
  {
   "cell_type": "code",
   "execution_count": 22,
   "id": "f168bdeb",
   "metadata": {},
   "outputs": [],
   "source": [
    "def safe_exec(ext_func):\n",
    "    try:\n",
    "        res = ext_func()\n",
    "    except ZeroDivisionError as err_msg:\n",
    "        print(err_msg)\n",
    "        return 0\n",
    "    else:\n",
    "        return ext_func()"
   ]
  },
  {
   "cell_type": "code",
   "execution_count": 23,
   "id": "3d88b191",
   "metadata": {},
   "outputs": [
    {
     "name": "stdout",
     "output_type": "stream",
     "text": [
      "division by zero\n"
     ]
    },
    {
     "data": {
      "text/plain": [
       "0"
      ]
     },
     "execution_count": 23,
     "metadata": {},
     "output_type": "execute_result"
    }
   ],
   "source": [
    "def zero_div():\n",
    "    return 5/0\n",
    "safe_exec(zero_div)"
   ]
  },
  {
   "cell_type": "code",
   "execution_count": 24,
   "id": "36fa60ef",
   "metadata": {},
   "outputs": [
    {
     "data": {
      "text/plain": [
       "5.0"
      ]
     },
     "execution_count": 24,
     "metadata": {},
     "output_type": "execute_result"
    }
   ],
   "source": [
    "def normal_div():\n",
    "    return 5/1\n",
    "safe_exec(normal_div)"
   ]
  },
  {
   "cell_type": "code",
   "execution_count": null,
   "id": "a2c43a87",
   "metadata": {},
   "outputs": [],
   "source": []
  }
 ],
 "metadata": {
  "kernelspec": {
   "display_name": "Python 3",
   "language": "python",
   "name": "python3"
  },
  "language_info": {
   "codemirror_mode": {
    "name": "ipython",
    "version": 3
   },
   "file_extension": ".py",
   "mimetype": "text/x-python",
   "name": "python",
   "nbconvert_exporter": "python",
   "pygments_lexer": "ipython3",
   "version": "3.8.8"
  }
 },
 "nbformat": 4,
 "nbformat_minor": 5
}
