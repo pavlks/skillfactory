{
 "cells": [
  {
   "cell_type": "code",
   "execution_count": 3,
   "id": "7e20e96b",
   "metadata": {},
   "outputs": [],
   "source": [
    "from scipy.stats import norm"
   ]
  },
  {
   "cell_type": "code",
   "execution_count": 4,
   "id": "256b04c6",
   "metadata": {},
   "outputs": [],
   "source": [
    "alpha = 0.03"
   ]
  },
  {
   "cell_type": "code",
   "execution_count": 6,
   "id": "c76383c3",
   "metadata": {},
   "outputs": [
    {
     "data": {
      "text/plain": [
       "-2.1700903775845606"
      ]
     },
     "execution_count": 6,
     "metadata": {},
     "output_type": "execute_result"
    }
   ],
   "source": [
    "norm.ppf(alpha/2)"
   ]
  },
  {
   "cell_type": "code",
   "execution_count": 7,
   "id": "c515f75c",
   "metadata": {},
   "outputs": [],
   "source": [
    "# выбрали человек\n",
    "s_n = 36\n",
    "\n",
    "# выборочное среднее\n",
    "s_mean = 16100\n",
    "\n",
    "# выборочное стандартное отклонение\n",
    "s_std = 12000\n",
    "\n",
    "# нужная точность 95%\n",
    "alpha = 1 - 0.95"
   ]
  },
  {
   "cell_type": "code",
   "execution_count": 10,
   "id": "0243aef7",
   "metadata": {},
   "outputs": [
    {
     "data": {
      "text/plain": [
       "3919.927969080108"
      ]
     },
     "execution_count": 10,
     "metadata": {},
     "output_type": "execute_result"
    }
   ],
   "source": [
    "-norm.ppf(alpha/2) * s_std/pow(36, 0.5)"
   ]
  },
  {
   "cell_type": "code",
   "execution_count": 18,
   "id": "e9496f57",
   "metadata": {},
   "outputs": [
    {
     "data": {
      "text/plain": [
       "1.8119106729525982"
      ]
     },
     "execution_count": 18,
     "metadata": {},
     "output_type": "execute_result"
    }
   ],
   "source": [
    "-norm.ppf((1-0.93)/2)"
   ]
  },
  {
   "cell_type": "code",
   "execution_count": 13,
   "id": "f4aa4b05",
   "metadata": {},
   "outputs": [],
   "source": [
    "# выбрали человек\n",
    "s_n = 200\n",
    "\n",
    "# выборочное среднее\n",
    "s_mean = 37\n",
    "\n",
    "# выборочное стандартное отклонение\n",
    "s_std = 3.4\n",
    "\n",
    "# нужная точность 95%\n",
    "alpha = 1 - 0.95"
   ]
  },
  {
   "cell_type": "code",
   "execution_count": 14,
   "id": "050bfb3e",
   "metadata": {},
   "outputs": [
    {
     "data": {
      "text/plain": [
       "37.47120730027889"
      ]
     },
     "execution_count": 14,
     "metadata": {},
     "output_type": "execute_result"
    }
   ],
   "source": [
    "s_mean - norm.ppf(alpha/2) * 3.4 / pow(s_n, 0.5)"
   ]
  },
  {
   "cell_type": "code",
   "execution_count": 15,
   "id": "a9efe99e",
   "metadata": {},
   "outputs": [],
   "source": [
    "# выбрали человек\n",
    "s_n = 60\n",
    "\n",
    "# выборочное среднее\n",
    "s_mean = 7.6\n",
    "\n",
    "# выборочное стандартное отклонение\n",
    "s_std = 0.8\n",
    "\n",
    "# нужная точность 95%\n",
    "alpha = 1 - 0.99"
   ]
  },
  {
   "cell_type": "code",
   "execution_count": 19,
   "id": "6337b12d",
   "metadata": {},
   "outputs": [
    {
     "data": {
      "text/plain": [
       "7.333969493458188"
      ]
     },
     "execution_count": 19,
     "metadata": {},
     "output_type": "execute_result"
    }
   ],
   "source": [
    "s_mean + norm.ppf(alpha/2) * 0.8 / pow(s_n, 0.5)"
   ]
  },
  {
   "cell_type": "code",
   "execution_count": 23,
   "id": "175c46ab",
   "metadata": {},
   "outputs": [
    {
     "data": {
      "text/plain": [
       "12.706204736432095"
      ]
     },
     "execution_count": 23,
     "metadata": {},
     "output_type": "execute_result"
    }
   ],
   "source": [
    "from scipy.stats import t\n",
    "t.ppf((1 + 0.95)/2, 2-1)"
   ]
  },
  {
   "cell_type": "markdown",
   "id": "bba0a763",
   "metadata": {},
   "source": [
    "### 5.9"
   ]
  },
  {
   "cell_type": "code",
   "execution_count": 24,
   "id": "9f54d0ec",
   "metadata": {},
   "outputs": [],
   "source": [
    "# выбрали человек\n",
    "s_n = 15\n",
    "\n",
    "# выборочное среднее\n",
    "s_mean = 2000\n",
    "\n",
    "# выборочное стандартное отклонение\n",
    "s_std = 400"
   ]
  },
  {
   "cell_type": "code",
   "execution_count": 48,
   "id": "06c29f02",
   "metadata": {},
   "outputs": [
    {
     "name": "stdout",
     "output_type": "stream",
     "text": [
      "coef=2.97684273411266\n",
      "2.97684273411266\n",
      "value=2.97684273411266\n",
      "otklon=307.44699555991696\n"
     ]
    }
   ],
   "source": [
    "# нужная точность 90%, 95%, 99%\n",
    "alpha = 1 - 0.99\n",
    "\n",
    "coef = t.ppf((1 - alpha/2), s_n - 1)\n",
    "print(f'{coef=}')\n",
    "print(t.ppf((1+0.99)/2, s_n - 1))\n",
    "value = -t.ppf(alpha / 2, s_n - 1)\n",
    "print(f'{value=}')\n",
    "\n",
    "otklon = coef * s_std / pow(s_n, 0.5)\n",
    "print(f'{otklon=}')"
   ]
  },
  {
   "cell_type": "code",
   "execution_count": 49,
   "id": "f78a0877",
   "metadata": {},
   "outputs": [
    {
     "data": {
      "text/plain": [
       "(1692.553004440083, 2307.446995559917)"
      ]
     },
     "execution_count": 49,
     "metadata": {},
     "output_type": "execute_result"
    }
   ],
   "source": [
    "s_mean - otklon, s_mean + otklon"
   ]
  },
  {
   "cell_type": "code",
   "execution_count": 50,
   "id": "c7d00f7c",
   "metadata": {},
   "outputs": [],
   "source": [
    "# выбрали человек\n",
    "s_n = 250\n",
    "\n",
    "# выборочное среднее\n",
    "s_mean = 3540\n",
    "\n",
    "# истинное стандартное отклонение\n",
    "s_std = 1150"
   ]
  },
  {
   "cell_type": "code",
   "execution_count": 55,
   "id": "5b1c9c94",
   "metadata": {},
   "outputs": [
    {
     "data": {
      "text/plain": [
       "(3352.6537883505453, 3727.3462116494547)"
      ]
     },
     "execution_count": 55,
     "metadata": {},
     "output_type": "execute_result"
    }
   ],
   "source": [
    "coef = -norm.ppf((1-0.99)/2)\n",
    "otklon = coef * s_std / pow(s_n, 0.5)\n",
    "s_mean-otklon, s_mean+otklon"
   ]
  },
  {
   "cell_type": "markdown",
   "id": "c66ade4e",
   "metadata": {},
   "source": [
    "### 5.10"
   ]
  },
  {
   "cell_type": "code",
   "execution_count": 57,
   "id": "d8b97ef6",
   "metadata": {},
   "outputs": [
    {
     "data": {
      "text/plain": [
       "0.6984126984126984"
      ]
     },
     "execution_count": 57,
     "metadata": {},
     "output_type": "execute_result"
    }
   ],
   "source": [
    "n = 189\n",
    "pos = 132\n",
    "neg = 189 - pos\n",
    "ppos = pos/n\n",
    "nneg = neg/n\n",
    "ppos"
   ]
  },
  {
   "cell_type": "code",
   "execution_count": 62,
   "id": "1efb613f",
   "metadata": {},
   "outputs": [],
   "source": [
    "za = -norm.ppf((1-0.9)/2)"
   ]
  },
  {
   "cell_type": "code",
   "execution_count": 64,
   "id": "a003a171",
   "metadata": {},
   "outputs": [
    {
     "data": {
      "text/plain": [
       "(0.6435017501091355, 0.7533236467162613)"
      ]
     },
     "execution_count": 64,
     "metadata": {},
     "output_type": "execute_result"
    }
   ],
   "source": [
    "ppos - za * pow(ppos * nneg / n ,0.5), ppos + za * pow(ppos * nneg / n ,0.5)"
   ]
  }
 ],
 "metadata": {
  "kernelspec": {
   "display_name": "Python 3",
   "language": "python",
   "name": "python3"
  },
  "language_info": {
   "codemirror_mode": {
    "name": "ipython",
    "version": 3
   },
   "file_extension": ".py",
   "mimetype": "text/x-python",
   "name": "python",
   "nbconvert_exporter": "python",
   "pygments_lexer": "ipython3",
   "version": "3.8.8"
  }
 },
 "nbformat": 4,
 "nbformat_minor": 5
}
