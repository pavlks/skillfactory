{
 "cells": [
  {
   "cell_type": "code",
   "execution_count": 11,
   "metadata": {},
   "outputs": [],
   "source": [
    "class DepartmentReport:\n",
    "    def add_revenue(self, amount):\n",
    "        if not hasattr(self, 'revenues'):\n",
    "            self.revenues = list()\n",
    "        self.revenues.append(amount)\n",
    "    \n",
    "    def average_revenue(self):\n",
    "        return sum(self.revenues) / len(self.revenues)"
   ]
  },
  {
   "cell_type": "code",
   "execution_count": 18,
   "metadata": {},
   "outputs": [
    {
     "name": "stdout",
     "output_type": "stream",
     "text": [
      "[1000000, 400000]\n",
      "700000.0\n"
     ]
    }
   ],
   "source": [
    "report = DepartmentReport()\n",
    "report.add_revenue(1_000_000)\n",
    "report.add_revenue(400_000)\n",
    "print(report.revenues)\n",
    "print(report.average_revenue())"
   ]
  },
  {
   "cell_type": "code",
   "execution_count": 31,
   "metadata": {},
   "outputs": [],
   "source": [
    "class DepartmentReport:\n",
    "    def __init__(self, company_name):\n",
    "        self.revenues = list()\n",
    "        self.company_name = company_name\n",
    "        self.average = None\n",
    "        \n",
    "    \n",
    "    def add_revenue(self, amount):\n",
    "        self.revenues.append(amount)\n",
    "        self.average = round(sum(self.revenues)/len(self.revenues))\n",
    "    \n",
    "    def average_revenue(self):\n",
    "        return f'Average department revenue for {self.company_name}: {self.average}'"
   ]
  },
  {
   "cell_type": "code",
   "execution_count": 32,
   "metadata": {},
   "outputs": [
    {
     "name": "stdout",
     "output_type": "stream",
     "text": [
      "Average department revenue for Danon: 700000\n"
     ]
    }
   ],
   "source": [
    "report = DepartmentReport(\"Danon\")\n",
    "report.add_revenue(1_000_000)\n",
    "report.add_revenue(400_000)\n",
    "\n",
    "print(report.average_revenue())"
   ]
  },
  {
   "cell_type": "code",
   "execution_count": 34,
   "metadata": {},
   "outputs": [],
   "source": [
    "class User:\n",
    "    def __init__(self, email, password, balance):\n",
    "        self.email = email\n",
    "        self.password = password\n",
    "        self.balance = balance\n",
    "        \n",
    "    def login(self, email, password):\n",
    "        if email == self.email and password == self.password:\n",
    "            return True\n",
    "        else:\n",
    "            return False\n",
    "        \n",
    "    def update_balance(self, amount):\n",
    "        self.balance += amount"
   ]
  },
  {
   "cell_type": "code",
   "execution_count": 39,
   "metadata": {},
   "outputs": [
    {
     "name": "stdout",
     "output_type": "stream",
     "text": [
      "19700\n"
     ]
    }
   ],
   "source": [
    "user = User(\"gosha@roskino.org\", \"qwerty\", 20_000)\n",
    "user.login(\"gosha@roskino.org\", \"qwerty123\")\n",
    "# => False\n",
    "user.login(\"gosha@roskino.org\", \"qwerty\")\n",
    "# => True\n",
    "user.update_balance(200)\n",
    "user.update_balance(-500)\n",
    "print(user.balance)\n",
    "# => 19700"
   ]
  },
  {
   "cell_type": "code",
   "execution_count": 42,
   "metadata": {},
   "outputs": [],
   "source": [
    "class IntDataFrame:\n",
    "    def __init__(self, row):\n",
    "        self.row = row\n",
    "        self.to_int()\n",
    "        \n",
    "    def to_int(self):\n",
    "        self.row = list(map(int, self.row))\n",
    "    \n",
    "    def count(self):\n",
    "        return len([n for n in self.row if n != 0])\n",
    "        \n",
    "    def unique(self):\n",
    "        return len(set(self.row))"
   ]
  },
  {
   "cell_type": "code",
   "execution_count": 46,
   "metadata": {},
   "outputs": [
    {
     "data": {
      "text/plain": [
       "4"
      ]
     },
     "execution_count": 46,
     "metadata": {},
     "output_type": "execute_result"
    }
   ],
   "source": [
    "df = IntDataFrame([4.7, 4, 3, 0, 2.4, 0.3, 4])\n",
    "\n",
    "df.count()\n",
    "# => 5\n",
    "df.unique()\n",
    "# => 4 "
   ]
  },
  {
   "cell_type": "code",
   "execution_count": 84,
   "metadata": {},
   "outputs": [],
   "source": [
    "class OwnLogger:\n",
    "    def __init__(self):\n",
    "        self.logs = {'info': [], 'warning': [], 'error': []}\n",
    "        self.last = str()\n",
    "    \n",
    "    def log(self, message, level):\n",
    "        self.last = message\n",
    "        if level == 'error':\n",
    "            self.logs['error'].append(message)\n",
    "        elif level == 'info':\n",
    "            self.logs['info'].append(message)\n",
    "        elif level == 'warning':\n",
    "            self.logs['warning'].append(message)\n",
    "        else:\n",
    "            return None\n",
    "    \n",
    "    def show_last(self, level='all'):\n",
    "        if level == 'error':\n",
    "            return None if not self.logs['error'] else self.logs['error'][-1]\n",
    "        elif level == 'warning':\n",
    "            return None if not self.logs['warning'] else  self.logs['warning'][-1]\n",
    "        elif level == 'info':\n",
    "            return None if not self.logs['info'] else  self.logs['info'][-1]\n",
    "        elif level == 'all':\n",
    "            return self.last"
   ]
  },
  {
   "cell_type": "code",
   "execution_count": 86,
   "metadata": {},
   "outputs": [
    {
     "data": {
      "text/plain": [
       "'System started'"
      ]
     },
     "execution_count": 86,
     "metadata": {},
     "output_type": "execute_result"
    }
   ],
   "source": [
    "logger = OwnLogger()\n",
    "logger.log(\"System started\", \"info\")\n",
    "logger.show_last(\"error\")\n",
    "# => None\n",
    "# Некоторые интерпретаторы Python могут не выводить None, тогда в этой проверке у вас будет пустая строка\n",
    "logger.log(\"Connection instable\", \"warning\")\n",
    "logger.log(\"Connection lost\", \"error\")\n",
    "\n",
    "logger.show_last()\n",
    "# => Connection lost\n",
    "logger.show_last(\"info\")\n",
    "# => System started\n"
   ]
  },
  {
   "cell_type": "code",
   "execution_count": null,
   "metadata": {},
   "outputs": [],
   "source": [
    "class Dog:\n",
    "    \"\"\"New class\"\"\"\n",
    "    \n",
    "    def bark(self):\n",
    "        return \"Bark!\"\n",
    "    \n",
    "    def give_paw(self):\n",
    "        return \"Paw\""
   ]
  }
 ],
 "metadata": {
  "kernelspec": {
   "display_name": "Python 3",
   "language": "python",
   "name": "python3"
  },
  "language_info": {
   "codemirror_mode": {
    "name": "ipython",
    "version": 3
   },
   "file_extension": ".py",
   "mimetype": "text/x-python",
   "name": "python",
   "nbconvert_exporter": "python",
   "pygments_lexer": "ipython3",
   "version": "3.8.5"
  }
 },
 "nbformat": 4,
 "nbformat_minor": 4
}
