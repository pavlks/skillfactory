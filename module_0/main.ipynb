{
 "cells": [
  {
   "cell_type": "markdown",
   "metadata": {},
   "source": [
    "# Проект 0. Поток DSPR-43. Студент Сазонов Павел (sazonov.ps@protonmail.com)"
   ]
  },
  {
   "cell_type": "markdown",
   "metadata": {},
   "source": [
    "## Первая версия отгадывателя загаданного числа. Перебор."
   ]
  },
  {
   "cell_type": "code",
   "execution_count": 2,
   "metadata": {},
   "outputs": [
    {
     "name": "stdout",
     "output_type": "stream",
     "text": [
      "Загадано число от 1 до 100\n",
      "Вы угадали число 95 за 95 попыток.\n"
     ]
    }
   ],
   "source": [
    "import numpy as np\n",
    "\n",
    "\n",
    "number = np.random.randint(1,101)  # загадали число\n",
    "print (\"Загадано число от 1 до 100\")\n",
    "\n",
    "for count in range(1,101):         # более компактный вариант счетчика\n",
    "    if number == count: break      # выход из цикла, если угадали      \n",
    "\n",
    "print (f\"Вы угадали число {number} за {count} попыток.\")    "
   ]
  },
  {
   "cell_type": "markdown",
   "metadata": {},
   "source": [
    "## Оцениваем качество алгоритма по среднему кол-ву попыток"
   ]
  },
  {
   "cell_type": "markdown",
   "metadata": {},
   "source": [
    "### Первый вариант будет угадывать число на авось, используя ту же самую функцию рандома из пакета numpy"
   ]
  },
  {
   "cell_type": "code",
   "execution_count": 5,
   "metadata": {},
   "outputs": [
    {
     "name": "stdout",
     "output_type": "stream",
     "text": [
      "Среднее количество попыток: 99\n"
     ]
    }
   ],
   "source": [
    "def guess_v1(secret):\n",
    "    \"\"\"Using numpy random for guessing\"\"\"\n",
    "    count = 0  # счётчик попыток\n",
    "    while True:\n",
    "        count += 1\n",
    "        predict = np.random.randint(1,101)  # предполагаемое число\n",
    "        if secret == predict:\n",
    "            return count\n",
    "        \n",
    "            \n",
    "def mean_score(guess_func):\n",
    "    \"\"\"Function to analyze effectiveness\"\"\"\n",
    "    count_ls = []  # сюда будем собирать кол-во попыток каждый прогон\n",
    "    for _ in range(10000):  # сколько раз мы будем прогонять функцию угадывания\n",
    "        secret = np.random.randint(1, 101)\n",
    "        count = guess_func(secret)\n",
    "        count_ls.append(count)\n",
    "        \n",
    "    print('Среднее количество попыток:', int(sum(count_ls)/len(count_ls)))\n",
    "\n",
    "mean_score(guess_v1)  # оцениваем качество функции"
   ]
  },
  {
   "cell_type": "markdown",
   "metadata": {},
   "source": [
    "### Второй вариант будет первый раз угадывать наобум, а потом шажочками подходить к загадонному числу."
   ]
  },
  {
   "cell_type": "code",
   "execution_count": 7,
   "metadata": {},
   "outputs": [
    {
     "name": "stdout",
     "output_type": "stream",
     "text": [
      "Среднее количество попыток: 34\n"
     ]
    }
   ],
   "source": [
    "def guess_v2(secret):\n",
    "    \"\"\"First guess is random, then move to secret number by step\"\"\"\n",
    "    count = 1  # счётчик попыток\n",
    "    predict = np.random.randint(1, 101)  # предполагаемое число\n",
    "    while predict != secret:\n",
    "        count += 1\n",
    "        if predict < secret:\n",
    "            predict += 1\n",
    "        else:\n",
    "            predict -= 1\n",
    "    return count\n",
    "    # print (f\"Вы угадали число {secret} за {count} попыток.\")\n",
    "\n",
    "mean_score(guess_v2)  # оцениваем качество функции"
   ]
  },
  {
   "cell_type": "markdown",
   "metadata": {},
   "source": [
    "### Третий вариант будет случайным образом обрезать границы поиска"
   ]
  },
  {
   "cell_type": "code",
   "execution_count": 11,
   "metadata": {},
   "outputs": [
    {
     "name": "stdout",
     "output_type": "stream",
     "text": [
      "Среднее количество попыток: 7\n"
     ]
    }
   ],
   "source": [
    "def guess_v3(secret):\n",
    "    \"\"\"Splitting the range randomly\"\"\"\n",
    "    count = 1  # счётчик попыток\n",
    "    low = 1  # нижняя граница интервала\n",
    "    high = 101  # верхняя граница интервала\n",
    "    predict = np.random.randint(1, 101)  # предполагаемое число\n",
    "    while predict != secret:\n",
    "        count += 1\n",
    "        if predict < secret:\n",
    "            low = predict + 1\n",
    "        else:\n",
    "            high = predict\n",
    "        predict = np.random.randint(low, high)  # угадываем число в новых границах\n",
    "    return count\n",
    "\n",
    "mean_score(guess_v3)"
   ]
  },
  {
   "cell_type": "markdown",
   "metadata": {},
   "source": [
    "### Четвёртый вариант, когда мы будем резать интервалы поиска вдвое"
   ]
  },
  {
   "cell_type": "code",
   "execution_count": 12,
   "metadata": {},
   "outputs": [
    {
     "name": "stdout",
     "output_type": "stream",
     "text": [
      "Среднее количество попыток: 5\n"
     ]
    }
   ],
   "source": [
    "def guess_v4(secret):\n",
    "    \"\"\"Splitting the interval in half\"\"\"\n",
    "    count = 1  # счётчик попыток\n",
    "    low = 1  # нижняя граница интервала\n",
    "    high = 100  # верхняя граница интервала\n",
    "    predict = (low + high) // 2\n",
    "    while predict != secret:\n",
    "        count += 1\n",
    "        if predict < secret:\n",
    "            low = predict  # задаём новую нижнюю границу\n",
    "            predict = (high + predict) // 2 + (high + predict) % 2\n",
    "        else:\n",
    "            high = predict  # задаём новую верхнюю границу\n",
    "            predict = (low + predict) // 2\n",
    "    return count\n",
    "\n",
    "mean_score(guess_v4)"
   ]
  }
 ],
 "metadata": {
  "kernelspec": {
   "display_name": "Python 3",
   "language": "python",
   "name": "python3"
  },
  "language_info": {
   "codemirror_mode": {
    "name": "ipython",
    "version": 3
   },
   "file_extension": ".py",
   "mimetype": "text/x-python",
   "name": "python",
   "nbconvert_exporter": "python",
   "pygments_lexer": "ipython3",
   "version": "3.8.5"
  }
 },
 "nbformat": 4,
 "nbformat_minor": 4
}
